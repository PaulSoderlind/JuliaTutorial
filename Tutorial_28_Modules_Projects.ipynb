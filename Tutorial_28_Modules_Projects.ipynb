{
 "cells": [
  {
   "cell_type": "markdown",
   "id": "9baf8f1a-4614-4396-bfc2-528a4ae7cfdf",
   "metadata": {},
   "source": [
    "# Projects and Modules\n",
    "\n",
    "This notebook shows how to create your projects and modules (kind of a package). "
   ]
  },
  {
   "cell_type": "markdown",
   "id": "bcee94ac",
   "metadata": {},
   "source": [
    "# A Module\n",
    "\n",
    "...is, for instance, a collection of your own functions that you often use.\n",
    "\n",
    "One of the advantages with a module is that you can do `using .TutorialModule` instead of having to `include()` every file. It is also  likely to be quicker."
   ]
  },
  {
   "cell_type": "markdown",
   "id": "7b98ae88-e0c2-4d3a-bc56-8865a64468de",
   "metadata": {},
   "source": [
    "## Step 1: Create a Module File\n",
    "\n",
    "Create a file that defines the module.\n",
    "\n",
    "The next cell shows the contents of the module file. Change it, for instance, by exporting also `printred`."
   ]
  },
  {
   "cell_type": "code",
   "execution_count": 1,
   "id": "07937e2d-af13-4a19-80c3-04c08d3c9ddf",
   "metadata": {},
   "outputs": [
    {
     "name": "stdout",
     "output_type": "stream",
     "text": [
      "\u001b[34m\u001b[1mthe contents of src/TutorialModule.jl:\u001b[22m\u001b[39m\n",
      "\n",
      "module TutorialModule\n",
      "\n",
      "import Printf                                         #the module can use other packages\n",
      "#import LinearAlgebra\n",
      "\n",
      "export printmat, printlnPs, printblue, printTeXTable  #available after `using .TutorialModule`\n",
      "\n",
      "include(\"printmat.jl\")                                #files with the functions\n",
      "include(\"printTeXTable.jl\")                           #could also type in the code here\n",
      "\n",
      "end\n",
      "\n"
     ]
    }
   ],
   "source": [
    "printstyled(\"the contents of src/TutorialModule.jl:\\n\\n\";color=:blue,bold=true)\n",
    "println(read(\"src/TutorialModule.jl\",String))"
   ]
  },
  {
   "cell_type": "markdown",
   "id": "72e0a44b-ad8d-48b3-8380-dbb64883cbb2",
   "metadata": {},
   "source": [
    "## Step 2: Include and Use the Module"
   ]
  },
  {
   "cell_type": "code",
   "execution_count": 2,
   "id": "19817184-6ae0-42e5-8318-85c1210fc58a",
   "metadata": {},
   "outputs": [],
   "source": [
    "include(\"src/TutorialModule.jl\")\n",
    "using .TutorialModule        #notice the dot(.)"
   ]
  },
  {
   "cell_type": "code",
   "execution_count": 3,
   "id": "0da25d6b",
   "metadata": {},
   "outputs": [
    {
     "name": "stdout",
     "output_type": "stream",
     "text": [
      "    11        12    \n",
      "    21        22    \n",
      "\n"
     ]
    }
   ],
   "source": [
    "x = [11 12;21 22]\n",
    "\n",
    "printmat(x)                 #the printmat() function should now be available"
   ]
  },
  {
   "cell_type": "markdown",
   "id": "c1a08cee-0755-4d0a-ac3d-eedd33612d90",
   "metadata": {},
   "source": [
    "## Steps 0-2: Alternative Approach to Creat/Use a Module (extra)\n",
    "\n",
    "You should probably **restart the Julia kernel** before running the cells below, since we are going to load the same module, but using another apporach.\n",
    "\n",
    "0. Tell Julia where to find the files for the module by adding to `LOAD_PATH`. This has to be redone every time you run code using the module. (For instance, by putting it in your `startup.jl` file.)\n",
    "1. use the same module file as above\n",
    "2. run `using TutorialModule` (without the dot)\n",
    "\n",
    "This approach has the advantage that the module will be available from everywhere and also precompiled."
   ]
  },
  {
   "cell_type": "code",
   "execution_count": 1,
   "id": "460014b3",
   "metadata": {},
   "outputs": [],
   "source": [
    "PathToMyFolder = joinpath(pwd(),\"src\")  #change as needed\n",
    "push!(LOAD_PATH,PathToMyFolder);"
   ]
  },
  {
   "cell_type": "code",
   "execution_count": 2,
   "id": "636cf2fc",
   "metadata": {},
   "outputs": [
    {
     "name": "stdout",
     "output_type": "stream",
     "text": [
      "    11        12    \n",
      "    21        22    \n",
      "\n"
     ]
    }
   ],
   "source": [
    "using TutorialModule         #no dot\n",
    "\n",
    "x = [11 12;21 22]\n",
    "\n",
    "printmat(x)                 #the printmat() function should now be available"
   ]
  },
  {
   "cell_type": "markdown",
   "id": "21db748b",
   "metadata": {},
   "source": [
    "# A Project\n",
    "\n",
    "A project is folder where you can make specific package installations, without affecting other projects (or Julia, more generally). \n",
    "\n",
    "You can also define a module in that project, using one of the approaches discussed before, or by using the `Package` approach dicussed later on."
   ]
  },
  {
   "cell_type": "markdown",
   "id": "4051344d",
   "metadata": {},
   "source": [
    "## Step 1: Create the Project\n",
    "\n",
    "You should probably **restart the Julia kernel** before running the cells below.\n",
    "\n",
    "Create the project folder (`LitteProject`). "
   ]
  },
  {
   "cell_type": "code",
   "execution_count": 1,
   "id": "6eecf785",
   "metadata": {},
   "outputs": [
    {
     "data": {
      "text/plain": [
       "\"LittleProject\""
      ]
     },
     "execution_count": 1,
     "metadata": {},
     "output_type": "execute_result"
    }
   ],
   "source": [
    "import Pkg\n",
    "mkdir(\"LittleProject\")      #run once to create the project folder"
   ]
  },
  {
   "cell_type": "markdown",
   "id": "4ef46dc0",
   "metadata": {},
   "source": [
    "## Step 2: Use the Project\n",
    "\n",
    "You should probably **restart the Julia kernel** before running the cells below.\n",
    "\n",
    "1. Copy this notebook (or create a new one with at least the next few cells) to the project folder. \n",
    "\n",
    "2. Move to the project folder. (In VS code, remember to close the current folder and open up the new.)\n",
    "\n",
    "3. Do `Pkg.activate(\".\")` to activate the project. Needs to be done every time you work with that project\n",
    "\n",
    "4. Optionally add packages. Because of point 2, the package installations will now be to the his project, and not to the general Julia environment.\n",
    "\n",
    "5. run code..."
   ]
  },
  {
   "cell_type": "code",
   "execution_count": 2,
   "id": "6a5ad4e2",
   "metadata": {},
   "outputs": [
    {
     "name": "stdout",
     "output_type": "stream",
     "text": [
      "contents of LittleProject: [\"Tutorial_28_Modules_Projects.ipynb\"]\n",
      "\n",
      "\u001b[31m\u001b[1mMove to the project and work from there.\u001b[22m\u001b[39m"
     ]
    }
   ],
   "source": [
    "file = \"Tutorial_28_Modules_Projects.ipynb\"\n",
    "dir = \"LittleProject\"\n",
    "cp(file,joinpath(dir,file);force=true)\n",
    "println(\"contents of $dir: \",readdir(dir))\n",
    "\n",
    "printstyled(\"\\nMove to the project and continue working from there.\";color=:red,bold=true)"
   ]
  },
  {
   "cell_type": "code",
   "execution_count": null,
   "id": "6be19494",
   "metadata": {},
   "outputs": [],
   "source": [
    "#run this in the LittleProject folder\n",
    "import Pkg\n",
    "Pkg.activate(\".\")              #always run this\n",
    "Pkg.add(\"Printf\")              #optionally run to install packages"
   ]
  },
  {
   "cell_type": "code",
   "execution_count": null,
   "id": "dce5fe94",
   "metadata": {},
   "outputs": [
    {
     "name": "stdout",
     "output_type": "stream",
     "text": [
      "     3.142\n"
     ]
    }
   ],
   "source": [
    "using Printf                   #use the (locally) installed package, run some code\n",
    "\n",
    "fmt = Printf.Format(\"%10.3f\")\n",
    "str = Printf.format(fmt,pi)\n",
    "println(str)"
   ]
  },
  {
   "cell_type": "markdown",
   "id": "dda7c0a5",
   "metadata": {},
   "source": [
    " # A Local Package (Project + Module)\n",
    "\n",
    "A local package is a project with a subfolder `src` containing a module file with the same name as the project.\n",
    "\n",
    "You should probably **restart the Julia kernel** before running the cells below.\n",
    "\n",
    "## Step1: Create the Package\n",
    "\n",
    "To create a package in a (non-existing) subfolder `LittlePackage`, do `Pkg.generate(\"LittlePackage\")`. This creates the subfolder, with `.toml` files (they define the packages you have added to the project---so far none) and a `src` subfolder with a skeleton module file."
   ]
  },
  {
   "cell_type": "code",
   "execution_count": 1,
   "id": "02e1d625",
   "metadata": {},
   "outputs": [
    {
     "name": "stderr",
     "output_type": "stream",
     "text": [
      "\u001b[32m\u001b[1m  Generating\u001b[22m\u001b[39m  project LittlePackage:\n",
      "    LittlePackage\\Project.toml\n",
      "    LittlePackage\\src\\LittlePackage.jl\n"
     ]
    },
    {
     "data": {
      "text/plain": [
       "Dict{String, Base.UUID} with 1 entry:\n",
       "  \"LittlePackage\" => UUID(\"02a44c26-f219-4aec-a305-47be40cf3ac0\")"
      ]
     },
     "execution_count": 1,
     "metadata": {},
     "output_type": "execute_result"
    }
   ],
   "source": [
    "import Pkg\n",
    "Pkg.generate(\"LittlePackage\")           #uncomment to run this once"
   ]
  },
  {
   "cell_type": "markdown",
   "id": "93e86ee4",
   "metadata": {},
   "source": [
    "## Step 2: Transfer Files to the Package\n",
    "\n",
    "...both this notebook and files for setting up a module\n",
    "\n",
    "1. Copy this notebook (or create a new one with at least the next few cells) to the project folder. Move there. (In VS code, remember to close the current folder and open up the new.)\n",
    "\n",
    "2. Copy the `LittlePackage.jl`, `printmat.jl`, and `printTeXTable.jl` to `LittlePacke.src`. Yes, overwrite the existing file there."
   ]
  },
  {
   "cell_type": "code",
   "execution_count": 2,
   "id": "17eb8f0d",
   "metadata": {},
   "outputs": [
    {
     "name": "stdout",
     "output_type": "stream",
     "text": [
      "contents of LittlePackage: [\"Project.toml\", \"Tutorial_28_Modules_Projects.ipynb\", \"src\"]\n",
      "\n",
      "\u001b[34m\u001b[1mMove to the project and and continue working from there.\u001b[22m\u001b[39m"
     ]
    }
   ],
   "source": [
    "file = \"Tutorial_28_Modules_Projects.ipynb\"\n",
    "dir = \"LittlePackage\"\n",
    "cp(file,joinpath(dir,file);force=true)\n",
    "\n",
    "files = [\"LittlePackage.jl\",\"printmat.jl\",\"printTeXTable.jl\"]\n",
    "for file in files\n",
    "  cp(joinpath(\"src\",file),joinpath(dir,\"src\",file);force=true)\n",
    "end\n",
    "\n",
    "println(\"contents of $dir: \",readdir(dir))\n",
    "\n",
    "printstyled(\"\\nMove to the project and and continue working from there.\";color=:blue,bold=true)"
   ]
  },
  {
   "cell_type": "markdown",
   "id": "3f52b22a",
   "metadata": {},
   "source": [
    "## Step 3: Use the Package\n",
    "\n",
    "1. Do `Pkg.activate(\".\")` to activate the project. Needs to be done every time you work with that project\n",
    "\n",
    "2. Optionally add packages. Because of point 2, the package installations will now be to the his project, and not to the general Julia environment.\n",
    "\n",
    "3. run some code\n",
    "\n",
    "4. `using LittlePackage` and the run functions from the module `LittlePackage`"
   ]
  },
  {
   "cell_type": "code",
   "execution_count": null,
   "id": "7087a5a6",
   "metadata": {},
   "outputs": [],
   "source": [
    "#run this in the LittlePackage folder\n",
    "import Pkg\n",
    "Pkg.activate(\".\")              #always run this\n",
    "Pkg.add(\"Printf\")              #optionally run to install packages"
   ]
  },
  {
   "cell_type": "code",
   "execution_count": null,
   "id": "cc2432f4",
   "metadata": {},
   "outputs": [
    {
     "name": "stdout",
     "output_type": "stream",
     "text": [
      "     0.908     1.045    -0.502\n",
      "    -0.386     0.002    -1.376\n",
      "     0.014     0.824    -0.794\n",
      "    -0.196    -1.897     0.138\n",
      "\n"
     ]
    }
   ],
   "source": [
    "using LittlePackage            #use the package\n",
    "\n",
    "printmat(randn(4,3))"
   ]
  },
  {
   "cell_type": "markdown",
   "id": "86185b2b",
   "metadata": {},
   "source": []
  }
 ],
 "metadata": {
  "kernelspec": {
   "display_name": "Julia 1.11.1",
   "language": "julia",
   "name": "julia-1.11"
  },
  "language_info": {
   "file_extension": ".jl",
   "mimetype": "application/julia",
   "name": "julia",
   "version": "1.11.1"
  }
 },
 "nbformat": 4,
 "nbformat_minor": 5
}
