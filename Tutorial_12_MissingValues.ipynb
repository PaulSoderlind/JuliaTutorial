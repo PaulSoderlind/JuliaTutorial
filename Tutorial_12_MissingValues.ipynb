{
 "cells": [
  {
   "cell_type": "markdown",
   "metadata": {},
   "source": [
    "# Missing Values\n",
    "\n",
    "are common in statistical data. This notebook gives an introduction to how to identify/handle them."
   ]
  },
  {
   "cell_type": "markdown",
   "metadata": {},
   "source": [
    "## Load Packages and Extra Functions"
   ]
  },
  {
   "cell_type": "code",
   "execution_count": 1,
   "metadata": {},
   "outputs": [],
   "source": [
    "using Printf\n",
    "\n",
    "include(\"src/printmat.jl\");"
   ]
  },
  {
   "cell_type": "markdown",
   "metadata": {},
   "source": [
    "# Quick Start\n",
    "\n",
    "...of how to filter out all NaN/missing from an array and sum the remaining elements."
   ]
  },
  {
   "cell_type": "code",
   "execution_count": 2,
   "metadata": {},
   "outputs": [
    {
     "data": {
      "text/plain": [
       "3.0"
      ]
     },
     "execution_count": 2,
     "metadata": {},
     "output_type": "execute_result"
    }
   ],
   "source": [
    "z = [1,NaN,2]\n",
    "sum(filter(!isunordered,z))    #filter to only keep non-NaN/missing"
   ]
  },
  {
   "cell_type": "markdown",
   "metadata": {},
   "source": [
    "# NaN and missing\n",
    "\n",
    "The `NaN` (Not-a-Number) can be used to indicate that a floating point number is missing or otherwise strange. For other types of data (for instance, integers), use `missing` instead.\n",
    "\n",
    "Most computations involving NaN/missing give `NaN` or `missing` as a result.\n",
    "\n",
    "Financial data is often on floating point form and `NaN` is easier than `missing` to work with (since `NaN` is part of the floating point specification, while `missing` is an add-on). This might suggest using `NaN` rather than `missing`."
   ]
  },
  {
   "cell_type": "code",
   "execution_count": 3,
   "metadata": {},
   "outputs": [
    {
     "name": "stdout",
     "output_type": "stream",
     "text": [
      "NaN missing\n"
     ]
    }
   ],
   "source": [
    "println(2.0 + NaN,\" \",2 + missing)"
   ]
  },
  {
   "cell_type": "markdown",
   "metadata": {},
   "source": [
    "# Loading Data\n",
    "\n",
    "The next cell replaces `-999.99` by `NaN` or `missing` in the matrix `data`. This is a common scenario when `data` has been loaded from a data set (csv file, say). See the tutorial on loading and saving data for more information."
   ]
  },
  {
   "cell_type": "code",
   "execution_count": 22,
   "metadata": {},
   "outputs": [
    {
     "name": "stdout",
     "output_type": "stream",
     "text": [
      "\u001b[34m\u001b[1mdata: \u001b[22m\u001b[39m\n",
      "     1.000       NaN\n",
      "     3.000    13.000\n",
      "\n"
     ]
    }
   ],
   "source": [
    "data = [1.0 -999.99;\n",
    "        3.0 13.0]\n",
    "\n",
    "data = replace(data,-999.99=>NaN)           #replace -999.99 by NaN or missing\n",
    "printblue(\"data: \")\n",
    "printmat(data)"
   ]
  },
  {
   "cell_type": "markdown",
   "metadata": {},
   "source": [
    "## Testing for NaN/missing in an Array\n",
    "\n",
    "You can test whether a number is `NaN` or `missing` by using `isunordered()`. (Use `isnan()` or `ismissing()` if you want to test specifically for one of them.) "
   ]
  },
  {
   "cell_type": "code",
   "execution_count": 15,
   "metadata": {},
   "outputs": [
    {
     "name": "stdout",
     "output_type": "stream",
     "text": [
      "z has some NaN/missing\n"
     ]
    }
   ],
   "source": [
    "if any(isunordered,z)                  #check if any NaN/missins\n",
    "  println(\"z has some NaN/missing\")    #can also do any(isunordered.(z))\n",
    "end"
   ]
  },
  {
   "cell_type": "markdown",
   "metadata": {},
   "source": [
    "# Disregarding NaN/missing in a Vector\n",
    "\n",
    "can often be done by just `!filter()` the vector to get rid of all elements that are NaN/missing."
   ]
  },
  {
   "cell_type": "code",
   "execution_count": 16,
   "metadata": {},
   "outputs": [
    {
     "data": {
      "text/plain": [
       "3.0"
      ]
     },
     "execution_count": 16,
     "metadata": {},
     "output_type": "execute_result"
    }
   ],
   "source": [
    "sum(filter(!isunordered,z))    #finds all elements that are not unordered, and sums them"
   ]
  },
  {
   "cell_type": "markdown",
   "metadata": {},
   "source": [
    "# Prune All Rows (of a Matrix) with any NaN/missing\n",
    "\n",
    "It is a (fairly) common procedure in statistics to throw out all cases with NaN/missing values. For instance, let `z` be a matrix and `z[t,:]` the data for period $t$  which contains one or more `NaN/missing` values. It is then common (for instance, in linear regressions) to throw out that entire row of the matrix.\n",
    "\n",
    "The function `Cases2Keep(z,dims=2)` will create a bitvector with true for all rows in `z` that has no NaN/missing.\n",
    "\n",
    "For statistical computations, you may also consider the [NaNStatistics.jl](https://github.com/brenhinkeller/NaNStatistics.jl) package. "
   ]
  },
  {
   "cell_type": "code",
   "execution_count": 20,
   "metadata": {},
   "outputs": [
    {
     "name": "stdout",
     "output_type": "stream",
     "text": [
      "\u001b[34m\u001b[1mz and vc:\u001b[22m\u001b[39m\n",
      "     col 1     col 2        vc\n",
      "     1       missing     0    \n",
      "     2        21         1    \n",
      "\n",
      "\u001b[34m\u001b[1mz2: a new matrix where all rows with any NaN/missing have been pruned:\u001b[22m\u001b[39m\n",
      "     2        21    \n",
      "\n"
     ]
    }
   ],
   "source": [
    "\"\"\"\n",
    "\n",
    "Indicate rows (or cols) without NaN/missing\n",
    "\"\"\"\n",
    "Cases2Keep(z,dims=2) = .!vec(any(isunordered,z;dims))\n",
    "\n",
    "z = [1 missing;2 21]\n",
    "\n",
    "vc = Cases2Keep(z)\n",
    "printblue(\"z and vc:\")\n",
    "printmat(z,vc;colNames=[\"col 1\",\"col 2\",\"vc\"])\n",
    "\n",
    "z2 = z[vc,:]           #keep only rows without NaN/missing\n",
    "printblue(\"z2: a new matrix where all rows with any NaN/missing have been pruned:\")\n",
    "printmat(z2)"
   ]
  },
  {
   "cell_type": "markdown",
   "metadata": {},
   "source": [
    "## Converting a Pruned Array to a Standard Type (extra)\n",
    "\n",
    "Once you have pruned all rows with `missing`s, you may want to convert the matrix to, for instance, Float64. This might simplify some of the later code. Notice that if there were no missing (just NaN), then no conversion is needed.\n",
    "\n",
    "As an alternative, consider `disallowmissing()` from the [`Missings.jl`](https://github.com/JuliaData/Missings.jl) package."
   ]
  },
  {
   "cell_type": "code",
   "execution_count": 21,
   "metadata": {},
   "outputs": [
    {
     "name": "stdout",
     "output_type": "stream",
     "text": [
      "The type of z2 is Matrix{Union{Missing, Int64}}\n",
      "\n",
      "The type of z3 is Matrix{Float64}\n"
     ]
    }
   ],
   "source": [
    "println(\"The type of z2 is \", typeof(z2))\n",
    "\n",
    "z3 = convert.(Float64,z2)\n",
    "println(\"\\nThe type of z3 is \", typeof(z3))"
   ]
  },
  {
   "cell_type": "code",
   "execution_count": null,
   "metadata": {},
   "outputs": [],
   "source": []
  }
 ],
 "metadata": {
  "@webio": {
   "lastCommId": null,
   "lastKernelId": null
  },
  "anaconda-cloud": {},
  "kernelspec": {
   "display_name": "Julia 1.11.6",
   "language": "julia",
   "name": "julia-1.11"
  },
  "language_info": {
   "file_extension": ".jl",
   "mimetype": "application/julia",
   "name": "julia",
   "version": "1.11.6"
  }
 },
 "nbformat": 4,
 "nbformat_minor": 4
}
