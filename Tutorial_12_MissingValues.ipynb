{
 "cells": [
  {
   "cell_type": "markdown",
   "metadata": {},
   "source": [
    "# Missing Values\n"
   ]
  },
  {
   "cell_type": "markdown",
   "metadata": {},
   "source": [
    "## Load Packages and Extra Functions"
   ]
  },
  {
   "cell_type": "code",
   "execution_count": 1,
   "metadata": {},
   "outputs": [],
   "source": [
    "using Printf\n",
    "\n",
    "include(\"src/printmat.jl\");"
   ]
  },
  {
   "cell_type": "markdown",
   "metadata": {},
   "source": [
    "# NaN and missing\n",
    "\n",
    "The `NaN` (Not-a-Number) can be used to indicate that a floating point number (like 2.1) is missing or otherwise strange. For other types of data (for instance, 2), use a `missing` instead.\n",
    "\n",
    "Most computations involving NaNs/missings give `NaN` or `missing` as a result."
   ]
  },
  {
   "cell_type": "code",
   "execution_count": 2,
   "metadata": {},
   "outputs": [
    {
     "name": "stdout",
     "output_type": "stream",
     "text": [
      "missing\n"
     ]
    }
   ],
   "source": [
    "println(2.0 + NaN + missing)"
   ]
  },
  {
   "cell_type": "markdown",
   "metadata": {},
   "source": [
    "## Loading Data\n",
    "\n",
    "When your data (loaded from a csv file, say) has special values for missing data points (for instance, `-999.99`), then you can simply replace those values with `NaN`.  This works since `NaN` is a Float64 value, so you can change an existing array of `Float64`s to `NaN`. More generally, use `missing`.\n",
    "\n",
    "(See the tutorial on loading and saving data for more information.)"
   ]
  },
  {
   "cell_type": "code",
   "execution_count": 3,
   "metadata": {},
   "outputs": [
    {
     "name": "stdout",
     "output_type": "stream",
     "text": [
      "\u001b[34m\u001b[1mz and z2: \u001b[22m\u001b[39m\n",
      "     1.000       NaN\n",
      "     2.000    12.000\n",
      "     3.000    13.000\n",
      "\n",
      "     1.000   missing\n",
      "     2.000    12.000\n",
      "     3.000    13.000\n",
      "\n"
     ]
    }
   ],
   "source": [
    "data = [1.0 -999.99;\n",
    "        2.0 12.0;\n",
    "        3.0 13.0]\n",
    "\n",
    "z  = replace(data,-999.99=>NaN)    #replace -999.99 by NaN or missing\n",
    "z2 = replace(data,-999.99=>missing)\n",
    "printblue(\"z and z2: \")\n",
    "printmat(z)\n",
    "printmat(z2)"
   ]
  },
  {
   "cell_type": "markdown",
   "metadata": {},
   "source": [
    "# Testing for NaNs/missings in an Array\n",
    "\n",
    "You can test whether a number is `NaN` or missing by using `isunordered()`. (Use `isnan()` or `ismissing()` if you want to test specifically for one of them.) "
   ]
  },
  {
   "cell_type": "code",
   "execution_count": 4,
   "metadata": {},
   "outputs": [
    {
     "name": "stdout",
     "output_type": "stream",
     "text": [
      "z has some NaNs/missings\n",
      "\n",
      "\u001b[34m\u001b[1mThe sum of each column: \u001b[22m\u001b[39m\n",
      "   missing       NaN\n",
      "\n"
     ]
    }
   ],
   "source": [
    "z = [1.0     NaN;\n",
    "     2.0     12.0;\n",
    "     missing 13.0;\n",
    "     4       14   ]\n",
    "\n",
    "if any(isunordered,z)                  #check if any NaNs/missins\n",
    "  println(\"z has some NaNs/missings\")  #can also do any(isunordered.(z))\n",
    "end\n",
    "\n",
    "printblue(\"\\nThe sum of each column: \")\n",
    "printmat(sum(z,dims=1))"
   ]
  },
  {
   "cell_type": "markdown",
   "metadata": {},
   "source": [
    "# Disregarding NaNs/missings in a Vector\n",
    "\n",
    "can often be done by just `!filter()` the vector to get rid of all elements that are NaN/missing."
   ]
  },
  {
   "cell_type": "code",
   "execution_count": 5,
   "metadata": {},
   "outputs": [
    {
     "data": {
      "text/plain": [
       "7.0"
      ]
     },
     "execution_count": 5,
     "metadata": {},
     "output_type": "execute_result"
    }
   ],
   "source": [
    "z1 = z[:,1]             #the first column of `z`\n",
    "\n",
    "sum(filter(!isunordered,z1))    #finds all elements in z1 that are not unordered, and sums them"
   ]
  },
  {
   "cell_type": "markdown",
   "metadata": {},
   "source": [
    "# Getting Rid of Matrix Rows with any NaNs/missings\n",
    "\n",
    "It is a common procedure in statistics to throw out all cases with NaNs/missing values. For instance, let `z` be a matrix and `z[t,:]` the data for period $t$  which contains one or more `NaN/missing` values. It is then common (for instance, in linear regressions) to throw out that entire row of the matrix.\n",
    "\n",
    "This is a reasonable approach if it can be argued that the fact that the data is missing is random - and not related to the subject of the investigation. It is much less reasonable if, for instance, the returns for all poorly performing mutual funds are listed as \"missing\" - and you want to study what fund characteristics that drive performance.\n",
    "\n",
    "The code below shows a simple way of how to through out all rows of a matrix with at least one `NaN/missing`.\n",
    "\n",
    "For statistical computations, you may also consider the [NaNStatistics.jl](https://github.com/brenhinkeller/NaNStatistics.jl) package. "
   ]
  },
  {
   "cell_type": "code",
   "execution_count": 6,
   "metadata": {},
   "outputs": [
    {
     "name": "stdout",
     "output_type": "stream",
     "text": [
      "\u001b[34m\u001b[1mz:\u001b[22m\u001b[39m\n",
      "     1.000       NaN\n",
      "     2.000    12.000\n",
      "   missing    13.000\n",
      "     4.000    14.000\n",
      "\n",
      "\u001b[34m\u001b[1mz2: a new matrix where all rows with any NaNs/missings have been pruned:\u001b[22m\u001b[39m\n",
      "     2.000    12.000\n",
      "     4.000    14.000\n",
      "\n"
     ]
    }
   ],
   "source": [
    "printblue(\"z:\")\n",
    "printmat(z)\n",
    "\n",
    "vb = any(isunordered,z,dims=2) #indicates rows with NaNs/missings, gives a Tx1 matrix\n",
    "vc = .!vec(vb)                 #indicates rows without NaNs/missings, vec to make a vector\n",
    "\n",
    "z2 = z[vc,:]           #keep only rows without NaNs/missings\n",
    "printblue(\"z2: a new matrix where all rows with any NaNs/missings have been pruned:\")\n",
    "printmat(z2)"
   ]
  },
  {
   "cell_type": "markdown",
   "metadata": {},
   "source": [
    "## Converting to a Standard Array\n",
    "\n",
    "Once you have pruned all rows with missings, you may want to convert the matrix to, for instance, Float64. This might simplify some of the later code. Notice that if there were no missings (just NaNs), then no conversion is needed."
   ]
  },
  {
   "cell_type": "code",
   "execution_count": 7,
   "metadata": {},
   "outputs": [
    {
     "name": "stdout",
     "output_type": "stream",
     "text": [
      "The type of z2 is Matrix{Union{Missing, Float64}}\n",
      "\n",
      "The type of z3 is Matrix{Float64}\n"
     ]
    }
   ],
   "source": [
    "println(\"The type of z2 is \", typeof(z2))\n",
    "\n",
    "z3 = convert.(Float64,z2)            #could also use `disallowmissing()` from the `Missings.jl` package\n",
    "println(\"\\nThe type of z3 is \", typeof(z3))"
   ]
  },
  {
   "cell_type": "code",
   "execution_count": null,
   "metadata": {},
   "outputs": [],
   "source": []
  }
 ],
 "metadata": {
  "@webio": {
   "lastCommId": null,
   "lastKernelId": null
  },
  "anaconda-cloud": {},
  "kernelspec": {
   "display_name": "Julia 1.11.1",
   "language": "julia",
   "name": "julia-1.11"
  },
  "language_info": {
   "file_extension": ".jl",
   "mimetype": "application/julia",
   "name": "julia",
   "version": "1.11.1"
  }
 },
 "nbformat": 4,
 "nbformat_minor": 4
}
