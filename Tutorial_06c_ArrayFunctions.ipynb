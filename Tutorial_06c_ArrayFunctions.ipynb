{
 "cells": [
  {
   "cell_type": "markdown",
   "metadata": {},
   "source": [
    "# Functions of Arrays\n",
    "\n",
    "This notebook illustrates how to apply a function to arrays and how to iterate over array elements. Other notebooks focus on how to create matrices and on matrix algebra."
   ]
  },
  {
   "cell_type": "markdown",
   "metadata": {},
   "source": [
    "## Load Packages and Extra Functions"
   ]
  },
  {
   "cell_type": "code",
   "execution_count": 1,
   "metadata": {},
   "outputs": [
    {
     "data": {
      "text/plain": [
       "printyellow (generic function with 1 method)"
      ]
     },
     "execution_count": 1,
     "metadata": {},
     "output_type": "execute_result"
    }
   ],
   "source": [
    "using Printf\n",
    "\n",
    "include(\"jlFiles/printmat.jl\")   #a function for prettier matrix printing"
   ]
  },
  {
   "cell_type": "markdown",
   "metadata": {},
   "source": [
    "# Elementwise Functions of Arrays: Dot (.)\n",
    "\n",
    "Let `X` be an array, and `a` and `b` be scalars. Then, `y = fn.(X,a,b)` generates an array `y` where `y[i,j] = fn(X[i,j],a,b)`\n",
    "\n",
    "(You could achieve the same thing with ```map(xi->fn(xi,a,b),x)```.)"
   ]
  },
  {
   "cell_type": "code",
   "execution_count": 2,
   "metadata": {},
   "outputs": [
    {
     "data": {
      "text/plain": [
       "fn (generic function with 1 method)"
      ]
     },
     "execution_count": 2,
     "metadata": {},
     "output_type": "execute_result"
    }
   ],
   "source": [
    "fn(x,a,b) = a/x + b             #x has to be a scalar for this to work"
   ]
  },
  {
   "cell_type": "code",
   "execution_count": 3,
   "metadata": {},
   "outputs": [
    {
     "name": "stdout",
     "output_type": "stream",
     "text": [
      "   110.000    60.000\n",
      "       Inf    20.000\n",
      "\n"
     ]
    }
   ],
   "source": [
    "X = [1 2;\n",
    "     0 10]\n",
    "\n",
    "printmat(fn.(X,100,10))         #notice the dot (.)"
   ]
  },
  {
   "cell_type": "markdown",
   "metadata": {},
   "source": [
    "# Looping over Elements of an Array\n",
    "\n",
    "There are several ways of looping over all elements in an array. The next cell summarises some of them."
   ]
  },
  {
   "cell_type": "code",
   "execution_count": 4,
   "metadata": {},
   "outputs": [
    {
     "name": "stdout",
     "output_type": "stream",
     "text": [
      "11\n",
      "21\n",
      "12\n",
      "22\n",
      "\n",
      "   111       312    \n",
      "   221       422    \n",
      "\n",
      "   111       312    \n",
      "   221       422    \n",
      "\n"
     ]
    }
   ],
   "source": [
    "x = [11 12; 21 22]\n",
    "\n",
    "for z in x                     #when we do not need the index\n",
    "    println(z)                 #works also with non-traditional arrays\n",
    "end\n",
    "println()\n",
    "\n",
    "y = similar(x)\n",
    "for i = 1:length(x)            #when we want to use the index i for an output\n",
    "    y[i] = x[i] + i*100        #works only with traditional arrays (first index is 1)\n",
    "end\n",
    "printmat(y)\n",
    "\n",
    "y = similar(x)\n",
    "for i in eachindex(x)          #again when we want to use the index i for an output\n",
    "    y[i] = x[i] + i*100        #more general and would work with non-traditional arrays\n",
    "end\n",
    "printmat(y)"
   ]
  },
  {
   "cell_type": "markdown",
   "metadata": {
    "tags": []
   },
   "source": [
    "# Looping over Columns or Rows\n",
    "\n",
    "Suppose you want to calculate the sum of each row of a matrix. The classical way of doing that is to loop and extract each row as `X[i,:]`\n",
    "\n",
    "But, there is also a direct way to loop over all rows by using `for r in eachrow(X)`. To also get the row number `i`, we use `for (i,row) in enumerate(eachrow(X))`. For looping over columns, use `eachcol()`.\n",
    "\n",
    "To change `X` in such a loop, use `row .= new_vector`. Notice the dot (`.`)."
   ]
  },
  {
   "cell_type": "code",
   "execution_count": 5,
   "metadata": {},
   "outputs": [
    {
     "name": "stdout",
     "output_type": "stream",
     "text": [
      "X:\n",
      "     1         2    \n",
      "     0        10    \n",
      "\n",
      "sum of each row:\n",
      "     3    \n",
      "    10    \n",
      "\n"
     ]
    }
   ],
   "source": [
    "X = [1 2;\n",
    "     0 10]\n",
    "println(\"X:\")\n",
    "printmat(X)\n",
    "\n",
    "m = size(X,1)\n",
    "\n",
    "z = zeros(Int,m)               #to fill with results, zeros(Int,m) to get Int\n",
    "for i = 1:m                    #loop over rows\n",
    "    z[i] = sum(X[i,:])         #or sum(view(X,i,:)) to save memory\n",
    "end\n",
    "println(\"sum of each row:\")\n",
    "printmat(z)"
   ]
  },
  {
   "cell_type": "code",
   "execution_count": 6,
   "metadata": {},
   "outputs": [
    {
     "name": "stdout",
     "output_type": "stream",
     "text": [
      "sum of each row:\n",
      "     3    \n",
      "    10    \n",
      "\n"
     ]
    }
   ],
   "source": [
    "z = zeros(Int,m)\n",
    "for (i,row) in enumerate(eachrow(X))   #enumerate to get both index and value\n",
    "    z[i] = sum(row)\n",
    "end\n",
    "println(\"sum of each row:\")\n",
    "printmat(z)"
   ]
  },
  {
   "cell_type": "code",
   "execution_count": 7,
   "metadata": {},
   "outputs": [
    {
     "name": "stdout",
     "output_type": "stream",
     "text": [
      "    11        12    \n",
      "    21        22    \n",
      "\n"
     ]
    }
   ],
   "source": [
    "Xb = copy(X) \n",
    "\n",
    "for (i,row) in enumerate(eachrow(Xb))   #enumerate to get both index and value\n",
    "    row .= [i*10+1,i*10+2]              #need .= to change Xb\n",
    "end\n",
    "\n",
    "printmat(Xb)"
   ]
  },
  {
   "cell_type": "markdown",
   "metadata": {},
   "source": [
    "# Functions with Built-in `dims` Argument\n",
    "\n",
    "May functions have a `dims` argument that allows you to avoid looping, for instance, `sum`."
   ]
  },
  {
   "cell_type": "code",
   "execution_count": 8,
   "metadata": {},
   "outputs": [
    {
     "name": "stdout",
     "output_type": "stream",
     "text": [
      "     3    \n",
      "    10    \n",
      "\n"
     ]
    }
   ],
   "source": [
    "printmat(sum(X,dims=2))"
   ]
  },
  {
   "cell_type": "markdown",
   "metadata": {},
   "source": [
    "## Performance Tips (extra)\n",
    "\n",
    "Several functions allow you to also apply an elementwise function to `X` before doing the rest of the calculations, for instance, `any`, `all`, `sum`, `prod`, `maximum`, and `minimum`. This speeds up things since it avoids creating intermediate/temporary arrays."
   ]
  },
  {
   "cell_type": "code",
   "execution_count": 9,
   "metadata": {},
   "outputs": [
    {
     "data": {
      "text/plain": [
       "2×1 Matrix{Int64}:\n",
       "   5\n",
       " 100"
      ]
     },
     "execution_count": 9,
     "metadata": {},
     "output_type": "execute_result"
    }
   ],
   "source": [
    "sum(abs2,X,dims=2)           #same as sum(abs2.(X),dims=2) but faster"
   ]
  },
  {
   "cell_type": "markdown",
   "metadata": {},
   "source": [
    "# Apply Your Own Function on Each Column: mapslices (extra)\n",
    "\n",
    "...or each row (or some other dimension)\n",
    "\n",
    "The `mapslices(fun,x,dims=1)` applies `fun(x[:,i])` to each column of a matrix `x`. This is a convenient alternative to looping over the columns.\n",
    "\n",
    "The cell below illustrates this by calling a function which calculates the moving average of `x[t]` and `x[t-1]` for each column of a matrix `X`."
   ]
  },
  {
   "cell_type": "code",
   "execution_count": 10,
   "metadata": {},
   "outputs": [
    {
     "name": "stdout",
     "output_type": "stream",
     "text": [
      "      X (with 2 columns) and Y (MA(1) of X):\n",
      "     1.000   101.000       NaN       NaN\n",
      "     2.000   102.000     1.500   101.500\n",
      "     3.000   103.000     2.500   102.500\n",
      "     4.000   104.000     3.500   103.500\n",
      "     5.000   105.000     4.500   104.500\n",
      "\n"
     ]
    }
   ],
   "source": [
    "function MovingAvg2(x)             #moving average of t and t-1\n",
    "    T = length(x)\n",
    "    y = fill(NaN,T)\n",
    "    for t = 2:T\n",
    "        y[t] = (x[t] + x[t-1])/2\n",
    "    end\n",
    "    return y\n",
    "end\n",
    "\n",
    "X = [1:5 101:105]\n",
    "Y = mapslices(MovingAvg2,X,dims=1)\n",
    "println(\"      X (with 2 columns) and Y (MA(1) of X):\")\n",
    "printmat([X Y])"
   ]
  },
  {
   "cell_type": "markdown",
   "metadata": {},
   "source": [
    "# Working with OffsetArrays (extra)\n",
    "\n",
    "The next few cells creates an OffsetArray which is an array with non-traditional indexes, see [OffsetArrays.jl](https://github.com/JuliaArrays/OffsetArrays.jl). We then iterate over rows and columns."
   ]
  },
  {
   "cell_type": "code",
   "execution_count": 11,
   "metadata": {},
   "outputs": [
    {
     "name": "stdout",
     "output_type": "stream",
     "text": [
      "\n",
      "Standard array:\n"
     ]
    },
    {
     "data": {
      "text/plain": [
       "4×3 Matrix{Int64}:\n",
       " 1  5   9\n",
       " 2  6  10\n",
       " 3  7  11\n",
       " 4  8  12"
      ]
     },
     "metadata": {},
     "output_type": "display_data"
    },
    {
     "name": "stdout",
     "output_type": "stream",
     "text": [
      "\n",
      "A matrix with indices -2:1x0:2:\n"
     ]
    },
    {
     "data": {
      "text/plain": [
       "4×3 OffsetArray(::Matrix{Int64}, -2:1, 0:2) with eltype Int64 with indices -2:1×0:2:\n",
       " 1  5   9\n",
       " 2  6  10\n",
       " 3  7  11\n",
       " 4  8  12"
      ]
     },
     "metadata": {},
     "output_type": "display_data"
    }
   ],
   "source": [
    "using OffsetArrays\n",
    "\n",
    "A = collect(reshape(1:12,4,3))\n",
    "println(\"\\nStandard array:\")\n",
    "display(A)\n",
    "\n",
    "println(\"\\nA matrix with indices -2:1x0:2:\")\n",
    "B = OffsetArray(A,-2:1,0:2)\n",
    "display(B)"
   ]
  },
  {
   "cell_type": "markdown",
   "metadata": {},
   "source": [
    "The next cells show two versions of an example of how to loop over rows and columns. The first version requires the correct specification of the row and column indices. \n",
    "\n",
    "The second specification is general and would work also on a traditional matrix. For instance, `axes(x,1)[begin+2:end]` returns all the row indices starting at the third row. Alternatively, use`firstindex(x,1)+2:lastindex(x,1)`."
   ]
  },
  {
   "cell_type": "code",
   "execution_count": 12,
   "metadata": {},
   "outputs": [
    {
     "data": {
      "text/plain": [
       "4×3 OffsetArray(::Matrix{Int64}, -2:1, 0:2) with eltype Int64 with indices -2:1×0:2:\n",
       " 0  0  0\n",
       " 0  0  0\n",
       " 0  1  5\n",
       " 0  2  6"
      ]
     },
     "metadata": {},
     "output_type": "display_data"
    }
   ],
   "source": [
    "B2 = zero(B)                   \n",
    "for i = 0:1, j = 1:2    #iterate using known index ranges\n",
    "  B2[i,j] = B[i-2,j-1]  #iterate over rows 0 and 1, and columns 1 and 2\n",
    "end\n",
    "display(B2)"
   ]
  },
  {
   "cell_type": "code",
   "execution_count": 13,
   "metadata": {},
   "outputs": [
    {
     "data": {
      "text/plain": [
       "4×3 OffsetArray(::Matrix{Int64}, -2:1, 0:2) with eltype Int64 with indices -2:1×0:2:\n",
       " 0  0  0\n",
       " 0  0  0\n",
       " 0  1  5\n",
       " 0  2  6"
      ]
     },
     "metadata": {},
     "output_type": "display_data"
    }
   ],
   "source": [
    "B2 = zero(B)                       ##iterate using general index ranges\n",
    "for i in axes(B2,1)[begin+2:end], j in axes(B2,2)[begin+1:end]\n",
    "  B2[i,j] = B[i-2,j-1]\n",
    "end\n",
    "display(B2)"
   ]
  },
  {
   "cell_type": "code",
   "execution_count": null,
   "metadata": {},
   "outputs": [],
   "source": []
  }
 ],
 "metadata": {
  "@webio": {
   "lastCommId": null,
   "lastKernelId": null
  },
  "anaconda-cloud": {},
  "kernelspec": {
   "display_name": "Julia 1.7.3",
   "language": "julia",
   "name": "julia-1.7"
  },
  "language_info": {
   "file_extension": ".jl",
   "mimetype": "application/julia",
   "name": "julia",
   "version": "1.7.3"
  }
 },
 "nbformat": 4,
 "nbformat_minor": 4
}
