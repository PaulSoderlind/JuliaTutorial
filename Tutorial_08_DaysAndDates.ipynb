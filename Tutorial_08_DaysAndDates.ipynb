{
 "cells": [
  {
   "cell_type": "markdown",
   "metadata": {},
   "source": [
    "# Days and Dates\n",
    "\n",
    "This notebook *(a)* introduces the `Date` type; *(b)* how to do date arithmetics; *(c)*  how to convert to/from other date formats (for instance, from matlab)."
   ]
  },
  {
   "cell_type": "markdown",
   "metadata": {},
   "source": [
    "## Load Packages and Extra Functions"
   ]
  },
  {
   "cell_type": "code",
   "execution_count": 1,
   "metadata": {},
   "outputs": [],
   "source": [
    "using Printf, Dates\n",
    "\n",
    "include(\"src/printmat.jl\");"
   ]
  },
  {
   "cell_type": "markdown",
   "metadata": {},
   "source": [
    "## Building a Calendar"
   ]
  },
  {
   "cell_type": "code",
   "execution_count": 2,
   "metadata": {},
   "outputs": [
    {
     "name": "stdout",
     "output_type": "stream",
     "text": [
      "         date\n",
      "   2014-01-31\n",
      "   2014-02-28\n",
      "   2014-03-31\n",
      "   2014-04-30\n",
      "   2014-05-31\n",
      "   2014-06-30\n",
      "   2014-07-31\n",
      "   2014-08-31\n",
      "   2014-09-30\n",
      "   2014-10-31\n",
      "   2014-11-30\n",
      "   2014-12-31\n",
      "\n"
     ]
    }
   ],
   "source": [
    "dNb = Date(2014,1,31):Month(1):Date(2014,12,31)    #build a monthly calendar\n",
    "\n",
    "printmat(dNb;colNames=[\"date\"],width=13)"
   ]
  },
  {
   "cell_type": "markdown",
   "metadata": {},
   "source": [
    "# Time Arithmetics\n",
    "\n",
    "You can add and subtract Dates from each other."
   ]
  },
  {
   "cell_type": "code",
   "execution_count": 3,
   "metadata": {},
   "outputs": [
    {
     "name": "stdout",
     "output_type": "stream",
     "text": [
      "difference between two dates: 30 days\n",
      "as a fraction of the year (approx):      0.082\n"
     ]
    }
   ],
   "source": [
    "d1 = Date(2016,3,31)\n",
    "d2 = Date(2016,4,30)\n",
    "\n",
    "dif    = d2 - d1                           #count the number of days between d2 and d1\n",
    "difRel = Dates.value(dif)/daysinyear(d1)   #Dates.value() is the datenumber, needs prefix Dates\n",
    "\n",
    "println(\"difference between two dates: \",dif)\n",
    "printlnPs(\"as a fraction of the year (approx): \",difRel)"
   ]
  },
  {
   "cell_type": "code",
   "execution_count": 4,
   "metadata": {},
   "outputs": [
    {
     "name": "stdout",
     "output_type": "stream",
     "text": [
      "d1 and one month later: 2016-03-31 2016-04-30\n"
     ]
    }
   ],
   "source": [
    "d3 = d1 + Month(1)          #one month after d1\n",
    "\n",
    "println(\"d1 and one month later: \",d1,\" \",d3)"
   ]
  },
  {
   "cell_type": "markdown",
   "metadata": {},
   "source": [
    "# Looking up Day of the Week and More"
   ]
  },
  {
   "cell_type": "code",
   "execution_count": 5,
   "metadata": {},
   "outputs": [
    {
     "name": "stdout",
     "output_type": "stream",
     "text": [
      "day of the week of date: 2016-03-31 4\n",
      "day of the year of date: 2016-03-31 91\n",
      "\n",
      "Splitting up a date: 2016 3 31\n"
     ]
    }
   ],
   "source": [
    "println(\"day of the week of date: \",d1,\" \",dayofweek(d1))\n",
    "println(\"day of the year of date: \",d1,\" \",dayofyear(d1))\n",
    "\n",
    "(y,m,d)= yearmonthday(d1)            #splitting up a date\n",
    "println(\"\\nSplitting up a date: \",y,\" \",m,\" \",d)"
   ]
  },
  {
   "cell_type": "markdown",
   "metadata": {},
   "source": [
    "# Printing a Date\n",
    "\n",
    "with your own formatting (see the manual for many other formatting options)"
   ]
  },
  {
   "cell_type": "code",
   "execution_count": 6,
   "metadata": {},
   "outputs": [
    {
     "name": "stdout",
     "output_type": "stream",
     "text": [
      "31 Mar 2016\n",
      "31-03-2016\n"
     ]
    }
   ],
   "source": [
    "println(Dates.format(d1,\"d u yyyy\"))                #needs prefix Dates\n",
    "println(Dates.format(d1,\"dd-mm-yyyy\"))"
   ]
  },
  {
   "cell_type": "markdown",
   "metadata": {},
   "source": [
    "# Converting from/to Other Date Formats\n",
    "\n",
    "## Converting from/to Day Number\n",
    "\n",
    "`datetime2rata()` creates a Julia day *number* from a Julia `Date`. (You can also use `Dates.value()` for that.) It counts the number of days since 0000-12-31. Day 1 is thus 0001-01-01. This could, for instance, be useful for communicating with other software.\n",
    "\n",
    "The inverse is `rata2datetime()`, which creates `DateTime()` from a Julia day number. To drop the time part, apply the `Date()` function on the result."
   ]
  },
  {
   "cell_type": "code",
   "execution_count": 7,
   "metadata": {},
   "outputs": [
    {
     "name": "stdout",
     "output_type": "stream",
     "text": [
      "Original date Julia day no     new date\n",
      "   2016-03-31   736054       2016-03-31\n",
      "\n"
     ]
    }
   ],
   "source": [
    "d = Date(2016,3,31)\n",
    "daynumber = datetime2rata(d)          #day number from date, or Dates.value()\n",
    "d2  = Date(rata2datetime(daynumber))  #date from day number\n",
    "\n",
    "printmat(d,daynumber,d2;colNames=[\"Original date\",\"Julia day no\",\"new date\"],width=13)"
   ]
  },
  {
   "cell_type": "markdown",
   "metadata": {},
   "source": [
    "## Converting from yyyymmdd\n",
    "\n",
    "Downloaded financial data (eg. from finance.yahoo) often have dates like 20160331. The next cell shows how to create a Julia Date. "
   ]
  },
  {
   "cell_type": "code",
   "execution_count": 8,
   "metadata": {},
   "outputs": [
    {
     "name": "stdout",
     "output_type": "stream",
     "text": [
      "Original date   Julia date     new date\n",
      " 20160331       2016-03-31     20160331\n",
      "\n"
     ]
    }
   ],
   "source": [
    "csvdate = 20160331 \n",
    "jldate = Date(string(csvdate),\"yyyymmdd\")  #convert to string and then Julia Date\n",
    "csvdate2 = Dates.format(d1,\"yyyymmdd\")     #Julia date to csv format \n",
    "\n",
    "printmat(csvdate,jldate,csvdate2;colNames=[\"Original date\",\"Julia date\",\"new date\"],width=13)"
   ]
  },
  {
   "cell_type": "markdown",
   "metadata": {},
   "source": [
    "## Converting from/to Matlab's datenum()\n",
    "\n",
    "Matlab's `datenum()` also counts days since a starting date, but day 1 is here 0000-1-1, which is 366 days before day 1 in Julia. Conversion therefore requires subtracting/adding 366. In addition, mat files typically save the date number as a floating point number.\n",
    "\n",
    "The conversion uses the approach for day numbers discussed above and is coded up in two functions in the next cell."
   ]
  },
  {
   "cell_type": "code",
   "execution_count": 11,
   "metadata": {},
   "outputs": [
    {
     "data": {
      "text/plain": [
       "jlDate2mlNum (generic function with 1 method)"
      ]
     },
     "execution_count": 11,
     "metadata": {},
     "output_type": "execute_result"
    }
   ],
   "source": [
    "mlNum2jlDate(mlnum) = Date(rata2datetime(round(Int,mlnum) - 366))    #to Julia Date from matlab datenum\n",
    "jlDate2mlNum(jldate) = datetime2rata(jldate) + 366.0"
   ]
  },
  {
   "cell_type": "code",
   "execution_count": 12,
   "metadata": {},
   "outputs": [
    {
     "name": "stdout",
     "output_type": "stream",
     "text": [
      "       matlab        Julia     matlab 2\n",
      "   736420.000   2016-03-31   736420.000\n",
      "\n"
     ]
    }
   ],
   "source": [
    "mlnum  = 736420.0            #to be converted, 2016-03-31\n",
    "jldate = mlNum2jlDate(mlnum)\n",
    "mlnum2 = jlDate2mlNum(jldate)\n",
    "\n",
    "printmat([mlnum jldate mlnum2];colNames=[\"matlab\",\"Julia\",\"matlab 2\"],width=13)"
   ]
  },
  {
   "cell_type": "code",
   "execution_count": null,
   "metadata": {},
   "outputs": [],
   "source": []
  }
 ],
 "metadata": {
  "@webio": {
   "lastCommId": null,
   "lastKernelId": null
  },
  "anaconda-cloud": {},
  "kernelspec": {
   "display_name": "Julia 1.11.6",
   "language": "julia",
   "name": "julia-1.11"
  },
  "language_info": {
   "file_extension": ".jl",
   "mimetype": "application/julia",
   "name": "julia",
   "version": "1.11.6"
  }
 },
 "nbformat": 4,
 "nbformat_minor": 4
}
