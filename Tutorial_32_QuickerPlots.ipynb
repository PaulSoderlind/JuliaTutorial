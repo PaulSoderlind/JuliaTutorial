{
 "cells": [
  {
   "cell_type": "markdown",
   "id": "15d4b0b3-983b-48e1-a93a-dcc3134434c0",
   "metadata": {},
   "source": [
    "# Get quicker (first) plot \n",
    "\n",
    "by using [PackageCompiler.jl](https://github.com/JuliaLang/PackageCompiler.jl)\n",
    "\n",
    "This file contains instructions for how to create a Julia sysimage file (to speed up the plots, CSV and DataFrames) that can be used for either working in the REPL or in IJulia."
   ]
  },
  {
   "cell_type": "markdown",
   "id": "fb244aea-9895-49b1-8450-10a4981b52c2",
   "metadata": {},
   "source": [
    "## Step 1: Create a File with some (slow) Commands\n",
    "\n",
    "Put the contents of the next cell in a file `precompile_PS.jl`. It's just some common command for plotting and DataFrames. \n",
    "\n",
    "You need the file `Data/Options_prices_US_Canada.csv` for this to run. It's available in the repository."
   ]
  },
  {
   "cell_type": "code",
   "execution_count": null,
   "id": "4a50d29d-e51d-4a41-9cee-02a5fba476e4",
   "metadata": {},
   "outputs": [],
   "source": [
    "using Plots\n",
    "\n",
    "p = plot(rand(2,2))\n",
    "scatter!(rand(3),rand(3))\n",
    "display(p)\n",
    "\n",
    "using Dates, CSV, DataFrames\n",
    "DataFile = \"Data/Options_prices_US_Canada.csv\"\n",
    "df1 = CSV.read(DataFile,DataFrame,normalizenames=true,dateformat=\"mm/dd/yy\")\n",
    "\n",
    "df1.date       .+= Dates.Year(2000)     #03/30/17 to 03/30/2017\n",
    "df1.expiration .+= Dates.Year(2000)\n",
    "\n",
    "select!(df1,Not([:exchange,:option_symbol,:style,:unadjusted]))  #deleting some columns\n",
    "rename!(df1,:adjusted_close => :close)          #renaming a column\n",
    "show(df1)"
   ]
  },
  {
   "cell_type": "markdown",
   "id": "da69c50b-865d-48e6-a7e9-d38c24467366",
   "metadata": {},
   "source": [
    "## Step 2: Create a Sysimage\n",
    "\n",
    "Run the following (in the REPL) and wait a few minutes:\n",
    "```\n",
    "using PackageCompiler\n",
    "create_sysimage([\"Plots\",\"CSV\",\"DataFrames\"], sysimage_path=\"sys_PS.so\", precompile_execution_file=\"precompile_PS.jl\")\n",
    "```"
   ]
  },
  {
   "cell_type": "markdown",
   "id": "a0672ec2-802b-4b1e-9884-d1a91a8c5cdb",
   "metadata": {},
   "source": [
    "## Step 3: Enjoy the Speed Up\n",
    "\n",
    "Restart the Julia REPL as\n",
    "\n",
    "```\n",
    "julia --sysimage D:/Julia/sys_PS.so\n",
    "```\n",
    "from the command line (change the folder as needed). Perhaps you want to create a desktop link for this.\n",
    "\n",
    "Now, run some Julia code (with plots and CSV/DataFrames) and notice that it is fast. For instance, rerun the Julia code in `precompile_PS.jl`."
   ]
  },
  {
   "cell_type": "markdown",
   "id": "575b6628-5e49-43ca-98fe-dc9cfb79762f",
   "metadata": {},
   "source": [
    "## IJulia and VS code\n",
    "\n",
    "To run IJulia, first install the kernel (change the folder as needed) by running the following in the REPL\n",
    "```\n",
    "using IJulia\n",
    "sysimage = \"D:/Julia/sys_PS.so\"\n",
    "installkernel(\"Julia_sys_PS\",\"--sysimage=$(sysimage)\")\n",
    "```\n",
    "\n",
    "Now you can start jupyter as usual and select the kernel and perhaps run my Plots tutorial. You may have to change the kernel once you have opened an existing notebook.\n",
    "\n",
    "For VS code, see https://www.julia-vscode.org/docs/dev/userguide/compilesysimage/"
   ]
  },
  {
   "cell_type": "markdown",
   "id": "d2145907-d5da-491e-aae5-c2c0bd10f147",
   "metadata": {},
   "source": [
    "## A Final Remark\n",
    "\n",
    "Notice that if you want to take advantage of updated packages, then you need to recreate the sysimage."
   ]
  },
  {
   "cell_type": "code",
   "execution_count": null,
   "id": "a2f1ff51-70dd-463d-ace0-9e5825735919",
   "metadata": {},
   "outputs": [],
   "source": []
  }
 ],
 "metadata": {
  "kernelspec": {
   "display_name": "Julia 1.8.3",
   "language": "julia",
   "name": "julia-1.8"
  },
  "language_info": {
   "file_extension": ".jl",
   "mimetype": "application/julia",
   "name": "julia",
   "version": "1.8.3"
  }
 },
 "nbformat": 4,
 "nbformat_minor": 5
}
