{
 "cells": [
  {
   "cell_type": "markdown",
   "metadata": {},
   "source": [
    "# Loading and Saving Data\n",
    "\n",
    "to/from csv, jld2, xlsx, hdf5, and mat files.\n",
    "\n",
    "There are also packages for reading R data files ([RData.jl](https://github.com/JuliaData/RData.jl)), numpy data files ([NPZ.jl](https://github.com/fhs/NPZ.jl)), [JSON](https://github.com/JuliaIO/JSON.jl), [Arrow](https://github.com/apache/arrow-julia) and more, but they are not covered in this tutorial.\n",
    "\n",
    "The focus is on typical financial data sets, with dates and data. This mixture of types often needs conversion into Julia dates and integers/floating point numbers. In case your data set is simpler, skip those parts of the code."
   ]
  },
  {
   "cell_type": "markdown",
   "metadata": {},
   "source": [
    "## Load Packages and Extra Functions\n",
    "\n",
    "The packages are loaded in the respective sections below. This allows you to run parts of this notebook without having to install all packages.\n",
    "\n",
    "The data files created by this notebook are written to and loaded from the subfolder `Results`."
   ]
  },
  {
   "cell_type": "code",
   "execution_count": 1,
   "metadata": {
    "tags": []
   },
   "outputs": [],
   "source": [
    "using Printf, Dates\n",
    "include(\"src/printmat.jl\")\n",
    "\n",
    "if !isdir(\"Results\")\n",
    "    error(\"create the subfolder Results before running this program, perhaps with mkdir()\")\n",
    "end"
   ]
  },
  {
   "cell_type": "markdown",
   "metadata": {},
   "source": [
    "# csv Files\n",
    "\n",
    "## csv: loading\n",
    "\n",
    "The csv (\"comma-separated values\") format provides a simple and robust method for moving data and it can be read by most software.\n",
    "\n",
    "\n",
    "For *reading* a data file delimited by comma (,) and where the first line of the file contains variable names, use the following\n",
    "```\n",
    "(x,header) = readdlm(FileName,',',header=true)\n",
    "```\n",
    "Alternatively, use\n",
    "```\n",
    "x = readdlm(FileName,',',skipstart=1)\n",
    "```\n",
    "to disregard the first line. Extra arguments control the type of data (Float64, Int, etc), suppression of comment lines and more. \n",
    "\n",
    "When reading a file with mixed data types, you typically get data of the `Any` type, so an explicit conversion might be useful.\n",
    "\n",
    "If you need more powerful write/read routines, try the [CSV.jl](https://github.com/JuliaData/CSV.jl) package."
   ]
  },
  {
   "cell_type": "code",
   "execution_count": 2,
   "metadata": {
    "tags": []
   },
   "outputs": [
    {
     "name": "stdout",
     "output_type": "stream",
     "text": [
      "\u001b[34m\u001b[1mx is: \u001b[22m\u001b[39m\u001b[34m\u001b[1m6×3 Matrix{Any}\u001b[22m\u001b[39m\n",
      "\n",
      "                GSPC      DTB3\n",
      "02/01/1979    96.730          \n",
      "03/01/1979               9.310\n",
      "04/01/1979    98.580     9.310\n",
      "05/01/1979    99.130     9.340\n",
      "08/01/1979    98.800     9.360\n",
      "09/01/1979    99.330     9.270\n",
      "\n",
      "\u001b[34m\u001b[1mThere are mixed types and missings in this matrix. Maybe convert?\u001b[22m\u001b[39m\n"
     ]
    }
   ],
   "source": [
    "using DelimitedFiles\n",
    "\n",
    "(x,header) = readdlm(\"Data/CsvFile.csv\",',',header=true)  #read csv file\n",
    "printblue(\"x is: \",summary(x),\"\\n\")\n",
    "printmat(x;colNames=vec(header))            #printmat() wants a vector of column names\n",
    "\n",
    "printblue(\"There are mixed types and missings in this matrix. Maybe convert?\")"
   ]
  },
  {
   "cell_type": "markdown",
   "metadata": {},
   "source": [
    "## csv: convert Dates and Missing Values (extra)\n",
    "\n",
    "The function `datesFix()` converts dates to Julia dates, while the function `readdlmFix()` replaces all non-numbers by `NaN` (use with `Float64`) or optionally `missing` (use when data is not `Float64`) and finally converts the whole matrix to `Float64` (or a type you can configure).\n",
    "\n",
    "Most financial data is floating point, so we typically choose to convert to `NaN` rather than to `missing` as the former is much more easily handled in many computations."
   ]
  },
  {
   "cell_type": "code",
   "execution_count": 3,
   "metadata": {
    "tags": []
   },
   "outputs": [],
   "source": [
    "\"\"\"\n",
    "    datesFix(z,fmt=\"dd/mm/yyyy\")\n",
    "\n",
    "Convert to Julia dates, or `Time()` and `DateTime()`\n",
    "\"\"\"\n",
    "datesFix(z,fmt=\"dd/mm/yyyy\") =  Date.(string.(z),fmt)\n",
    "\n",
    "\n",
    "\"\"\"\n",
    "    readdlmFix(x,Typ=Float64,missVal=NaN)\n",
    "\n",
    "Change elements with missing data (' ') to either NaN or missing. \n",
    "`x` is the input matrix, `Typ` is the type of the output (Float64, Int, etc) and \n",
    "`missval` is your choice of either `NaN` or `missing`\n",
    "\"\"\"\n",
    "function readdlmFix(x,Typ=Float64,missVal=NaN)\n",
    "    y = replace(z->!isa(z,Number) ? missVal : z,x)\n",
    "    ismissing(missVal) && (Typ = Union{Missing,Typ})   #allow missing\n",
    "    y = convert.(Typ,y)\n",
    "    return y\n",
    "end;"
   ]
  },
  {
   "cell_type": "code",
   "execution_count": 4,
   "metadata": {
    "tags": []
   },
   "outputs": [
    {
     "name": "stdout",
     "output_type": "stream",
     "text": [
      "after datesFix() and readdlmFix():\n",
      "\n",
      "                GSPC      DTB3\n",
      "1979-01-02    96.730       NaN\n",
      "1979-01-03       NaN     9.310\n",
      "1979-01-04    98.580     9.310\n",
      "1979-01-05    99.130     9.340\n",
      "1979-01-08    98.800     9.360\n",
      "1979-01-09    99.330     9.270\n",
      "\n"
     ]
    }
   ],
   "source": [
    "dN = datesFix(x[:,1],\"dd/mm/yyyy\")      #to proper Julia Date(s)\n",
    "x2 = readdlmFix(x[:,2:end])             #convert to Float64 and replace empty by NaN\n",
    "\n",
    "println(\"after datesFix() and readdlmFix():\\n\")\n",
    "printmat(dN,x2;colNames=vec(header))    #printmat() wants a vector of column names"
   ]
  },
  {
   "cell_type": "markdown",
   "metadata": {},
   "source": [
    "## csv: saving\n",
    "\n",
    "To *write* csv data, the simplest approach is to create the matrix you want to save and then run\n",
    "```\n",
    "writedlm(FileName,matrix)\n",
    "```\n",
    "Alternatively, to write several matrices to the file (stacked vertically), use\n",
    "```\n",
    "fh = open(Filename, \"w\")\n",
    "    writedlm(fh,matrix1,',')\n",
    "    writedlm(fh,matrix2,',')\n",
    "close(fh)\n",
    "```\n",
    "\n",
    "Another syntax which does the same thing is \n",
    "```\n",
    "open(Filename, \"w\") do fh\n",
    "    writedlm(...\n",
    "end\n",
    "```\n",
    "\n",
    "If you only need/want limited precision in the file, round the numbers first, for instance, `round.(matrix1,digits=5))`."
   ]
  },
  {
   "cell_type": "code",
   "execution_count": 5,
   "metadata": {
    "tags": []
   },
   "outputs": [
    {
     "name": "stdout",
     "output_type": "stream",
     "text": [
      "\u001b[34m\u001b[1mNewCsvFile.csv has been created in the subfolder Results. Check it out.\u001b[22m\u001b[39m\n"
     ]
    }
   ],
   "source": [
    "x   = [Date(1990) 1.1 1.2 1.3;\n",
    "       Date(1991) 2.1 2.2 2.3]\n",
    "header = [\"\" \"X\" \"Y\" \"Z\"]\n",
    "\n",
    "xx = [header; x]                           #to save\n",
    "writedlm(\"Results/NewCsvFile.csv\",xx,',')  #write csv file\n",
    "\n",
    "printblue(\"NewCsvFile.csv has been created in the subfolder Results. Check it out.\")"
   ]
  },
  {
   "cell_type": "markdown",
   "metadata": {},
   "source": [
    "# jld2\n",
    "\n",
    "## jld2: loading\n",
    "\n",
    "jld2 files  can store very different types of data: dates, integers, floats, strings, dictionaries, etc. It is a dialect of hdf5, designed to save different Julia objects. This avoids most type conversions.\n",
    "\n",
    "The basic syntax of the [JLD2.jl](https://github.com/JuliaIO/JLD2.jl) package is \n",
    "```\n",
    "(A,B) = load(FileName,\"A\",\"B\")        #load some data\n",
    "xx = load(FileName)                   #load all data into a Dict()\n",
    "save(FileName,\"Aaaa\",A,\"B\",B)         #save data\n",
    "jldsave(FileName;Aaaa=A,B)            #also to save data\n",
    "```\n",
    "(It also possible to use the same syntax as for HDF5 below, except that we use ```jldopen``` instead of ```h5open```.)"
   ]
  },
  {
   "cell_type": "code",
   "execution_count": 6,
   "metadata": {
    "tags": []
   },
   "outputs": [
    {
     "name": "stdout",
     "output_type": "stream",
     "text": [
      "The variables are: [\"B\", \"C\", \"x\", \"d\"]\n",
      "\n",
      "loaded from jld2 file:\n",
      "\n",
      "2019-05-14     1.100     1.200     1.300\n",
      "2019-05-15     2.100     2.200     2.300\n",
      "\n"
     ]
    }
   ],
   "source": [
    "using FileIO, JLD2\n",
    "\n",
    "xx = load(\"Data/JldFile.jld2\")                    #load entire file\n",
    "println(\"The variables are: \",keys(xx),\"\\n\")      #list contents of the file\n",
    "(dN,x) = (xx[\"d\"],xx[\"x\"])\n",
    "\n",
    "println(\"loaded from jld2 file:\\n\")\n",
    "printmat([dN x])\n",
    " \n",
    "#(x,dN) = load(\"Data/JldFile.jld2\",\"x\",\"d\");        #alternative way to read some of the data"
   ]
  },
  {
   "cell_type": "markdown",
   "metadata": {},
   "source": [
    "## jld2: saving"
   ]
  },
  {
   "cell_type": "code",
   "execution_count": 7,
   "metadata": {
    "tags": []
   },
   "outputs": [
    {
     "name": "stdout",
     "output_type": "stream",
     "text": [
      "NewJldFile.jld2 has been created in the subfolder Results\n"
     ]
    }
   ],
   "source": [
    "x   = [1.1 1.2 1.3;                                    #to save in a JLD2 file\n",
    "       2.1 2.2 2.3]\n",
    "d   = [Date(2019,5,14);                                #Julia dates\n",
    "       Date(2019,5,15)]\n",
    "B   = 1\n",
    "C   = \"Nice cat\"\n",
    "\n",
    "save(\"Results/NewJldFile.jld2\",\"xxxx\",x,\"d\",d,\"B\",B,\"C\",C)      #write jld2 file\n",
    "#jldsave(\"Results/NewJldFile.jld2\";xxxx=x,d,B,C)                #alternative way\n",
    "\n",
    "println(\"NewJldFile.jld2 has been created in the subfolder Results\")"
   ]
  },
  {
   "cell_type": "markdown",
   "metadata": {},
   "source": [
    "# xlsx\n",
    "\n",
    "## xlsx: loading\n",
    "\n",
    "The [XLSX.jl](https://github.com/felipenoris/XLSX.jl) package allows you to read and write xlsx files.\n",
    "\n",
    "When reading from a sheet with mixed data types, you again get data of the `Any` type, which needs conversion (see the cell further below). Otherwise, try the `XLSX.gettable()` method."
   ]
  },
  {
   "cell_type": "code",
   "execution_count": 8,
   "metadata": {},
   "outputs": [
    {
     "name": "stdout",
     "output_type": "stream",
     "text": [
      "x is: 4×3 Matrix{Any}\n",
      "\n",
      "part of the xlsx file:\n",
      "1950-01-06    16.980  -999.990\n",
      "1950-01-09    17.080  -999.990\n",
      "1950-01-10    17.030     7    \n",
      "1950-01-11    17.090     8    \n",
      "\n"
     ]
    }
   ],
   "source": [
    "using XLSX\n",
    "\n",
    "data1 = XLSX.readxlsx(\"Data/xlsxFile.xlsx\")   #reading the entire file\n",
    "x     = data1[\"Data!A2:C5\"]                    #extracting a part of the sheet \"Data\"\n",
    "println(\"x is: \",summary(x),\"\\n\")\n",
    "#x = XLSX.readdata(\"Data/XlsFile.xlsx\",\"Data\",\"B2:C6\")   #does the same thing\n",
    "\n",
    "println(\"part of the xlsx file:\")\n",
    "printmat(x)\n",
    "\n",
    "#xx1 = XLSX.gettable(data1[\"Data\"],infer_eltypes=true)   #to get types automatically\n",
    "#(a1,a2,a3) = xx1.data;                                  #extract \"columns\" from xx1\n",
    "#printmat(a1,a2,a3)"
   ]
  },
  {
   "cell_type": "markdown",
   "metadata": {},
   "source": [
    "## xlsx: convert dates and missing values (extra)\n",
    "\n",
    "using the same functions as for csv. (See above. You need to run that cell once before using the functions.)\n",
    "\n",
    "Noice that the xlsx file uses `-999.99` to indicate a missing value. This approach is fairly common approach. For that reason we replace those with `NaN`."
   ]
  },
  {
   "cell_type": "code",
   "execution_count": 9,
   "metadata": {},
   "outputs": [
    {
     "name": "stdout",
     "output_type": "stream",
     "text": [
      "1950-01-06    16.980       NaN\n",
      "1950-01-09    17.080       NaN\n",
      "1950-01-10    17.030     7.000\n",
      "1950-01-11    17.090     8.000\n",
      "\n"
     ]
    }
   ],
   "source": [
    "dN = datesFix(x[:,1],\"yyyy-mm-dd\")      #to proper Julia Date(s)\n",
    "x2 = readdlmFix(x[:,2:end])             #convert to Float64 and replace empty by NaN\n",
    "replace!(x2,-999.99=>NaN)               #replace -999.99 by NaN\n",
    "\n",
    "printmat(dN,x2)"
   ]
  },
  {
   "cell_type": "markdown",
   "metadata": {},
   "source": [
    "## xlsx: saving"
   ]
  },
  {
   "cell_type": "code",
   "execution_count": 10,
   "metadata": {},
   "outputs": [
    {
     "name": "stdout",
     "output_type": "stream",
     "text": [
      "\u001b[34m\u001b[1mNewxlsxFile.xlsx has been created in the subfolder Results\u001b[22m\u001b[39m\n"
     ]
    }
   ],
   "source": [
    "x = [Date(1980) 1.1 1.2 1.3;                          #writing a matrix to an xlsx file\n",
    "     Date(1981) 2.1 2.2 2.3]\n",
    "y = [11 12]\n",
    "\n",
    "XLSX.openxlsx(\"Results/NewxlsxFile.xlsx\",mode=\"w\") do xf\n",
    "  xf[1][\"C2\"] = x  #write to first sheet, matrix with upper left corner in cell C2\n",
    "  XLSX.addsheet!(xf,\"SecondSheet\")  #create 2nd sheet\n",
    "  xf[2][\"A1\"] = y                   #write to 2nd sheet\n",
    "end\n",
    "\n",
    "printblue(\"NewxlsxFile.xlsx has been created in the subfolder Results\")"
   ]
  },
  {
   "cell_type": "markdown",
   "metadata": {},
   "source": [
    "# hdf5 (extra)\n",
    "\n",
    "## hdf5: loading\n",
    "\n",
    "hdf5 files are used in many computer languages. They can store different types of data: integers, floats, strings, but *not* Julia Dates.\n",
    "\n",
    "The basic syntax of the [HDF5.jl](https://github.com/JuliaIO/HDF5.jl) package for reading is\n",
    "```\n",
    "fh = h5open(FileName,\"r\")   #open for reading\n",
    "    (x,y) = read(fh,\"x\",\"y\")\n",
    "close(fh)\n",
    "```\n",
    "Dates can, for instance, be saved in a `Tx3` matrix (year, month day), and then converted to Julia dates by the `Date()` function.\n",
    "\n",
    "(There is also the `h5read(filename,\"x\")` command that reads one variable from a file.)"
   ]
  },
  {
   "cell_type": "code",
   "execution_count": 11,
   "metadata": {
    "tags": []
   },
   "outputs": [
    {
     "name": "stdout",
     "output_type": "stream",
     "text": [
      "\n",
      "Variables in h5 file: [\"B\", \"C\", \"x\", \"ymd\"]\n",
      "\n",
      "dates and x from h5 file is\n",
      "2019-05-14     1.100     1.200     1.300\n",
      "2019-05-15     2.100     2.200     2.300\n",
      "\n"
     ]
    }
   ],
   "source": [
    "using HDF5\n",
    "\n",
    "fh = h5open(\"Data/H5File.h5\",\"r\")                     #open for reading\n",
    "    println(\"\\nVariables in h5 file: \",keys(fh))\n",
    "    (x,B,ymd) = read(fh,\"x\",\"B\",\"ymd\")                #load some of the data\n",
    "close(fh)\n",
    "\n",
    "dN = Date.(ymd[:,1],ymd[:,2],ymd[:,3])                #reconstructing dates from a 3-column matrix [year,month,day]\n",
    "\n",
    "println(\"\\ndates and x from h5 file is\")\n",
    "printmat([dN x])"
   ]
  },
  {
   "cell_type": "markdown",
   "metadata": {},
   "source": [
    "## hdf5: saving\n",
    "\n",
    "To save dates, save either a matrix `[y m d]`or a date value from `Dates.value(date)`. See the tutorial on `Dates` for more details.\n",
    "\n",
    "To save data, the syntax is\n",
    "```\n",
    "fh = h5open(FileName,\"w\")   #open for writing\n",
    "    write(fh,\"x\",x,\"y\",y)\n",
    "close(fh)\n",
    "```\n",
    "\n",
    "(There is also the `h5write(filename,\"x\",x)` command that writes one variable to a file.)"
   ]
  },
  {
   "cell_type": "code",
   "execution_count": 12,
   "metadata": {
    "tags": []
   },
   "outputs": [
    {
     "name": "stdout",
     "output_type": "stream",
     "text": [
      "\u001b[34m\u001b[1mNewH5File.h5 has been created in the subfolder Results\u001b[22m\u001b[39m\n"
     ]
    }
   ],
   "source": [
    "x   = [1.1 1.2 1.3;\n",
    "       2.1 2.2 2.3]\n",
    "ymd = [2019 5 14;\n",
    "       2019 5 15]\n",
    "\n",
    "B   = 1\n",
    "C   = \"Nice cat\"\n",
    "\n",
    "fh = h5open(\"Results/NewH5File.h5\",\"w\")    #open file for writing\n",
    "    write(fh,\"x\",x,\"ymd\",ymd,\"B\",B,\"C\",C)\n",
    "close(fh)                                  #close file\n",
    "\n",
    "printblue(\"NewH5File.h5 has been created in the subfolder Results\")"
   ]
  },
  {
   "cell_type": "markdown",
   "metadata": {},
   "source": [
    "# mat files (extra)\n",
    "\n",
    "## mat: loading\n",
    "\n",
    "The [MAT.jl](https://github.com/JuliaIO/MAT.jl) package allows you to load/save (Matlab) mat files, which is a dialect of HDF5.\n",
    "\n",
    "`matread()` reads in a file to a dictionary, while `matrwrite()` writes a dictionary. (There is also a `matopen()` function that can be used with `write()` similar to the HDF5 approach discussed above.)"
   ]
  },
  {
   "cell_type": "code",
   "execution_count": 13,
   "metadata": {},
   "outputs": [
    {
     "name": "stdout",
     "output_type": "stream",
     "text": [
      "\u001b[34m\u001b[1mvariables in mat file: \u001b[22m\u001b[39m\u001b[34m\u001b[1m[\"B\", \"C\", \"dM\", \"x\"]\u001b[22m\u001b[39m\n",
      "\n",
      "737559         1.100     1.200     1.300\n",
      "737560         2.100     2.200     2.300\n",
      "\n",
      "\u001b[34m\u001b[1mThe dates are from matlab's datenum(). Maybe convert?\u001b[22m\u001b[39m\n"
     ]
    }
   ],
   "source": [
    "using MAT\n",
    "\n",
    "D = matread(\"Data/MatFile.mat\")       #gives a Dict\n",
    "printblue(\"variables in mat file: \",keys(D),\"\\n\")\n",
    "    \n",
    "(dM,x) = (D[\"dM\"],D[\"x\"])             #extract some variables from Dict\n",
    "\n",
    "printmat(dM,x)\n",
    "\n",
    "printblue(\"The dates are from matlab's datenum(). Maybe convert?\")"
   ]
  },
  {
   "cell_type": "markdown",
   "metadata": {},
   "source": [
    "## mat: converting dates\n",
    "\n",
    "The next cell reuses function from the tutorial on Dates, in order to convert between matlab and Julia dates."
   ]
  },
  {
   "cell_type": "code",
   "execution_count": 14,
   "metadata": {},
   "outputs": [],
   "source": [
    "mlNum2jlDate(mlnum) = Date(rata2datetime(round(Int,mlnum) - 366))    #to Julia Date from matlab datenum\n",
    "jlDate2mlNum(jldate) = datetime2rata(jldate) + 366.0;"
   ]
  },
  {
   "cell_type": "code",
   "execution_count": 15,
   "metadata": {},
   "outputs": [
    {
     "name": "stdout",
     "output_type": "stream",
     "text": [
      "\n",
      "dates and x from mat file is (after converting dates)\n",
      "2019-05-14     1.100     1.200     1.300\n",
      "2019-05-15     2.100     2.200     2.300\n",
      "\n"
     ]
    }
   ],
   "source": [
    "d = mlNum2jlDate.(dM)                #Matlab datenum to Julia date\n",
    "\n",
    "println(\"\\ndates and x from mat file is (after converting dates)\")\n",
    "printmat([d x])"
   ]
  },
  {
   "cell_type": "markdown",
   "metadata": {},
   "source": [
    "## mat: writing"
   ]
  },
  {
   "cell_type": "code",
   "execution_count": 16,
   "metadata": {},
   "outputs": [
    {
     "name": "stdout",
     "output_type": "stream",
     "text": [
      "\n",
      "\u001b[34m\u001b[1mNewMatFile.mat has been created in the subfolder Results\u001b[22m\u001b[39m\n"
     ]
    }
   ],
   "source": [
    "x = [1.1 1.2 1.3;\n",
    "     2.1 2.2 2.3]\n",
    "d = [Date(2019,5,14);                         #Julia dates\n",
    "     Date(2019,5,15)]\n",
    "B = 1\n",
    "C = \"Nice cat\"\n",
    "\n",
    "dM = jlDate2mlNum.(d) #Julia Date to Matlab's datenum(), Float64\n",
    "\n",
    "D = Dict(\"x\"=>x,\"B\"=>B,\"dM\"=>dM,\"C\"=>C)\n",
    "matwrite(\"Results/NewMatFile.mat\",D)\n",
    "\n",
    "printblue(\"\\nNewMatFile.mat has been created in the subfolder Results\")"
   ]
  },
  {
   "cell_type": "code",
   "execution_count": null,
   "metadata": {},
   "outputs": [],
   "source": []
  }
 ],
 "metadata": {
  "@webio": {
   "lastCommId": null,
   "lastKernelId": null
  },
  "anaconda-cloud": {},
  "kernelspec": {
   "display_name": "Julia 1.11.6",
   "language": "julia",
   "name": "julia-1.11"
  },
  "language_info": {
   "file_extension": ".jl",
   "mimetype": "application/julia",
   "name": "julia",
   "version": "1.11.6"
  }
 },
 "nbformat": 4,
 "nbformat_minor": 4
}
