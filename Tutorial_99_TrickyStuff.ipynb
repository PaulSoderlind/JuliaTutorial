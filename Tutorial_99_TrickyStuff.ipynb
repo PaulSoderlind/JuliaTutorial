{
 "cells": [
  {
   "cell_type": "markdown",
   "metadata": {},
   "source": [
    "# Tricky Stuff\n",
    "\n",
    "This file highlights some tricky aspects of Julia (from the perspective of a Matlab user)."
   ]
  },
  {
   "cell_type": "markdown",
   "metadata": {},
   "source": [
    "## Load Packages and Extra Functions"
   ]
  },
  {
   "cell_type": "code",
   "execution_count": 1,
   "metadata": {},
   "outputs": [],
   "source": [
    "using Printf, LinearAlgebra\n",
    "\n",
    "include(\"src/printmat.jl\");"
   ]
  },
  {
   "cell_type": "markdown",
   "metadata": {},
   "source": [
    "# An Nx1 Matrix Is Not a Vector\n",
    "\n",
    "and it sometimes matters.\n",
    "\n",
    "Julia has both vectors and Nx1 matrices (the latter being a special case of NxM matrices). They can often be used interchangeably, but not always."
   ]
  },
  {
   "cell_type": "code",
   "execution_count": 2,
   "metadata": {},
   "outputs": [
    {
     "name": "stdout",
     "output_type": "stream",
     "text": [
      "v and v2 'look' similar:\n",
      "     1    \n",
      "     1    \n",
      "\n",
      "     1    \n",
      "     1    \n",
      "\n",
      "but they have different sizes: (2,) (2, 1)\n"
     ]
    }
   ],
   "source": [
    "v  = ones(Int,2)                     #a vector with two elements\n",
    "v2 = ones(Int,2,1)                   #a 2x1 matrix (Array)\n",
    "\n",
    "println(\"v and v2 'look' similar:\")\n",
    "printmat(v)\n",
    "printmat(v2)\n",
    "println(\"but they have different sizes: \",size(v),\" \",size(v2))"
   ]
  },
  {
   "cell_type": "markdown",
   "metadata": {},
   "source": [
    "# `X[1,:]` Gives a (Flat) Vector\n",
    "\n",
    "If `X` is a $T\\times n$ matrix, then `X[1,:]` gives a flat vector, *not* a $1 \\times n$ matrix (or row vector)."
   ]
  },
  {
   "cell_type": "code",
   "execution_count": 3,
   "metadata": {},
   "outputs": [
    {
     "name": "stdout",
     "output_type": "stream",
     "text": [
      "size of X[1,:]: (2,)\n",
      "    11    \n",
      "    12    \n",
      "\n",
      "size of X[1:1,:]: (1, 2)\n",
      "    11        12    \n",
      "\n"
     ]
    }
   ],
   "source": [
    "X = [11 12;21 22]\n",
    "\n",
    "x1 = X[1,:]                      #this gives a flat vector\n",
    "println(\"size of X[1,:]: \", size(x1))\n",
    "printmat(x1)\n",
    "\n",
    "x1b = X[1:1,:]                   #however, this gives a 1x2 matrix\n",
    "println(\"size of X[1:1,:]: \", size(x1b))\n",
    "printmat(x1b)"
   ]
  },
  {
   "cell_type": "markdown",
   "metadata": {},
   "source": [
    "# Array .+ Scalar Requires a Dot (.)"
   ]
  },
  {
   "cell_type": "code",
   "execution_count": 4,
   "metadata": {},
   "outputs": [
    {
     "name": "stdout",
     "output_type": "stream",
     "text": [
      "     2    \n",
      "     3    \n",
      "\n"
     ]
    }
   ],
   "source": [
    "y = [1;2] .+ 1              #do not forget the dot (.)\n",
    "printmat(y)"
   ]
  },
  {
   "cell_type": "markdown",
   "metadata": {},
   "source": [
    "# Creating Variables in a Loop"
   ]
  },
  {
   "cell_type": "code",
   "execution_count": 5,
   "metadata": {},
   "outputs": [
    {
     "name": "stdout",
     "output_type": "stream",
     "text": [
      "Tor: 0.28366218546322625\n",
      "Oden: -0.9589242746631385\n"
     ]
    }
   ],
   "source": [
    "for i = 1:5\n",
    "    global Tor         #without this, Tor is not seen outside the loop\n",
    "    Tor = cos(i)\n",
    "end\n",
    "println(\"Tor: $Tor\")\n",
    "\n",
    "\n",
    "Oden = Inf              #define `Oden` before the loop\n",
    "for i = 1:5\n",
    "    #global Oden        #only needed in script\n",
    "    Oden = sin(i)       #will overwrite an existing value \n",
    "end\n",
    "println(\"Oden: $Oden\")"
   ]
  },
  {
   "cell_type": "markdown",
   "metadata": {},
   "source": [
    "# An Array of Arrays\n",
    "\n",
    "can be initialized by comprehension (see below). \n",
    "\n",
    "Do **not** use `fill(array,n)` for this, since all `n` arrays will refer to the same underlying array (changing one changes all)."
   ]
  },
  {
   "cell_type": "code",
   "execution_count": 6,
   "metadata": {},
   "outputs": [
    {
     "name": "stdout",
     "output_type": "stream",
     "text": [
      "x[1]\n",
      "   -99.000     0.000\n",
      "     0.000     0.000\n",
      "\n",
      "x[2]\n",
      "     0.000     0.000\n",
      "     0.000     0.000\n",
      "\n"
     ]
    }
   ],
   "source": [
    "x = [zeros(2,2) for i=1:2]        #a vector of two matrices\n",
    "x[1][1,1] = -99                   #change an element of x[1]\n",
    "\n",
    "println(\"x[1]\")\n",
    "printmat(x[1])\n",
    "\n",
    "println(\"x[2]\")\n",
    "printmat(x[2])"
   ]
  },
  {
   "cell_type": "markdown",
   "metadata": {},
   "source": [
    "# Arrays are Different...\n",
    "\n",
    "Vectors and matrices (arrays) can take lots of memory space, so **Julia is designed to avoid unnecessary copies of arrays**. Notice the following:\n",
    "* ```B = A``` creates two names of the *same* array (changing one changes the other)\n",
    "* ```B = reshape(A,n,m)```, ```B = vec(A)```, and  ```B = A'``` and create *another view* of the same array (changing one changes the other)\n",
    "* `E = [C,D]` (where `C` and `D` are arrays) refers to underlying arrays. Changing `C` or `D` will affect `E` and vice versa.\n",
    "* When an input an array to a function, then this array is shared between the function and the calling program (scope). Changing *elements* of the array (inside the function) will then change the array outside the function.\n",
    "\n",
    "If you do not like this behaviour, then use `copy(A)` to create an independent copy of the array.\n",
    "\n",
    "See the chapter on Arrays for more details."
   ]
  },
  {
   "cell_type": "code",
   "execution_count": null,
   "metadata": {},
   "outputs": [],
   "source": []
  }
 ],
 "metadata": {
  "@webio": {
   "lastCommId": null,
   "lastKernelId": null
  },
  "anaconda-cloud": {},
  "kernelspec": {
   "display_name": "Julia 1.11.1",
   "language": "julia",
   "name": "julia-1.11"
  },
  "language_info": {
   "file_extension": ".jl",
   "mimetype": "application/julia",
   "name": "julia",
   "version": "1.11.1"
  }
 },
 "nbformat": 4,
 "nbformat_minor": 4
}
