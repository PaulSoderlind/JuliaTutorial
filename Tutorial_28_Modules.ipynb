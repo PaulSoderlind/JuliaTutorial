{
 "cells": [
  {
   "cell_type": "markdown",
   "id": "9baf8f1a-4614-4396-bfc2-528a4ae7cfdf",
   "metadata": {},
   "source": [
    "# Modules\n",
    "\n",
    "This short notebook shows how to create your own module (\"package\"). \n",
    "\n",
    "One of the advantages with a module is that you can do `using TutorialModule` instead of having to `include()` every file."
   ]
  },
  {
   "cell_type": "markdown",
   "id": "3cb89c4c-0f2c-44fd-8c85-b6c3240af666",
   "metadata": {},
   "source": [
    "## Step 1: add to LOAD_PATH\n",
    "\n",
    "Tell Julia where to find the files for the module by adding to `LOAD_PATH`. This has to be redone every time you want to use your module. \n",
    "\n",
    "For instance, as in the next cell"
   ]
  },
  {
   "cell_type": "code",
   "execution_count": 1,
   "id": "8ef09bb8-1245-41e4-a81f-952b6a7bd459",
   "metadata": {},
   "outputs": [],
   "source": [
    "PathToMyFolder = joinpath(pwd(),\"jlFiles\")  #change as needed \n",
    "push!(LOAD_PATH,PathToMyFolder);"
   ]
  },
  {
   "cell_type": "markdown",
   "id": "7b98ae88-e0c2-4d3a-bc56-8865a64468de",
   "metadata": {},
   "source": [
    "# Step 2: Create a Module File\n",
    "\n",
    "Create a file that defines the module and put it in PathToMyFolder. This has to be redone only when you want to change the module, for instance, when you want to export other functions.\n",
    "\n",
    "The next cell shows the contents of the module file. Change it, for instance, by exporting also `printred`"
   ]
  },
  {
   "cell_type": "code",
   "execution_count": 2,
   "id": "07937e2d-af13-4a19-80c3-04c08d3c9ddf",
   "metadata": {},
   "outputs": [
    {
     "name": "stdout",
     "output_type": "stream",
     "text": [
      "the contents of jlFiles/TutorialModule.jl:\n",
      "\n",
      "module TutorialModule\n",
      "\n",
      "using Printf                       #the module can use other packages\n",
      "#import LinearAlgebra\n",
      "\n",
      "export printmat, printlnPs, printblue, printTeXTable   #available after `using TutorialModule`\n",
      "\n",
      "include(\"printmat.jl\")                                 #code\n",
      "include(\"printTeXTable.jl\")\n",
      "\n",
      "end\n",
      "\n"
     ]
    }
   ],
   "source": [
    "println(\"the contents of jlFiles/TutorialModule.jl:\\n\")\n",
    "println(read(\"jlFiles/TutorialModule.jl\",String))"
   ]
  },
  {
   "cell_type": "markdown",
   "id": "72e0a44b-ad8d-48b3-8380-dbb64883cbb2",
   "metadata": {},
   "source": [
    "## Step 3: Use the Module"
   ]
  },
  {
   "cell_type": "code",
   "execution_count": 3,
   "id": "19817184-6ae0-42e5-8318-85c1210fc58a",
   "metadata": {},
   "outputs": [
    {
     "name": "stdout",
     "output_type": "stream",
     "text": [
      "    11        12    \n",
      "    21        22    \n",
      "\n"
     ]
    }
   ],
   "source": [
    "using TutorialModule\n",
    "\n",
    "x = [11 12;21 22]\n",
    "printmat(x)"
   ]
  },
  {
   "cell_type": "code",
   "execution_count": null,
   "id": "430ff053-0f82-453c-bef1-45079136b024",
   "metadata": {},
   "outputs": [],
   "source": []
  }
 ],
 "metadata": {
  "kernelspec": {
   "display_name": "Julia 1.8.3",
   "language": "julia",
   "name": "julia-1.8"
  },
  "language_info": {
   "file_extension": ".jl",
   "mimetype": "application/julia",
   "name": "julia",
   "version": "1.8.3"
  }
 },
 "nbformat": 4,
 "nbformat_minor": 5
}
