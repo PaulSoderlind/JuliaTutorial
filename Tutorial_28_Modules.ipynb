{
 "cells": [
  {
   "cell_type": "markdown",
   "id": "9baf8f1a-4614-4396-bfc2-528a4ae7cfdf",
   "metadata": {},
   "source": [
    "# Modules\n",
    "\n",
    "This short notebook shows how to create your own module (\"package\"). For instance, a collection of your own functions that you often use.\n",
    "\n",
    "One of the advantages with a module is that you can do `using .TutorialModule` instead of having to `include()` every file. It is also  likely to be quicker."
   ]
  },
  {
   "cell_type": "markdown",
   "id": "7b98ae88-e0c2-4d3a-bc56-8865a64468de",
   "metadata": {},
   "source": [
    "# Step 1: Create a Module File\n",
    "\n",
    "Create a file that defines the module.\n",
    "\n",
    "The next cell shows the contents of the module file. Change it, for instance, by exporting also `printred`."
   ]
  },
  {
   "cell_type": "code",
   "execution_count": 1,
   "id": "07937e2d-af13-4a19-80c3-04c08d3c9ddf",
   "metadata": {},
   "outputs": [
    {
     "name": "stdout",
     "output_type": "stream",
     "text": [
      "the contents of jlFiles/TutorialModule.jl:\n",
      "\n",
      "module TutorialModule\r\n",
      "\r\n",
      "import Printf                                         #the module can use other packages\r\n",
      "#import LinearAlgebra\r\n",
      "\r\n",
      "export printmat, printlnPs, printblue, printTeXTable  #available after `using .TutorialModule`\r\n",
      "\r\n",
      "include(\"printmat.jl\")                                #files with the functions\r\n",
      "include(\"printTeXTable.jl\")                           #could also type in the code here\r\n",
      "\r\n",
      "end\r\n",
      "\n"
     ]
    }
   ],
   "source": [
    "println(\"the contents of jlFiles/TutorialModule.jl:\\n\")\n",
    "println(read(\"jlFiles/TutorialModule.jl\",String))"
   ]
  },
  {
   "cell_type": "markdown",
   "id": "72e0a44b-ad8d-48b3-8380-dbb64883cbb2",
   "metadata": {},
   "source": [
    "## Step 2: Include and Use the Module"
   ]
  },
  {
   "cell_type": "code",
   "execution_count": 2,
   "id": "19817184-6ae0-42e5-8318-85c1210fc58a",
   "metadata": {},
   "outputs": [],
   "source": [
    "include(\"jlFiles/TutorialModule.jl\")\n",
    "using .TutorialModule        #notice the dot(.)"
   ]
  },
  {
   "cell_type": "code",
   "execution_count": 3,
   "metadata": {},
   "outputs": [],
   "source": [
    "\n",
    "x = [11 12;21 22]\n",
    "printmat(x)"
   ]
  },
  {
   "cell_type": "markdown",
   "id": "c1a08cee-0755-4d0a-ac3d-eedd33612d90",
   "metadata": {},
   "source": [
    "# Steps 0-2: Alternative Approach (extra)\n",
    "\n",
    "You should probably restart the Julia kernel before running the cells below.\n",
    "\n",
    "0. Tell Julia where to find the files for the module by adding to `LOAD_PATH`. This has to be redone every time you run code using the module. (For instance, by putting it in your `startup.jl` file.)\n",
    "1. use the same module file as discussed above\n",
    "2. run `using TutorialModule`   (without the dot)\n",
    "\n",
    "This approach has the advantage that the module will be available from everywhere and also precompiled."
   ]
  },
  {
   "cell_type": "code",
   "execution_count": 1,
   "metadata": {},
   "outputs": [],
   "source": [
    "PathToMyFolder = joinpath(pwd(),\"jlFiles\")  #change as needed\n",
    "push!(LOAD_PATH,PathToMyFolder);"
   ]
  },
  {
   "cell_type": "code",
   "execution_count": 2,
   "metadata": {},
   "outputs": [
    {
     "name": "stdout",
     "output_type": "stream",
     "text": [
      "    11        12    \n",
      "    21        22    \n",
      "\n"
     ]
    }
   ],
   "source": [
    "using TutorialModule\n",
    "\n",
    "x = [11 12;21 22]\n",
    "printmat(x)"
   ]
  },
  {
   "cell_type": "code",
   "execution_count": null,
   "metadata": {},
   "outputs": [],
   "source": []
  }
 ],
 "metadata": {
  "kernelspec": {
   "display_name": "Julia 1.9.3",
   "language": "julia",
   "name": "julia-1.9"
  },
  "language_info": {
   "file_extension": ".jl",
   "mimetype": "application/julia",
   "name": "julia",
   "version": "1.9.3"
  }
 },
 "nbformat": 4,
 "nbformat_minor": 5
}
