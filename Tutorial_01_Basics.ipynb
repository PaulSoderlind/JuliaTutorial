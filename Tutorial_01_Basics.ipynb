{
 "cells": [
  {
   "cell_type": "markdown",
   "metadata": {},
   "source": [
    "# Basic Julia Tutorial"
   ]
  },
  {
   "cell_type": "markdown",
   "metadata": {},
   "source": [
    "# Running/Installing Julia\n",
    "\n",
    "This is a notebook. To run it you need Julia and Jupyter/nteract/VS Code.\n",
    "\n",
    "1. To run Julia without a local installation, use (for instance) [CoCalc](https://cocalc.com) or [JuliaHub](https://juliahub.com/). \n",
    "\n",
    "2. To install Julia on your machine, [download and install it](https://julialang.org/downloads/). This link contains both instructions for the Microsoft Store and links to binaries for manual download.\n",
    "\n",
    "3. You may also want to use [VS Code with the Julia extension](https://www.julia-vscode.org/). It is an IDE (editor and more) that can run script files and notebooks. It works well with [codeium](https://codeium.com) and [copilot](https://github.com/features/copilot).\n",
    "\n",
    "4. To run notebooks from your local installation, you need either (1) VS Code with the Julia extension (see above); (2) Jupyter/JupyterLab; or (3) nteract. For the latter two, see below for hints.\n",
    "\n",
    "5. To create and run script files instead of notebooks, see the comments towards the end of this notebook.\n",
    "\n",
    "\n",
    "## Installing nteract\n",
    "\n",
    "Install [IJulia](https://github.com/JuliaLang/IJulia.jl), but do *not* call on `notebook()` to avoid the automatic Python installation. Then install nteract and start using it to run notebooks. Warning: as of February 2024 this still works, but nteract has not been updated since 2021.\n",
    "\n",
    "\n",
    "## Installing Jupyter/JupyterLab - When You Don't Have Python Installed\n",
    "\n",
    "1. Install IJulia [IJulia](https://github.com/JuliaLang/IJulia.jl) and issue the command `notebook()`. This will make a local Python installation.\n",
    "\n",
    "2. To use Jupyter, start Julia and run `using IJulia; notebook(dir=pwd())` (change the directory as needed). Instead, to run JupyterLab do `using IJulia;jupyterlab(dir=pwd())`.\n",
    "\n",
    "\n",
    "## Installing Jupyter/JupyterLab - When You Already Have Python Installed\n",
    "\n",
    "1. If you already have a Python installation (with Jupyter/JupyterLab), run `ENV[\"JUPYTER\"] = \"C:\\\\Miniconda3\\\\Scripts\\\\jupyter.exe\"` (change the path as needed) before you install IJulia. The best is perhaps to add this to your *startup.jl* file (for instance, `C:\\Users\\yourusername\\.julia\\config\\startup.jl` if you are on Windows). You can test whether it works by running ```run(`$(ENV[\"JUPYTER\"]) --version`)``` from the Julia REPL. \n",
    "\n",
    "2. On Windows, it helps to allow the Python installer to add python to the system path (in spite of the warnings).\n",
    "\n",
    "3. Install IJulia and start using Jupyter/JupyterLab (see above)."
   ]
  },
  {
   "cell_type": "markdown",
   "metadata": {},
   "source": [
    "# Documentation and Help\n",
    "\n",
    "1.  Cheat sheet at [QuantEcon](https://cheatsheets.quantecon.org/julia-cheatsheet.html)\n",
    "2.  [Wiki book](https://en.wikibooks.org/wiki/Introducing_Julia)\n",
    "3.  [Short tutorials](https://techytok.com/from-zero-to-julia/) \n",
    "4.  [ThinkJulia](https://benlauwens.github.io/ThinkJulia.jl/latest/book.html) is a free on-line book\n",
    "5.  The [official Julia on-line manual](https://docs.julialang.org)\n",
    "6.  Discussion lists are found at\n",
    "    *  https://discourse.julialang.org/\n",
    "    *  https://stackoverflow.com/questions/tagged/julia-lang\n",
    "    *  https://www.reddit.com/r/Julia/\n",
    "    *  https://gitter.im/JuliaLang/julia\n",
    "7. In Julia, do `?cos` or `@doc cos` to get help with the cos function (see below for how to get help in VS Code).\n",
    "8. [chatgpt](https://chatgpt.com) often generate half decent code, which can serve as a starting point-"
   ]
  },
  {
   "cell_type": "markdown",
   "metadata": {},
   "source": [
    "# About Notebooks\n",
    "\n",
    "This cell is a \"Markdown\" cell. This is meant for comments and documentation, not computations.\n",
    "\n",
    "You can change a cell to \"Code\" or \"Markdown\" in the menu.\n",
    "\n",
    "Markdown cells can handle LaTeX. An example: $\\alpha = \\beta/2$. A Markdown cell can also contain some *formatting*, like lists of this kind:\n",
    "\n",
    "1. To insert a new cell, use the menu. \n",
    "\n",
    "2. The next cell is \"Code\". You can run it. Text after a # sign is treated as a comment."
   ]
  },
  {
   "cell_type": "code",
   "execution_count": 1,
   "metadata": {},
   "outputs": [
    {
     "data": {
      "text/plain": [
       "2"
      ]
     },
     "execution_count": 1,
     "metadata": {},
     "output_type": "execute_result"
    }
   ],
   "source": [
    "a = 2                  #this is a comment\n",
    "                       #run this cell by using the menu, or by Shift+Enter"
   ]
  },
  {
   "cell_type": "markdown",
   "metadata": {},
   "source": [
    "# Load Packages and Extra Functions\n",
    "\n",
    "There are many packages for Julia, for instance, for plotting or statistical methods (see [JuliaHub](https://juliahub.com/) for a list). To install a package, you do either \n",
    "\n",
    "1. (works everywhere) run `import Pkg` and then `Pkg.add(\"Packagename\")`\n",
    "\n",
    "2. (works in the Julia console, the REPL) enter the \"package manager mode\" by typing `]`, then run `add PackageName`. You leave the package manager mode by backspace.\n",
    "\n",
    "Once a package is installed, you can use it by running `using PackageName`."
   ]
  },
  {
   "cell_type": "code",
   "execution_count": 2,
   "metadata": {},
   "outputs": [],
   "source": [
    "using Printf                        #installed by default, used for more control over printing\n",
    "\n",
    "include(\"src/printmat.jl\");     #just a function for prettier matrix printing, semicolon (;) to make it silent"
   ]
  },
  {
   "cell_type": "markdown",
   "metadata": {},
   "source": [
    "## How to Get Help\n",
    "\n",
    "Typing `?cos` or `@doc cos` prints the documentation for the `cos` function, except in a notebook in VS Code. There, do `@doc2 cos` instead. (The `@doc2` macro is defined in the printmat.jl file included above)"
   ]
  },
  {
   "cell_type": "code",
   "execution_count": 3,
   "metadata": {},
   "outputs": [
    {
     "data": {
      "text/markdown": [
       "```\n",
       "cos(x)\n",
       "```\n",
       "\n",
       "Compute cosine of `x`, where `x` is in radians.\n",
       "\n",
       "See also [`cosd`](@ref), [`cospi`](@ref), [`sincos`](@ref), [`cis`](@ref).\n",
       "\n",
       "```\n",
       "cos(A::AbstractMatrix)\n",
       "```\n",
       "\n",
       "Compute the matrix cosine of a square matrix `A`.\n",
       "\n",
       "If `A` is symmetric or Hermitian, its eigendecomposition ([`eigen`](@ref)) is used to compute the cosine. Otherwise, the cosine is determined by calling [`exp`](@ref).\n",
       "\n",
       "# Examples\n",
       "\n",
       "```jldoctest\n",
       "julia> cos(fill(1.0, (2,2)))\n",
       "2×2 Matrix{Float64}:\n",
       "  0.291927  -0.708073\n",
       " -0.708073   0.291927\n",
       "```\n"
      ]
     },
     "metadata": {},
     "output_type": "display_data"
    }
   ],
   "source": [
    "@doc2 cos          #Needed in VS Code, works everywhere\n",
    "# ? cos            #works in REPL and jupyter, not in VS Code"
   ]
  },
  {
   "cell_type": "markdown",
   "metadata": {},
   "source": [
    "# Scalars and Matrices\n",
    "\n"
   ]
  },
  {
   "cell_type": "markdown",
   "metadata": {},
   "source": [
    "### Create a Scalar and a Matrix"
   ]
  },
  {
   "cell_type": "code",
   "execution_count": 4,
   "metadata": {},
   "outputs": [
    {
     "name": "stdout",
     "output_type": "stream",
     "text": [
      "q is a scalar. To print, use println() or printlnPs()\n",
      "1\n",
      "\n",
      "Q is a matrix. To print, use display() or printmat()\n",
      "     1         2         3    \n",
      "     4         5         6    \n",
      "\n"
     ]
    }
   ],
   "source": [
    "q = 1                             #create a scalar\n",
    "Q = [ 1 2 3;                      #create 2x3 matrix\n",
    "      4 5 6 ]\n",
    "println(\"q is a scalar. To print, use println() or printlnPs()\")\n",
    "println(q)\n",
    "\n",
    "println(\"\\nQ is a matrix. To print, use display() or printmat()\")\n",
    "printmat(Q)                       #case sensitive (q and Q are different)\n",
    "                                  #the \\n adds a line break"
   ]
  },
  {
   "cell_type": "markdown",
   "metadata": {},
   "source": [
    "### Picking Out Parts of a Matrix"
   ]
  },
  {
   "cell_type": "code",
   "execution_count": 5,
   "metadata": {},
   "outputs": [
    {
     "name": "stdout",
     "output_type": "stream",
     "text": [
      "\n",
      "element [1,2] of Q: 2\n",
      "\n",
      "columns 2 and 3 of Q: \n",
      "     2         3    \n",
      "     5         6    \n",
      "\n",
      "\n",
      "line 1 of Q (as a vector): \n",
      "     1    \n",
      "     2    \n",
      "     3    \n",
      "\n"
     ]
    }
   ],
   "source": [
    "println(\"\\n\",\"element [1,2] of Q: \",            #commands continue on\n",
    "        Q[1,2])                                 #the next line (until finished)\n",
    "\n",
    "println(\"\\ncolumns 2 and 3 of Q: \")\n",
    "printmat(Q[:,2:3])\n",
    "\n",
    "println(\"\\nline 1 of Q (as a vector): \")\n",
    "printmat(Q[1,:])"
   ]
  },
  {
   "cell_type": "markdown",
   "metadata": {},
   "source": [
    "### Basic Linear Algebra\n",
    "\n",
    "The syntax for linear algebra is similar to the standard text book approach. For instance, \n",
    "* `Q'Q` (or `Q'*Q`) multiplies the transpose ($Q'$) with the matrix ($Q$)\n",
    "* `A*B` does matrix multiplication\n",
    "* `100*Q` multiplies each element of the matrix ($Q$) by 100. (You can also do `100Q`)\n",
    "\n",
    "However, to add a scalar to each element of a matrix, use `100 .+ Q`. Notice the dot."
   ]
  },
  {
   "cell_type": "code",
   "execution_count": 6,
   "metadata": {},
   "outputs": [
    {
     "name": "stdout",
     "output_type": "stream",
     "text": [
      "transpose of Q:\n",
      "     1         4    \n",
      "     2         5    \n",
      "     3         6    \n",
      "\n",
      "Q'Q:\n",
      "    17        22        27    \n",
      "    22        29        36    \n",
      "    27        36        45    \n",
      "\n",
      "scalar * matrix:\n",
      "   100       200       300    \n",
      "   400       500       600    \n",
      "\n",
      "scalar .+ matrix:\n",
      "   101       102       103    \n",
      "   104       105       106    \n",
      "\n"
     ]
    }
   ],
   "source": [
    "println(\"transpose of Q:\")\n",
    "printmat(Q')\n",
    "\n",
    "println(\"Q'Q:\")\n",
    "printmat(Q'Q)\n",
    "\n",
    "println(\"scalar * matrix:\")\n",
    "printmat(100*Q)\n",
    "\n",
    "println(\"scalar .+ matrix:\")        #notice the dot\n",
    "printmat(100 .+ Q)"
   ]
  },
  {
   "cell_type": "markdown",
   "metadata": {},
   "source": [
    "### Creating a Sequence and a Vector"
   ]
  },
  {
   "cell_type": "code",
   "execution_count": 7,
   "metadata": {},
   "outputs": [
    {
     "name": "stdout",
     "output_type": "stream",
     "text": [
      "\n",
      "θ is a sequence: 1:10:21\n",
      "\n",
      "ρ is a vector: \n",
      "     1    \n",
      "    11    \n",
      "    21    \n",
      "\n"
     ]
    }
   ],
   "source": [
    "θ = 1:10:21                  #a range, type \\theta[TAB] to get this symbol\n",
    "println(\"\\n\",\"θ is a sequence: \",θ)\n",
    "\n",
    "ρ = collect(θ)               #make the sequence into a vector, \\rho[TAB]\n",
    "println(\"\\n\",\"ρ is a vector: \")\n",
    "printmat(ρ)"
   ]
  },
  {
   "cell_type": "markdown",
   "metadata": {},
   "source": [
    "# Comparing Things\n",
    "\n",
    "To see if the scalar $z \\leq 0 $, do\n",
    "```\n",
    "vv = z <= 0\n",
    "```\n",
    "to get a single output (true or false).\n",
    "\n",
    "Instead, if x is an array, do \n",
    "```\n",
    "vv = x .<= 0                      #notice the dot.\n",
    "```\n",
    "to get an array of outputs (with the same dimensions as x)"
   ]
  },
  {
   "cell_type": "code",
   "execution_count": 8,
   "metadata": {},
   "outputs": [
    {
     "name": "stdout",
     "output_type": "stream",
     "text": [
      "x values: \n",
      "    -1.500\n",
      "    -1.000\n",
      "    -0.500\n",
      "     0.000\n",
      "     0.500\n",
      "\n",
      "true if x is in (-1,0]: \n",
      "     0    \n",
      "     0    \n",
      "     1    \n",
      "     1    \n",
      "     0    \n",
      "\n",
      "x values that are in (-1,0]: \n",
      "    -0.500\n",
      "     0.000\n",
      "\n"
     ]
    }
   ],
   "source": [
    "x =  [-1.5,-1.0,-0.5,0,0.5]             #this is a vector\n",
    "\n",
    "println(\"x values: \")\n",
    "printmat(x)\n",
    "\n",
    "vv = -1 .< x .<= 0                      #true for x values (-1,0], vv is a vector\n",
    "println(\"true if x is in (-1,0]: \")\n",
    "printmat(vv)\n",
    "\n",
    "x2 = x[vv]                              #x values for which vv==true\n",
    "println(\"x values that are in (-1,0]: \")\n",
    "printmat(x2)"
   ]
  },
  {
   "cell_type": "markdown",
   "metadata": {},
   "source": [
    "# Finding Things (extra)\n",
    "\n",
    "can be done by indexing as shown before. However, it might be more efficient to use one of `findfirst()`, `findall()` and `indexin()`. \n",
    "\n",
    "Also, if you just need to check if the number `z` is in an array (or any collection) `x`, then use `in(z,x)`."
   ]
  },
  {
   "cell_type": "code",
   "execution_count": 9,
   "metadata": {},
   "outputs": [
    {
     "name": "stdout",
     "output_type": "stream",
     "text": [
      "x values: \n",
      "    -1.500\n",
      "    -1.000\n",
      "    -0.500\n",
      "     0.000\n",
      "     0.500\n",
      "\n",
      "(first) index v in x such x[v]==0: 4\n",
      "\n",
      "all indices v in x such x[v]>=0: \n",
      "     4    \n",
      "     5    \n",
      "\n",
      "\n",
      "indices in x so that x[v] equals the vector y=[-1.0, 0.0]: \n",
      "     2    \n",
      "     4    \n",
      "\n",
      "\n",
      "testing if 0 is in x: true\n"
     ]
    }
   ],
   "source": [
    "x =  [-1.5,-1.0,-0.5,0,0.5]             #this is a vector\n",
    "\n",
    "println(\"x values: \")\n",
    "printmat(x)\n",
    "\n",
    "v1 = findfirst(x.==0)\n",
    "println(\"(first) index v in x such x[v]==0: \",v1)\n",
    "\n",
    "v2 = findall(x.>=0)\n",
    "println(\"\\nall indices v in x such x[v]>=0: \")\n",
    "printmat(v2)\n",
    "\n",
    "y = [-1.0,0]\n",
    "v3 = indexin(y,x)\n",
    "println(\"\\nindices in x so that x[v] equals the vector y=$y: \")\n",
    "printmat(v3)\n",
    "\n",
    "v4 = in(0,x)\n",
    "println(\"\\ntesting if 0 is in x: \",v4)"
   ]
  },
  {
   "cell_type": "markdown",
   "metadata": {
    "tags": []
   },
   "source": [
    "# Simple Functions\n",
    "\n",
    "The next cell defines two new functions, `fn0()` and `fn1()`. They take a scalar input (`x`) and return a scalar output (`y`).\n",
    "\n",
    "If you instead use a vector as the input, then the computations in these functions fail. (The reason is that you cannot do `x^2` on a vector. You would need `x.^2`.)\n",
    "\n",
    "However, using the \"dot\" syntax\n",
    "```\n",
    "y = fn1.(x)\n",
    "```\n",
    "gives an array as output where element `y[i,j] = fn1(x[i,j])`."
   ]
  },
  {
   "cell_type": "code",
   "execution_count": 10,
   "metadata": {
    "tags": []
   },
   "outputs": [
    {
     "data": {
      "text/plain": [
       "fn1 (generic function with 1 method)"
      ]
     },
     "execution_count": 10,
     "metadata": {},
     "output_type": "execute_result"
    }
   ],
   "source": [
    "fn0(x) = (x-1.1)^2 - 0.5      #define a one-line function\n",
    "\n",
    "function fn1(x)               #define a function that could have many lines\n",
    "  y = (x-1.1)^2 - 0.5\n",
    "  return y\n",
    "end"
   ]
  },
  {
   "cell_type": "code",
   "execution_count": 11,
   "metadata": {},
   "outputs": [
    {
     "name": "stdout",
     "output_type": "stream",
     "text": [
      "result from fn1(1.5):     -0.340 and compare with fn0(1.5)     -0.340\n",
      "\n",
      "result from fn1.(x): \n",
      "    -0.490\n",
      "    -0.340\n",
      "\n"
     ]
    }
   ],
   "source": [
    "y = fn1(1.5)\n",
    "printlnPs(\"result from fn1(1.5): \",y,\" and compare with fn0(1.5) \",fn0(1.5))\n",
    "\n",
    "x = [1;1.5]\n",
    "#y = fn1(x)                   #would give an error\n",
    "y = fn1.(x)                   #calling on the function, dot. to do for each element in x\n",
    "printlnPs(\"\\nresult from fn1.(x): \")\n",
    "printmat(y)"
   ]
  },
  {
   "cell_type": "markdown",
   "metadata": {},
   "source": [
    "# if-else-end\n",
    "\n",
    "allows you to run different commands depending on a condition that you specify.\n",
    "\n",
    "(extra) There are also other (more compact) possibilities for the `if-else` case\n",
    "\n",
    "1. `y = z <= 2 ? z : 2` or\n",
    "2. `y = ifelse(z <= 2,z,2)`"
   ]
  },
  {
   "cell_type": "code",
   "execution_count": 12,
   "metadata": {},
   "outputs": [
    {
     "name": "stdout",
     "output_type": "stream",
     "text": [
      "1.05\n"
     ]
    }
   ],
   "source": [
    "z = 1.05\n",
    "\n",
    "if z <= 2          #(a) if true, run the next command (y=z) and then jump to end\n",
    "    y = z\n",
    "else               #(b) if (a) is false, do this instead\n",
    "    y = 2\n",
    "end\n",
    "\n",
    "#y = z <= 2 ? z : 2       #these two versions also work\n",
    "#y = ifelse(z <= 2,z,2)\n",
    "\n",
    "\n",
    "println(y)"
   ]
  },
  {
   "cell_type": "code",
   "execution_count": 13,
   "metadata": {},
   "outputs": [
    {
     "name": "stdout",
     "output_type": "stream",
     "text": [
      "1.05\n"
     ]
    }
   ],
   "source": [
    "if z < 1                #(a) if true, run the next command (y=1) and then jump to end\n",
    "    y = 1\n",
    "elseif 1 <= z <= 2      #(b) if (a) is false, try this instead\n",
    "    y = z\n",
    "else                    #(c) if also (b) is false, do this\n",
    "    y = 2\n",
    "end\n",
    "\n",
    "println(y)"
   ]
  },
  {
   "cell_type": "markdown",
   "metadata": {},
   "source": [
    "# Loops\n",
    "\n",
    "The are two types of loops: \"for loops\" and \"while loops\". \n",
    "\n",
    "The *for loop* is best when you know how many times you want to loop, for instance, over all $m$ rows in a matrix. \n",
    "\n",
    "The *while loop* is best when you want to keep looping until something happens, for instance, that $x_0$ and $x_1$ get really close.\n",
    "\n",
    "The default behaviour in *IJulia* (notebooks), *inside functions* and also at the *REPL* promt is that assignments of `x` inside the loop overwrites `x` defined before the loop. To get the same behavior in scripts, you need to add `global x` somewhere inside the loop. In contrast, a variable (here `z2`) that does not exist before the loop is local to the loop.\n",
    "\n",
    "To make sure that the `y` calculated inside the loop *does not* affect `y` outside the loop, say `local y` inside the loop."
   ]
  },
  {
   "cell_type": "markdown",
   "metadata": {},
   "source": [
    "## A Simple \"for loop\"\n",
    "\n",
    "The \"for loop\" in the next cell iterates over all elements in a vector and changes them."
   ]
  },
  {
   "cell_type": "code",
   "execution_count": 14,
   "metadata": {},
   "outputs": [
    {
     "name": "stdout",
     "output_type": "stream",
     "text": [
      "   101.000\n",
      "   102.000\n",
      "   103.000\n",
      "\n"
     ]
    }
   ],
   "source": [
    "x = zeros(3)\n",
    "\n",
    "for i in 1:length(x)           #1,2,3\n",
    "    x[i] = 100 + i\n",
    "end\n",
    "\n",
    "printmat(x)"
   ]
  },
  {
   "cell_type": "markdown",
   "metadata": {},
   "source": [
    "## A More Complicated \"for loop\"\n",
    "\n",
    "The \"for loop\" in the next cell makes 3 iterations and changes a global $x$ variable. It also illustrates difference between local and global variables."
   ]
  },
  {
   "cell_type": "code",
   "execution_count": 15,
   "metadata": {},
   "outputs": [
    {
     "name": "stdout",
     "output_type": "stream",
     "text": [
      "\n",
      "Before loop: x=0 and y=-999 \n",
      "\n",
      "i=3, x=3, y=3 and z2=-998\n",
      "i=6, x=9, y=6 and z2=-998\n",
      "i=9, x=18, y=9 and z2=-998\n",
      "\n",
      "After loop: x=18 and y=-999 \n",
      "\n",
      "z2 is not defined outside the loop\n"
     ]
    }
   ],
   "source": [
    "x = 0\n",
    "y = -999\n",
    "println(\"\\nBefore loop: x=$x and y=$y \\n\")    #\"$x\" inserts the value of x into a string#\n",
    "\n",
    "for i in 3:3:9                        #or `i = 3:3:9`, or `v=[3,6,9]; i in v`\n",
    "    #global x                         #only needed in script\n",
    "    local y                           #don't overwrite y outside loop\n",
    "    x = x + i                         #adding i to the \"old\" x\n",
    "    y = i\n",
    "    z2 = -998                         #notice: z2 has not been used before\n",
    "    println(\"i=$i, x=$x, y=$y and z2=$z2\")          #$x prints the value of x\n",
    "end\n",
    "\n",
    "println(\"\\nAfter loop: x=$x and y=$y \\n\")\n",
    "\n",
    "try                        #to \"drive around\" errors\n",
    "    println(z2)            #does not work: z2 is local to the loop\n",
    "catch\n",
    "    println(\"z2 is not defined outside the loop\")\n",
    "end"
   ]
  },
  {
   "cell_type": "markdown",
   "metadata": {},
   "source": [
    "### A Double \"for loop\"\n",
    "\n",
    "The next cell uses a double loop to fill a matrix. "
   ]
  },
  {
   "cell_type": "code",
   "execution_count": 16,
   "metadata": {},
   "outputs": [
    {
     "name": "stdout",
     "output_type": "stream",
     "text": [
      "new x matrix: \n",
      "\n",
      "    11        12        13    \n",
      "    21        22        23    \n",
      "    31        32        33    \n",
      "    41        42        43    \n",
      "\n"
     ]
    }
   ],
   "source": [
    "(m,n) = (4,3)                     #same as m=4;n=3\n",
    "x = fill(-999,m,n)                #to put results in, initialized as -999\n",
    "for i in 1:m, j in 1:n              #can be written on the same line\n",
    "    x[i,j] = 10*i + j\n",
    "end\n",
    "\n",
    "println(\"new x matrix: \\n\")\n",
    "printmat(x)"
   ]
  },
  {
   "cell_type": "markdown",
   "metadata": {},
   "source": [
    "## A Simple \"while loop\""
   ]
  },
  {
   "cell_type": "code",
   "execution_count": 17,
   "metadata": {},
   "outputs": [
    {
     "name": "stdout",
     "output_type": "stream",
     "text": [
      "x=2.5\n",
      "x=1.25\n",
      "x=0.625\n",
      "x=0.3125\n",
      "x=0.15625\n",
      "x=0.078125\n",
      "x=0.0390625\n",
      "\n",
      "After loop: x=0.0390625\n"
     ]
    }
   ],
   "source": [
    "x = 5\n",
    "\n",
    "while x > 0.05\n",
    "    #global x            #only needed in script\n",
    "    x = x/2\n",
    "    println(\"x=$x\")\n",
    "end\n",
    "\n",
    "println(\"\\nAfter loop: x=$x\")"
   ]
  },
  {
   "cell_type": "markdown",
   "metadata": {},
   "source": [
    "# A First Plot\n",
    "\n",
    "With the Plots package you create a a simple plot like this:\n",
    "\n",
    "1. Plot two curve by using the `plot([x1 x2],[y1 y2])` command\n",
    "2. Configure curves by `linecolor =`, `linestyle =` etc\n",
    "2. Add titles and labels by `title = `, `xlabel = `, etc\n",
    "\n",
    "Notice: the *first plot is slow*."
   ]
  },
  {
   "cell_type": "code",
   "execution_count": 18,
   "metadata": {},
   "outputs": [],
   "source": [
    "using Plots                            #this loads the Plots package\n",
    "default(size = (480,320),fmt = :png)   # :svg gives prettier plots"
   ]
  },
  {
   "cell_type": "code",
   "execution_count": 19,
   "metadata": {},
   "outputs": [
    {
     "data": {
      "image/png": "[encoded data removed]",
      "image/svg+xml": [
       "<?xml version=\"1.0\" encoding=\"utf-8\"?>\n",
       "<svg xmlns=\"http://www.w3.org/2000/svg\" xmlns:xlink=\"http://www.w3.org/1999/xlink\" width=\"480\" height=\"320\" viewBox=\"0 0 1920 1280\">\n",
       "<defs>\n",
       "  <clipPath id=\"clip610\">\n",
       "    <rect x=\"0\" y=\"0\" width=\"1920\" height=\"1280\"/>\n",
       "  </clipPath>\n",
       "</defs>\n",
       "<path clip-path=\"url(#clip610)\" d=\"M0 1280 L1920 1280 L1920 0 L0 0  Z\" fill=\"#ffffff\" fill-rule=\"evenodd\" fill-opacity=\"1\"/>\n",
       "<defs>\n",
       "  <clipPath id=\"clip611\">\n",
       "    <rect x=\"384\" y=\"0\" width=\"1345\" height=\"1280\"/>\n",
       "  </clipPath>\n",
       "</defs>\n",
       "<path clip-path=\"url(#clip610)\" d=\"M199.164 1106.38 L1872.76 1106.38 L1872.76 123.472 L199.164 123.472  Z\" fill=\"#ffffff\" fill-rule=\"evenodd\" fill-opacity=\"1\"/>\n",
       "<defs>\n",
       "  <clipPath id=\"clip612\">\n",
       "    <rect x=\"199\" y=\"123\" width=\"1675\" height=\"984\"/>\n",
       "  </clipPath>\n",
       "</defs>\n",
       "<polyline clip-path=\"url(#clip612)\" style=\"stroke:#000000; stroke-linecap:round; stroke-linejoin:round; stroke-width:2; stroke-opacity:0.1; fill:none\" points=\"422.551,1106.38 422.551,123.472 \"/>\n",
       "<polyline clip-path=\"url(#clip612)\" style=\"stroke:#000000; stroke-linecap:round; stroke-linejoin:round; stroke-width:2; stroke-opacity:0.1; fill:none\" points=\"774.594,1106.38 774.594,123.472 \"/>\n",
       "<polyline clip-path=\"url(#clip612)\" style=\"stroke:#000000; stroke-linecap:round; stroke-linejoin:round; stroke-width:2; stroke-opacity:0.1; fill:none\" points=\"1126.64,1106.38 1126.64,123.472 \"/>\n",
       "<polyline clip-path=\"url(#clip612)\" style=\"stroke:#000000; stroke-linecap:round; stroke-linejoin:round; stroke-width:2; stroke-opacity:0.1; fill:none\" points=\"1478.68,1106.38 1478.68,123.472 \"/>\n",
       "<polyline clip-path=\"url(#clip612)\" style=\"stroke:#000000; stroke-linecap:round; stroke-linejoin:round; stroke-width:2; stroke-opacity:0.1; fill:none\" points=\"1830.72,1106.38 1830.72,123.472 \"/>\n",
       "<polyline clip-path=\"url(#clip612)\" style=\"stroke:#000000; stroke-linecap:round; stroke-linejoin:round; stroke-width:2; stroke-opacity:0.1; fill:none\" points=\"199.164,1040.27 1872.76,1040.27 \"/>\n",
       "<polyline clip-path=\"url(#clip612)\" style=\"stroke:#000000; stroke-linecap:round; stroke-linejoin:round; stroke-width:2; stroke-opacity:0.1; fill:none\" points=\"199.164,848.798 1872.76,848.798 \"/>\n",
       "<polyline clip-path=\"url(#clip612)\" style=\"stroke:#000000; stroke-linecap:round; stroke-linejoin:round; stroke-width:2; stroke-opacity:0.1; fill:none\" points=\"199.164,657.322 1872.76,657.322 \"/>\n",
       "<polyline clip-path=\"url(#clip612)\" style=\"stroke:#000000; stroke-linecap:round; stroke-linejoin:round; stroke-width:2; stroke-opacity:0.1; fill:none\" points=\"199.164,465.846 1872.76,465.846 \"/>\n",
       "<polyline clip-path=\"url(#clip612)\" style=\"stroke:#000000; stroke-linecap:round; stroke-linejoin:round; stroke-width:2; stroke-opacity:0.1; fill:none\" points=\"199.164,274.369 1872.76,274.369 \"/>\n",
       "<polyline clip-path=\"url(#clip610)\" style=\"stroke:#000000; stroke-linecap:round; stroke-linejoin:round; stroke-width:4; stroke-opacity:1; fill:none\" points=\"199.164,1106.38 1872.76,1106.38 \"/>\n",
       "<polyline clip-path=\"url(#clip610)\" style=\"stroke:#000000; stroke-linecap:round; stroke-linejoin:round; stroke-width:4; stroke-opacity:1; fill:none\" points=\"422.551,1106.38 422.551,1087.48 \"/>\n",
       "<polyline clip-path=\"url(#clip610)\" style=\"stroke:#000000; stroke-linecap:round; stroke-linejoin:round; stroke-width:4; stroke-opacity:1; fill:none\" points=\"774.594,1106.38 774.594,1087.48 \"/>\n",
       "<polyline clip-path=\"url(#clip610)\" style=\"stroke:#000000; stroke-linecap:round; stroke-linejoin:round; stroke-width:4; stroke-opacity:1; fill:none\" points=\"1126.64,1106.38 1126.64,1087.48 \"/>\n",
       "<polyline clip-path=\"url(#clip610)\" style=\"stroke:#000000; stroke-linecap:round; stroke-linejoin:round; stroke-width:4; stroke-opacity:1; fill:none\" points=\"1478.68,1106.38 1478.68,1087.48 \"/>\n",
       "<polyline clip-path=\"url(#clip610)\" style=\"stroke:#000000; stroke-linecap:round; stroke-linejoin:round; stroke-width:4; stroke-opacity:1; fill:none\" points=\"1830.72,1106.38 1830.72,1087.48 \"/>\n",
       "<path clip-path=\"url(#clip610)\" d=\"M392.493 1148.11 L422.169 1148.11 L422.169 1152.05 L392.493 1152.05 L392.493 1148.11 Z\" fill=\"#000000\" fill-rule=\"nonzero\" fill-opacity=\"1\" /><path clip-path=\"url(#clip610)\" d=\"M436.289 1161 L452.609 1161 L452.609 1164.94 L430.664 1164.94 L430.664 1161 Q433.326 1158.25 437.91 1153.62 Q442.516 1148.97 443.697 1147.63 Q445.942 1145.1 446.822 1143.37 Q447.725 1141.61 447.725 1139.92 Q447.725 1137.16 445.78 1135.43 Q443.859 1133.69 440.757 1133.69 Q438.558 1133.69 436.104 1134.45 Q433.674 1135.22 430.896 1136.77 L430.896 1132.05 Q433.72 1130.91 436.174 1130.33 Q438.627 1129.75 440.664 1129.75 Q446.035 1129.75 449.229 1132.44 Q452.424 1135.13 452.424 1139.62 Q452.424 1141.75 451.613 1143.67 Q450.826 1145.56 448.72 1148.16 Q448.141 1148.83 445.039 1152.05 Q441.937 1155.24 436.289 1161 Z\" fill=\"#000000\" fill-rule=\"nonzero\" fill-opacity=\"1\" /><path clip-path=\"url(#clip610)\" d=\"M774.594 1133.46 Q770.983 1133.46 769.155 1137.02 Q767.349 1140.56 767.349 1147.69 Q767.349 1154.8 769.155 1158.37 Q770.983 1161.91 774.594 1161.91 Q778.229 1161.91 780.034 1158.37 Q781.863 1154.8 781.863 1147.69 Q781.863 1140.56 780.034 1137.02 Q778.229 1133.46 774.594 1133.46 M774.594 1129.75 Q780.404 1129.75 783.46 1134.36 Q786.539 1138.94 786.539 1147.69 Q786.539 1156.42 783.46 1161.03 Q780.404 1165.61 774.594 1165.61 Q768.784 1165.61 765.705 1161.03 Q762.65 1156.42 762.65 1147.69 Q762.65 1138.94 765.705 1134.36 Q768.784 1129.75 774.594 1129.75 Z\" fill=\"#000000\" fill-rule=\"nonzero\" fill-opacity=\"1\" /><path clip-path=\"url(#clip610)\" d=\"M1121.29 1161 L1137.61 1161 L1137.61 1164.94 L1115.67 1164.94 L1115.67 1161 Q1118.33 1158.25 1122.91 1153.62 Q1127.52 1148.97 1128.7 1147.63 Q1130.94 1145.1 1131.82 1143.37 Q1132.73 1141.61 1132.73 1139.92 Q1132.73 1137.16 1130.78 1135.43 Q1128.86 1133.69 1125.76 1133.69 Q1123.56 1133.69 1121.11 1134.45 Q1118.67 1135.22 1115.9 1136.77 L1115.9 1132.05 Q1118.72 1130.91 1121.17 1130.33 Q1123.63 1129.75 1125.67 1129.75 Q1131.04 1129.75 1134.23 1132.44 Q1137.42 1135.13 1137.42 1139.62 Q1137.42 1141.75 1136.61 1143.67 Q1135.83 1145.56 1133.72 1148.16 Q1133.14 1148.83 1130.04 1152.05 Q1126.94 1155.24 1121.29 1161 Z\" fill=\"#000000\" fill-rule=\"nonzero\" fill-opacity=\"1\" /><path clip-path=\"url(#clip610)\" d=\"M1481.69 1134.45 L1469.88 1152.9 L1481.69 1152.9 L1481.69 1134.45 M1480.46 1130.38 L1486.34 1130.38 L1486.34 1152.9 L1491.27 1152.9 L1491.27 1156.79 L1486.34 1156.79 L1486.34 1164.94 L1481.69 1164.94 L1481.69 1156.79 L1466.09 1156.79 L1466.09 1152.28 L1480.46 1130.38 Z\" fill=\"#000000\" fill-rule=\"nonzero\" fill-opacity=\"1\" /><path clip-path=\"url(#clip610)\" d=\"M1831.13 1145.8 Q1827.98 1145.8 1826.13 1147.95 Q1824.3 1150.1 1824.3 1153.85 Q1824.3 1157.58 1826.13 1159.75 Q1827.98 1161.91 1831.13 1161.91 Q1834.28 1161.91 1836.11 1159.75 Q1837.96 1157.58 1837.96 1153.85 Q1837.96 1150.1 1836.11 1147.95 Q1834.28 1145.8 1831.13 1145.8 M1840.41 1131.14 L1840.41 1135.4 Q1838.65 1134.57 1836.85 1134.13 Q1835.06 1133.69 1833.31 1133.69 Q1828.68 1133.69 1826.22 1136.81 Q1823.79 1139.94 1823.44 1146.26 Q1824.81 1144.25 1826.87 1143.18 Q1828.93 1142.09 1831.41 1142.09 Q1836.62 1142.09 1839.62 1145.26 Q1842.66 1148.41 1842.66 1153.85 Q1842.66 1159.18 1839.51 1162.39 Q1836.36 1165.61 1831.13 1165.61 Q1825.13 1165.61 1821.96 1161.03 Q1818.79 1156.42 1818.79 1147.69 Q1818.79 1139.5 1822.68 1134.64 Q1826.57 1129.75 1833.12 1129.75 Q1834.88 1129.75 1836.66 1130.1 Q1838.47 1130.45 1840.41 1131.14 Z\" fill=\"#000000\" fill-rule=\"nonzero\" fill-opacity=\"1\" /><path clip-path=\"url(#clip610)\" d=\"M1052.57 1208.4 L1039.68 1225.74 L1053.24 1244.04 L1046.34 1244.04 L1035.96 1230.04 L1025.58 1244.04 L1018.68 1244.04 L1032.52 1225.39 L1019.85 1208.4 L1026.76 1208.4 L1036.21 1221.1 L1045.67 1208.4 L1052.57 1208.4 Z\" fill=\"#000000\" fill-rule=\"nonzero\" fill-opacity=\"1\" /><polyline clip-path=\"url(#clip610)\" style=\"stroke:#000000; stroke-linecap:round; stroke-linejoin:round; stroke-width:4; stroke-opacity:1; fill:none\" points=\"199.164,1106.38 199.164,123.472 \"/>\n",
       "<polyline clip-path=\"url(#clip610)\" style=\"stroke:#000000; stroke-linecap:round; stroke-linejoin:round; stroke-width:4; stroke-opacity:1; fill:none\" points=\"199.164,1040.27 218.061,1040.27 \"/>\n",
       "<polyline clip-path=\"url(#clip610)\" style=\"stroke:#000000; stroke-linecap:round; stroke-linejoin:round; stroke-width:4; stroke-opacity:1; fill:none\" points=\"199.164,848.798 218.061,848.798 \"/>\n",
       "<polyline clip-path=\"url(#clip610)\" style=\"stroke:#000000; stroke-linecap:round; stroke-linejoin:round; stroke-width:4; stroke-opacity:1; fill:none\" points=\"199.164,657.322 218.061,657.322 \"/>\n",
       "<polyline clip-path=\"url(#clip610)\" style=\"stroke:#000000; stroke-linecap:round; stroke-linejoin:round; stroke-width:4; stroke-opacity:1; fill:none\" points=\"199.164,465.846 218.061,465.846 \"/>\n",
       "<polyline clip-path=\"url(#clip610)\" style=\"stroke:#000000; stroke-linecap:round; stroke-linejoin:round; stroke-width:4; stroke-opacity:1; fill:none\" points=\"199.164,274.369 218.061,274.369 \"/>\n",
       "<path clip-path=\"url(#clip610)\" d=\"M158.419 1026.07 Q154.808 1026.07 152.979 1029.64 Q151.174 1033.18 151.174 1040.31 Q151.174 1047.42 152.979 1050.98 Q154.808 1054.52 158.419 1054.52 Q162.053 1054.52 163.859 1050.98 Q165.688 1047.42 165.688 1040.31 Q165.688 1033.18 163.859 1029.64 Q162.053 1026.07 158.419 1026.07 M158.419 1022.37 Q164.229 1022.37 167.285 1026.98 Q170.364 1031.56 170.364 1040.31 Q170.364 1049.04 167.285 1053.64 Q164.229 1058.23 158.419 1058.23 Q152.609 1058.23 149.53 1053.64 Q146.475 1049.04 146.475 1040.31 Q146.475 1031.56 149.53 1026.98 Q152.609 1022.37 158.419 1022.37 Z\" fill=\"#000000\" fill-rule=\"nonzero\" fill-opacity=\"1\" /><path clip-path=\"url(#clip610)\" d=\"M149.461 831.518 L167.817 831.518 L167.817 835.453 L153.743 835.453 L153.743 843.925 Q154.762 843.578 155.78 843.416 Q156.799 843.231 157.817 843.231 Q163.604 843.231 166.984 846.402 Q170.364 849.574 170.364 854.99 Q170.364 860.569 166.891 863.671 Q163.419 866.749 157.1 866.749 Q154.924 866.749 152.655 866.379 Q150.41 866.009 148.003 865.268 L148.003 860.569 Q150.086 861.703 152.308 862.259 Q154.53 862.814 157.007 862.814 Q161.012 862.814 163.35 860.708 Q165.688 858.601 165.688 854.99 Q165.688 851.379 163.35 849.273 Q161.012 847.166 157.007 847.166 Q155.132 847.166 153.257 847.583 Q151.405 848 149.461 848.879 L149.461 831.518 Z\" fill=\"#000000\" fill-rule=\"nonzero\" fill-opacity=\"1\" /><path clip-path=\"url(#clip610)\" d=\"M119.068 670.667 L126.706 670.667 L126.706 644.301 L118.396 645.968 L118.396 641.708 L126.66 640.042 L131.336 640.042 L131.336 670.667 L138.975 670.667 L138.975 674.602 L119.068 674.602 L119.068 670.667 Z\" fill=\"#000000\" fill-rule=\"nonzero\" fill-opacity=\"1\" /><path clip-path=\"url(#clip610)\" d=\"M158.419 643.121 Q154.808 643.121 152.979 646.685 Q151.174 650.227 151.174 657.357 Q151.174 664.463 152.979 668.028 Q154.808 671.569 158.419 671.569 Q162.053 671.569 163.859 668.028 Q165.688 664.463 165.688 657.357 Q165.688 650.227 163.859 646.685 Q162.053 643.121 158.419 643.121 M158.419 639.417 Q164.229 639.417 167.285 644.023 Q170.364 648.607 170.364 657.357 Q170.364 666.083 167.285 670.69 Q164.229 675.273 158.419 675.273 Q152.609 675.273 149.53 670.69 Q146.475 666.083 146.475 657.357 Q146.475 648.607 149.53 644.023 Q152.609 639.417 158.419 639.417 Z\" fill=\"#000000\" fill-rule=\"nonzero\" fill-opacity=\"1\" /><path clip-path=\"url(#clip610)\" d=\"M120.063 479.19 L127.702 479.19 L127.702 452.825 L119.392 454.491 L119.392 450.232 L127.655 448.566 L132.331 448.566 L132.331 479.19 L139.97 479.19 L139.97 483.126 L120.063 483.126 L120.063 479.19 Z\" fill=\"#000000\" fill-rule=\"nonzero\" fill-opacity=\"1\" /><path clip-path=\"url(#clip610)\" d=\"M149.461 448.566 L167.817 448.566 L167.817 452.501 L153.743 452.501 L153.743 460.973 Q154.762 460.626 155.78 460.464 Q156.799 460.278 157.817 460.278 Q163.604 460.278 166.984 463.45 Q170.364 466.621 170.364 472.038 Q170.364 477.616 166.891 480.718 Q163.419 483.797 157.1 483.797 Q154.924 483.797 152.655 483.426 Q150.41 483.056 148.003 482.315 L148.003 477.616 Q150.086 478.751 152.308 479.306 Q154.53 479.862 157.007 479.862 Q161.012 479.862 163.35 477.755 Q165.688 475.649 165.688 472.038 Q165.688 468.427 163.35 466.32 Q161.012 464.214 157.007 464.214 Q155.132 464.214 153.257 464.63 Q151.405 465.047 149.461 465.927 L149.461 448.566 Z\" fill=\"#000000\" fill-rule=\"nonzero\" fill-opacity=\"1\" /><path clip-path=\"url(#clip610)\" d=\"M122.285 287.714 L138.604 287.714 L138.604 291.649 L116.66 291.649 L116.66 287.714 Q119.322 284.959 123.905 280.33 Q128.512 275.677 129.692 274.335 Q131.938 271.811 132.817 270.075 Q133.72 268.316 133.72 266.626 Q133.72 263.872 131.776 262.136 Q129.855 260.399 126.753 260.399 Q124.554 260.399 122.1 261.163 Q119.669 261.927 116.892 263.478 L116.892 258.756 Q119.716 257.622 122.169 257.043 Q124.623 256.464 126.66 256.464 Q132.03 256.464 135.225 259.149 Q138.419 261.835 138.419 266.325 Q138.419 268.455 137.609 270.376 Q136.822 272.274 134.716 274.867 Q134.137 275.538 131.035 278.756 Q127.933 281.95 122.285 287.714 Z\" fill=\"#000000\" fill-rule=\"nonzero\" fill-opacity=\"1\" /><path clip-path=\"url(#clip610)\" d=\"M158.419 260.168 Q154.808 260.168 152.979 263.733 Q151.174 267.274 151.174 274.404 Q151.174 281.51 152.979 285.075 Q154.808 288.617 158.419 288.617 Q162.053 288.617 163.859 285.075 Q165.688 281.51 165.688 274.404 Q165.688 267.274 163.859 263.733 Q162.053 260.168 158.419 260.168 M158.419 256.464 Q164.229 256.464 167.285 261.071 Q170.364 265.654 170.364 274.404 Q170.364 283.131 167.285 287.737 Q164.229 292.321 158.419 292.321 Q152.609 292.321 149.53 287.737 Q146.475 283.131 146.475 274.404 Q146.475 265.654 149.53 261.071 Q152.609 256.464 158.419 256.464 Z\" fill=\"#000000\" fill-rule=\"nonzero\" fill-opacity=\"1\" /><path clip-path=\"url(#clip610)\" d=\"M44.7993 850.537 Q40.8526 848.341 38.9747 845.285 Q37.0968 842.229 37.0968 838.092 Q37.0968 832.522 41.0117 829.498 Q44.8948 826.474 52.0881 826.474 L73.6042 826.474 L73.6042 832.363 L52.279 832.363 Q47.1546 832.363 44.672 834.177 Q42.1894 835.991 42.1894 839.715 Q42.1894 844.266 45.2131 846.908 Q48.2368 849.55 53.4567 849.55 L73.6042 849.55 L73.6042 855.438 L52.279 855.438 Q47.1228 855.438 44.672 857.253 Q42.1894 859.067 42.1894 862.854 Q42.1894 867.342 45.2449 869.984 Q48.2686 872.626 53.4567 872.626 L73.6042 872.626 L73.6042 878.514 L37.9562 878.514 L37.9562 872.626 L43.4944 872.626 Q40.216 870.621 38.6564 867.82 Q37.0968 865.019 37.0968 861.167 Q37.0968 857.284 39.0702 854.579 Q41.0436 851.842 44.7993 850.537 Z\" fill=\"#000000\" fill-rule=\"nonzero\" fill-opacity=\"1\" /><path clip-path=\"url(#clip610)\" d=\"M76.9143 799.961 Q83.28 802.444 85.2216 804.799 Q87.1631 807.154 87.1631 811.101 L87.1631 815.78 L82.2615 815.78 L82.2615 812.342 Q82.2615 809.923 81.1157 808.587 Q79.9699 807.25 75.7048 805.627 L73.0312 804.576 L37.9562 818.995 L37.9562 812.788 L65.838 801.648 L37.9562 790.508 L37.9562 784.302 L76.9143 799.961 Z\" fill=\"#000000\" fill-rule=\"nonzero\" fill-opacity=\"1\" /><path clip-path=\"url(#clip610)\" d=\"M42.0621 741.683 Q42.0621 746.394 45.7542 749.131 Q49.4145 751.868 55.812 751.868 Q62.2095 751.868 65.9017 749.163 Q69.5619 746.426 69.5619 741.683 Q69.5619 737.004 65.8698 734.267 Q62.1777 731.53 55.812 731.53 Q49.4781 731.53 45.786 734.267 Q42.0621 737.004 42.0621 741.683 M37.0968 741.683 Q37.0968 734.044 42.0621 729.684 Q47.0273 725.323 55.812 725.323 Q64.5649 725.323 69.5619 729.684 Q74.5272 734.044 74.5272 741.683 Q74.5272 749.354 69.5619 753.714 Q64.5649 758.043 55.812 758.043 Q47.0273 758.043 42.0621 753.714 Q37.0968 749.354 37.0968 741.683 Z\" fill=\"#000000\" fill-rule=\"nonzero\" fill-opacity=\"1\" /><path clip-path=\"url(#clip610)\" d=\"M59.5359 716.22 L37.9562 716.22 L37.9562 710.364 L59.3131 710.364 Q64.3739 710.364 66.9202 708.39 Q69.4346 706.417 69.4346 702.47 Q69.4346 697.728 66.4109 694.991 Q63.3872 692.222 58.1673 692.222 L37.9562 692.222 L37.9562 686.365 L73.6042 686.365 L73.6042 692.222 L68.1296 692.222 Q71.3762 694.354 72.9676 697.187 Q74.5272 699.988 74.5272 703.712 Q74.5272 709.855 70.7078 713.037 Q66.8883 716.22 59.5359 716.22 M37.0968 701.484 L37.0968 701.484 Z\" fill=\"#000000\" fill-rule=\"nonzero\" fill-opacity=\"1\" /><path clip-path=\"url(#clip610)\" d=\"M27.8347 668.509 L37.9562 668.509 L37.9562 656.446 L42.5077 656.446 L42.5077 668.509 L61.8594 668.509 Q66.2199 668.509 67.4613 667.332 Q68.7026 666.122 68.7026 662.462 L68.7026 656.446 L73.6042 656.446 L73.6042 662.462 Q73.6042 669.241 71.0897 671.819 Q68.5434 674.398 61.8594 674.398 L42.5077 674.398 L42.5077 678.694 L37.9562 678.694 L37.9562 674.398 L27.8347 674.398 L27.8347 668.509 Z\" fill=\"#000000\" fill-rule=\"nonzero\" fill-opacity=\"1\" /><path clip-path=\"url(#clip610)\" d=\"M68.257 643.078 L87.1631 643.078 L87.1631 648.967 L37.9562 648.967 L37.9562 643.078 L43.3671 643.078 Q40.1842 641.232 38.6564 638.431 Q37.0968 635.599 37.0968 631.684 Q37.0968 625.191 42.2531 621.148 Q47.4093 617.074 55.812 617.074 Q64.2147 617.074 69.371 621.148 Q74.5272 625.191 74.5272 631.684 Q74.5272 635.599 72.9994 638.431 Q71.4398 641.232 68.257 643.078 M55.812 623.154 Q49.3508 623.154 45.6905 625.827 Q41.9984 628.469 41.9984 633.116 Q41.9984 637.763 45.6905 640.437 Q49.3508 643.078 55.812 643.078 Q62.2732 643.078 65.9653 640.437 Q69.6256 637.763 69.6256 633.116 Q69.6256 628.469 65.9653 625.827 Q62.2732 623.154 55.812 623.154 Z\" fill=\"#000000\" fill-rule=\"nonzero\" fill-opacity=\"1\" /><path clip-path=\"url(#clip610)\" d=\"M59.5359 607.971 L37.9562 607.971 L37.9562 602.115 L59.3131 602.115 Q64.3739 602.115 66.9202 600.142 Q69.4346 598.168 69.4346 594.222 Q69.4346 589.479 66.4109 586.742 Q63.3872 583.973 58.1673 583.973 L37.9562 583.973 L37.9562 578.116 L73.6042 578.116 L73.6042 583.973 L68.1296 583.973 Q71.3762 586.105 72.9676 588.938 Q74.5272 591.739 74.5272 595.463 Q74.5272 601.606 70.7078 604.789 Q66.8883 607.971 59.5359 607.971 M37.0968 593.235 L37.0968 593.235 Z\" fill=\"#000000\" fill-rule=\"nonzero\" fill-opacity=\"1\" /><path clip-path=\"url(#clip610)\" d=\"M27.8347 560.26 L37.9562 560.26 L37.9562 548.197 L42.5077 548.197 L42.5077 560.26 L61.8594 560.26 Q66.2199 560.26 67.4613 559.083 Q68.7026 557.873 68.7026 554.213 L68.7026 548.197 L73.6042 548.197 L73.6042 554.213 Q73.6042 560.993 71.0897 563.571 Q68.5434 566.149 61.8594 566.149 L42.5077 566.149 L42.5077 570.446 L37.9562 570.446 L37.9562 566.149 L27.8347 566.149 L27.8347 560.26 Z\" fill=\"#000000\" fill-rule=\"nonzero\" fill-opacity=\"1\" /><path clip-path=\"url(#clip610)\" d=\"M37.9562 523.976 L37.9562 517.769 L67.875 506.629 L37.9562 495.489 L37.9562 489.283 L73.6042 502.651 L73.6042 510.608 L37.9562 523.976 Z\" fill=\"#000000\" fill-rule=\"nonzero\" fill-opacity=\"1\" /><path clip-path=\"url(#clip610)\" d=\"M55.6847 464.998 Q55.6847 472.095 57.3079 474.833 Q58.9312 477.57 62.8461 477.57 Q65.9653 477.57 67.8114 475.533 Q69.6256 473.464 69.6256 469.931 Q69.6256 465.061 66.1881 462.133 Q62.7188 459.173 56.9897 459.173 L55.6847 459.173 L55.6847 464.998 M53.2657 453.317 L73.6042 453.317 L73.6042 459.173 L68.1933 459.173 Q71.4398 461.178 72.9994 464.17 Q74.5272 467.162 74.5272 471.491 Q74.5272 476.965 71.4716 480.212 Q68.3843 483.426 63.2281 483.426 Q57.2125 483.426 54.1569 479.416 Q51.1014 475.374 51.1014 467.385 L51.1014 459.173 L50.5285 459.173 Q46.4862 459.173 44.2901 461.847 Q42.0621 464.488 42.0621 469.295 Q42.0621 472.35 42.7941 475.246 Q43.5262 478.143 44.9903 480.816 L39.5795 480.816 Q38.3381 477.602 37.7334 474.578 Q37.0968 471.554 37.0968 468.69 Q37.0968 460.955 41.1072 457.136 Q45.1176 453.317 53.2657 453.317 Z\" fill=\"#000000\" fill-rule=\"nonzero\" fill-opacity=\"1\" /><path clip-path=\"url(#clip610)\" d=\"M24.079 441.254 L24.079 435.397 L73.6042 435.397 L73.6042 441.254 L24.079 441.254 Z\" fill=\"#000000\" fill-rule=\"nonzero\" fill-opacity=\"1\" /><path clip-path=\"url(#clip610)\" d=\"M59.5359 423.748 L37.9562 423.748 L37.9562 417.891 L59.3131 417.891 Q64.3739 417.891 66.9202 415.918 Q69.4346 413.945 69.4346 409.998 Q69.4346 405.256 66.4109 402.518 Q63.3872 399.749 58.1673 399.749 L37.9562 399.749 L37.9562 393.893 L73.6042 393.893 L73.6042 399.749 L68.1296 399.749 Q71.3762 401.882 72.9676 404.714 Q74.5272 407.515 74.5272 411.239 Q74.5272 417.382 70.7078 420.565 Q66.8883 423.748 59.5359 423.748 M37.0968 409.011 L37.0968 409.011 Z\" fill=\"#000000\" fill-rule=\"nonzero\" fill-opacity=\"1\" /><path clip-path=\"url(#clip610)\" d=\"M54.3161 351.338 L57.1806 351.338 L57.1806 378.265 Q63.2281 377.883 66.4109 374.636 Q69.5619 371.358 69.5619 365.534 Q69.5619 362.16 68.7344 359.009 Q67.9069 355.826 66.2518 352.707 L71.7899 352.707 Q73.1267 355.858 73.827 359.168 Q74.5272 362.478 74.5272 365.884 Q74.5272 374.414 69.5619 379.411 Q64.5967 384.376 56.1303 384.376 Q47.3774 384.376 42.2531 379.665 Q37.0968 374.923 37.0968 366.902 Q37.0968 359.709 41.7438 355.539 Q46.3589 351.338 54.3161 351.338 M52.5973 357.194 Q47.7912 357.258 44.9266 359.9 Q42.0621 362.51 42.0621 366.838 Q42.0621 371.74 44.8312 374.7 Q47.6002 377.628 52.6292 378.074 L52.5973 357.194 Z\" fill=\"#000000\" fill-rule=\"nonzero\" fill-opacity=\"1\" /><path clip-path=\"url(#clip610)\" d=\"M818.75 12.096 L830.943 12.096 L846.377 53.2532 L861.892 12.096 L874.086 12.096 L874.086 72.576 L866.105 72.576 L866.105 19.4686 L850.509 60.9499 L842.286 60.9499 L826.69 19.4686 L826.69 72.576 L818.75 72.576 L818.75 12.096 Z\" fill=\"#000000\" fill-rule=\"nonzero\" fill-opacity=\"1\" /><path clip-path=\"url(#clip610)\" d=\"M908.883 76.7889 Q905.723 84.8907 902.725 87.3618 Q899.728 89.8329 894.705 89.8329 L888.75 89.8329 L888.75 83.5945 L893.125 83.5945 Q896.204 83.5945 897.905 82.1361 Q899.606 80.6778 901.672 75.2496 L903.009 71.8468 L884.658 27.2059 L892.558 27.2059 L906.736 62.6918 L920.914 27.2059 L928.813 27.2059 L908.883 76.7889 Z\" fill=\"#000000\" fill-rule=\"nonzero\" fill-opacity=\"1\" /><path clip-path=\"url(#clip610)\" d=\"M994.478 44.2197 Q997.112 45.1109 999.583 48.0275 Q1002.09 50.9442 1004.61 56.0483 L1012.91 72.576 L1004.12 72.576 L996.382 57.061 Q993.385 50.9847 990.549 48.9997 Q987.754 47.0148 982.893 47.0148 L973.981 47.0148 L973.981 72.576 L965.798 72.576 L965.798 12.096 L984.27 12.096 Q994.641 12.096 999.745 16.4305 Q1004.85 20.7649 1004.85 29.5149 Q1004.85 35.2267 1002.18 38.994 Q999.542 42.7613 994.478 44.2197 M973.981 18.8205 L973.981 40.2903 L984.27 40.2903 Q990.185 40.2903 993.182 37.5762 Q996.22 34.8216 996.22 29.5149 Q996.22 24.2082 993.182 21.5346 Q990.185 18.8205 984.27 18.8205 L973.981 18.8205 Z\" fill=\"#000000\" fill-rule=\"nonzero\" fill-opacity=\"1\" /><path clip-path=\"url(#clip610)\" d=\"M1058.2 48.0275 L1058.2 51.6733 L1023.93 51.6733 Q1024.41 59.3701 1028.55 63.421 Q1032.72 67.4314 1040.13 67.4314 Q1044.43 67.4314 1048.44 66.3781 Q1052.49 65.3249 1056.46 63.2184 L1056.46 70.267 Q1052.45 71.9684 1048.23 72.8596 Q1044.02 73.7508 1039.69 73.7508 Q1028.83 73.7508 1022.47 67.4314 Q1016.15 61.1119 1016.15 50.3365 Q1016.15 39.1965 1022.15 32.6746 Q1028.18 26.1121 1038.39 26.1121 Q1047.55 26.1121 1052.85 32.0264 Q1058.2 37.9003 1058.2 48.0275 M1050.75 45.84 Q1050.66 39.7232 1047.3 36.0774 Q1043.98 32.4315 1038.47 32.4315 Q1032.23 32.4315 1028.47 35.9558 Q1024.74 39.4801 1024.17 45.8805 L1050.75 45.84 Z\" fill=\"#000000\" fill-rule=\"nonzero\" fill-opacity=\"1\" /><path clip-path=\"url(#clip610)\" d=\"M1099.36 28.5427 L1099.36 35.5912 Q1096.2 33.9709 1092.79 33.1607 Q1089.39 32.3505 1085.75 32.3505 Q1080.2 32.3505 1077.4 34.0519 Q1074.65 35.7533 1074.65 39.156 Q1074.65 41.7486 1076.63 43.2475 Q1078.62 44.7058 1084.61 46.0426 L1087.16 46.6097 Q1095.1 48.3111 1098.42 51.4303 Q1101.79 54.509 1101.79 60.0587 Q1101.79 66.3781 1096.76 70.0644 Q1091.78 73.7508 1083.03 73.7508 Q1079.39 73.7508 1075.42 73.0216 Q1071.49 72.3329 1067.11 70.9151 L1067.11 63.2184 Q1071.24 65.3654 1075.25 66.4591 Q1079.26 67.5124 1083.19 67.5124 Q1088.46 67.5124 1091.3 65.73 Q1094.13 63.9071 1094.13 60.6258 Q1094.13 57.5877 1092.06 55.9673 Q1090.04 54.3469 1083.11 52.8481 L1080.52 52.2405 Q1073.59 50.7821 1070.51 47.7845 Q1067.44 44.7463 1067.44 39.4801 Q1067.44 33.0797 1071.97 29.5959 Q1076.51 26.1121 1084.85 26.1121 Q1088.99 26.1121 1092.63 26.7198 Q1096.28 27.3274 1099.36 28.5427 Z\" fill=\"#000000\" fill-rule=\"nonzero\" fill-opacity=\"1\" /><path clip-path=\"url(#clip610)\" d=\"M1112.89 54.671 L1112.89 27.2059 L1120.34 27.2059 L1120.34 54.3874 Q1120.34 60.8284 1122.85 64.0691 Q1125.36 67.2693 1130.39 67.2693 Q1136.42 67.2693 1139.91 63.421 Q1143.43 59.5726 1143.43 52.9291 L1143.43 27.2059 L1150.88 27.2059 L1150.88 72.576 L1143.43 72.576 L1143.43 65.6084 Q1140.72 69.7404 1137.11 71.7658 Q1133.55 73.7508 1128.81 73.7508 Q1120.99 73.7508 1116.94 68.8897 Q1112.89 64.0286 1112.89 54.671 M1131.64 26.1121 L1131.64 26.1121 Z\" fill=\"#000000\" fill-rule=\"nonzero\" fill-opacity=\"1\" /><path clip-path=\"url(#clip610)\" d=\"M1166.24 9.54393 L1173.69 9.54393 L1173.69 72.576 L1166.24 72.576 L1166.24 9.54393 Z\" fill=\"#000000\" fill-rule=\"nonzero\" fill-opacity=\"1\" /><path clip-path=\"url(#clip610)\" d=\"M1196.66 14.324 L1196.66 27.2059 L1212.01 27.2059 L1212.01 32.9987 L1196.66 32.9987 L1196.66 57.6282 Q1196.66 63.1779 1198.16 64.7578 Q1199.7 66.3376 1204.36 66.3376 L1212.01 66.3376 L1212.01 72.576 L1204.36 72.576 Q1195.73 72.576 1192.45 69.3758 Q1189.16 66.1351 1189.16 57.6282 L1189.16 32.9987 L1183.7 32.9987 L1183.7 27.2059 L1189.16 27.2059 L1189.16 14.324 L1196.66 14.324 Z\" fill=\"#000000\" fill-rule=\"nonzero\" fill-opacity=\"1\" /><path clip-path=\"url(#clip610)\" d=\"M1250.74 28.5427 L1250.74 35.5912 Q1247.58 33.9709 1244.18 33.1607 Q1240.77 32.3505 1237.13 32.3505 Q1231.58 32.3505 1228.78 34.0519 Q1226.03 35.7533 1226.03 39.156 Q1226.03 41.7486 1228.01 43.2475 Q1230 44.7058 1235.99 46.0426 L1238.55 46.6097 Q1246.49 48.3111 1249.81 51.4303 Q1253.17 54.509 1253.17 60.0587 Q1253.17 66.3781 1248.15 70.0644 Q1243.16 73.7508 1234.41 73.7508 Q1230.77 73.7508 1226.8 73.0216 Q1222.87 72.3329 1218.49 70.9151 L1218.49 63.2184 Q1222.63 65.3654 1226.64 66.4591 Q1230.65 67.5124 1234.58 67.5124 Q1239.84 67.5124 1242.68 65.73 Q1245.51 63.9071 1245.51 60.6258 Q1245.51 57.5877 1243.45 55.9673 Q1241.42 54.3469 1234.49 52.8481 L1231.9 52.2405 Q1224.97 50.7821 1221.9 47.7845 Q1218.82 44.7463 1218.82 39.4801 Q1218.82 33.0797 1223.35 29.5959 Q1227.89 26.1121 1236.24 26.1121 Q1240.37 26.1121 1244.01 26.7198 Q1247.66 27.3274 1250.74 28.5427 Z\" fill=\"#000000\" fill-rule=\"nonzero\" fill-opacity=\"1\" /><polyline clip-path=\"url(#clip612)\" style=\"stroke:#ff0000; stroke-linecap:round; stroke-linejoin:round; stroke-width:8; stroke-opacity:1; fill:none\" points=\"246.529,415.679 257.197,434.57 267.865,453.179 278.533,471.508 289.201,489.554 299.869,507.32 310.537,524.804 321.205,542.007 331.873,558.929 342.541,575.569 353.209,591.928 363.877,608.006 374.545,623.802 385.213,639.317 395.881,654.551 406.549,669.504 417.217,684.175 427.885,698.564 438.553,712.673 449.221,726.5 459.889,740.046 470.557,753.31 481.225,766.293 491.893,778.995 502.561,791.415 513.229,803.554 523.897,815.412 534.565,826.989 545.233,838.284 555.901,849.298 566.569,860.03 577.237,870.482 587.905,880.651 598.573,890.54 609.241,900.147 619.909,909.473 630.577,918.518 641.245,927.281 651.913,935.763 662.581,943.963 673.248,951.883 683.916,959.521 694.584,966.877 705.252,973.953 715.92,980.747 726.588,987.259 737.256,993.491 747.924,999.441 758.592,1005.11 769.26,1010.5 779.928,1015.6 790.596,1020.43 801.264,1024.97 811.932,1029.23 822.6,1033.21 833.268,1036.91 843.936,1040.33 854.604,1043.47 865.272,1046.32 875.94,1048.9 886.608,1051.19 897.276,1053.2 907.944,1054.93 918.612,1056.38 929.28,1057.55 939.948,1058.43 950.616,1059.04 961.284,1059.36 971.952,1059.4 982.62,1059.17 993.288,1058.65 1003.96,1057.84 1014.62,1056.76 1025.29,1055.4 1035.96,1053.75 1046.63,1051.82 1057.3,1049.61 1067.96,1047.12 1078.63,1044.35 1089.3,1041.3 1099.97,1037.97 1110.64,1034.35 1121.3,1030.46 1131.97,1026.28 1142.64,1021.82 1153.31,1017.08 1163.98,1012.06 1174.64,1006.75 1185.31,1001.17 1195.98,995.305 1206.65,989.158 1217.32,982.73 1227.98,976.02 1238.65,969.029 1249.32,961.757 1259.99,954.204 1270.66,946.369 1281.32,938.253 1291.99,929.855 1302.66,921.176 1313.33,912.216 1324,902.974 1334.66,893.452 1345.33,883.647 1356,873.562 1366.67,863.195 1377.34,852.547 1388,841.618 1398.67,830.407 1409.34,818.915 1420.01,807.141 1430.67,795.087 1441.34,782.751 1452.01,770.133 1462.68,757.234 1473.35,744.054 1484.01,730.593 1494.68,716.85 1505.35,702.826 1516.02,688.521 1526.69,673.934 1537.35,659.066 1548.02,643.917 1558.69,628.486 1569.36,612.774 1580.03,596.781 1590.69,580.507 1601.36,563.951 1612.03,547.113 1622.7,529.995 1633.37,512.595 1644.03,494.914 1654.7,476.951 1665.37,458.707 1676.04,440.182 1686.71,421.376 1697.37,402.288 1708.04,382.919 1718.71,363.268 1729.38,343.336 1740.05,323.123 1750.71,302.629 1761.38,281.853 1772.05,260.796 1782.72,239.457 1793.39,217.838 1804.05,195.936 1814.72,173.754 1825.39,151.29 \"/>\n",
       "<polyline clip-path=\"url(#clip612)\" style=\"stroke:#0000ff; stroke-linecap:round; stroke-linejoin:round; stroke-width:4; stroke-opacity:1; fill:none\" stroke-dasharray=\"16, 10\" points=\"246.529,1078.19 257.197,1077.79 267.865,1077.25 278.533,1076.58 289.201,1075.78 299.869,1074.85 310.537,1073.79 321.205,1072.6 331.873,1071.3 342.541,1069.88 353.209,1068.36 363.877,1066.73 374.545,1065 385.213,1063.18 395.881,1061.28 406.549,1059.31 417.217,1057.26 427.885,1055.15 438.553,1052.98 449.221,1050.77 459.889,1048.52 470.557,1046.24 481.225,1043.94 491.893,1041.62 502.561,1039.3 513.229,1036.99 523.897,1034.68 534.565,1032.4 545.233,1030.14 555.901,1027.92 566.569,1025.75 577.237,1023.63 587.905,1021.57 598.573,1019.58 609.241,1017.67 619.909,1015.84 630.577,1014.1 641.245,1012.45 651.913,1010.91 662.581,1009.47 673.248,1008.15 683.916,1006.95 694.584,1005.87 705.252,1004.91 715.92,1004.09 726.588,1003.39 737.256,1002.84 747.924,1002.42 758.592,1002.14 769.26,1002 779.928,1002 790.596,1002.14 801.264,1002.42 811.932,1002.84 822.6,1003.39 833.268,1004.09 843.936,1004.91 854.604,1005.87 865.272,1006.95 875.94,1008.15 886.608,1009.47 897.276,1010.91 907.944,1012.45 918.612,1014.1 929.28,1015.84 939.948,1017.67 950.616,1019.58 961.284,1021.57 971.952,1023.63 982.62,1025.75 993.288,1027.92 1003.96,1030.14 1014.62,1032.4 1025.29,1034.68 1035.96,1036.99 1046.63,1039.3 1057.3,1041.62 1067.96,1043.94 1078.63,1046.24 1089.3,1048.52 1099.97,1050.77 1110.64,1052.98 1121.3,1055.15 1131.97,1057.26 1142.64,1059.31 1153.31,1061.28 1163.98,1063.18 1174.64,1065 1185.31,1066.73 1195.98,1068.36 1206.65,1069.88 1217.32,1071.3 1227.98,1072.6 1238.65,1073.79 1249.32,1074.85 1259.99,1075.78 1270.66,1076.58 1281.32,1077.25 1291.99,1077.79 1302.66,1078.19 1313.33,1078.44 1324,1078.56 1334.66,1078.54 1345.33,1078.38 1356,1078.07 1366.67,1077.63 1377.34,1077.05 1388,1076.34 1398.67,1075.49 1409.34,1074.51 1420.01,1073.41 1430.67,1072.19 1441.34,1070.85 1452.01,1069.39 1462.68,1067.83 1473.35,1066.17 1484.01,1064.42 1494.68,1062.57 1505.35,1060.64 1516.02,1058.64 1526.69,1056.57 1537.35,1054.45 1548.02,1052.26 1558.69,1050.04 1569.36,1047.78 1580.03,1045.49 1590.69,1043.18 1601.36,1040.86 1612.03,1038.54 1622.7,1036.23 1633.37,1033.93 1644.03,1031.66 1654.7,1029.41 1665.37,1027.21 1676.04,1025.05 1686.71,1022.95 1697.37,1020.91 1708.04,1018.95 1718.71,1017.06 1729.38,1015.26 1740.05,1013.55 1750.71,1011.94 1761.38,1010.43 1772.05,1009.03 1782.72,1007.75 1793.39,1006.58 1804.05,1005.54 1814.72,1004.63 1825.39,1003.85 \"/>\n",
       "<path clip-path=\"url(#clip610)\" d=\"M254.95 311.756 L531.035 311.756 L531.035 156.236 L254.95 156.236  Z\" fill=\"#ffffff\" fill-rule=\"evenodd\" fill-opacity=\"1\"/>\n",
       "<polyline clip-path=\"url(#clip610)\" style=\"stroke:#000000; stroke-linecap:round; stroke-linejoin:round; stroke-width:4; stroke-opacity:1; fill:none\" points=\"254.95,311.756 531.035,311.756 531.035,156.236 254.95,156.236 254.95,311.756 \"/>\n",
       "<polyline clip-path=\"url(#clip610)\" style=\"stroke:#ff0000; stroke-linecap:round; stroke-linejoin:round; stroke-width:8; stroke-opacity:1; fill:none\" points=\"273.545,208.076 385.118,208.076 \"/>\n",
       "<path clip-path=\"url(#clip610)\" d=\"M420.218 189.337 L420.218 192.879 L416.144 192.879 Q413.853 192.879 412.95 193.805 Q412.07 194.731 412.07 197.138 L412.07 199.43 L419.084 199.43 L419.084 202.74 L412.07 202.74 L412.07 225.356 L407.788 225.356 L407.788 202.74 L403.714 202.74 L403.714 199.43 L407.788 199.43 L407.788 197.624 Q407.788 193.296 409.802 191.328 Q411.816 189.337 416.191 189.337 L420.218 189.337 Z\" fill=\"#000000\" fill-rule=\"nonzero\" fill-opacity=\"1\" /><path clip-path=\"url(#clip610)\" d=\"M445.334 209.708 L445.334 225.356 L441.075 225.356 L441.075 209.847 Q441.075 206.166 439.639 204.337 Q438.204 202.509 435.334 202.509 Q431.885 202.509 429.894 204.708 Q427.903 206.907 427.903 210.703 L427.903 225.356 L423.621 225.356 L423.621 199.43 L427.903 199.43 L427.903 203.458 Q429.431 201.12 431.491 199.962 Q433.575 198.805 436.283 198.805 Q440.751 198.805 443.042 201.583 Q445.334 204.337 445.334 209.708 Z\" fill=\"#000000\" fill-rule=\"nonzero\" fill-opacity=\"1\" /><path clip-path=\"url(#clip610)\" d=\"M455.241 221.421 L462.88 221.421 L462.88 195.055 L454.57 196.722 L454.57 192.462 L462.834 190.796 L467.51 190.796 L467.51 221.421 L475.149 221.421 L475.149 225.356 L455.241 225.356 L455.241 221.421 Z\" fill=\"#000000\" fill-rule=\"nonzero\" fill-opacity=\"1\" /><path clip-path=\"url(#clip610)\" d=\"M494.223 189.384 Q491.121 194.708 489.616 199.916 Q488.111 205.124 488.111 210.472 Q488.111 215.819 489.616 221.073 Q491.144 226.305 494.223 231.606 L490.519 231.606 Q487.047 226.166 485.311 220.911 Q483.598 215.657 483.598 210.472 Q483.598 205.31 485.311 200.078 Q487.023 194.847 490.519 189.384 L494.223 189.384 Z\" fill=\"#000000\" fill-rule=\"nonzero\" fill-opacity=\"1\" /><path clip-path=\"url(#clip610)\" d=\"M501.815 189.384 L505.519 189.384 Q508.991 194.847 510.704 200.078 Q512.44 205.31 512.44 210.472 Q512.44 215.657 510.704 220.911 Q508.991 226.166 505.519 231.606 L501.815 231.606 Q504.894 226.305 506.398 221.073 Q507.926 215.819 507.926 210.472 Q507.926 205.124 506.398 199.916 Q504.894 194.708 501.815 189.384 Z\" fill=\"#000000\" fill-rule=\"nonzero\" fill-opacity=\"1\" /><polyline clip-path=\"url(#clip610)\" style=\"stroke:#0000ff; stroke-linecap:round; stroke-linejoin:round; stroke-width:4; stroke-opacity:1; fill:none\" stroke-dasharray=\"16, 10\" points=\"273.545,259.916 385.118,259.916 \"/>\n",
       "<path clip-path=\"url(#clip610)\" d=\"M424.223 252.265 L424.223 256.247 Q422.417 255.251 420.589 254.765 Q418.783 254.256 416.931 254.256 Q412.788 254.256 410.496 256.895 Q408.204 259.511 408.204 264.256 Q408.204 269.001 410.496 271.64 Q412.788 274.256 416.931 274.256 Q418.783 274.256 420.589 273.77 Q422.417 273.261 424.223 272.265 L424.223 276.2 Q422.44 277.034 420.519 277.45 Q418.621 277.867 416.468 277.867 Q410.612 277.867 407.163 274.186 Q403.714 270.506 403.714 264.256 Q403.714 257.913 407.186 254.279 Q410.681 250.645 416.746 250.645 Q418.714 250.645 420.589 251.062 Q422.464 251.455 424.223 252.265 Z\" fill=\"#000000\" fill-rule=\"nonzero\" fill-opacity=\"1\" /><path clip-path=\"url(#clip610)\" d=\"M441.677 254.256 Q438.251 254.256 436.26 256.941 Q434.269 259.603 434.269 264.256 Q434.269 268.909 436.237 271.594 Q438.227 274.256 441.677 274.256 Q445.079 274.256 447.07 271.571 Q449.061 268.886 449.061 264.256 Q449.061 259.65 447.07 256.964 Q445.079 254.256 441.677 254.256 M441.677 250.645 Q447.232 250.645 450.403 254.256 Q453.575 257.867 453.575 264.256 Q453.575 270.622 450.403 274.256 Q447.232 277.867 441.677 277.867 Q436.098 277.867 432.927 274.256 Q429.778 270.622 429.778 264.256 Q429.778 257.867 432.927 254.256 Q436.098 250.645 441.677 250.645 Z\" fill=\"#000000\" fill-rule=\"nonzero\" fill-opacity=\"1\" /><path clip-path=\"url(#clip610)\" d=\"M477.162 252.034 L477.162 256.062 Q475.357 255.136 473.412 254.673 Q471.468 254.21 469.385 254.21 Q466.213 254.21 464.616 255.182 Q463.042 256.154 463.042 258.099 Q463.042 259.58 464.176 260.437 Q465.311 261.27 468.737 262.034 L470.195 262.358 Q474.732 263.33 476.63 265.112 Q478.551 266.872 478.551 270.043 Q478.551 273.654 475.681 275.761 Q472.834 277.867 467.834 277.867 Q465.75 277.867 463.482 277.45 Q461.237 277.057 458.737 276.247 L458.737 271.849 Q461.098 273.075 463.389 273.7 Q465.681 274.302 467.926 274.302 Q470.936 274.302 472.556 273.284 Q474.176 272.242 474.176 270.367 Q474.176 268.631 472.996 267.705 Q471.838 266.779 467.88 265.923 L466.399 265.575 Q462.44 264.742 460.681 263.029 Q458.922 261.293 458.922 258.284 Q458.922 254.626 461.514 252.636 Q464.107 250.645 468.875 250.645 Q471.237 250.645 473.32 250.992 Q475.403 251.339 477.162 252.034 Z\" fill=\"#000000\" fill-rule=\"nonzero\" fill-opacity=\"1\" /></svg>\n"
      ],
      "text/html": [
       "<img src=\"data:image/png;base64,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\" />"
      ]
     },
     "metadata": {},
     "output_type": "display_data"
    }
   ],
   "source": [
    "x = -3:6/99:6\n",
    "\n",
    "p1 = plot( [x x],[fn1.(x) cos.(x)],\n",
    "           linecolor = [:red :blue],\n",
    "           linestyle = [:solid :dash],\n",
    "           linewidth = [2 1],\n",
    "           label = [\"fn1()\" \"cos\"],\n",
    "           title = \"My Results\",\n",
    "           xlabel = \"x\",\n",
    "           ylabel = \"my output value\" )\n",
    "display(p1)       #not needed in notebook, but useful in script"
   ]
  },
  {
   "cell_type": "markdown",
   "metadata": {},
   "source": [
    "# Types: Integers, Floats, Bools and Others\n",
    "\n",
    "Julia has many different types of variables: signed integers (like 2 or -5), floating point numbers (2.0 and -5.1), bools (false/true), bitarrays (similar to bools, but with more efficient use of memory), strings (\"hello\"), Dates (2017-04-23) and many more types."
   ]
  },
  {
   "cell_type": "markdown",
   "metadata": {},
   "source": [
    "## Integers and Floats"
   ]
  },
  {
   "cell_type": "code",
   "execution_count": 20,
   "metadata": {},
   "outputs": [
    {
     "name": "stdout",
     "output_type": "stream",
     "text": [
      "Finding the type of a, b, A and B:\n",
      "Int64 Float64 Vector{Int64} Vector{Float64}\n"
     ]
    }
   ],
   "source": [
    "a = 2                   #integer, Int (Int64 on most machines)\n",
    "b = 2.0                 #floating point, (Float64 on most machines)\n",
    "A = [1,2]\n",
    "B = [1.0,2.0]\n",
    "\n",
    "println(\"Finding the type of a, b, A and B:\")\n",
    "println(typeof(a),\" \",typeof(b),\" \",typeof(A),\" \",typeof(B))"
   ]
  },
  {
   "cell_type": "markdown",
   "metadata": {},
   "source": [
    "## Bools and BitArrays\n",
    "\n",
    "Bools are \"true\" or \"false\". BitArrays are (more memory efficient) versions of this."
   ]
  },
  {
   "cell_type": "code",
   "execution_count": 21,
   "metadata": {},
   "outputs": [
    {
     "name": "stdout",
     "output_type": "stream",
     "text": [
      "Finding the type of c and C:\n",
      "Bool BitVector\n"
     ]
    }
   ],
   "source": [
    "c = 2 > 1.1\n",
    "C = A .> 1.5        #A is an array, so C is too\n",
    "\n",
    "println(\"Finding the type of c and C:\")\n",
    "println(typeof(c),\" \",typeof(C))"
   ]
  },
  {
   "cell_type": "markdown",
   "metadata": {},
   "source": [
    "## Calculations with Mixed Types\n",
    "\n",
    "A calculation like \"integer\" + \"float\" works and the type of the result will be a float (the more flexible type). Similarly, \"bool\" + \"integer\" will give an integer. These promotion rules make it easy to have mixed types in calculations, and also provide a simple way of converting a variable from one type to another. (There are also an explicit convert() function that might be quicker.)"
   ]
  },
  {
   "cell_type": "code",
   "execution_count": 22,
   "metadata": {},
   "outputs": [
    {
     "name": "stdout",
     "output_type": "stream",
     "text": [
      "3.0\n",
      "3\n"
     ]
    }
   ],
   "source": [
    "println(1+2.0)                #integer + Float\n",
    "println((1>0) + 2)            #bool + integer"
   ]
  },
  {
   "cell_type": "markdown",
   "metadata": {},
   "source": [
    "# Running Script Files\n",
    "\n",
    "instead of notebooks. \n",
    "\n",
    "Once you have created a script file (called \"myscript.jl\" below), then you can, for instance, run it from VS Code or directly from the Julia REPL. For the latter, do as follows:\n",
    "\n",
    "1. Open the Julia REPL and perhaps run `cd(\"folder_name\")` to set the working directory (typically to where your script file is).\n",
    "2. Run `include(\"myscript.jl\")`\n",
    "\n",
    "As an alternative, instead do the following:\n",
    "\n",
    "0. Add this close to the top of the script file: `cd(dirname(@__FILE__))`\n",
    "1. Open the Julia REPL\n",
    "2. Run `include(\"foldername/myscript.jl\")`"
   ]
  },
  {
   "cell_type": "markdown",
   "metadata": {},
   "source": [
    "## Performance Tips (extra)\n",
    "\n",
    "To benchmark your code, install/use the [BenchmarkTools.jl](https://github.com/JuliaCI/BenchmarkTools.jl) package."
   ]
  },
  {
   "cell_type": "code",
   "execution_count": 23,
   "metadata": {},
   "outputs": [
    {
     "name": "stdout",
     "output_type": "stream",
     "text": [
      "  85.139 ns (2 allocations: 928 bytes)\n",
      "\n"
     ]
    }
   ],
   "source": [
    "using BenchmarkTools\n",
    "\n",
    "function fn2(x)\n",
    "    n = length(x)\n",
    "    z = zero(x)       #array of zeros, same size as x\n",
    "    for i in 2:n\n",
    "        z[i] = (x[i] + x[i-1])/2   #moving average\n",
    "    end\n",
    "    return z\n",
    "end\n",
    "\n",
    "x = [1;zeros(101)]\n",
    "@btime fn2($x)        #notice the $\n",
    "println()"
   ]
  },
  {
   "cell_type": "code",
   "execution_count": null,
   "metadata": {},
   "outputs": [],
   "source": []
  }
 ],
 "metadata": {
  "@webio": {
   "lastCommId": null,
   "lastKernelId": null
  },
  "anaconda-cloud": {},
  "kernelspec": {
   "display_name": "Julia 1.11.1",
   "language": "julia",
   "name": "julia-1.11"
  },
  "language_info": {
   "file_extension": ".jl",
   "mimetype": "application/julia",
   "name": "julia",
   "version": "1.11.1"
  }
 },
 "nbformat": 4,
 "nbformat_minor": 4
}
