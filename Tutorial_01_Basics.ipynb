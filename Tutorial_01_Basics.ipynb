{
 "cells": [
  {
   "cell_type": "markdown",
   "metadata": {},
   "source": [
    "# Basic Julia Tutorial"
   ]
  },
  {
   "cell_type": "markdown",
   "metadata": {},
   "source": [
    "# Running/Installing Julia\n",
    "\n",
    "This is a notebook. To run it you need Julia and Jupyter/nteract/VS Code.\n",
    "\n",
    "1. To run Julia without a local installation, use (for instance) [CoCalc](https://cocalc.com) or [JuliaHub](https://juliahub.com/). \n",
    "\n",
    "2. To install Julia on your machine, [download and install it](https://julialang.org/downloads/). This link contains both instructions for the Microsoft Store and links to binaries for manual download.\n",
    "\n",
    "3. You may also want to use [VS Code with the Julia extension](https://www.julia-vscode.org/). It is an IDE (editor and more) that can run script files and notebooks.\n",
    "\n",
    "4. To run notebooks from your local installation, you need either (1) VS Code with the Julia extension (see above); (2) Jupyter/JupyterLab; or (3) nteract. For the latter two, see below for hints.\n",
    "\n",
    "5. To create and run script files instead of notebooks, see the comments towards the end of this notebook.\n",
    "\n",
    "\n",
    "## Installing nteract\n",
    "\n",
    "Install [IJulia](https://github.com/JuliaLang/IJulia.jl), but do *not* call on `notebook()` to avoid the automatic Python installation. Then install nteract and start using it to run notebooks. Warning: as of February 2024 this still works, but nteract has not been updated since 2021.\n",
    "\n",
    "\n",
    "## Installing Jupyter/JupyterLab - When You Don't Have Python Installed\n",
    "\n",
    "1. Install IJulia [IJulia](https://github.com/JuliaLang/IJulia.jl) and issue the command `notebook()`. This will make a local Python installation.\n",
    "\n",
    "2. To use Jupyter, start Julia and run `using IJulia; notebook(dir=pwd())` (change the directory as needed). Instead, to run JupyterLab do `using IJulia;jupyterlab(dir=pwd())`.\n",
    "\n",
    "\n",
    "## Installing Jupyter/JupyterLab - When You Already Have Python Installed\n",
    "\n",
    "1. If you already have a Python installation (with Jupyter/JupyterLab), run `ENV[\"JUPYTER\"] = \"C:\\\\Miniconda3\\\\Scripts\\\\jupyter.exe\"` (change the path as needed) before you install IJulia. The best is perhaps to add this to your *startup.jl* file (for instance, `C:\\Users\\yourusername\\.julia\\config\\startup.jl` if you are on Windows). You can test whether it works by running ```run(`$(ENV[\"JUPYTER\"]) --version`)``` from the Julia REPL. \n",
    "\n",
    "2. On Windows, it helps to allow the Python installer to add python to the system path (in spite of the warnings).\n",
    "\n",
    "3. Install IJulia and start using Jupyter/JupyterLab (see above)."
   ]
  },
  {
   "cell_type": "markdown",
   "metadata": {},
   "source": [
    "# Documentation and Help\n",
    "\n",
    "1.  Cheat sheet at [QuantEcon](https://cheatsheets.quantecon.org/julia-cheatsheet.html)\n",
    "2.  [Wiki book](https://en.wikibooks.org/wiki/Introducing_Julia)\n",
    "3.  [Short tutorials](https://techytok.com/from-zero-to-julia/) \n",
    "4.  [ThinkJulia](https://benlauwens.github.io/ThinkJulia.jl/latest/book.html) is a free on-line book\n",
    "5.  The [official Julia on-line manual](https://docs.julialang.org)\n",
    "6.  Discussion lists are found at\n",
    "    *  https://discourse.julialang.org/\n",
    "    *  https://stackoverflow.com/questions/tagged/julia-lang\n",
    "    *  https://www.reddit.com/r/Julia/\n",
    "    *  https://gitter.im/JuliaLang/julia\n",
    "7. In Julia, do ```? cos``` to get help with the cos function (see below for how to get help in VSCode).   "
   ]
  },
  {
   "cell_type": "markdown",
   "metadata": {},
   "source": [
    "# About Notebooks\n",
    "\n",
    "This cell is a \"Markdown\" cell. This is meant for comments and documentation, not computations.\n",
    "\n",
    "You can change a cell to \"Code\" or \"Markdown\" in the menu.\n",
    "\n",
    "Markdown cells can handle LaTeX. An example: $\\alpha = \\beta/2$. A Markdown cell can also contain some *formatting*, like lists of this kind\n",
    "\n",
    "1. To insert a new cell, use the menu. \n",
    "\n",
    "2. The next cell is \"Code\". You can run it. Text after a # sign is treated as a comment.\n",
    "\n",
    "3. The subsequent cell shows how to get help on a command."
   ]
  },
  {
   "cell_type": "code",
   "execution_count": 1,
   "metadata": {},
   "outputs": [
    {
     "data": {
      "text/plain": [
       "2"
      ]
     },
     "execution_count": 1,
     "metadata": {},
     "output_type": "execute_result"
    }
   ],
   "source": [
    "a = 2                  #this is a comment\n",
    "                       #run this cell by using the menu, or by Shift+Enter"
   ]
  },
  {
   "cell_type": "code",
   "execution_count": 2,
   "metadata": {},
   "outputs": [
    {
     "data": {
      "text/markdown": [
       "```\n",
       "cos(x)\n",
       "```\n",
       "\n",
       "Compute cosine of `x`, where `x` is in radians.\n",
       "\n",
       "See also [`cosd`](@ref), [`cospi`](@ref), [`sincos`](@ref), [`cis`](@ref).\n",
       "\n",
       "```\n",
       "cos(A::AbstractMatrix)\n",
       "```\n",
       "\n",
       "Compute the matrix cosine of a square matrix `A`.\n",
       "\n",
       "If `A` is symmetric or Hermitian, its eigendecomposition ([`eigen`](@ref)) is used to compute the cosine. Otherwise, the cosine is determined by calling [`exp`](@ref).\n",
       "\n",
       "# Examples\n",
       "\n",
       "```jldoctest\n",
       "julia> cos(fill(1.0, (2,2)))\n",
       "2×2 Matrix{Float64}:\n",
       "  0.291927  -0.708073\n",
       " -0.708073   0.291927\n",
       "```\n"
      ]
     },
     "metadata": {},
     "output_type": "display_data"
    }
   ],
   "source": [
    "display(\"text/markdown\",@doc cos)     #get help on the cos function\n",
    "# ? cos                               #works in REPL and jupyter, not in VS Code"
   ]
  },
  {
   "cell_type": "markdown",
   "metadata": {},
   "source": [
    "# Load Packages and Extra Functions\n",
    "\n",
    "There are many packages for Julia, for instance, for plotting or statistical methods (see [JuliaHub](https://juliahub.com/) for a list). To install a package, you do either \n",
    "\n",
    "1. (works everywhere) run `import Pkg` and then `Pkg.add(\"Packagename\")`\n",
    "\n",
    "2. (works in the Julia console, the REPL) enter the \"package manager mode\" by typing `]`, then run `add PackageName`. You leave the package manager mode by backspace.\n",
    "\n",
    "Once a package is installed, you can use it by running\n",
    "\n",
    "```\n",
    "using PackageName\n",
    "```"
   ]
  },
  {
   "cell_type": "code",
   "execution_count": 3,
   "metadata": {},
   "outputs": [
    {
     "data": {
      "text/plain": [
       "printyellow (generic function with 1 method)"
      ]
     },
     "execution_count": 3,
     "metadata": {},
     "output_type": "execute_result"
    }
   ],
   "source": [
    "using Printf                        #installed by default, used for more control over printing\n",
    "\n",
    "include(\"jlFiles/printmat.jl\")      #just a function for prettier matrix printing"
   ]
  },
  {
   "cell_type": "markdown",
   "metadata": {},
   "source": [
    "# Scalars and Matrices\n",
    "\n"
   ]
  },
  {
   "cell_type": "markdown",
   "metadata": {},
   "source": [
    "### Create a Scalar and a Matrix"
   ]
  },
  {
   "cell_type": "code",
   "execution_count": 4,
   "metadata": {},
   "outputs": [
    {
     "name": "stdout",
     "output_type": "stream",
     "text": [
      "q is a scalar. To print, use println() or printlnPs()\n",
      "1\n",
      "\n",
      "Q is a matrix. To print, use display() or printmat()\n",
      "     1         2         3    \n",
      "     4         5         6    \n",
      "\n"
     ]
    }
   ],
   "source": [
    "q = 1                             #create a scalar\n",
    "Q = [ 1 2 3;                      #create 2x3 matrix\n",
    "      4 5 6 ] \n",
    "println(\"q is a scalar. To print, use println() or printlnPs()\")\n",
    "println(q)\n",
    "\n",
    "println(\"\\nQ is a matrix. To print, use display() or printmat()\")\n",
    "printmat(Q)                       #case sensitive (q and Q are different)\n",
    "                                  #the \\n adds a line break"
   ]
  },
  {
   "cell_type": "markdown",
   "metadata": {},
   "source": [
    "### Picking Out Parts of a Matrix"
   ]
  },
  {
   "cell_type": "code",
   "execution_count": 5,
   "metadata": {},
   "outputs": [
    {
     "name": "stdout",
     "output_type": "stream",
     "text": [
      "\n",
      "element [1,2] of Q: 2\n",
      "\n",
      "columns 2 and 3 of Q: \n",
      "     2         3    \n",
      "     5         6    \n",
      "\n",
      "\n",
      "line 1 of Q (as a vector): \n",
      "     1    \n",
      "     2    \n",
      "     3    \n",
      "\n"
     ]
    }
   ],
   "source": [
    "println(\"\\n\",\"element [1,2] of Q: \",            #commands continue on\n",
    "        Q[1,2])                                 #the next line (until finished)\n",
    "\n",
    "println(\"\\ncolumns 2 and 3 of Q: \")\n",
    "printmat(Q[:,2:3])\n",
    "\n",
    "println(\"\\nline 1 of Q (as a vector): \")\n",
    "printmat(Q[1,:])"
   ]
  },
  {
   "cell_type": "markdown",
   "metadata": {},
   "source": [
    "### Basic Linear Algebra\n",
    "\n",
    "The syntax for linear algebra is similar to the standard text book approach. For instance, \n",
    "* `Q'Q` (or `Q'*Q`) multiplies the transpose ($Q'$) with the matrix ($Q$)\n",
    "* `A*B` does matrix multiplication\n",
    "* `100*Q` multiplies each element of the matrix ($Q$) by 100. (You can also do `100Q`)\n",
    "\n",
    "However, to add a scalar to each element of a matrix, use `100 .+ Q`. Notice the dot."
   ]
  },
  {
   "cell_type": "code",
   "execution_count": 6,
   "metadata": {},
   "outputs": [
    {
     "name": "stdout",
     "output_type": "stream",
     "text": [
      "transpose of Q:\n",
      "     1         4    \n",
      "     2         5    \n",
      "     3         6    \n",
      "\n",
      "Q'Q:\n",
      "    17        22        27    \n",
      "    22        29        36    \n",
      "    27        36        45    \n",
      "\n",
      "scalar * matrix:\n",
      "   100       200       300    \n",
      "   400       500       600    \n",
      "\n",
      "scalar .+ matrix:\n",
      "   101       102       103    \n",
      "   104       105       106    \n",
      "\n"
     ]
    }
   ],
   "source": [
    "println(\"transpose of Q:\")\n",
    "printmat(Q')\n",
    "\n",
    "println(\"Q'Q:\")\n",
    "printmat(Q'Q)\n",
    "\n",
    "println(\"scalar * matrix:\")\n",
    "printmat(100*Q)\n",
    "\n",
    "println(\"scalar .+ matrix:\")        #notice the dot\n",
    "printmat(100 .+ Q)"
   ]
  },
  {
   "cell_type": "markdown",
   "metadata": {},
   "source": [
    "### Creating a Sequence and a Vector"
   ]
  },
  {
   "cell_type": "code",
   "execution_count": 7,
   "metadata": {},
   "outputs": [
    {
     "name": "stdout",
     "output_type": "stream",
     "text": [
      "\n",
      "θ is a sequence: 1:10:21\n",
      "\n",
      "ρ is a vector: \n",
      "     1    \n",
      "    11    \n",
      "    21    \n",
      "\n"
     ]
    }
   ],
   "source": [
    "θ = 1:10:21                  #a range, type \\theta[TAB] to get this symbol\n",
    "println(\"\\n\",\"θ is a sequence: \",θ)\n",
    "\n",
    "ρ = collect(θ)               #make the sequence into a vector, \\rho[TAB]\n",
    "println(\"\\n\",\"ρ is a vector: \")\n",
    "printmat(ρ)"
   ]
  },
  {
   "cell_type": "markdown",
   "metadata": {},
   "source": [
    "# Comparing Things\n",
    "\n",
    "To see if the scalar $z \\leq 0 $, do\n",
    "```\n",
    "vv = z <= 0\n",
    "```\n",
    "to get a single output (true or false).\n",
    "\n",
    "Instead, if x is an array, do \n",
    "```\n",
    "vv = x .<= 0                      #notice the dot.\n",
    "```\n",
    "to get an array of outputs (with the same dimensions as x)"
   ]
  },
  {
   "cell_type": "code",
   "execution_count": 8,
   "metadata": {},
   "outputs": [
    {
     "name": "stdout",
     "output_type": "stream",
     "text": [
      "x values: \n",
      "    -1.500\n",
      "    -1.000\n",
      "    -0.500\n",
      "     0.000\n",
      "     0.500\n",
      "\n",
      "true if x is in (-1,0]: \n",
      "     0    \n",
      "     0    \n",
      "     1    \n",
      "     1    \n",
      "     0    \n",
      "\n",
      "x values that are in (-1,0]: \n",
      "    -0.500\n",
      "     0.000\n",
      "\n"
     ]
    }
   ],
   "source": [
    "x =  [-1.5,-1.0,-0.5,0,0.5]             #this is a vector\n",
    "\n",
    "println(\"x values: \")\n",
    "printmat(x)\n",
    "\n",
    "vv = -1 .< x .<= 0                      #true for x values (-1,0], vv is a vector\n",
    "println(\"true if x is in (-1,0]: \")\n",
    "printmat(vv)\n",
    "\n",
    "x2 = x[vv]                              #x values for which vv==true\n",
    "println(\"x values that are in (-1,0]: \")\n",
    "printmat(x2)"
   ]
  },
  {
   "cell_type": "markdown",
   "metadata": {},
   "source": [
    "# Finding Things (extra)\n",
    "\n",
    "can be done by indexing as shown before. However, it might be more efficient to use one of `findfirst()`, `findall()` and `indexin()`. \n",
    "\n",
    "Also, if you just need to check if the number `z` is in an array (or any collection) `x`, then use `in(z,x)`."
   ]
  },
  {
   "cell_type": "code",
   "execution_count": 9,
   "metadata": {},
   "outputs": [
    {
     "name": "stdout",
     "output_type": "stream",
     "text": [
      "x values: \n",
      "    -1.500\n",
      "    -1.000\n",
      "    -0.500\n",
      "     0.000\n",
      "     0.500\n",
      "\n",
      "(first) index v in x such x[v]==0: 4\n",
      "\n",
      "all indices v in x such x[v]>=0: \n",
      "     4    \n",
      "     5    \n",
      "\n",
      "\n",
      "indices in x so that x[v] equals the vector y=[-1.0, 0.0]: \n",
      "     2    \n",
      "     4    \n",
      "\n",
      "\n",
      "testing if 0 is in x: true\n"
     ]
    }
   ],
   "source": [
    "x =  [-1.5,-1.0,-0.5,0,0.5]             #this is a vector\n",
    "\n",
    "println(\"x values: \")\n",
    "printmat(x)\n",
    "\n",
    "v1 = findfirst(x.==0)\n",
    "println(\"(first) index v in x such x[v]==0: \",v1)\n",
    "\n",
    "v2 = findall(x.>=0)\n",
    "println(\"\\nall indices v in x such x[v]>=0: \")\n",
    "printmat(v2)\n",
    "\n",
    "y = [-1.0,0]\n",
    "v3 = indexin(y,x)\n",
    "println(\"\\nindices in x so that x[v] equals the vector y=$y: \")\n",
    "printmat(v3)\n",
    "\n",
    "v4 = in(0,x)\n",
    "println(\"\\ntesting if 0 is in x: \",v4)"
   ]
  },
  {
   "cell_type": "markdown",
   "metadata": {
    "tags": []
   },
   "source": [
    "# Simple Functions\n",
    "\n",
    "The next cell defines two new functions, `fn0()` and `fn1()`. They take a scalar input (`x`) and return a scalar output (`y`).\n",
    "\n",
    "If you instead use a vector as the input, then the computation fails. (The reason is that you cannot do x^2 on a vector. You could on a square matrix, though.)\n",
    "\n",
    "However, using the \"dot\" syntax\n",
    "```\n",
    "y = fn1.(x)\n",
    "```\n",
    "gives an array as output where element `y[i,j] = fn1(x[i,j])`."
   ]
  },
  {
   "cell_type": "code",
   "execution_count": 10,
   "metadata": {
    "tags": []
   },
   "outputs": [
    {
     "data": {
      "text/plain": [
       "fn1 (generic function with 1 method)"
      ]
     },
     "execution_count": 10,
     "metadata": {},
     "output_type": "execute_result"
    }
   ],
   "source": [
    "fn0(x) = (x-1.1)^2 - 0.5      #define a one-line function\n",
    "\n",
    "function fn1(x)               #define a function that could have many lines\n",
    "  y = (x-1.1)^2 - 0.5\n",
    "  return y\n",
    "end"
   ]
  },
  {
   "cell_type": "code",
   "execution_count": 11,
   "metadata": {},
   "outputs": [
    {
     "name": "stdout",
     "output_type": "stream",
     "text": [
      "result from fn1(1.5):     -0.340 and compare with fn0(1.5)     -0.340\n",
      "\n",
      "result from fn1.(x): \n",
      "    -0.490\n",
      "    -0.340\n",
      "\n"
     ]
    }
   ],
   "source": [
    "y = fn1(1.5)\n",
    "printlnPs(\"result from fn1(1.5): \",y,\" and compare with fn0(1.5) \",fn0(1.5))\n",
    "\n",
    "x = [1;1.5]\n",
    "#y = fn1(x)                   #would give an error \n",
    "y = fn1.(x)                   #calling on the function, dot. to do for each element in x\n",
    "printlnPs(\"\\nresult from fn1.(x): \")\n",
    "printmat(y)"
   ]
  },
  {
   "cell_type": "markdown",
   "metadata": {},
   "source": [
    "# if-else-end\n",
    "\n",
    "allows you to run different commands depending on a condition that you specify.\n",
    "\n",
    "(extra) There are also other (more compact) possibilities for `if-else` case\n",
    "\n",
    "1. `y = z <= 2 ? z : 2` or\n",
    "2. `y = ifelse(z <= 2,z,2)`\n",
    "\n",
    "(...in this partcular case, `y = minimum(z,2)` also works)"
   ]
  },
  {
   "cell_type": "code",
   "execution_count": 12,
   "metadata": {},
   "outputs": [
    {
     "name": "stdout",
     "output_type": "stream",
     "text": [
      "1.05\n"
     ]
    }
   ],
   "source": [
    "z = 1.05\n",
    "\n",
    "if z <= 2          #(a) if true, run the next command (y=z) and then jump to end\n",
    "    y = z\n",
    "else               #(b) if (a) is false, do this instead\n",
    "    y = 2\n",
    "end\n",
    "\n",
    "#y = z <= 2 ? z : 2       #these two versions also work\n",
    "#y = ifelse(z <= 2,z,2)\n",
    "\n",
    "\n",
    "println(y)"
   ]
  },
  {
   "cell_type": "code",
   "execution_count": 13,
   "metadata": {},
   "outputs": [
    {
     "name": "stdout",
     "output_type": "stream",
     "text": [
      "1.05\n"
     ]
    }
   ],
   "source": [
    "if z < 1                #(a) if true, run the next command (y=1) and then jump to end\n",
    "    y = 1\n",
    "elseif 1 <= z <= 2      #(b) if (a) is false, try this instead  \n",
    "    y = z\n",
    "else                    #(c) if also (b) is false, do this\n",
    "    y = 2\n",
    "end\n",
    "\n",
    "println(y)"
   ]
  },
  {
   "cell_type": "markdown",
   "metadata": {},
   "source": [
    "# Loops\n",
    "\n",
    "The are two types of loops: \"for loops\" and \"while loops\". \n",
    "\n",
    "The *for loop* is best when you know how many times you want to loop, for instance, over all $m$ rows in a matrix. \n",
    "\n",
    "The *while loop* is best when you want to keep looping until something happens, for instance, that $x_0$ and $x_1$ get really close.\n",
    "\n",
    "The default behaviour in *IJulia*, *inside functions* and also at the *REPL* promt is that assignments of `x` inside the loop overwrites `x` defined before the loop. To get the same behavior in scripts, you need to add `global x` somewhere inside the loop. In contrast, a variable (here `z2`) that does not exist before the loop is local to the loop.\n",
    "\n",
    "To make sure that the `y` calculated inside the loop does not affect `y` outside the loop, say `local y` inside the loop."
   ]
  },
  {
   "cell_type": "markdown",
   "metadata": {},
   "source": [
    "## A Simple \"for loop\"\n",
    "\n",
    "The \"for loop\" in the next cell iterates over all elements in a vector and changes them."
   ]
  },
  {
   "cell_type": "code",
   "execution_count": 14,
   "metadata": {},
   "outputs": [
    {
     "name": "stdout",
     "output_type": "stream",
     "text": [
      "   101.000\n",
      "   102.000\n",
      "   103.000\n",
      "\n"
     ]
    }
   ],
   "source": [
    "x = zeros(3)\n",
    "\n",
    "for i = 1:length(x)           #1,2,3\n",
    "    x[i] = 100 + i\n",
    "end    \n",
    "\n",
    "printmat(x)"
   ]
  },
  {
   "cell_type": "markdown",
   "metadata": {},
   "source": [
    "## A More Complicated \"for loop\"\n",
    "\n",
    "The \"for loop\" in the next cell makes 3 iterations and changes a global $x$ variable. It also illustrates difference between local and global variables."
   ]
  },
  {
   "cell_type": "code",
   "execution_count": 15,
   "metadata": {},
   "outputs": [
    {
     "name": "stdout",
     "output_type": "stream",
     "text": [
      "\n",
      "Before loop: x=0 and y=-999 \n",
      "\n",
      "i=3, x=3, y=3 and z2=-998\n",
      "i=6, x=9, y=6 and z2=-998\n",
      "i=9, x=18, y=9 and z2=-998\n",
      "\n",
      "After loop: x=18 and y=-999 \n",
      "\n",
      "z2 is not defined outside the loop\n"
     ]
    }
   ],
   "source": [
    "x = 0\n",
    "y = -999\n",
    "println(\"\\nBefore loop: x=$x and y=$y \\n\")    #\"$x\" inserts the value of x into a string#\n",
    "\n",
    "for i = 3:3:9                         #or `i in 3:3:9`, or `v=[3,6,9]; i in v`\n",
    "    #global x                         #only needed in script\n",
    "    local y                           #don't overwrite y outside loop\n",
    "    x = x + i                         #adding i to the \"old\" x\n",
    "    y = i\n",
    "    z2 = -998                         #notice: z2 has not been used before \n",
    "    println(\"i=$i, x=$x, y=$y and z2=$z2\")          #$x prints the value of x\n",
    "end\n",
    "\n",
    "println(\"\\nAfter loop: x=$x and y=$y \\n\")\n",
    "\n",
    "try                        #to \"drive around\" errors\n",
    "    println(z2)            #does not work: z2 is local to the loop\n",
    "catch\n",
    "    println(\"z2 is not defined outside the loop\") \n",
    "end"
   ]
  },
  {
   "cell_type": "markdown",
   "metadata": {},
   "source": [
    "### A Double \"for loop\"\n",
    "\n",
    "An example of a nested for loop\n",
    "\n",
    "```\n",
    "for j = 1:n, i = 1:m\n",
    "    #do something\n",
    "end\n",
    "```\n",
    "\n",
    "If you prefer, could also write a longer version to do the same thing\n",
    "```\n",
    "for j = 1:n \n",
    "    for i = 1:m\n",
    "        #do something\n",
    "    end    \n",
    "end\n",
    "```\n",
    "\n",
    "The next cell uses a double loop to fill a matrix. "
   ]
  },
  {
   "cell_type": "code",
   "execution_count": 16,
   "metadata": {},
   "outputs": [
    {
     "name": "stdout",
     "output_type": "stream",
     "text": [
      "new x matrix: \n",
      "\n",
      "    11        12        13    \n",
      "    21        22        23    \n",
      "    31        32        33    \n",
      "    41        42        43    \n",
      "\n"
     ]
    }
   ],
   "source": [
    "(m,n) = (4,3)                     #same as m=4;n=3\n",
    "x = fill(-999,m,n)                #to put results in, initialized as -999\n",
    "for i = 1:m, j = 1:n              #can be written on the same line\n",
    "    x[i,j] = 10*i + j\n",
    "end\n",
    "\n",
    "println(\"new x matrix: \\n\")\n",
    "printmat(x)"
   ]
  },
  {
   "cell_type": "markdown",
   "metadata": {},
   "source": [
    "## A Simple \"while loop\""
   ]
  },
  {
   "cell_type": "code",
   "execution_count": 17,
   "metadata": {},
   "outputs": [
    {
     "name": "stdout",
     "output_type": "stream",
     "text": [
      "x=2.5\n",
      "x=1.25\n",
      "x=0.625\n",
      "x=0.3125\n",
      "x=0.15625\n",
      "x=0.078125\n",
      "x=0.0390625\n",
      "\n",
      "After loop: x=0.0390625\n"
     ]
    }
   ],
   "source": [
    "x = 5\n",
    "\n",
    "while x > 0.05\n",
    "    #global x            #only needed in script\n",
    "    x = x/2\n",
    "    println(\"x=$x\")\n",
    "end    \n",
    "\n",
    "println(\"\\nAfter loop: x=$x\")"
   ]
  },
  {
   "cell_type": "markdown",
   "metadata": {},
   "source": [
    "## A More Complicated \"while loop\"\n",
    "\n",
    "The \"while loop\" in the next cell iterates until two variables ($x_0$ and $x_1$) get close.\n",
    "\n",
    "The *background to the example*: we want to solve for the $x$ value that makes $f(x)-c=0$. The *Newton-Raphson algorithm* starts with a value $x_0$ and updates it to\n",
    "\n",
    "$\n",
    "x_1 = x_0 - \\frac{f(x_0)-c}{f'(x_0)}\n",
    "$\n",
    "\n",
    "where $f'(x_0)$ is the derivative of $f()$ evaluated at $x_0$. The algorithm iterates until $x_0$ and $x_1$ are close. \n",
    "\n",
    "In the cell below, we are trying to find $x$ such that $x^2=c$, that is, the square root of $c$."
   ]
  },
  {
   "cell_type": "code",
   "execution_count": 18,
   "metadata": {},
   "outputs": [
    {
     "name": "stdout",
     "output_type": "stream",
     "text": [
      "Solving x^2 = c with Newton-Raphson:\n",
      "\n",
      "    10     is changed to      5.100\n",
      "     5.100 is changed to      2.746\n",
      "     2.746 is changed to      1.737\n",
      "     1.737 is changed to      1.444\n",
      "     1.444 is changed to      1.415\n",
      "     1.415 is changed to      1.414\n",
      "\n",
      "The result should be close to      1.414\n"
     ]
    }
   ],
   "source": [
    "println(\"Solving x^2 = c with Newton-Raphson:\\n\")\n",
    "\n",
    "f(x) = x^2       #a one-line function named f\n",
    "f´(x) = 2*x      #another one-line function, named `f´` (yes, the acute accent could be part of a name)\n",
    "c     = 2        #change to whatever positive number you want\n",
    "\n",
    "(x₀,x₁) = (Inf,10)         #x\\_0[TAB], 10 is the starting point, x₀=Inf to make sure we iterate\n",
    "\n",
    "while abs(x₁-x₀) > 0.001            #keep going until they get similar\n",
    "    #global x₀, x₁                  #only needed in script\n",
    "    x₀ = x₁                         #initial guess is taken from old guess\n",
    "    x₁ = x₀ - (f(x₀)-c)/f´(x₀)      #updating the guess, Newton-Raphson    \n",
    "    printlnPs(x₀,\" is changed to \",x₁)\n",
    "end\n",
    "\n",
    "printlnPs(\"\\nThe result should be close to \",sqrt(c))"
   ]
  },
  {
   "cell_type": "markdown",
   "metadata": {},
   "source": [
    "# A First Plot\n",
    "\n",
    "With the Plots package you create a a simple plot like this:\n",
    "\n",
    "1. Plot two curve by using the `plot([x1 x2],[y1 y2])` command\n",
    "2. Configure curves by `linecolor =`, `linestyle =` etc\n",
    "2. Add titles and labels by `title = `, `xlabel = `, etc\n",
    "\n",
    "Notice: the *first plot is slow*."
   ]
  },
  {
   "cell_type": "code",
   "execution_count": 19,
   "metadata": {},
   "outputs": [],
   "source": [
    "using Plots                 #this loads the Plots package\n",
    "\n",
    "gr(size=(480,320))\n",
    "default(fmt = :png)        # :svg gives prettier plots"
   ]
  },
  {
   "cell_type": "code",
   "execution_count": 20,
   "metadata": {},
   "outputs": [
    {
     "data": {
      "image/png": "[encoded data removed]",
      "image/svg+xml": [
       "<?xml version=\"1.0\" encoding=\"utf-8\"?>\n",
       "<svg xmlns=\"http://www.w3.org/2000/svg\" xmlns:xlink=\"http://www.w3.org/1999/xlink\" width=\"480\" height=\"320\" viewBox=\"0 0 1920 1280\">\n",
       "<defs>\n",
       "  <clipPath id=\"clip150\">\n",
       "    <rect x=\"0\" y=\"0\" width=\"1920\" height=\"1280\"/>\n",
       "  </clipPath>\n",
       "</defs>\n",
       "<path clip-path=\"url(#clip150)\" d=\"M0 1280 L1920 1280 L1920 0 L0 0  Z\" fill=\"#ffffff\" fill-rule=\"evenodd\" fill-opacity=\"1\"/>\n",
       "<defs>\n",
       "  <clipPath id=\"clip151\">\n",
       "    <rect x=\"384\" y=\"0\" width=\"1345\" height=\"1280\"/>\n",
       "  </clipPath>\n",
       "</defs>\n",
       "<path clip-path=\"url(#clip150)\" d=\"M199.164 1106.38 L1872.76 1106.38 L1872.76 123.472 L199.164 123.472  Z\" fill=\"#ffffff\" fill-rule=\"evenodd\" fill-opacity=\"1\"/>\n",
       "<defs>\n",
       "  <clipPath id=\"clip152\">\n",
       "    <rect x=\"199\" y=\"123\" width=\"1675\" height=\"984\"/>\n",
       "  </clipPath>\n",
       "</defs>\n",
       "<polyline clip-path=\"url(#clip152)\" style=\"stroke:#000000; stroke-linecap:round; stroke-linejoin:round; stroke-width:2; stroke-opacity:0.1; fill:none\" points=\"422.551,1106.38 422.551,123.472 \"/>\n",
       "<polyline clip-path=\"url(#clip152)\" style=\"stroke:#000000; stroke-linecap:round; stroke-linejoin:round; stroke-width:2; stroke-opacity:0.1; fill:none\" points=\"774.594,1106.38 774.594,123.472 \"/>\n",
       "<polyline clip-path=\"url(#clip152)\" style=\"stroke:#000000; stroke-linecap:round; stroke-linejoin:round; stroke-width:2; stroke-opacity:0.1; fill:none\" points=\"1126.64,1106.38 1126.64,123.472 \"/>\n",
       "<polyline clip-path=\"url(#clip152)\" style=\"stroke:#000000; stroke-linecap:round; stroke-linejoin:round; stroke-width:2; stroke-opacity:0.1; fill:none\" points=\"1478.68,1106.38 1478.68,123.472 \"/>\n",
       "<polyline clip-path=\"url(#clip152)\" style=\"stroke:#000000; stroke-linecap:round; stroke-linejoin:round; stroke-width:2; stroke-opacity:0.1; fill:none\" points=\"1830.72,1106.38 1830.72,123.472 \"/>\n",
       "<polyline clip-path=\"url(#clip150)\" style=\"stroke:#000000; stroke-linecap:round; stroke-linejoin:round; stroke-width:4; stroke-opacity:1; fill:none\" points=\"199.164,1106.38 1872.76,1106.38 \"/>\n",
       "<polyline clip-path=\"url(#clip150)\" style=\"stroke:#000000; stroke-linecap:round; stroke-linejoin:round; stroke-width:4; stroke-opacity:1; fill:none\" points=\"422.551,1106.38 422.551,1087.48 \"/>\n",
       "<polyline clip-path=\"url(#clip150)\" style=\"stroke:#000000; stroke-linecap:round; stroke-linejoin:round; stroke-width:4; stroke-opacity:1; fill:none\" points=\"774.594,1106.38 774.594,1087.48 \"/>\n",
       "<polyline clip-path=\"url(#clip150)\" style=\"stroke:#000000; stroke-linecap:round; stroke-linejoin:round; stroke-width:4; stroke-opacity:1; fill:none\" points=\"1126.64,1106.38 1126.64,1087.48 \"/>\n",
       "<polyline clip-path=\"url(#clip150)\" style=\"stroke:#000000; stroke-linecap:round; stroke-linejoin:round; stroke-width:4; stroke-opacity:1; fill:none\" points=\"1478.68,1106.38 1478.68,1087.48 \"/>\n",
       "<polyline clip-path=\"url(#clip150)\" style=\"stroke:#000000; stroke-linecap:round; stroke-linejoin:round; stroke-width:4; stroke-opacity:1; fill:none\" points=\"1830.72,1106.38 1830.72,1087.48 \"/>\n",
       "<path clip-path=\"url(#clip150)\" d=\"M392.493 1148.11 L422.169 1148.11 L422.169 1152.05 L392.493 1152.05 L392.493 1148.11 Z\" fill=\"#000000\" fill-rule=\"nonzero\" fill-opacity=\"1\" /><path clip-path=\"url(#clip150)\" d=\"M436.289 1161 L452.609 1161 L452.609 1164.94 L430.664 1164.94 L430.664 1161 Q433.326 1158.25 437.91 1153.62 Q442.516 1148.97 443.697 1147.63 Q445.942 1145.1 446.822 1143.37 Q447.725 1141.61 447.725 1139.92 Q447.725 1137.16 445.78 1135.43 Q443.859 1133.69 440.757 1133.69 Q438.558 1133.69 436.104 1134.45 Q433.674 1135.22 430.896 1136.77 L430.896 1132.05 Q433.72 1130.91 436.174 1130.33 Q438.627 1129.75 440.664 1129.75 Q446.035 1129.75 449.229 1132.44 Q452.424 1135.13 452.424 1139.62 Q452.424 1141.75 451.613 1143.67 Q450.826 1145.56 448.72 1148.16 Q448.141 1148.83 445.039 1152.05 Q441.937 1155.24 436.289 1161 Z\" fill=\"#000000\" fill-rule=\"nonzero\" fill-opacity=\"1\" /><path clip-path=\"url(#clip150)\" d=\"M774.594 1133.46 Q770.983 1133.46 769.155 1137.02 Q767.349 1140.56 767.349 1147.69 Q767.349 1154.8 769.155 1158.37 Q770.983 1161.91 774.594 1161.91 Q778.229 1161.91 780.034 1158.37 Q781.863 1154.8 781.863 1147.69 Q781.863 1140.56 780.034 1137.02 Q778.229 1133.46 774.594 1133.46 M774.594 1129.75 Q780.404 1129.75 783.46 1134.36 Q786.539 1138.94 786.539 1147.69 Q786.539 1156.42 783.46 1161.03 Q780.404 1165.61 774.594 1165.61 Q768.784 1165.61 765.705 1161.03 Q762.65 1156.42 762.65 1147.69 Q762.65 1138.94 765.705 1134.36 Q768.784 1129.75 774.594 1129.75 Z\" fill=\"#000000\" fill-rule=\"nonzero\" fill-opacity=\"1\" /><path clip-path=\"url(#clip150)\" d=\"M1121.29 1161 L1137.61 1161 L1137.61 1164.94 L1115.67 1164.94 L1115.67 1161 Q1118.33 1158.25 1122.91 1153.62 Q1127.52 1148.97 1128.7 1147.63 Q1130.94 1145.1 1131.82 1143.37 Q1132.73 1141.61 1132.73 1139.92 Q1132.73 1137.16 1130.78 1135.43 Q1128.86 1133.69 1125.76 1133.69 Q1123.56 1133.69 1121.11 1134.45 Q1118.67 1135.22 1115.9 1136.77 L1115.9 1132.05 Q1118.72 1130.91 1121.17 1130.33 Q1123.63 1129.75 1125.67 1129.75 Q1131.04 1129.75 1134.23 1132.44 Q1137.42 1135.13 1137.42 1139.62 Q1137.42 1141.75 1136.61 1143.67 Q1135.83 1145.56 1133.72 1148.16 Q1133.14 1148.83 1130.04 1152.05 Q1126.94 1155.24 1121.29 1161 Z\" fill=\"#000000\" fill-rule=\"nonzero\" fill-opacity=\"1\" /><path clip-path=\"url(#clip150)\" d=\"M1481.69 1134.45 L1469.88 1152.9 L1481.69 1152.9 L1481.69 1134.45 M1480.46 1130.38 L1486.34 1130.38 L1486.34 1152.9 L1491.27 1152.9 L1491.27 1156.79 L1486.34 1156.79 L1486.34 1164.94 L1481.69 1164.94 L1481.69 1156.79 L1466.09 1156.79 L1466.09 1152.28 L1480.46 1130.38 Z\" fill=\"#000000\" fill-rule=\"nonzero\" fill-opacity=\"1\" /><path clip-path=\"url(#clip150)\" d=\"M1831.13 1145.8 Q1827.98 1145.8 1826.13 1147.95 Q1824.3 1150.1 1824.3 1153.85 Q1824.3 1157.58 1826.13 1159.75 Q1827.98 1161.91 1831.13 1161.91 Q1834.28 1161.91 1836.11 1159.75 Q1837.96 1157.58 1837.96 1153.85 Q1837.96 1150.1 1836.11 1147.95 Q1834.28 1145.8 1831.13 1145.8 M1840.41 1131.14 L1840.41 1135.4 Q1838.65 1134.57 1836.85 1134.13 Q1835.06 1133.69 1833.31 1133.69 Q1828.68 1133.69 1826.22 1136.81 Q1823.79 1139.94 1823.44 1146.26 Q1824.81 1144.25 1826.87 1143.18 Q1828.93 1142.09 1831.41 1142.09 Q1836.62 1142.09 1839.62 1145.26 Q1842.66 1148.41 1842.66 1153.85 Q1842.66 1159.18 1839.51 1162.39 Q1836.36 1165.61 1831.13 1165.61 Q1825.13 1165.61 1821.96 1161.03 Q1818.79 1156.42 1818.79 1147.69 Q1818.79 1139.5 1822.68 1134.64 Q1826.57 1129.75 1833.12 1129.75 Q1834.88 1129.75 1836.66 1130.1 Q1838.47 1130.45 1840.41 1131.14 Z\" fill=\"#000000\" fill-rule=\"nonzero\" fill-opacity=\"1\" /><path clip-path=\"url(#clip150)\" d=\"M1052.57 1208.4 L1039.68 1225.74 L1053.24 1244.04 L1046.34 1244.04 L1035.96 1230.04 L1025.58 1244.04 L1018.68 1244.04 L1032.52 1225.39 L1019.85 1208.4 L1026.76 1208.4 L1036.21 1221.1 L1045.67 1208.4 L1052.57 1208.4 Z\" fill=\"#000000\" fill-rule=\"nonzero\" fill-opacity=\"1\" /><polyline clip-path=\"url(#clip152)\" style=\"stroke:#000000; stroke-linecap:round; stroke-linejoin:round; stroke-width:2; stroke-opacity:0.1; fill:none\" points=\"199.164,1040.27 1872.76,1040.27 \"/>\n",
       "<polyline clip-path=\"url(#clip152)\" style=\"stroke:#000000; stroke-linecap:round; stroke-linejoin:round; stroke-width:2; stroke-opacity:0.1; fill:none\" points=\"199.164,848.798 1872.76,848.798 \"/>\n",
       "<polyline clip-path=\"url(#clip152)\" style=\"stroke:#000000; stroke-linecap:round; stroke-linejoin:round; stroke-width:2; stroke-opacity:0.1; fill:none\" points=\"199.164,657.322 1872.76,657.322 \"/>\n",
       "<polyline clip-path=\"url(#clip152)\" style=\"stroke:#000000; stroke-linecap:round; stroke-linejoin:round; stroke-width:2; stroke-opacity:0.1; fill:none\" points=\"199.164,465.846 1872.76,465.846 \"/>\n",
       "<polyline clip-path=\"url(#clip152)\" style=\"stroke:#000000; stroke-linecap:round; stroke-linejoin:round; stroke-width:2; stroke-opacity:0.1; fill:none\" points=\"199.164,274.369 1872.76,274.369 \"/>\n",
       "<polyline clip-path=\"url(#clip150)\" style=\"stroke:#000000; stroke-linecap:round; stroke-linejoin:round; stroke-width:4; stroke-opacity:1; fill:none\" points=\"199.164,1106.38 199.164,123.472 \"/>\n",
       "<polyline clip-path=\"url(#clip150)\" style=\"stroke:#000000; stroke-linecap:round; stroke-linejoin:round; stroke-width:4; stroke-opacity:1; fill:none\" points=\"199.164,1040.27 218.061,1040.27 \"/>\n",
       "<polyline clip-path=\"url(#clip150)\" style=\"stroke:#000000; stroke-linecap:round; stroke-linejoin:round; stroke-width:4; stroke-opacity:1; fill:none\" points=\"199.164,848.798 218.061,848.798 \"/>\n",
       "<polyline clip-path=\"url(#clip150)\" style=\"stroke:#000000; stroke-linecap:round; stroke-linejoin:round; stroke-width:4; stroke-opacity:1; fill:none\" points=\"199.164,657.322 218.061,657.322 \"/>\n",
       "<polyline clip-path=\"url(#clip150)\" style=\"stroke:#000000; stroke-linecap:round; stroke-linejoin:round; stroke-width:4; stroke-opacity:1; fill:none\" points=\"199.164,465.846 218.061,465.846 \"/>\n",
       "<polyline clip-path=\"url(#clip150)\" style=\"stroke:#000000; stroke-linecap:round; stroke-linejoin:round; stroke-width:4; stroke-opacity:1; fill:none\" points=\"199.164,274.369 218.061,274.369 \"/>\n",
       "<path clip-path=\"url(#clip150)\" d=\"M158.419 1026.07 Q154.808 1026.07 152.979 1029.64 Q151.174 1033.18 151.174 1040.31 Q151.174 1047.42 152.979 1050.98 Q154.808 1054.52 158.419 1054.52 Q162.053 1054.52 163.859 1050.98 Q165.688 1047.42 165.688 1040.31 Q165.688 1033.18 163.859 1029.64 Q162.053 1026.07 158.419 1026.07 M158.419 1022.37 Q164.229 1022.37 167.285 1026.98 Q170.364 1031.56 170.364 1040.31 Q170.364 1049.04 167.285 1053.64 Q164.229 1058.23 158.419 1058.23 Q152.609 1058.23 149.53 1053.64 Q146.475 1049.04 146.475 1040.31 Q146.475 1031.56 149.53 1026.98 Q152.609 1022.37 158.419 1022.37 Z\" fill=\"#000000\" fill-rule=\"nonzero\" fill-opacity=\"1\" /><path clip-path=\"url(#clip150)\" d=\"M149.461 831.518 L167.817 831.518 L167.817 835.453 L153.743 835.453 L153.743 843.925 Q154.762 843.578 155.78 843.416 Q156.799 843.231 157.817 843.231 Q163.604 843.231 166.984 846.402 Q170.364 849.574 170.364 854.99 Q170.364 860.569 166.891 863.671 Q163.419 866.749 157.1 866.749 Q154.924 866.749 152.655 866.379 Q150.41 866.009 148.003 865.268 L148.003 860.569 Q150.086 861.703 152.308 862.259 Q154.53 862.814 157.007 862.814 Q161.012 862.814 163.35 860.708 Q165.688 858.601 165.688 854.99 Q165.688 851.379 163.35 849.273 Q161.012 847.166 157.007 847.166 Q155.132 847.166 153.257 847.583 Q151.405 848 149.461 848.879 L149.461 831.518 Z\" fill=\"#000000\" fill-rule=\"nonzero\" fill-opacity=\"1\" /><path clip-path=\"url(#clip150)\" d=\"M119.068 670.667 L126.706 670.667 L126.706 644.301 L118.396 645.968 L118.396 641.708 L126.66 640.042 L131.336 640.042 L131.336 670.667 L138.975 670.667 L138.975 674.602 L119.068 674.602 L119.068 670.667 Z\" fill=\"#000000\" fill-rule=\"nonzero\" fill-opacity=\"1\" /><path clip-path=\"url(#clip150)\" d=\"M158.419 643.121 Q154.808 643.121 152.979 646.685 Q151.174 650.227 151.174 657.357 Q151.174 664.463 152.979 668.028 Q154.808 671.569 158.419 671.569 Q162.053 671.569 163.859 668.028 Q165.688 664.463 165.688 657.357 Q165.688 650.227 163.859 646.685 Q162.053 643.121 158.419 643.121 M158.419 639.417 Q164.229 639.417 167.285 644.023 Q170.364 648.607 170.364 657.357 Q170.364 666.083 167.285 670.69 Q164.229 675.273 158.419 675.273 Q152.609 675.273 149.53 670.69 Q146.475 666.083 146.475 657.357 Q146.475 648.607 149.53 644.023 Q152.609 639.417 158.419 639.417 Z\" fill=\"#000000\" fill-rule=\"nonzero\" fill-opacity=\"1\" /><path clip-path=\"url(#clip150)\" d=\"M120.063 479.19 L127.702 479.19 L127.702 452.825 L119.392 454.491 L119.392 450.232 L127.655 448.566 L132.331 448.566 L132.331 479.19 L139.97 479.19 L139.97 483.126 L120.063 483.126 L120.063 479.19 Z\" fill=\"#000000\" fill-rule=\"nonzero\" fill-opacity=\"1\" /><path clip-path=\"url(#clip150)\" d=\"M149.461 448.566 L167.817 448.566 L167.817 452.501 L153.743 452.501 L153.743 460.973 Q154.762 460.626 155.78 460.464 Q156.799 460.278 157.817 460.278 Q163.604 460.278 166.984 463.45 Q170.364 466.621 170.364 472.038 Q170.364 477.616 166.891 480.718 Q163.419 483.797 157.1 483.797 Q154.924 483.797 152.655 483.426 Q150.41 483.056 148.003 482.315 L148.003 477.616 Q150.086 478.751 152.308 479.306 Q154.53 479.862 157.007 479.862 Q161.012 479.862 163.35 477.755 Q165.688 475.649 165.688 472.038 Q165.688 468.427 163.35 466.32 Q161.012 464.214 157.007 464.214 Q155.132 464.214 153.257 464.63 Q151.405 465.047 149.461 465.927 L149.461 448.566 Z\" fill=\"#000000\" fill-rule=\"nonzero\" fill-opacity=\"1\" /><path clip-path=\"url(#clip150)\" d=\"M122.285 287.714 L138.604 287.714 L138.604 291.649 L116.66 291.649 L116.66 287.714 Q119.322 284.959 123.905 280.33 Q128.512 275.677 129.692 274.335 Q131.938 271.811 132.817 270.075 Q133.72 268.316 133.72 266.626 Q133.72 263.872 131.776 262.136 Q129.855 260.399 126.753 260.399 Q124.554 260.399 122.1 261.163 Q119.669 261.927 116.892 263.478 L116.892 258.756 Q119.716 257.622 122.169 257.043 Q124.623 256.464 126.66 256.464 Q132.03 256.464 135.225 259.149 Q138.419 261.835 138.419 266.325 Q138.419 268.455 137.609 270.376 Q136.822 272.274 134.716 274.867 Q134.137 275.538 131.035 278.756 Q127.933 281.95 122.285 287.714 Z\" fill=\"#000000\" fill-rule=\"nonzero\" fill-opacity=\"1\" /><path clip-path=\"url(#clip150)\" d=\"M158.419 260.168 Q154.808 260.168 152.979 263.733 Q151.174 267.274 151.174 274.404 Q151.174 281.51 152.979 285.075 Q154.808 288.617 158.419 288.617 Q162.053 288.617 163.859 285.075 Q165.688 281.51 165.688 274.404 Q165.688 267.274 163.859 263.733 Q162.053 260.168 158.419 260.168 M158.419 256.464 Q164.229 256.464 167.285 261.071 Q170.364 265.654 170.364 274.404 Q170.364 283.131 167.285 287.737 Q164.229 292.321 158.419 292.321 Q152.609 292.321 149.53 287.737 Q146.475 283.131 146.475 274.404 Q146.475 265.654 149.53 261.071 Q152.609 256.464 158.419 256.464 Z\" fill=\"#000000\" fill-rule=\"nonzero\" fill-opacity=\"1\" /><path clip-path=\"url(#clip150)\" d=\"M44.7993 850.537 Q40.8526 848.341 38.9747 845.285 Q37.0968 842.229 37.0968 838.092 Q37.0968 832.522 41.0117 829.498 Q44.8948 826.474 52.0881 826.474 L73.6042 826.474 L73.6042 832.363 L52.279 832.363 Q47.1546 832.363 44.672 834.177 Q42.1894 835.991 42.1894 839.715 Q42.1894 844.266 45.2131 846.908 Q48.2368 849.55 53.4567 849.55 L73.6042 849.55 L73.6042 855.438 L52.279 855.438 Q47.1228 855.438 44.672 857.253 Q42.1894 859.067 42.1894 862.854 Q42.1894 867.342 45.2449 869.984 Q48.2686 872.626 53.4567 872.626 L73.6042 872.626 L73.6042 878.514 L37.9562 878.514 L37.9562 872.626 L43.4944 872.626 Q40.216 870.621 38.6564 867.82 Q37.0968 865.019 37.0968 861.167 Q37.0968 857.284 39.0702 854.579 Q41.0436 851.842 44.7993 850.537 Z\" fill=\"#000000\" fill-rule=\"nonzero\" fill-opacity=\"1\" /><path clip-path=\"url(#clip150)\" d=\"M76.9143 799.961 Q83.28 802.444 85.2216 804.799 Q87.1631 807.154 87.1631 811.101 L87.1631 815.78 L82.2615 815.78 L82.2615 812.342 Q82.2615 809.923 81.1157 808.587 Q79.9699 807.25 75.7048 805.627 L73.0312 804.576 L37.9562 818.995 L37.9562 812.788 L65.838 801.648 L37.9562 790.508 L37.9562 784.302 L76.9143 799.961 Z\" fill=\"#000000\" fill-rule=\"nonzero\" fill-opacity=\"1\" /><path clip-path=\"url(#clip150)\" d=\"M42.0621 741.683 Q42.0621 746.394 45.7542 749.131 Q49.4145 751.868 55.812 751.868 Q62.2095 751.868 65.9017 749.163 Q69.5619 746.426 69.5619 741.683 Q69.5619 737.004 65.8698 734.267 Q62.1777 731.53 55.812 731.53 Q49.4781 731.53 45.786 734.267 Q42.0621 737.004 42.0621 741.683 M37.0968 741.683 Q37.0968 734.044 42.0621 729.684 Q47.0273 725.323 55.812 725.323 Q64.5649 725.323 69.5619 729.684 Q74.5272 734.044 74.5272 741.683 Q74.5272 749.354 69.5619 753.714 Q64.5649 758.043 55.812 758.043 Q47.0273 758.043 42.0621 753.714 Q37.0968 749.354 37.0968 741.683 Z\" fill=\"#000000\" fill-rule=\"nonzero\" fill-opacity=\"1\" /><path clip-path=\"url(#clip150)\" d=\"M59.5359 716.22 L37.9562 716.22 L37.9562 710.364 L59.3131 710.364 Q64.3739 710.364 66.9202 708.39 Q69.4346 706.417 69.4346 702.47 Q69.4346 697.728 66.4109 694.991 Q63.3872 692.222 58.1673 692.222 L37.9562 692.222 L37.9562 686.365 L73.6042 686.365 L73.6042 692.222 L68.1296 692.222 Q71.3762 694.354 72.9676 697.187 Q74.5272 699.988 74.5272 703.712 Q74.5272 709.855 70.7078 713.037 Q66.8883 716.22 59.5359 716.22 M37.0968 701.484 L37.0968 701.484 Z\" fill=\"#000000\" fill-rule=\"nonzero\" fill-opacity=\"1\" /><path clip-path=\"url(#clip150)\" d=\"M27.8347 668.509 L37.9562 668.509 L37.9562 656.446 L42.5077 656.446 L42.5077 668.509 L61.8594 668.509 Q66.2199 668.509 67.4613 667.332 Q68.7026 666.122 68.7026 662.462 L68.7026 656.446 L73.6042 656.446 L73.6042 662.462 Q73.6042 669.241 71.0897 671.819 Q68.5434 674.398 61.8594 674.398 L42.5077 674.398 L42.5077 678.694 L37.9562 678.694 L37.9562 674.398 L27.8347 674.398 L27.8347 668.509 Z\" fill=\"#000000\" fill-rule=\"nonzero\" fill-opacity=\"1\" /><path clip-path=\"url(#clip150)\" d=\"M68.257 643.078 L87.1631 643.078 L87.1631 648.967 L37.9562 648.967 L37.9562 643.078 L43.3671 643.078 Q40.1842 641.232 38.6564 638.431 Q37.0968 635.599 37.0968 631.684 Q37.0968 625.191 42.2531 621.148 Q47.4093 617.074 55.812 617.074 Q64.2147 617.074 69.371 621.148 Q74.5272 625.191 74.5272 631.684 Q74.5272 635.599 72.9994 638.431 Q71.4398 641.232 68.257 643.078 M55.812 623.154 Q49.3508 623.154 45.6905 625.827 Q41.9984 628.469 41.9984 633.116 Q41.9984 637.763 45.6905 640.437 Q49.3508 643.078 55.812 643.078 Q62.2732 643.078 65.9653 640.437 Q69.6256 637.763 69.6256 633.116 Q69.6256 628.469 65.9653 625.827 Q62.2732 623.154 55.812 623.154 Z\" fill=\"#000000\" fill-rule=\"nonzero\" fill-opacity=\"1\" /><path clip-path=\"url(#clip150)\" d=\"M59.5359 607.971 L37.9562 607.971 L37.9562 602.115 L59.3131 602.115 Q64.3739 602.115 66.9202 600.142 Q69.4346 598.168 69.4346 594.222 Q69.4346 589.479 66.4109 586.742 Q63.3872 583.973 58.1673 583.973 L37.9562 583.973 L37.9562 578.116 L73.6042 578.116 L73.6042 583.973 L68.1296 583.973 Q71.3762 586.105 72.9676 588.938 Q74.5272 591.739 74.5272 595.463 Q74.5272 601.606 70.7078 604.789 Q66.8883 607.971 59.5359 607.971 M37.0968 593.235 L37.0968 593.235 Z\" fill=\"#000000\" fill-rule=\"nonzero\" fill-opacity=\"1\" /><path clip-path=\"url(#clip150)\" d=\"M27.8347 560.26 L37.9562 560.26 L37.9562 548.197 L42.5077 548.197 L42.5077 560.26 L61.8594 560.26 Q66.2199 560.26 67.4613 559.083 Q68.7026 557.873 68.7026 554.213 L68.7026 548.197 L73.6042 548.197 L73.6042 554.213 Q73.6042 560.993 71.0897 563.571 Q68.5434 566.149 61.8594 566.149 L42.5077 566.149 L42.5077 570.446 L37.9562 570.446 L37.9562 566.149 L27.8347 566.149 L27.8347 560.26 Z\" fill=\"#000000\" fill-rule=\"nonzero\" fill-opacity=\"1\" /><path clip-path=\"url(#clip150)\" d=\"M37.9562 523.976 L37.9562 517.769 L67.875 506.629 L37.9562 495.489 L37.9562 489.283 L73.6042 502.651 L73.6042 510.608 L37.9562 523.976 Z\" fill=\"#000000\" fill-rule=\"nonzero\" fill-opacity=\"1\" /><path clip-path=\"url(#clip150)\" d=\"M55.6847 464.998 Q55.6847 472.095 57.3079 474.833 Q58.9312 477.57 62.8461 477.57 Q65.9653 477.57 67.8114 475.533 Q69.6256 473.464 69.6256 469.931 Q69.6256 465.061 66.1881 462.133 Q62.7188 459.173 56.9897 459.173 L55.6847 459.173 L55.6847 464.998 M53.2657 453.317 L73.6042 453.317 L73.6042 459.173 L68.1933 459.173 Q71.4398 461.178 72.9994 464.17 Q74.5272 467.162 74.5272 471.491 Q74.5272 476.965 71.4716 480.212 Q68.3843 483.426 63.2281 483.426 Q57.2125 483.426 54.1569 479.416 Q51.1014 475.374 51.1014 467.385 L51.1014 459.173 L50.5285 459.173 Q46.4862 459.173 44.2901 461.847 Q42.0621 464.488 42.0621 469.295 Q42.0621 472.35 42.7941 475.246 Q43.5262 478.143 44.9903 480.816 L39.5795 480.816 Q38.3381 477.602 37.7334 474.578 Q37.0968 471.554 37.0968 468.69 Q37.0968 460.955 41.1072 457.136 Q45.1176 453.317 53.2657 453.317 Z\" fill=\"#000000\" fill-rule=\"nonzero\" fill-opacity=\"1\" /><path clip-path=\"url(#clip150)\" d=\"M24.079 441.254 L24.079 435.397 L73.6042 435.397 L73.6042 441.254 L24.079 441.254 Z\" fill=\"#000000\" fill-rule=\"nonzero\" fill-opacity=\"1\" /><path clip-path=\"url(#clip150)\" d=\"M59.5359 423.748 L37.9562 423.748 L37.9562 417.891 L59.3131 417.891 Q64.3739 417.891 66.9202 415.918 Q69.4346 413.945 69.4346 409.998 Q69.4346 405.256 66.4109 402.518 Q63.3872 399.749 58.1673 399.749 L37.9562 399.749 L37.9562 393.893 L73.6042 393.893 L73.6042 399.749 L68.1296 399.749 Q71.3762 401.882 72.9676 404.714 Q74.5272 407.515 74.5272 411.239 Q74.5272 417.382 70.7078 420.565 Q66.8883 423.748 59.5359 423.748 M37.0968 409.011 L37.0968 409.011 Z\" fill=\"#000000\" fill-rule=\"nonzero\" fill-opacity=\"1\" /><path clip-path=\"url(#clip150)\" d=\"M54.3161 351.338 L57.1806 351.338 L57.1806 378.265 Q63.2281 377.883 66.4109 374.636 Q69.5619 371.358 69.5619 365.534 Q69.5619 362.16 68.7344 359.009 Q67.9069 355.826 66.2518 352.707 L71.7899 352.707 Q73.1267 355.858 73.827 359.168 Q74.5272 362.478 74.5272 365.884 Q74.5272 374.414 69.5619 379.411 Q64.5967 384.376 56.1303 384.376 Q47.3774 384.376 42.2531 379.665 Q37.0968 374.923 37.0968 366.902 Q37.0968 359.709 41.7438 355.539 Q46.3589 351.338 54.3161 351.338 M52.5973 357.194 Q47.7912 357.258 44.9266 359.9 Q42.0621 362.51 42.0621 366.838 Q42.0621 371.74 44.8312 374.7 Q47.6002 377.628 52.6292 378.074 L52.5973 357.194 Z\" fill=\"#000000\" fill-rule=\"nonzero\" fill-opacity=\"1\" /><path clip-path=\"url(#clip150)\" d=\"M818.75 12.096 L830.943 12.096 L846.377 53.2532 L861.892 12.096 L874.086 12.096 L874.086 72.576 L866.105 72.576 L866.105 19.4686 L850.509 60.9499 L842.286 60.9499 L826.69 19.4686 L826.69 72.576 L818.75 72.576 L818.75 12.096 Z\" fill=\"#000000\" fill-rule=\"nonzero\" fill-opacity=\"1\" /><path clip-path=\"url(#clip150)\" d=\"M908.883 76.7889 Q905.723 84.8907 902.725 87.3618 Q899.728 89.8329 894.705 89.8329 L888.75 89.8329 L888.75 83.5945 L893.125 83.5945 Q896.204 83.5945 897.905 82.1361 Q899.606 80.6778 901.672 75.2496 L903.009 71.8468 L884.658 27.2059 L892.558 27.2059 L906.736 62.6918 L920.914 27.2059 L928.813 27.2059 L908.883 76.7889 Z\" fill=\"#000000\" fill-rule=\"nonzero\" fill-opacity=\"1\" /><path clip-path=\"url(#clip150)\" d=\"M994.478 44.2197 Q997.112 45.1109 999.583 48.0275 Q1002.09 50.9442 1004.61 56.0483 L1012.91 72.576 L1004.12 72.576 L996.382 57.061 Q993.385 50.9847 990.549 48.9997 Q987.754 47.0148 982.893 47.0148 L973.981 47.0148 L973.981 72.576 L965.798 72.576 L965.798 12.096 L984.27 12.096 Q994.641 12.096 999.745 16.4305 Q1004.85 20.7649 1004.85 29.5149 Q1004.85 35.2267 1002.18 38.994 Q999.542 42.7613 994.478 44.2197 M973.981 18.8205 L973.981 40.2903 L984.27 40.2903 Q990.185 40.2903 993.182 37.5762 Q996.22 34.8216 996.22 29.5149 Q996.22 24.2082 993.182 21.5346 Q990.185 18.8205 984.27 18.8205 L973.981 18.8205 Z\" fill=\"#000000\" fill-rule=\"nonzero\" fill-opacity=\"1\" /><path clip-path=\"url(#clip150)\" d=\"M1058.2 48.0275 L1058.2 51.6733 L1023.93 51.6733 Q1024.41 59.3701 1028.55 63.421 Q1032.72 67.4314 1040.13 67.4314 Q1044.43 67.4314 1048.44 66.3781 Q1052.49 65.3249 1056.46 63.2184 L1056.46 70.267 Q1052.45 71.9684 1048.23 72.8596 Q1044.02 73.7508 1039.69 73.7508 Q1028.83 73.7508 1022.47 67.4314 Q1016.15 61.1119 1016.15 50.3365 Q1016.15 39.1965 1022.15 32.6746 Q1028.18 26.1121 1038.39 26.1121 Q1047.55 26.1121 1052.85 32.0264 Q1058.2 37.9003 1058.2 48.0275 M1050.75 45.84 Q1050.66 39.7232 1047.3 36.0774 Q1043.98 32.4315 1038.47 32.4315 Q1032.23 32.4315 1028.47 35.9558 Q1024.74 39.4801 1024.17 45.8805 L1050.75 45.84 Z\" fill=\"#000000\" fill-rule=\"nonzero\" fill-opacity=\"1\" /><path clip-path=\"url(#clip150)\" d=\"M1099.36 28.5427 L1099.36 35.5912 Q1096.2 33.9709 1092.79 33.1607 Q1089.39 32.3505 1085.75 32.3505 Q1080.2 32.3505 1077.4 34.0519 Q1074.65 35.7533 1074.65 39.156 Q1074.65 41.7486 1076.63 43.2475 Q1078.62 44.7058 1084.61 46.0426 L1087.16 46.6097 Q1095.1 48.3111 1098.42 51.4303 Q1101.79 54.509 1101.79 60.0587 Q1101.79 66.3781 1096.76 70.0644 Q1091.78 73.7508 1083.03 73.7508 Q1079.39 73.7508 1075.42 73.0216 Q1071.49 72.3329 1067.11 70.9151 L1067.11 63.2184 Q1071.24 65.3654 1075.25 66.4591 Q1079.26 67.5124 1083.19 67.5124 Q1088.46 67.5124 1091.3 65.73 Q1094.13 63.9071 1094.13 60.6258 Q1094.13 57.5877 1092.06 55.9673 Q1090.04 54.3469 1083.11 52.8481 L1080.52 52.2405 Q1073.59 50.7821 1070.51 47.7845 Q1067.44 44.7463 1067.44 39.4801 Q1067.44 33.0797 1071.97 29.5959 Q1076.51 26.1121 1084.85 26.1121 Q1088.99 26.1121 1092.63 26.7198 Q1096.28 27.3274 1099.36 28.5427 Z\" fill=\"#000000\" fill-rule=\"nonzero\" fill-opacity=\"1\" /><path clip-path=\"url(#clip150)\" d=\"M1112.89 54.671 L1112.89 27.2059 L1120.34 27.2059 L1120.34 54.3874 Q1120.34 60.8284 1122.85 64.0691 Q1125.36 67.2693 1130.39 67.2693 Q1136.42 67.2693 1139.91 63.421 Q1143.43 59.5726 1143.43 52.9291 L1143.43 27.2059 L1150.88 27.2059 L1150.88 72.576 L1143.43 72.576 L1143.43 65.6084 Q1140.72 69.7404 1137.11 71.7658 Q1133.55 73.7508 1128.81 73.7508 Q1120.99 73.7508 1116.94 68.8897 Q1112.89 64.0286 1112.89 54.671 M1131.64 26.1121 L1131.64 26.1121 Z\" fill=\"#000000\" fill-rule=\"nonzero\" fill-opacity=\"1\" /><path clip-path=\"url(#clip150)\" d=\"M1166.24 9.54393 L1173.69 9.54393 L1173.69 72.576 L1166.24 72.576 L1166.24 9.54393 Z\" fill=\"#000000\" fill-rule=\"nonzero\" fill-opacity=\"1\" /><path clip-path=\"url(#clip150)\" d=\"M1196.66 14.324 L1196.66 27.2059 L1212.01 27.2059 L1212.01 32.9987 L1196.66 32.9987 L1196.66 57.6282 Q1196.66 63.1779 1198.16 64.7578 Q1199.7 66.3376 1204.36 66.3376 L1212.01 66.3376 L1212.01 72.576 L1204.36 72.576 Q1195.73 72.576 1192.45 69.3758 Q1189.16 66.1351 1189.16 57.6282 L1189.16 32.9987 L1183.7 32.9987 L1183.7 27.2059 L1189.16 27.2059 L1189.16 14.324 L1196.66 14.324 Z\" fill=\"#000000\" fill-rule=\"nonzero\" fill-opacity=\"1\" /><path clip-path=\"url(#clip150)\" d=\"M1250.74 28.5427 L1250.74 35.5912 Q1247.58 33.9709 1244.18 33.1607 Q1240.77 32.3505 1237.13 32.3505 Q1231.58 32.3505 1228.78 34.0519 Q1226.03 35.7533 1226.03 39.156 Q1226.03 41.7486 1228.01 43.2475 Q1230 44.7058 1235.99 46.0426 L1238.55 46.6097 Q1246.49 48.3111 1249.81 51.4303 Q1253.17 54.509 1253.17 60.0587 Q1253.17 66.3781 1248.15 70.0644 Q1243.16 73.7508 1234.41 73.7508 Q1230.77 73.7508 1226.8 73.0216 Q1222.87 72.3329 1218.49 70.9151 L1218.49 63.2184 Q1222.63 65.3654 1226.64 66.4591 Q1230.65 67.5124 1234.58 67.5124 Q1239.84 67.5124 1242.68 65.73 Q1245.51 63.9071 1245.51 60.6258 Q1245.51 57.5877 1243.45 55.9673 Q1241.42 54.3469 1234.49 52.8481 L1231.9 52.2405 Q1224.97 50.7821 1221.9 47.7845 Q1218.82 44.7463 1218.82 39.4801 Q1218.82 33.0797 1223.35 29.5959 Q1227.89 26.1121 1236.24 26.1121 Q1240.37 26.1121 1244.01 26.7198 Q1247.66 27.3274 1250.74 28.5427 Z\" fill=\"#000000\" fill-rule=\"nonzero\" fill-opacity=\"1\" /><polyline clip-path=\"url(#clip152)\" style=\"stroke:#ff0000; stroke-linecap:round; stroke-linejoin:round; stroke-width:8; stroke-opacity:1; fill:none\" points=\"246.529,415.679 257.197,434.57 267.865,453.179 278.533,471.508 289.201,489.554 299.869,507.32 310.537,524.804 321.205,542.007 331.873,558.929 342.541,575.569 353.209,591.928 363.877,608.006 374.545,623.802 385.213,639.317 395.881,654.551 406.549,669.504 417.217,684.175 427.885,698.564 438.553,712.673 449.221,726.5 459.889,740.046 470.557,753.31 481.225,766.293 491.893,778.995 502.561,791.415 513.229,803.554 523.897,815.412 534.565,826.989 545.233,838.284 555.901,849.298 566.569,860.03 577.237,870.482 587.905,880.651 598.573,890.54 609.241,900.147 619.909,909.473 630.577,918.518 641.245,927.281 651.913,935.763 662.581,943.963 673.248,951.883 683.916,959.521 694.584,966.877 705.252,973.953 715.92,980.747 726.588,987.259 737.256,993.491 747.924,999.441 758.592,1005.11 769.26,1010.5 779.928,1015.6 790.596,1020.43 801.264,1024.97 811.932,1029.23 822.6,1033.21 833.268,1036.91 843.936,1040.33 854.604,1043.47 865.272,1046.32 875.94,1048.9 886.608,1051.19 897.276,1053.2 907.944,1054.93 918.612,1056.38 929.28,1057.55 939.948,1058.43 950.616,1059.04 961.284,1059.36 971.952,1059.4 982.62,1059.17 993.288,1058.65 1003.96,1057.84 1014.62,1056.76 1025.29,1055.4 1035.96,1053.75 1046.63,1051.82 1057.3,1049.61 1067.96,1047.12 1078.63,1044.35 1089.3,1041.3 1099.97,1037.97 1110.64,1034.35 1121.3,1030.46 1131.97,1026.28 1142.64,1021.82 1153.31,1017.08 1163.98,1012.06 1174.64,1006.75 1185.31,1001.17 1195.98,995.305 1206.65,989.158 1217.32,982.73 1227.98,976.02 1238.65,969.029 1249.32,961.757 1259.99,954.204 1270.66,946.369 1281.32,938.253 1291.99,929.855 1302.66,921.176 1313.33,912.216 1324,902.974 1334.66,893.452 1345.33,883.647 1356,873.562 1366.67,863.195 1377.34,852.547 1388,841.618 1398.67,830.407 1409.34,818.915 1420.01,807.141 1430.67,795.087 1441.34,782.751 1452.01,770.133 1462.68,757.234 1473.35,744.054 1484.01,730.593 1494.68,716.85 1505.35,702.826 1516.02,688.521 1526.69,673.934 1537.35,659.066 1548.02,643.917 1558.69,628.486 1569.36,612.774 1580.03,596.781 1590.69,580.507 1601.36,563.951 1612.03,547.113 1622.7,529.995 1633.37,512.595 1644.03,494.914 1654.7,476.951 1665.37,458.707 1676.04,440.182 1686.71,421.376 1697.37,402.288 1708.04,382.919 1718.71,363.268 1729.38,343.336 1740.05,323.123 1750.71,302.629 1761.38,281.853 1772.05,260.796 1782.72,239.457 1793.39,217.838 1804.05,195.936 1814.72,173.754 1825.39,151.29 \"/>\n",
       "<polyline clip-path=\"url(#clip152)\" style=\"stroke:#0000ff; stroke-linecap:round; stroke-linejoin:round; stroke-width:4; stroke-opacity:1; fill:none\" stroke-dasharray=\"16, 10\" points=\"246.529,1078.19 257.197,1077.79 267.865,1077.25 278.533,1076.58 289.201,1075.78 299.869,1074.85 310.537,1073.79 321.205,1072.6 331.873,1071.3 342.541,1069.88 353.209,1068.36 363.877,1066.73 374.545,1065 385.213,1063.18 395.881,1061.28 406.549,1059.31 417.217,1057.26 427.885,1055.15 438.553,1052.98 449.221,1050.77 459.889,1048.52 470.557,1046.24 481.225,1043.94 491.893,1041.62 502.561,1039.3 513.229,1036.99 523.897,1034.68 534.565,1032.4 545.233,1030.14 555.901,1027.92 566.569,1025.75 577.237,1023.63 587.905,1021.57 598.573,1019.58 609.241,1017.67 619.909,1015.84 630.577,1014.1 641.245,1012.45 651.913,1010.91 662.581,1009.47 673.248,1008.15 683.916,1006.95 694.584,1005.87 705.252,1004.91 715.92,1004.09 726.588,1003.39 737.256,1002.84 747.924,1002.42 758.592,1002.14 769.26,1002 779.928,1002 790.596,1002.14 801.264,1002.42 811.932,1002.84 822.6,1003.39 833.268,1004.09 843.936,1004.91 854.604,1005.87 865.272,1006.95 875.94,1008.15 886.608,1009.47 897.276,1010.91 907.944,1012.45 918.612,1014.1 929.28,1015.84 939.948,1017.67 950.616,1019.58 961.284,1021.57 971.952,1023.63 982.62,1025.75 993.288,1027.92 1003.96,1030.14 1014.62,1032.4 1025.29,1034.68 1035.96,1036.99 1046.63,1039.3 1057.3,1041.62 1067.96,1043.94 1078.63,1046.24 1089.3,1048.52 1099.97,1050.77 1110.64,1052.98 1121.3,1055.15 1131.97,1057.26 1142.64,1059.31 1153.31,1061.28 1163.98,1063.18 1174.64,1065 1185.31,1066.73 1195.98,1068.36 1206.65,1069.88 1217.32,1071.3 1227.98,1072.6 1238.65,1073.79 1249.32,1074.85 1259.99,1075.78 1270.66,1076.58 1281.32,1077.25 1291.99,1077.79 1302.66,1078.19 1313.33,1078.44 1324,1078.56 1334.66,1078.54 1345.33,1078.38 1356,1078.07 1366.67,1077.63 1377.34,1077.05 1388,1076.34 1398.67,1075.49 1409.34,1074.51 1420.01,1073.41 1430.67,1072.19 1441.34,1070.85 1452.01,1069.39 1462.68,1067.83 1473.35,1066.17 1484.01,1064.42 1494.68,1062.57 1505.35,1060.64 1516.02,1058.64 1526.69,1056.57 1537.35,1054.45 1548.02,1052.26 1558.69,1050.04 1569.36,1047.78 1580.03,1045.49 1590.69,1043.18 1601.36,1040.86 1612.03,1038.54 1622.7,1036.23 1633.37,1033.93 1644.03,1031.66 1654.7,1029.41 1665.37,1027.21 1676.04,1025.05 1686.71,1022.95 1697.37,1020.91 1708.04,1018.95 1718.71,1017.06 1729.38,1015.26 1740.05,1013.55 1750.71,1011.94 1761.38,1010.43 1772.05,1009.03 1782.72,1007.75 1793.39,1006.58 1804.05,1005.54 1814.72,1004.63 1825.39,1003.85 \"/>\n",
       "<path clip-path=\"url(#clip150)\" d=\"M254.95 311.756 L531.035 311.756 L531.035 156.236 L254.95 156.236  Z\" fill=\"#ffffff\" fill-rule=\"evenodd\" fill-opacity=\"1\"/>\n",
       "<polyline clip-path=\"url(#clip150)\" style=\"stroke:#000000; stroke-linecap:round; stroke-linejoin:round; stroke-width:4; stroke-opacity:1; fill:none\" points=\"254.95,311.756 531.035,311.756 531.035,156.236 254.95,156.236 254.95,311.756 \"/>\n",
       "<polyline clip-path=\"url(#clip150)\" style=\"stroke:#ff0000; stroke-linecap:round; stroke-linejoin:round; stroke-width:8; stroke-opacity:1; fill:none\" points=\"273.545,208.076 385.118,208.076 \"/>\n",
       "<path clip-path=\"url(#clip150)\" d=\"M420.218 189.337 L420.218 192.879 L416.144 192.879 Q413.853 192.879 412.95 193.805 Q412.07 194.731 412.07 197.138 L412.07 199.43 L419.084 199.43 L419.084 202.74 L412.07 202.74 L412.07 225.356 L407.788 225.356 L407.788 202.74 L403.714 202.74 L403.714 199.43 L407.788 199.43 L407.788 197.624 Q407.788 193.296 409.802 191.328 Q411.816 189.337 416.191 189.337 L420.218 189.337 Z\" fill=\"#000000\" fill-rule=\"nonzero\" fill-opacity=\"1\" /><path clip-path=\"url(#clip150)\" d=\"M445.334 209.708 L445.334 225.356 L441.075 225.356 L441.075 209.847 Q441.075 206.166 439.639 204.337 Q438.204 202.509 435.334 202.509 Q431.885 202.509 429.894 204.708 Q427.903 206.907 427.903 210.703 L427.903 225.356 L423.621 225.356 L423.621 199.43 L427.903 199.43 L427.903 203.458 Q429.431 201.12 431.491 199.962 Q433.575 198.805 436.283 198.805 Q440.751 198.805 443.042 201.583 Q445.334 204.337 445.334 209.708 Z\" fill=\"#000000\" fill-rule=\"nonzero\" fill-opacity=\"1\" /><path clip-path=\"url(#clip150)\" d=\"M455.241 221.421 L462.88 221.421 L462.88 195.055 L454.57 196.722 L454.57 192.462 L462.834 190.796 L467.51 190.796 L467.51 221.421 L475.149 221.421 L475.149 225.356 L455.241 225.356 L455.241 221.421 Z\" fill=\"#000000\" fill-rule=\"nonzero\" fill-opacity=\"1\" /><path clip-path=\"url(#clip150)\" d=\"M494.223 189.384 Q491.121 194.708 489.616 199.916 Q488.111 205.124 488.111 210.472 Q488.111 215.819 489.616 221.073 Q491.144 226.305 494.223 231.606 L490.519 231.606 Q487.047 226.166 485.311 220.911 Q483.598 215.657 483.598 210.472 Q483.598 205.31 485.311 200.078 Q487.023 194.847 490.519 189.384 L494.223 189.384 Z\" fill=\"#000000\" fill-rule=\"nonzero\" fill-opacity=\"1\" /><path clip-path=\"url(#clip150)\" d=\"M501.815 189.384 L505.519 189.384 Q508.991 194.847 510.704 200.078 Q512.44 205.31 512.44 210.472 Q512.44 215.657 510.704 220.911 Q508.991 226.166 505.519 231.606 L501.815 231.606 Q504.894 226.305 506.398 221.073 Q507.926 215.819 507.926 210.472 Q507.926 205.124 506.398 199.916 Q504.894 194.708 501.815 189.384 Z\" fill=\"#000000\" fill-rule=\"nonzero\" fill-opacity=\"1\" /><polyline clip-path=\"url(#clip150)\" style=\"stroke:#0000ff; stroke-linecap:round; stroke-linejoin:round; stroke-width:4; stroke-opacity:1; fill:none\" stroke-dasharray=\"16, 10\" points=\"273.545,259.916 385.118,259.916 \"/>\n",
       "<path clip-path=\"url(#clip150)\" d=\"M424.223 252.265 L424.223 256.247 Q422.417 255.251 420.589 254.765 Q418.783 254.256 416.931 254.256 Q412.788 254.256 410.496 256.895 Q408.204 259.511 408.204 264.256 Q408.204 269.001 410.496 271.64 Q412.788 274.256 416.931 274.256 Q418.783 274.256 420.589 273.77 Q422.417 273.261 424.223 272.265 L424.223 276.2 Q422.44 277.034 420.519 277.45 Q418.621 277.867 416.468 277.867 Q410.612 277.867 407.163 274.186 Q403.714 270.506 403.714 264.256 Q403.714 257.913 407.186 254.279 Q410.681 250.645 416.746 250.645 Q418.714 250.645 420.589 251.062 Q422.464 251.455 424.223 252.265 Z\" fill=\"#000000\" fill-rule=\"nonzero\" fill-opacity=\"1\" /><path clip-path=\"url(#clip150)\" d=\"M441.677 254.256 Q438.251 254.256 436.26 256.941 Q434.269 259.603 434.269 264.256 Q434.269 268.909 436.237 271.594 Q438.227 274.256 441.677 274.256 Q445.079 274.256 447.07 271.571 Q449.061 268.886 449.061 264.256 Q449.061 259.65 447.07 256.964 Q445.079 254.256 441.677 254.256 M441.677 250.645 Q447.232 250.645 450.403 254.256 Q453.575 257.867 453.575 264.256 Q453.575 270.622 450.403 274.256 Q447.232 277.867 441.677 277.867 Q436.098 277.867 432.927 274.256 Q429.778 270.622 429.778 264.256 Q429.778 257.867 432.927 254.256 Q436.098 250.645 441.677 250.645 Z\" fill=\"#000000\" fill-rule=\"nonzero\" fill-opacity=\"1\" /><path clip-path=\"url(#clip150)\" d=\"M477.162 252.034 L477.162 256.062 Q475.357 255.136 473.412 254.673 Q471.468 254.21 469.385 254.21 Q466.213 254.21 464.616 255.182 Q463.042 256.154 463.042 258.099 Q463.042 259.58 464.176 260.437 Q465.311 261.27 468.737 262.034 L470.195 262.358 Q474.732 263.33 476.63 265.112 Q478.551 266.872 478.551 270.043 Q478.551 273.654 475.681 275.761 Q472.834 277.867 467.834 277.867 Q465.75 277.867 463.482 277.45 Q461.237 277.057 458.737 276.247 L458.737 271.849 Q461.098 273.075 463.389 273.7 Q465.681 274.302 467.926 274.302 Q470.936 274.302 472.556 273.284 Q474.176 272.242 474.176 270.367 Q474.176 268.631 472.996 267.705 Q471.838 266.779 467.88 265.923 L466.399 265.575 Q462.44 264.742 460.681 263.029 Q458.922 261.293 458.922 258.284 Q458.922 254.626 461.514 252.636 Q464.107 250.645 468.875 250.645 Q471.237 250.645 473.32 250.992 Q475.403 251.339 477.162 252.034 Z\" fill=\"#000000\" fill-rule=\"nonzero\" fill-opacity=\"1\" /></svg>\n"
      ],
      "text/html": [
       "<img src=\"data:image/png;base64,iVBORw0KGgoAAAANSUhEUgAAAeAAAAFACAIAAADrqjgsAAAABmJLR0QA/wD/AP+gvaeTAAAgAElEQVR4nOzdd1QUVxsG8Gd36R0UBUVREFFRRFCwYy+gELsRC1FEIyaW+Nl7L1FjggUramKDWAELdrFQFBBQsWFHpCkgfZnvj90gCi5td2d3eX/HkwOzw52HG3iZvXPnDodhGBBCCJE9XLYDEEIIKRsVaEKkITg4eMKECZcvX2Y7CJEnVKCJxJ08eZLD4XA4HGNj48LCwtI7ODs7C3ZYuHBh9Q83a9YsTgk6Ojrm5ubjxo2LjIysfuNVFhsbu3fv3gcPHhRvOXfu3M6dO9PT01lMRWQcFWgiJRwO5/379xcuXPhme2Ji4oULFzgcjngPZ2Zm1qtXr169erVu3To9Pf3AgQMODg5BQUHiPUp1eHt7T5o0KTExke0gRHZRgSZS0r59ex6Pd+DAgW+2Hzx4sLCwsHPnzuI93NixY4ODg4ODg2/cuPH69evhw4cXFBT88ssvdFWcyBEltgOQmqJ+/fp9+vQ5ceJEampqrVq1irf7+voaGRn17t37xo0bxRsfPnyYnZ3dokULdXX1b9oRvGRlZaWmplbBQ2tqam7atOnYsWPPnz9/8eJF48aNS7766tWrq1evJiUlGRgYdOvWzdzc/Jsvz8/PDwkJSUhI+PTpU61atSwsLOzt7ZWUhL87jx49+vz5c+vWrYu3AMjLy4uNjdXR0bGwsCidp7CwMDo6+tOnTwAePHiQk5Mj2G5nZyf4ICsr68aNGy9fvszNza1du3arVq2sra3F/iaDyAGGEAk7ceIEgKFDhx45cgTAtm3bil+6c+cOgDlz5qxevRrAggULBNt/++03AN7e3t80lZKSoqqqamRklJ+f/73DCb526dKlJTfy+XxlZWUA0dHRxRuzs7MnTJjA5X55H8nlcidNmlSy8Xv37jVq1Oib3xpbW9viHTp06AAgKSmp5OGePHkCoG/fvsVbNm3aBOCvv/4SfBdl/jIWFRUxDBMYGGhgYPDNSz/++GP5HU0UDg1xEOlxdXXV19ffv39/8RZfX18A48aN+2bPn3/+mcvl7ty585vt+/bty8vLmzBhgqDaVlxMTExBQQGPxzM1NRVsYRhm+PDhe/bs6dKlS2Bg4KNHj86fP+/g4ODj4zNr1qziLxw1atSrV6+WLVsWExPz6tWr0NDQHTt2WFtbV+ro39DR0QkODnZwcACwe/fu4P9wOJxPnz79+OOPubm527Zte/jw4atXr0JCQtavX1/6jwSpEdj+C0EUX/EZNMMwP//8M4CYmBiGYXJycvT19R0cHBiG+eYMmmGYPn36ALhz507Jppo3b87lchMSEkQc7pszaD6ff/fu3TZt2gBwc3Mr3s3f3x+Ao6Mjn88v3piTk2Nubq6kpPTq1SuGYd6+fQugV69eIg5XhTNoAWdnZwBxcXElv/DSpUsApkyZIuKIpOagM2giVe7u7gD+/vtvACdOnEhPTxdsKU1QykueRF+5cuXhw4d9+/atyOnkunXrDAwMDAwM1NXV7ezsYmJixo4dW7K1gwcPAliwYEHJIQ41NbUJEyYUFhYKZpvo6upyOJwnT558b1BC7PT19QFER0dnZ2dL54hEltFFQiJV9vb2rVq12r9//8qVK319fdXU1EaMGFHmngMHDjQ1NT18+PDGjRv19PQA7Nq1C4Cnp2dFDmRsbGxmZsbn89+9excfH6+hodGrVy8NDY3iHQTTok+dOiU4aS0mmKr84sULAJqamiNGjDhy5Ejjxo379+/fvXv3vn37mpmZVe17rwhra+u2bdvevHnT1NR0wIAB3bp169u3r5GRkeSOSGQZnUETaRs9evT79+99fX0vXbr0ww8/CM4ZS+PxeOPHj8/JyTl06BCA1NTUEydOGBsbC0YGyiWYZnf58uVHjx7dvHmTy+W6u7uHhYUV7/Dx40cAhw4d2vm1kJCQkpF8fX1XrlxZt25dPz+/KVOmmJubOzg4REREVKsLvo/H4wUHB0+fPl1JScnX19fd3b1+/fpOTk7Pnz+X0BGJLKMCTaRtzJgxSkpKv/76K5/PL315sCRPT09lZWUfHx8Avr6+ubm5Hh4elb08CKBjx47e3t5FRUUeHh4FBQWCjTo6OgBiY2PTyrJixQrBbqqqqgsWLHj69Onjx4937NjRo0ePsLCwPn36vH//XrCDYPZbUVFRySN+/vy5siGL6enpbd68+e3bt1FRUZs2bbK2tj579mz//v3z8vKq3CaRU1SgibQZGxv36dMnJyenfv36vXv3FrGnkZGRq6vr/fv3Q0ND9+zZw+VyJ0yYULWDjho1yt7ePiYmRjBvBIDgsuGtW7cq2IKFhcWkSZMuXbo0fPjw9PT04oERY2NjAElJSSV3LnlL9/cI/tKUee87AC6X27p16xkzZkRERNja2j5+/DgmJqaCUYnCoAJNWLB169bg4OCzZ8/yeDzRewouFXp6ej58+LB///7Fk+Qqi8PhLF68GMDKlSvz8/Px3+XKFStWlD7bzcvLE5xo5+Tk8Pn8b14VVOTi81nBbS8lbyIvKCjYsGFDuZHq1asH4M2bNyU3ZmVlMV/f68jj8erUqVPyiKTmoIuEhAWNGjWq4MTeHj16WFlZ3b9/H8CkSZOqc1BnZ2d7e/uwsDBfX19PT89BgwYNHz782LFj7dq1mz59urW1tbKyckJCws2bNw8ePBgZGdmgQYOoqKhhw4a5u7t36NChcePGBQUFFy9e9PHx0dLS6t+/v6DZ4cOHb9y4ccWKFUpKSh07dnz9+vXGjRsrMsTRrl07ADNmzIiKiqpduzYAT09Pf3//devWubu7t2nTxtTUNCMjw9/f//z5840aNRLsT2oWtuf5EcVXch7095SeB13sjz/+AGBiYlJQUFCRw5V5J6FAQEAAgIYNG+bl5TEMU1BQMH/+/JJTOwDweLwuXbqkpaUxDBMbG1u3bt1vfmUaNWp05cqVks1u2LCh5H3ejo6Ot2/fRnnzoAsLC6dMmaKpqVn8hUVFRYGBgbq6ut8c0cbG5sGDBxX53omC4TC0dgyRsM+fPyclJWlqapYudsU+fvyYlpamp6dX+i7nDRs2zJ49e8mSJUuXLq3I4VJTUz99+qSvr1/m/BDBdAgTExMVFRXBloyMjJs3b7569UpNTc3Y2NjGxkYwpFDswYMHT548ef/+vY6OjpmZWdu2bUuPzLx8+fLq1av5+flWVlYdOnQoLCx8/fq1urq6YDxE8A0mJyfXqVOndP1NTk7OzMwEIJjAx+fzo6Ojnz9/Lli0xMLConXr1hX5xonioQJNZFphYaGFhUViYuLz588Fg7aE1Bw0Bk1k1Js3b7Kzs7ds2fLixQsPDw+qzqQGojNoIqPatGkTFRUFoEmTJqGhoaWHPghReFSgiYzat29fampqw4YNBw4cWHpVaEJqAirQhBAio+hGFUIIkVFUoAkhREZRgSaEEBlFBZoQQmQUFWhCCJFRVKAJIURGyWKB9vX1ffnyJdspyve9lXxrGuoHAeoHAeoHAbH0gywWaD8/v7i4OLZTlC8nJ4ftCDKB+kGA+kGA+kFALP0giwWaEEIIqEATQojMogJNCCEyigo0IYTIKCrQhBAiVkVFSEwUS0tUoAkhRKx+/RX16/NCQ6vfknw/UeX8+fOCNd1ZkZeXp6qqKsYGlZWVJ0yYUPqZdYQQufH2LXbvBpfLfP1ky6qR7wK9atWqhg0bmpiYsBUgOztbjK0dOXLExsamR48eYmyTECJVGzciLw8jRxY1blz9xuS7QAOYNGlSly5d2E4hHuHh4WxHIIRUQ1oadu0CgP/9Tyzt0Rg0IYSIyZYtyMqCszNsbcXSHhVoQggRh8+fsXUrAMydK64mqUATQog4bN2K1FR07YrOncXVJBVoQgipttxc/PEHAMyfL8ZWqUATQki17d6NxES0aYM+fcTYKhVoQgipnoIC/P47ACxeDA5HjA1Tga60qKion3/+efjw4SLWe/306dPly5cDAwO/2X7gwIFLly4BuHz58v79+yUblBAiHQcO4OVLNG8OFxfxNkwFutJcXFxsbW3nzJmjoqJS5g7+/v516tT56aefvLy8Sm5PSUlZtmyZg4MDAHt7++XLl6empkojMSFEcvh8rFsHAAsWgCvmikoFuhKKiori4uJev37t6OhobGwMICEhgWGY8PDwO3fuFBQUCHbr27dvRkaGj4/PN1++d+9eJycnLS0tAFpaWv3799+7d6+UvwVCiJgdO4YnT9CkCUaOFHvbVKArITs7e+HChQAWLFiwffv25ORkS0vLiRMnrly5cvLkyf369WMYBoC2tnaZa3T4+/s7OTkVf+rk5OTn5ye18IQQ8WMYrFkDAPPmgccTe/MKVKB9faGiAg5HzP8aNMCrV4IjaGlpCQaODx8+vGLFCgAFBQUuLi6nTp0KDw9/9OjR3bt3v5eusLAwMjKyZcuWxVtat24dGRlJT9gkRI4dP46YGDRsiNGjJdG8AhXo/Hzw+eJvNisLRUXfe5HL5fbv3x+AsrKypaXlq/9KeWkfP34sLCzU19cv3qKvr19YWJiWlibevIQQ6RGcPs+di+9ckaomBSrQnp7g88EwYv6Xno5Gjb53TCUlJWVl5eKP+d//CyEYev78+XPxlqysLAA6Ojri6gBCiFQFBODuXRgbw91dQkdQoAIt29TU1CwsLB4/fly8JT4+vmnTpmpqaiymIoRU3YoVADB7NtTVJXQEKtDil5CQMHz48NWrVycnJw8fPnz+f7d+Dhgw4MqVK8W7Xb161dnZmaWMhJDqOXcOYWGoXRseHpI7iNyvBy1l6urqx44d4/F4APT09A4dOlT80sKFC83MzADo6+sPGzaseLuBgYHgg8mTJ7u6ui5cuJDL5RYVFR06dOjUqVPSjU8IEZNVqwBgzhxoaUnuIFSgK0dZWbm4+KqpqQ0ZMqT4pa5duwo+0NPTK1mgizVt2rRXr15nzpxxdXUNCAjo2bNn06ZNpZCZECJmwcEICUGtWpg8WaLHoQItVX/99ZfgAxcXFxdx3xVKCJESwejz//4n0dNn0Bg0IYRUzuXLuHEDtWphyhRJH4oKNCGEVMayZQAwcya0tSV9KCrQhBBSYZcv4/p11KqFX36RwtFoDLrScnNzIyMjU1JSrK2tTU1NBRvj4uISEhJatWpVvKWgoODmzZsfP35s2LChjY0NV9zLXBFCWLB8OSCl02fQGXRlPXr0yNraevny5SdPnnR2ds7MzATg6ek5ePDg48ePd+rUadOmTQCys7Pt7Ow2b9586dKl//3vf8HBwWwHJ4RU2+XLuHZNaqfPkNwZ9NGjRw8ePPj06VNDQ8NJkyaN/m8lkeTk5BkzZoSGhpqbm//+++8lFw+qpvx8rF6N3NwyXlJSwuzZKL6nOigI16+X3Uj37ujbV/hxejp+/x0tW+LHH7/sMHXq1NGjRy9evFjwKcMwly9fPnPmzOPHj7W1tR8/ftymTZthw4a9efOGYRia5kyIQpHi6LOApAr03bt3x40bZ21tHR8fP2bMGD09vQEDBgDw8PDQ09O7dOnS0aNHnZ2dnz17pqQkngxcLnR0yr7lksv9ah1tdXWUWLPoKyXvu+ZyoasLTc0vW/h8fkhIyO7du4u3cDic27dv9+3bV1tbG0DTpk2bNWt29+7dbt26ffz4sXfv3oMGDRo4cGCDBg2q9b0RQlgn3dFnAUkV6PXr1ws+sLS0HDRo0JUrVwYMGPD69euzZ8++ffvW0NDwf//7n4+PT1BQkLimAyspYebMCu3ZvTu6dy9/N11dzJ791ZaioiI+n//NXxQ+n19yfFlJSamgoEBPTy8uLu7MmTOnTp2aN2/ekSNHBIveEULkleD0edYsqZ0+Qwpj0IWFhREREVZWVgAePnxoYmJiaGgoeMnOzi42NlbSAcRIWVnZ1tY2ICCg5EYbG5vr168LlnVOSkqKi4uzsbEBoKOj4+bmduzYMS8vr2++hBAiZ86fx/XrqF0bXz/HTtIkPotjwYIFmpqaY8eOBZCcnKyrq1v8kr6+/ocPH0p/ycOHD4cPH168jKexsXFoaGiZjRd9f6VmCdmyZcugQYOio6Pr169/586dw4cPDxw4cPv27b169erevfvRo0cnTZpkYWFx+vTpHTt2dOjQoaio6ODBgyVHRURgGCY7O1tw4VGOCNZNJdQPAgrZDxqLFvGAvGnT8gFU7De03H5QU1MrrnLfI9kCvX79+lOnTl2/fl0wLKCnp1dyQeSMjAzBk/2+YWlpuXbt2t69ews+VVZW1vrO/ZTSn7vWvn37yMjIS5cupaWlzZ07V0tLi8PhBAYGnjt3LiEhYdeuXZ06dQLQp08fDQ2NR48eqaioXL582cLCoiKNczgcDQ0NbSm+gRIXecwsCdQPAorWD0FBCA9H7dqq06erVube7ur3gwQL9JYtW3bt2nX16tU6deoItpiZmb1+/frz58+ampoA4uPjyxyZ5XK5Wlpa+t+7kMc2IyMjNze3klu4XG7Jhw0CUFNT69WrV69evaQbjRAibgyDJUsAYN48Sa+8UZqkzkC3bdu2bt06f39/DQ2N9PR0wYlz8+bNW7VqJVgw6NKlS8+ePfvhhx8kFIAQQsTg1ClERMDYWNIL15VJUgX64MGDubm53bt3Nzc3Nzc3nz59umD7nj17Dhw4YGho6ObmduDAAUV7K0QIUSQMg6VLAWD+fGhoSP/4khriuH37dpnbW7Vq9eDBg4yMDHoWHyFE1h07huhoNGyIiRNZOT47t3pTdSaEyDo+Xzj3eeFCqKqyEoHW4iCEkLIcOoSHD2FmJrmHdpeLCjQhhJRSUCAcfV6yBOXNVpYcuV9u1MfHJzAwkO0U4vHs2TO2IxBCAAB79uD5c1haYtQoFlPId4FeuHBhZGQkW0fPy8tTFevI1K+//tq2bVsxNkgIqYrcXOFDu1etgphWc6sa+S7Qffr06dOnD1tHz8zMpGmChCigrVvx5g3s7DB4MLtBaAyaEEJKyMzEunUAsGIFOBx2s1CBJoSQEjZtQnIyunSBDCwRTAWaEEL+k5KCTZsAYMUKtqMAVKAJIeSL1auRkYEBA+DoyHYUgAo0IYQIvX2LHTvA5crI6TOoQBNCiNCSJcjJwciRsLFhO4oQFWhCCAEePoSvL5SVhetvyIYKFej8/PwXL15kZ2dLOg0hhLBj/nzw+Zg4EU2asB3li3IKdFRUVOfOnTU1NRs3bnz58mUAoaGh7dq1S0tLk0o8QgiRvLAwnDoFTU0sWsR2lK+IKtAJCQndunXLycnx9vauV6+eYKOdnd3r16+DgoKkEo8QQiRv7lwwDGbMgJER21G+IqpAb9261djY+ObNm5MmTSp+bKuSkpKNjU1cXJxU4hFCiIQFBeHKFdSujVmz2I7yLVEFOj4+vk+fPmpqagA4JW55rFWrVkpKisSjEUKIpPH5mDsXAObPh64u22m+JapAa2lppaamlt7+6NEjQ0NDiUUihBBpOXgQMTFo1AhTprAdpQyiCnTv3r2PHz8eExODEmfQ//zzz7179/r16yeNdIQQIjm5uViyBABWrWLroVaiiSrQY8aMsbW1dXBwGDNmTEpKyj///OPk5DR69OgRI0Z07dpVahEJIUQi/vwTr16hdWuMHMl2lLKJKtDKysoXLlyYNm3a5cuXU1JSjhw5EhMTs2LFir///ltq+QghRCLS0rB2LQCsXw+ujN6yV86C/RoaGmvWrFmzZk1mZiYAWp+eEKIgVq1Cejp69wZ7D/0oV0WfqEKlmRCiOBISsHUruFzhSbSsElWgL1y4ILh7sLRBgwY5ODhIJhIhhEjY3LnIy4O7O2xt2Y4iiqgCHRERsXPnzuJPCwsLBQMdenp6zZo1owJNCJFLYWHw84O6ukyti1QmUQV6/vz58+fPL7nl/fv38+bNy8nJGTt2rISDEUKIZMyaBYbB9Olo2JDtKOWo3LVLIyOjXbt23b1799ChQxIKRAghEnT8OG7cQJ06whsIZVulJ5coKSm1bNny5s2bkkhTCTk5LAcghMid/HxhXV62DDo6bKcpX6ULdEZGRkREBMu3eoeFQVdXeAsQIYRU0LZtePIELVrAw4PtKBVSuVkcaWlpZ8+eTU1NHTFihISDiaShAT4f69Zh7FiYm7OZhBAiL9LThQ8b3LABShWdYcyuSsziAGBgYGBnZzd37lwrKysJBxOpZUuMHQtfX8yZA39/NpMQQuTFsmVIS0OvXnByYjtKRXEYhmE7w7ecnZ29vLycRHdiUhIsLJCZiWvXwNLCIJmZmXT/Dqgf/kP9ICCj/RAfj1atUFSEe/dgbS2FA4qlH2T0DvTy1a0rXF17+nQUFbGdhhAi22bNQkEBJkyQTnUWlzKGOB4/flzuabWRkZEu64tbz5qFXbsQGYmDBzFuHMthCCEy6+JFBARARwfLl7MdpXLKKNBWVlaFhYWiv2zHjh2TJk2STKQK09DA2rUYPRrz52PIEPz3UC5CCPmCz8dvvwHA/PmoW5ftNJVTRoH+999/i8obNLCxsZFMnkoaNQre3rhzB2vXYuVKttMQQmTPrl24fx+NG2PaNLajVFoZBdrFxUX6OaqIw8Eff6BDB2zcCA8PNGrEdiBCiCz5+BGLFgHA779DTY3tNJUmqYuEaWlpv/76a8eOHc3NzdPS0oq3//bbb+b/adWqlRiO5OAANzfk5mLOHDG0RghRJMuWISUF3bph8GC2o1RFObO1s7OzDx8+HBsb+/bt25LbPT09e/XqJeILCwoKDA0Np06d6ubmxufzi7cnJyePGjXqp59+AsAV11MM1qzBiRPw84OXF1tT7gghMufRI2zdCh4PmzezHaWKRBXojIyMLl26PHz4sH79+m/evLG0tHz+/HlOTk6LFi0yMjJEt1u3bt1FixaV+VDwWrVqmZmZVSv1N0xMMGcOFi/GtGmIiACPJ87GCSFy6rffUFAAT0/IyDWzyhN1Drtnz55nz57dvXv3n3/+0dPTi42N/fDhg5eXl5aWVjl3kYi0fv36evXqOTo6XrhwocwdGIbJyspK/09ubm75jc6ahUaNEBWFXbuqHIwQojgCAhAUBD09uZ4+IOpOQnd396KiogMHDty6dcvJyenjx48AioqKbGxsvLy8KjLNLjU1tXbt2h8+fCheXCkkJKRu3bra2tqnTp2aPn367du3S08Iady4cXJysrKysuBTQ0PDu3fvlnsspVOn1MeMYfT1P0dGMgYG5e5ffVlZWVo0t4/64T/UDwIy0Q/5+Zrt23OfPs1bvz5/8mRWIpTbD2pqasVV7ntEDXF8+vTJ3NwcgIGBQWZmZkFBgbKyMpfLtbGxiYqKqkJiAJ07dxZ8MGnSpPPnz588ebJ0gW7RokX5t3qXNno09u3jXL6stXEj/vyzavEqSxZvaWUD9YMA9YMA+/2wbh2ePkWLFqrTp6uWVwQlR7K3ejds2PDVq1cAGjRooKSkJBiRKCwsjIiIEMtthBwOp/qNfGXLFigpYft2xMSIuWVCiLx49w6rVgHAli1grzqLhagC3b1794sXL+bk5Ghqao4ePXrUqFHDhw9v06ZNfHz80KFDy2363r170dHRAKKjo4vHKHbu3Pny5cukpKQ9e/YEBQWJec51y5bw8kJhIX75BbK3CBQhRBpmz0ZmJgYPhsiZZnJB1Bh0Xl5ebGxs8+bNNTQ0MjMzlyxZEhISoqurO23atAEDBpTbtIODQ/EEOy6XGxYWBsDFxSU6OjovL8/S0nLevHn9+vUr/YUVWs3uezIy0KwZEhNx5AgkvGi1jK7aJXXUDwLUDwIs98PNm+jSBWpqiItD48asxRBTP4gag1ZVVbWzsxN8rK2tvWnTpko1HRoaWnrj6dOnK9VIpenoYOVKTJiAWbPg7EwLdBBSgxQWYsoUMAzmzmW3OouLqCGOgICAM2fOlLtwksxxd4eDA968kevpNYSQStu+Hffvw8wMs2ezHUU8RBXoyMhIFxcXExOT3377LTY2VmqZqovLhbc3uFxs3oxHj9hOQwiRig8fsHgxAGzeLI/LbpRJVIFetGhRRESEq6vrrl27WrVqZWVltW7dug8fPkgtXNW1bYuJE5Gfj19+YTsKIUQqZs/Gx49wdoYcLfdWnnJWw7Czs/Px8UlMTDxw4ICxsfH8+fMbNGgwdOjQBw8eSCdf1a1eDUNDXLwIPz+2oxBCJOzmTRw4AFVVVPJSmYyr0HJFmpqaY8aMuXjxYkJCwpAhQ/79998bN25IOll1GRhg9WoAmDkTmZlspyGESExhIby8hNcGmzZlO404VXQ9udTU1L/++mvIkCGHDx/W1tY2MTGRaCzxGD9eeLVw2TK2oxBCJGbrVkRHw8wMc+eyHUXMyinQfD7/4sWLw4cPr1ev3vTp01VVVX18fN69e+fs7CydfNXC5WLbNvB42LKF7i0kRDG9eye8NvjnnwpzbbCYqALt5+dXr1693r17R0ZGLly48Pnz5yEhIZ6enuyvhFJxtrb4+ecvsyMJIQpmxgxkZGDQIMjFWWMliSrQL168GDBgwPXr1x8/frxo0SJTU1OpxRKnlSthZISQEPj6sh2FECJWFy7g2DFoauKPP9iOIhGi7iT83//+J7UcEqSri99/x+jRmD0bLi6oVYvtQIQQccjNxdSpALBkCRo2ZDuNREjqmYSyxc0NPXsiJQWK8SeHEAJg7Vo8eYKWLTF9OttRJKVmFGgA27dDTQ2+vrhyhe0ohJBqe/IE69aBw8H27fK+pqgINaZAW1hg7lwwDKZORX4+22kIIdXAMJg0Cbm58PDAf88AUUg1pkADwknsDx5g/Xq2oxBCquHAAVy5gjp1sHYt21EkqyYVaFVV7NgBDgerVuHxY7bTEEKqJCUFs2YBwKZNkMrTR1kkqkCvXr3ay8ur9PbOnTv7yumUte7dMW4ccnMxeTJNiyZELv32G1JS0Ls33NzYjiJxogp0bm5udnZ26e3p6enyt0h0sY0bUacOrgk/rjkAACAASURBVFzB/v1sRyGEVNKVKzh4EOrq2L6d7SjSUOkhjjdv3rx8+dLIyEgSaaTBwAAbNwLArFlITmY7DSGkwnJyMHEiGAZLlsDcnO000lDGjSrZ2dmCtZBycnKKiopOnTpV/BKfz8/IyDA0NOzatav0Mord6NH4+2+cP4/p0/HPP2ynIYRUzNKlePYMrVvjt9/YjiIlZRRoJSUlT09PADdu3MjMzCz58FYej1e/fv2hQ4fq6OhIL6Mk7NiBli1x6BDc3FC1p9MSQqTp3j1s2gQeD7t2QUnULdCKpIzvU0VFZe3atQBOnz6dlpbm7u4u7VBS0KgRVqzAzJn4+WfExoIexkyILCssxMSJKCzEb7+hXTu200iPqDFoFxcXxazOAr/+Cnt7vHqF+fPZjkIIEen333HvHszMatra7qLeKdy4cePWrVtlvtS3b18bGxvJRJIWwXultm2xbRtGjFDs+5EIkWOPH2P5cnA48PGBpibbaaRKVIEODg5esWJFmS/p6enJfYEGYG2NuXOxYgU8PBAVpXirfRMi94qK4OGBnBz89BN69WI7jbSJGuJYvnw5U0JhYWF8fPywYcM8PDwEVxEVwcKFsLJCfDyWLmU7CiGklK1bceMGjI2Fs2NrmErMg+bxeE2bNv37778vXrzo7+8vuUxSpaKC3bvB42HjRty9y3YaQkgJL14ILxFt3w59fbbTsKDSN6qoqKjY2NhcUaRFO9u3x7RpKCzETz/RQneEyAqGgacnsrIwciRcXdlOw45KF+js7OyoqCgDBVujZOVKWFggJgYrV7IdhRACANi9G8HBMDTEn3+yHYU1lZvF8eHDh4CAgHfv3g0ZMkTCwaRLXR3796NLF6xZA1dX2NmxHYiQmu3tW8yeDQDe3jA0ZDsNayo3i6NOnTpWVlbbtm1r06aNhINJXYcOmDoVW7ZgwgSEhUFFhe1AhNRUDIOffsLHjxgyBMOHs52GTZWYxcEwTFJS0uXLl3v27Cm1fFK1ejWaNEF0NL4zuZAQIg27diE4GLVrY9s2tqOwrCYt2F8uDQ34+oLLxdq1iIhgOw0hNVJCgnA9/q1bUacO22lYVv6aI1evXg0KCkpISODxeGZmZoMGDWqnwPfCd+qEGTOwcSPGjsW9e3TrCiFSVVSE8eORmYlBg2r44IaAqDNoPp//008/de/e3dvbOy4uLioqatOmTQ4ODrMFg/eKauVKNG+Ohw+xeDHbUQipYf76C1evwsgIO3eyHUUmiCrQe/fu3b9//6pVq1JSUh48ePDo0aOkpKSZM2du2LAhMDBQahGlTU0Nvr5QUsLGjbhxg+00hNQYjx5h3jwA8PFB7dpsp5EJogr02bNnXVxc5s+fr6GhIdiiq6v7+++/Ozg4BAUFSSUeS+ztMW8eiorg7o7MTLbTEFIDFBZi7Fjk5MDdHS4ubKeRFaIKtLKycqNGjUpvb9SokbKysqQSyYjFi9GuHZ4/rznPbiCETStXIjwcJibYtIntKDJEVIH+4YcfAgMDP336VHJjYmLilStXXKrxJ47P5798+TIvL6/KLUiDkhJ8faGmhl27EBDAdhpCFFp4OFatApeLAwdq5pob3yOqQDs6OjZr1qxdu3abN28+e/ZsQEDAmjVrHBwcnJycdHV17969e/fu3UePHpX5tdeuXXN0dNTR0bGysiq5PTQ0tFGjRr179zY2Nv5Hxp8H2KIFVq0CAA8PfPjAdhpCFFR2NsaORWEhpk9H9+5sp5ExzPctWrSo3C+3t7cv82ujo6NPnjzp7e3dokWLktutra29vb0Zhrlz546WllZ6enrpr3VycgoMDBQRTHr4fKZHDwZgXFxKv5iRkSH9RDKI+kGA+kGg0v3g5cUATMuWTE6OZBKxQyw/D6LmQY8bN67cp3d/7+mx1tbW1tbW//77b8mNsbGxT58+HT9+PAAHB4cWLVqcPHlSpp+qJXjPZW2N06exaxcmTmQ7ECGK5fx5bNsGVVX8/TfddlCaqAJtbm5ubm4uxoMlJCQ0aNBAXV1d8KmFhcWLFy9K75afn//06dO7/63OrKenJ94YlVO/Pry9MWoUZs5Et26wsGAtCSEKJjkZ7u5gGKxahdat2U4ji0QV6M2bNycmJq5fv/6b7U5OTmPGjPnxxx8re7CMjIzi6gxAU1PzmyuQAi9evNiyZcu+ffsEn+ro6ASwe5luwAC14cOVjx3jjxyZHRyM/2awZGVlsZlKZlA/CFA/CFS0HxhGfdw4pffv+Y6O2R4eijeftdx+UFNTK3c6nKgCnZ6enpycXHr7q1evqvazWLdu3Y8fP5Zsv3HjxqV3a9q0qZeXl5OTUxUOISk7dyI8nHfvnvbvv2P16uLN2traLIaSHdQPAtQPAhXqh23bcPYsDAx4f/+trasr+VAsqP7PQ6UXS0pLS3v16pWRkVEVDmZlZfXu3bvExETBp2FhYa3l5X2Nri4OHoSSEtatw9WrbKchRM7FxQlXRNq5EyYmbKeRXWWcQefk5LRs2RJAenp6YWHh9evXi1/i8/nv379XV1fv3Lmz6HZTUlKuXLkSGhqakZHh5+dXp04dR0dHY2PjH374YerUqYsXLz527JiKikqfPn3E+/1IUKdOWLAAy5ZhzBhERaFWLbYDESKfcnMxahRycuDhAQV79Ie4lVGguVxur169AERERGRlZXXr1q34JWVl5Xr16o0aNUq/vMnkKSkpfn5+ADp06ODn59eyZUtHR0cAO3fuXLRokaenZ5MmTc6dO8fj8cT4zUjcwoW4eBE3b2LCBJw4wXYaQuTTrFm4fx+WlvjjD7ajyDoOwzDfe+3o0aOpqalTpkyRZiAAzs7OMjcGXezlS7Rpg/R0eHtnjh1LY44AMjMzqR9A/fCfcvrh5EkMHgwVFdy6BVtbKeaSNrH8PIi6SDhixIhqtq6ATE2xcyeGDcOsWVxbW3TowHYgQuTH69eYMAEMg3XrFLs6i4uoAh0REXHv3r0yX+rSpUvz5s0lE0nmDR0KT0/s3Knu7o5796CpyXYgQuRBYSHc3JCWhgED8OuvbKeRD6IK9OnTp1d85+l8O3bsqLkFGsAff+D2bW5MDKZMwf79bKchRB4sXYobN1C/PvbtA4fDdhr5IGqa3bx589JKSElJCQ0N7dev34QJE2T6/mwpUFeHvz+jpYUDB6hAE1K+K1ewdi14PBw4QIvxV5yoAq2urq5fQq1atezt7Y8fP37+/PkLFy5ILaKMato0b8MGAPDywsOHbKchRIYlJmLkSPD5WLYMPXqwnUaeVPpGFXV1dTs7u/Pnz0sijXwpcHPD2LH4/BnDhuHzZ7bjECKT+HyMGoUPH9C7t/CJVqTCKl2g8/Ly4uLiaDqR0LZtsLJCXBy8vNiOQohMWrwYV6/C2BgHD4Jb6YJTw1VuFkdSUtLJkycTEhJcXV0lHExOaGri2DHY22P/fnTtivHj2Q5EiCwJCsLatVBSwuHDqFuX7TTyp3KzOFRVVVu0aOHv79++fXsJB5MfLVpg+3aMHYupU2FrCxsbtgMRIhtevcLYsSgqwqpVcHRkO41cElWg582bN2PGjJJb9PT0ODQ/prQxYxASgp07MXQoIiKgp8d2IELYlpeHoUORmgpnZ8yZw3YaeSWqQKurq5dcvpmI8uefuHcPEREYMwanT9M0T1LTTZuG8HCYmmL/fvp1qDJRBVogKirq/Pnzz5494/F4TZo0cXFxsaCnipSmqgo/P9jZISAAa9Zg/ny2AxHCngMH4OMDNTWcOEHrPlZHOQV64cKFq1evZhhGT0+Pz+dnZmbOnTt348aNv9KdmqU1aoS//8aAAVi8GG3bQo5WUiVEfLjR0Zg8GQC2bkWbNmzHkW+iZr0EBQWtWrXKw8Pj7du36enpGRkZz549Gzx48PTp07+3RkdN178/li4VTvws63GLhCi41FR1Nzfk5GDiRJrUVH2iCrSfn1/Xrl19fHzq1asn2GJmZvbPP/9YWlp+87hu8sXChRg4EKmpGDwYOTlspyFEivh8/Pgj99UrODjgr7/YTqMIRBXo5ORkGxubb6ZtKCkptWrVKikpScLB5BaHg4MHYWmJyEhMnMh2GkKkaP58BAczderA3x+qqmynUQSiCnSDBg2uXbuWn59fcmNWVlZoaKipqamEg8kzXV0cPw5tbfzzDzZuZDsNIVJx+DA2bICycs6BA/SYQXERVaDd3d1jYmKcnZ0vX76clJSUmJh49uzZPn36JCUlubm5SS2iXGrRAgcPgsPBnDkIDmY7DSESFhkJDw8wDDZv5nfsyHYaxSGqQDs4OOzdu/f27ds9e/Y0MjKqV6+ek5NTfHy8n5+fmZmZ1CLKK1dXLF4MPh8jR+LpU7bTECIxyckYNAjZ2fDwoEVpxKucaXbjxo1zcXE5e/ZsQkICl8tt2rRp3759tbS0pBNO7i1ejOhonDwJFxfcuQMdHbYDESJu+fkYMgQvX6JjR3h7s51G0ZR/o4q+vv6oUaOkEEUBcbk4eBAdOyImBqNG4fRpWs2LKJopU3DjBho0wL//0oVBsaN6IWFaWjh1CrVrIzAQs2eznYYQsdqyBXv2QEMDJ0/CyIjtNAqICrTkNW4Mf3+oqGDjRuzZw3YaQsTk7Fn89hs4HPj60iO6JYQKtFQ4OmL7dgD4+WdcvcpyGEKqLzZW+BSrpUsxbBjbaRQWFWhpGT8es2ahoABDhuDxY7bTEFINSUkYMAAZGRg1CosWsZ1GkVGBlqJ16+DqirQ0ODsjJYXtNIRUSXY2XF2F0zb27KGlRCVKVIHeunXrwoULX9CiP+LC5eKff2Bnh6dPMWgQ8vLYDkRIJRUVYcwYhIaicWOcOAE1NbYDKThRBVpLS2vTpk3m5uZOTk4nT54sLCyUWiyFpamJM2fQsCFCQuDuDoZhOxAhlfG//+H4cejrIygIdeqwnUbxiSrQ48aNS0xM3L59+7t37wYNGtSwYcO5c+fSCXV1GRsjIAC6ujhyBHPnsp2GkAr76y9s2gQVFRw/jmbN2E5TI5QzBq2rq+vp6RkVFRURETFw4EBvb29zc/PevXv7+fnRCXXVtWqFf/+FigrWr8fWrWynIaQCjh/H9OngcLB7N7p1YztNTVHRi4R2dnY+Pj4nTpyoVavWxYsXhw8fbmlpuXfvXomGU2Q9e2L3bnA4mDYNJ0+ynYYQkUJC4OaGoiKsXIkxY9hOU4NUqEBnZGTs2LHD1ta2T58+Ojo6GzZsCA4OtrOz8/Dw2Lx5s6QjKqwxY7BihfDxKyEhbKch5DsePICrK3JzMXkyPWxTysop0OHh4RMnTqxfv/7UqVMbNmx47ty5x48fz5o1q1evXseOHfv5559Pnz4tnaCKacECTJmCnBy4uCAuju00hJTy5g369UNaGlxdaS0k6RNVoNevX29vbx8YGDh9+vSEhISTJ0/27duXW2K5H2trax6PJ/mQCu3PPzFkCNLT0a8fXr5kOw0hJaSloV8/vH6Nzp1x+DDol13qRK1mZ2ZmduzYsR9++EFZWbnMHSZNmjRp0iTJBKsxeDz8/TdSUnDtGvr2xY0bMDRkOxMhwOfPGDgQcXFo2RKnT0Ndne1ANZGoAj106FCp5ajR1NRw6hS6dUNUFPr3x+XLtHI0YZlgledbt2BqinPnoK/PdqAaqvz1oOPi4uLj41O+vjW5S5cuzZs3l1iqmkdXF+fOoXNn3L0LV1cEBdEJC2ENn48xY3D+POrWRXAw6tdnO1DNJapAZ2dnDx48+Pz586Vf2rFjR9UK9IcPH7KysgQfc7ncRo0aVaERxVS3Li5cQJcuuHoVw4bhxAl8Z2SJEAliGEyejGPHhCcNFhZsB6rRRBXo9evXX716dfv27T169DD8emBUQ0OjasebNWtWUFCQrq6uoJGYmJiqtaOYGjdGcDAcHREYiNGjcegQXZYh0jZjBnbvhqYmAgNhY8N2mppOVIGOjo4eMWLE5MmTxXvIhQsXTp8+XbxtKo7mzXHuHHr0wLFjUFfH3r30lCwiPQsXYssWqKnh5El06sR2GiJyml3Dhg3z8/PFfsisrKyHDx9mZ2eLvWUFYWuLoCBoaWH/fkyZQgsqESlZsQKrVkFZGUePolcvttMQQPQZ9NSpU7t27RoaGurg4CDGQ+7cufPIkSPPnz+fOXPmypUrS++QlZV148aN4qFqAwODHj16iDGAuBQVFRUVFUmk6fbtceoUd+BA+PgwKirM5s2yvOquBPtBrsh1P3DWr+csXgwejzlwgBkwANX4RuS6H8So3H7gVuDNMYcReYJ2/fr1fv36tW/fvnHjxkpKX6q5m5tb165dK561WFpamoGBAYBHjx516tTJ19d34MCB3+zTsmVLHR0do/+eQampqbld8LwoGZOVlaWlpSW59nmXLqmPGIG8vIKpU/PWrJHcgapJ0v0gL+S3H5T/+kt1/nxwubk+PoUjR1azNfntB/Eqtx/U1NRKFtUyiXr56dOnw4YNy83NffDgwcuvb3LrVtXlrATVGUCzZs2cnZ1DQkJKF2hTU1MvLy8nJ6eqHUJqGIaR7A+iqyuOH8fgwcre3sqCZ87KJIn3g5yQ137YtAnz54PLxe7daj/9VP325LUfxE0s/SCqQG/cuJHD4URFRVlbW1fzMGVKSEho1aqVJFpWHE5O8PfHkCHYtAkcDn7/ne1ARLFs3IhZs8DlYudOiKM6E/ESVaDfvXvn6uoq3uo8YsSIfv36qampBQQExMfHj6GlC8s1YAD8/TF0KDZuREEB/vhDlsejiTxZvx5z5gir84QJbKchZRA1Sm1jY/P69WvxHq9jx443btwIDAy0tLSMiYkpHmgmogwciOPHoaqKP/+ElxfN6yBisGKFsDrv2kXVWWaJOoOeOXOmo6PjH3/88csvv4hr1bpp06aJpZ0ax9kZp05h0CBs347cXOzaRfewkKpbsACrV4PHw759tAC/LBN1Br13797k5OQZM2Zoa2ubf+3w4cNSi0iE+vbFmTPQ1MS+fXBzQ0EB24GIHGIYTJuG1auhrIx//qHqLONEnUGbm5sPGDCgzJfq0/oprOjZE+fPw9kZR4/i82fh3YaEVBCfj4kTsW8fVFVx9ChcXdkORMohqkC7uLi4uLhILQqpkE6dcOkS+vVDQAD698epU9DVZTsTkQd5eRg9Gv7+0NTEyZN0r6BcoHUe5JCdHa5dg4kJrl1Djx748IHtQETmZWUJpwPp6+PCBarO8oIKtHxq0QIhIWjaFPfuoXNnJCSwHYjIsORk9OiBixdhbIxr19CxI9uBSEVRgZZbpqa4cQN2dnjyBB07IjKS7UBEJj17hk6dEB6OJk1w8ybo1jC5QgVantWpgytX0Ls33r9Ht24IDmY7EJExd++iUyc8eQJbW4SEoHFjtgORyqECLee0tREQADc3ZGTA2Rn79rEdiMiMwEB064akJPTpg6tXUbcu24FIpVGBln8qKjh4EHPnoqAAEyZgyRK61ZBg+3a4uiIrC+PGISAA2tpsByJVQQVaIXA4WLMGO3aAx8Py5XBzQ24u25kIS/h8/PYbpkxBURGWLsW+ffRwS/lFBVqBTJqE06eho4PDh9GzJ02/q4kyM+Hqik2boKICX18sWUJLa8k1KtCKpX9/hITA1BS3bsHeHtHRbAciUpSQgE6dEBiI2rURHIyxY9kORKqLCrTCadUKoaHo0AEvX6JTJ/z7L9uBiFRcuQJ7e8TEoHlz3LmDKj3wiMgaKtCKqG5dXLkCd3d8/oxhw7B4cXUeMUfkgLc3+vRBSgqcnHD7NszN2Q5ExIMKtIJSVcW+fdi0CTweVqyAiws+fmQ7E5GAnBy4u+OXX8DnY84cnDlDa7MoEirQCm3GDJw/j9q1ERiIdu1oSFrRCAad9++HlhYOH8batajAg6KJHKH/nYquRw9ERMDWFk+fokMHupNFcZw+DTs7REbCwgK3b2PECLYDEfGjAl0DmJri5k1MnIicHIwfj/HjkZ3NdiZSDYWFmD0bP/yA9HS4uiI8HC1bsp2JSAQV6JpBTQ07d8LXFxoa2LcP7dohNpbtTKRKXr6EoyM2bACPhw0bcOIEDTorMCrQNcm4cQgLg5UVHjyAvT127GA7EKmkf/9Fmza4dQsNG+LqVcyaRfehKDYq0DWMlRXCwjBhAnJy8PPPcHVFSgrbmUgFZGVhwgQMHYr0dAwahMhIdOrEdiYicVSgax4NDezejWPHoK+P06dhbY2gILYzEZHu3EGbNti7F+rq2LoVx4/DwIDtTEQaqEDXVMOGIToajo5ITMSAAZg8GVlZbGcipeTnY8ECdOmCp0/Rpg0iIjBlCtuZiPRQga7BGjTA5cvYsAGqqvDxQevWuHqV7UykhMhI2Ntj9WowDObOxZ07aNGC7UxEqqhA12xcLmbNQng4bG3x/Dl69ICXFzIy2I5V4+XlYeFCODggOhoWFrhxA2vWQEWF7VhE2qhAE6BlS4SGYuVKqKhg2zZYWeH0abYz1WA3bqBNG6xaBT4f06cjKgodOrCdibCDCjQBACgpYcECRETAwQFv3sDVFcOG4e1btmPVMOnpmDgRjo54+BDNmyMkBJs3Q0OD7ViENVSgSQktW+LWLWzZAi0t+PujeXNs3ozCQrZj1QAMg337YGmJ3buhooKlSxEZSSfOhAo0+RqXi19/xcOHGDIEmZmYORNt2uDSJbZjKbSICHTqhPHjkZyM7t0RFYUlS6CqynYswj4q0KQsJibw98fZs2jSBLGx6NULQ4bg2TO2Yymc9+8xfjwcHHD7NurVw6FDuHwZzZqxHYvICirQ5Pv69UNsLNasgZYWjh9HixaYORNpaWzHUgifP2PFCjRtKnyo6+zZePQIP/7IdiwiW6hAE5FUVTF3LuLj4e6OwkJs3owmTbBuHa2HV3UFBfDxQdOmWLwYmZn44QfExmLdOmhrs52MyBwltgMQmZCfj+RkfPiAZs2gri7ceP06fHyQmYmsrHoZGfuyTbfnvU/PSFfmz+UNXB60f8MHeHhARSU/H/r6wge2qKkJv1xXF0pKqFULfn5o0EDY4IULiIpCrVqoXRuGhqhbF0ZG0NRk4xtmRVERDh3C0qXCwSIHB2zYgC5d2I5FquvjRyQmIjkZyclITYWLC4yMxNMyFeia6Nw5RETgzRu8eYPXr5GUhPR0GBrCyAjbt6NdO+Fuxsbo3x86OtDSgq4u1NXV1NSMdSKv8VYt14wMgVc+1q3D/PkqQ4empwu/JDcXOTkA8OkTCguRmQkTky/HVVFBcjIePUJqKlJSkJSE9+/B4cDEBL/+ip9/Fu7G5+PZM5iaKtB1Mj4fR49i5Uo8fAgAzZph+XIMHUpr0ckRPh883pdPZ8/G7dt4+xaJiVBTg5GR8LSjTh307Cm2g3IYhhFbY2Li7Ozs5eXl5OTEdpByZGZmasvq21KGwevXiI/H48d48gTp6di//8urq1YhJwcmJjAxQYMGMDJC3bqVbP3ECSxdipgYAEz9+pxZs+DpWbUZu5mZePNG+MMtEB8PV1e8eAFDQ5ibw8JC+K9ZM5iby+79dGX/POTn4+BBrF+Px48BwMwMixZhzJivftcViyz/XlRQdjYePcLjx8Jfn6dP8fQp9PWF/w8Frl0Dl4v69WFs/OVNZ0li6Qcq0FUnaz+IubnYuhX37+PBAzx6BB0dWFrC0hIWFmjdWpx/1YWKinD8OFaswP37AFC7NqZMgZcX6tQRS/N8Pt68wbNnePIET54gPh7x8dDWxt27X/Z5/x61akFZWSwHrK5vfx4+fsSuXdiyRXi/T5MmmD8fo0fLSlyJkbXfi0p5+RI9euD9ezRpgqZN0bSp8OSgSZNKnsRQgWYdiz+IOTmIiUFUFHR0MHKkcOPHj/j9d5iZoWVLNGsGHR2pRGGYHD8/9T/+wO3bAKCmhh9/xC+/oE0bKRy8Y0dERcHCAq1aoXVrtGkDGxvUri2FI5fhy8/D48fw9sa+fcIFAq2tMWcOhg+HUo0YUZT9Av3yJaKiEB2N+/cRHQ0nJ2zZInyJYfD2LerVE8PTd+W1QMfExISHhzdp0qRr165l7kAFuqxj4d494b/ISDx/jubNYWODQYMwYIB0IojIlqmtrY2bN7FxI06dQlERAHTqhEmTMGwY1NQkevTcXDx4gPv3hb9yUVHQ0kLbtti3D3p6Ej3ytzLT07WvXcP27QgOBsOAw0HPnpg5E/361aixZtks0M+ewcdH+OujpgYbG7RuDRsbWFujSROJ/OkUTz8w0rVr1646depMnjzZ0tJyypQpZe7j5OQUGBgo5WBVkJGRIZ0DnT/PaGkxHTowXl7M3r1MZCSTny+dI1fIV/3w9CkzYwajp8cADMAYGDC//srcuyfNPM+eMQEBX3XRli3M8uVMUBCTnCyZQ8bHM/PmFRkZCb9rTU1m4kTm/n3JHEzWSe33QoQXLxh/f+bhwy9bIiOZ1auZs2eZ9++llEEs/SDVAp2fn29kZHTx4kWGYZKSkjQ1NZ8+fVp6t5pZoPl8JjaW2buXmTyZadOG+fPPr14tLBTjocSsjH7IymJ27WLatRMWLICxtmbWr2devmQjIBMSwsybx/TsyejqMmZmzMiRzKZNTEgIk51dvXaTkhhvb6Z9+y/fZosWzObNTHq6eHLLJ1YKdHo6c/48s3w5M3AgU7cuU68e4+rK3Lgh/SBfiKUfpDrEcfv27QEDBiQnJ3O5XAB9+vQZOHDgL7/88s1uNWeIIzMTV64gNBShoQgPh5ER7O2F/2xt5eZikqh+iIyEry8OHRI++ZDDQceOGDwYgwejUSMpZhRiGDx+jLAwhIcjNBRxcbh0CQ4OlWzl/XucPo1jx3D1Kvh8ANDRwbBh2SNHavTqJYHUckbKQxwHD2L1arx7B1tbODjAwQHt2n01uZMt8jcG7e/vv2zZspiYGMGnP/30k5GR0Zo1a77ZrUOHDra2ti1bthR8qqmp+aNM3gJbhf8B+flQL6G2sQAADbBJREFUUvpy/eHAAa6/P7ddO6ZduyJ7e0ZOnzNXfj/k53PPn+ccPcoNCCi+BZGxsWH69y9ycmLatmVrzll+/leT9jZs4F6/zrW3L+t/B8NwoqM5585xg4I4YWHCcXYVFaZ376IffywaOBDq6rI59ip9kuuHN284YWGc8HDOmDFFLVoIC9fr15xPn9C8OSNrExfL7Qcej8ct71qkVC8r8/l8TomrJTwer7CspSxzc3OfPn2al5cn+NTAwIAvOE+RMXw+vyLBnj/nhIdzw8O5YWGcBw+4+/fnOzsXCV5yc+O7uZVsUEJJJav8fuDx+E5OcHLC58+8c+e4J0/yzp/nREVxoqK4a9Yw+vpF3boVde9e1Lkz06yZNK+n8Xhf9bmHB9/Skhsezt28mXv3LtfIiGnbLMNBI6ZDWpBttC8vKVG4n7p6Ua9e/IED+QMHfrkQyedX8OdB4YmxHz5/RmQkNzycGxrKCQ/nFhZC8OezVi0+ny8s0PXqoV49wXHFckyxKbcfyq3OkHKBNjY2/vDhQ/GnSUlJLcp6xlq9evXkYoijoKBA7TtTFGJicOIEwsIQFgZVVbRvj/btMXIkbG2hoSGrN1pUlYh++JaaGtzc4OaGvDxcu4aAAJw9y3n6lHfiBO/ECQAwNETHjsJ3qra2Up6HoaaGIX2zhtSJRJ3wotphD64lh55ufAft92DkIjwZ2iAU/fujf3/06cPV0OAC3wxBVaIfFJq4+mH6dOzeDWtrODhg5Ej88YdgVIwDcOXiFmix9INUhziysrJMTEyuXr1qY2OTnZ1dr169K1eutCk1YVbuxqA/f8b9+2jT5suMsl27kJAgHE0W/HlXYNV9S5uQgIsXcfkyrl/Hu3dfvdS4MVq3RvPmsLJC06YwN4d4h4EyMvDsmfAemNhY3L+Pp0+FwxcChobo3Bk9eqBHj+IHtu7dizlzYG+Ptm3Rrh3atRPewkBDHAKV7YdnzxARgYgIREZizx6Ymgq3f/wITU25uRJTmvyNQQNYunTpkSNHPD09AwICNDU1z5w5U3of2S/QWVmIisLt23lxcap37yIhAa1a4eBBNGnCdjI2iLMwPX+O27cRFobQUNy/L1zXoyQ9PTRsiAYNYGwsXP7AwAA6OsJ/AHR1hWP8gqVAAHz6hM+fkZGB1FSkpeH9e7x7h7dv8fIlUlO/bV9ZGa1aoV072NujY8fvLc2cmIjwcOG/iAioq6NtW1hZ5Y0apUrP3S735+HtW9y6hbt3hf+0tdG2Ldq2hYMDunUTwx0iMkIuCzSAU6dOhYaGmpubjxkzRqWshRVkuUDPn4/jx/HmDays0KpVgYODcrt2sLKS47/z1SepM0c+H/HxiIlBXBwePsSTJ3j+XFhzxUVdHebmaNoUlpZo0QKtWqFFiyr8v0xIQEQEbt/Ot7dXKb6xMy0NwcFo3RoWFgq88EYZvvl5yMvD69dfnbsMGgSGgZ0d7OzQtq24lgaQOfJaoMvFeoFOS8ODB4iLQ1wcXr7EsWNfllW7cwdaWmjWDEpK9JZWSKr9kJIiXILv3Tt8+ICUFKSmIiMDmZnC2v3xIxgGPB54POFKptra0NSEri5q1RIudWpiAiMjmJqKbVFIAKX64flzzJmDyEgkJqJ5c7RqBSsrtGyJ5s2/vItXPIWFiIn5nJCg+eABYmIQG4uEBFhb49YtxTk1riCx/F7IwVi7FPD52LYNsbF4/BgPHyIvD82aoWVLWFlhyJCvFr1s3569lARA7dqoXRs2NmznKJ+ZGfz8ACArC3FxiInBgwe4cEH4wO4LF77sGR8PIyPo6rKVtOpKzlP89AmOjnj8GMbG6i1bokULuLpi/nw0by67CxDKvppSoLOz8eoV3r7F69d48QIvX8LEBCtWCF8tLERiImxsMHw4mjdX/Mt6RJq0tITTUspUWAh3d8TFQUUFZmYwM4OpKUxN0bAhGjeGlZV0s5aFYfD+vfB9y+vXSEjAixd48QLPnuGHH3DwoHA3XV0cPYpGjZCf/5neWYqLfBdoPl/47jYrC58+4eNHfPwIR8cvFfb8ecyYgbdvUViIBg1Qvz5MTNC4Mbp0gb39l3ZUVbF6NSvfAanplJSE6wB++IDnz5GQgJcvERODs2fx4QMCAr4sk71tG6KjYWgoHKrR04OeHnR1oa2NBg2qchUkL0/465OeLvxvWhrS05GcDDc3WFsLd/P3x7Rpwt+dhg3RqBEcHdGoEczMvj3rt7QEgPz8qvcG+Ya8FuiBAxEQAB5P+LwPwSM/BD+yTZt+KdCdO+Pff1G/vrTW3iSkqurUQZ06osbQOncGl4uUFLx6hchI4enIp0/IysLMmfDyEu4WHY2ePcseMKlVC2FhXz4dMgShodDRgZ4etLWhrw99fRgYwNDwqwnow4Zh2DCxfIuk0uS1QPv5VWgZS01NNG8u+TSESJ619ZezWhFatxY+Q6e0b05TAgLEE4xIjrxeWJWFO7b++uuvz58/s52Cfd7e3pninf0mn7Zt25aRkcF2CgDQ1xcOZ3/zTzqPMti+fftHwSOEa7YdO3akl/l3sjLktUDLgt27d79//57tFOzbu3dvYmJi+fspun379r0VPN2qZtu/f/+bN2/YTsG+AwcOvH79upqNUIEmhBAZRQWaEEJkFBVoQgiRUbJ4q3fTpk3fv3+vJPOPQM7IyNDS0qrIoq6KjfpBgPpBgPpBICMjQ1NTk/f9dVgmT568urz7L2SxQGdkZMjFwud5eXmqJW8Dr6moHwSoHwSoHwTK7QcNDY1yO0oWCzQhhBDQGDQhhMgsKtCEECKjqEATQoiMkvWZErKvqKgoJCQkJCQkLy+vXbt2zs7OHCk+l5p1Z86cuXXrlomJyfjx49XV/9/e3YVEsQVwAB/LO+q+uckq6Uq2rZrualrk9QNLBF8EIVBMn/RBjTA/ICgFcfHmgyvkSxEFfg3USCz04KLUhKIJgR/0ULIuPqzaluwibiyJrjvN9DCwBXYvXvdez8T5/952kOGPsP85nDN7TgzpOGQ4HI5Xr155PB6j0Xj9+nVq/w8KURRHRkbS09OLiopIZyHG7XbzPO/z+VJTU2tra395dNRhYAQdLkEQmpqa/H5/VFRUS0vLjRs3SCc6Pv39/e3t7Tqdzm63q/OIsmMQCASKi4udTmdsbOzIyEh+fv7uwaMUaWK1Wtvb23meJx2EmMXFxaysrNXV1djY2NevX4ezMwne4gjX7u5udHS0MmpeWlrKy8vz+/0ajYZ0rv9dIBDQ6/UvXrwoLCzc399PTk622WwUDppkWd7b21NGzYFAICkp6enTp2VlZaRzkbGyslJTU3Pp0iWWZR8+fEg6DhnZ2dkNDQ3Nzc3h3woj6HDFxMSE5jS+ffvGsuwfdJwgu7y8HAgECgoKGIZhWfbq1avT09OkQxEQERERmtM4ceJEMBik4fH8S5IkNTY2PnjwIFoNu00SsrGx8eHDh/Ly8sHBQY7jwtzYDwX9nxFF8fbt221tbZQU9ObmZlxcXOjhFB8fjz3turu7TSaT8tCi0MDAwIULFwoLC0kHIcnlcmk0msrKyvX19YmJCbPZ7PV6j3w3FPShpKWlRR3Q0dER+gNJkurr6zUajcViIRfzWEVGRkqSFPooiiIlT6a/8+TJE57neZ6n81fOLpfr8ePHf4UO+qRVRETE169fe3t7e3p6xsbGMjIyHj16dOS74S2OQ3E4HAcn60PfQ1mWGxsbP336ZLfbj7xc+9s5ffq01+sNBoNKL3/+/PlPis88Hx0dvXfv3tTUlF6vJ52FjLGxMb/fX1payjDMx48fZVne3t6mcKkwMTGRYRiz2ax8NJvNa2trR74bCvpQ/mFMJMtyc3Ozw+F4+fIlVZOPmZmZOp1ucnKyoqLC5/NNT09TO3p6/vx5Z2enIAjnzp0jnYWY+vr60NKo1WqVJKmrq4tsJCIMBoPJZFpYWFCaemFhIZwXnPAWR7jGx8crKiry8vJCR80PDw8nJSWRTXU8eJ5vbW29du3a3Nzc5cuXh4eHSSci4MuXL3FxcQaDITk5WbnS1tZWXl5ONhVZt27dkiSJ2rc4JiYm6urqqqqqnE7n1tbWmzdvQuXwb6Ggw+XxeN6/f//zlYKCAnqG0k6n8+3btykpKcXFxVT9Qidkf39/dnb25yvnz59XRk/Ucjqdsiynp6eTDkLM+vr6zMxMQkJCSUlJOGszKGgAAJWicbkZAOC3gIIGAFApFDQAgEqhoAEAVAoFDQCgUihoAACVQkEDAKgUChoAQKVQ0AAAKoWCBkrJslxdXW00Gj0ej3JlZ2fn4sWLJSUlwWCQbDYABX7qDfTyer05OTlpaWmCIJw8ebKurs5msy0uLtK8iQSoCrYbBXrpdLpnz56Vlpb29fWdPXt2dHSU4zi0M6gHRtBAO4vF0tvby7JsdXX10NAQ6TgAP6CggXabm5tnzpwRRdHlcoX2dAZQAywSAtWUwyS1Wu2pU6du3ryJ8QqoCgoaqGa1WgVB4DiO47jJycn79++TTgTwA6Y4gF7z8/NFRUV3797t6elhGObOnTsDAwMzMzP5+fmkowEwDAoaqOXz+XJzc/V6/dTUVGRkJMMwoiheuXLF7Xa/e/dOq9WSDgiAggYAUCvMQQMAqBQKGgBApVDQAAAqhYIGAFApFDQAgEqhoAEAVAoFDQCgUihoAACV+g6J+SauPYZclQAAAABJRU5ErkJggg==\" />"
      ]
     },
     "metadata": {},
     "output_type": "display_data"
    }
   ],
   "source": [
    "x = -3:6/99:6 \n",
    "\n",
    "p1 = plot( [x x],[fn1.(x) cos.(x)],\n",
    "           linecolor = [:red :blue],\n",
    "           linestyle = [:solid :dash],\n",
    "           linewidth = [2 1],\n",
    "           label = [\"fn1()\" \"cos\"],\n",
    "           title = \"My Results\",\n",
    "           xlabel = \"x\",\n",
    "           ylabel = \"my output value\" )\n",
    "display(p1)       #not needed in notebook, but useful in script"
   ]
  },
  {
   "cell_type": "markdown",
   "metadata": {},
   "source": [
    "# Types: Integers, Floats, Bools and Others\n",
    "\n",
    "Julia has many different types of variables: signed integers (like 2 or -5), floating point numbers (2.0 and -5.1), bools (false/true), bitarrays (similar to bools, but with more efficient use of memory), strings (\"hello\"), Dates (2017-04-23) and many more types."
   ]
  },
  {
   "cell_type": "markdown",
   "metadata": {},
   "source": [
    "## Integers and Floats"
   ]
  },
  {
   "cell_type": "code",
   "execution_count": 21,
   "metadata": {},
   "outputs": [
    {
     "name": "stdout",
     "output_type": "stream",
     "text": [
      "Finding the type of a, b, A and B:\n",
      "Int64 Float64 Vector{Int64} Vector{Float64}\n"
     ]
    }
   ],
   "source": [
    "a = 2                   #integer, Int (Int64 on most machines)\n",
    "b = 2.0                 #floating point, (Float64 on most machines)\n",
    "A = [1,2]\n",
    "B = [1.0,2.0]\n",
    "\n",
    "println(\"Finding the type of a, b, A and B:\")\n",
    "println(typeof(a),\" \",typeof(b),\" \",typeof(A),\" \",typeof(B))"
   ]
  },
  {
   "cell_type": "markdown",
   "metadata": {},
   "source": [
    "## Bools and BitArrays\n",
    "\n",
    "Bools are \"true\" or \"false\". BitArrays are (more memory efficient) versions of this."
   ]
  },
  {
   "cell_type": "code",
   "execution_count": 22,
   "metadata": {},
   "outputs": [
    {
     "name": "stdout",
     "output_type": "stream",
     "text": [
      "Finding the type of c and C:\n",
      "Bool BitVector\n"
     ]
    }
   ],
   "source": [
    "c = 2 > 1.1\n",
    "C = A .> 1.5        #A is an array, so C is too\n",
    "\n",
    "println(\"Finding the type of c and C:\")\n",
    "println(typeof(c),\" \",typeof(C))"
   ]
  },
  {
   "cell_type": "markdown",
   "metadata": {},
   "source": [
    "## Calculations with Mixed Types\n",
    "\n",
    "A calculation like \"integer\" + \"float\" works and the type of the result will be a float (the more flexible type). Similarly, \"bool\" + \"integer\" will give an integer. These promotion rules make it easy to have mixed types in calculations, and also provide a simple way of converting a variable from one type to another. (There are also an explicit convert() function that might be quicker.)"
   ]
  },
  {
   "cell_type": "code",
   "execution_count": 23,
   "metadata": {},
   "outputs": [
    {
     "name": "stdout",
     "output_type": "stream",
     "text": [
      "3.0\n",
      "3\n"
     ]
    }
   ],
   "source": [
    "println(1+2.0)                #integer + Float\n",
    "println((1>0) + 2)            #bool + integer"
   ]
  },
  {
   "cell_type": "markdown",
   "metadata": {},
   "source": [
    "# Running Script Files\n",
    "\n",
    "instead of notebooks. \n",
    "\n",
    "Once you have created a script file (called \"myscript.jl\" below), then you can, for instance, run it from VS Code or directly from the Julia REPL. For the latter, do as follows:\n",
    "\n",
    "1. Open the Julia REPL and perhaps run `cd(\"folder_name\")` to set the working directory (typically to where your script file is).\n",
    "2. Run `include(\"myscript.jl\")`\n",
    "\n",
    "As an alternative, instead do the following:\n",
    "\n",
    "0. Add this close to the top of the script file: `cd(dirname(@__FILE__))`\n",
    "1. Open the Julia REPL\n",
    "2. Run `include(\"foldername/myscript.jl\")`"
   ]
  },
  {
   "cell_type": "markdown",
   "metadata": {},
   "source": [
    "## Performance Tips (extra)\n",
    "\n",
    "To benchmark your code, install/use the [BenchmarkTools.jl](https://github.com/JuliaCI/BenchmarkTools.jl) package."
   ]
  },
  {
   "cell_type": "code",
   "execution_count": 24,
   "metadata": {},
   "outputs": [
    {
     "name": "stdout",
     "output_type": "stream",
     "text": [
      "  119.006 ns (1 allocation: 896 bytes)\n",
      "\n"
     ]
    }
   ],
   "source": [
    "using BenchmarkTools\n",
    "\n",
    "function fn2(x) \n",
    "    n = length(x)\n",
    "    z = zero(x)       #array of zeros, same size as x\n",
    "    for i = 2:n\n",
    "        z[i] = (x[i] + x[i-1])/2   #moving average\n",
    "    end\n",
    "    return z\n",
    "end\n",
    "\n",
    "x = [1;zeros(101)]\n",
    "@btime fn2($x)        #notice the $\n",
    "println()"
   ]
  },
  {
   "cell_type": "code",
   "execution_count": null,
   "metadata": {},
   "outputs": [],
   "source": []
  }
 ],
 "metadata": {
  "@webio": {
   "lastCommId": null,
   "lastKernelId": null
  },
  "anaconda-cloud": {},
  "kernelspec": {
   "display_name": "Julia 1.10.1",
   "language": "julia",
   "name": "julia-1.10"
  },
  "language_info": {
   "file_extension": ".jl",
   "mimetype": "application/julia",
   "name": "julia",
   "version": "1.10.1"
  }
 },
 "nbformat": 4,
 "nbformat_minor": 4
}
