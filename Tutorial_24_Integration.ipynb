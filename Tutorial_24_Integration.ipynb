{
 "cells": [
  {
   "cell_type": "markdown",
   "metadata": {},
   "source": [
    "# Numerical Integration and Differentiation\n",
    "\n",
    "This notebook illustrates how to perform numerical integration and differentiation. \n",
    "\n",
    "There are several packages for doing this. Here, the focus is on [QuadGK](https://github.com/JuliaMath/QuadGK.jl), [ForwardDiff](https://github.com/JuliaDiff/ForwardDiff.jl) and [FiniteDiff](https://github.com/JuliaDiff/FiniteDiff.jl)."
   ]
  },
  {
   "cell_type": "markdown",
   "metadata": {},
   "source": [
    "## Load Packages and Extra Functions\n",
    "\n",
    "### A Remark on the Code\n",
    "\n",
    "The `FiniteDiff.jl` package does not export its functions, so the names become very long, for instance, `FiniteDiff.finite_difference_derivative.` In the next cell we therefore rename the relavant functions."
   ]
  },
  {
   "cell_type": "code",
   "execution_count": 1,
   "metadata": {},
   "outputs": [
    {
     "data": {
      "text/plain": [
       "printyellow (generic function with 1 method)"
      ]
     },
     "execution_count": 1,
     "metadata": {},
     "output_type": "execute_result"
    }
   ],
   "source": [
    "using Printf, QuadGK, ForwardDiff\n",
    "\n",
    "using ForwardDiff: ForwardDiff.derivative as ForwardDiff_δ\n",
    "using FiniteDiff: finite_difference_derivative as FiniteDiff_δ\n",
    "\n",
    "include(\"jlFiles/printmat.jl\")"
   ]
  },
  {
   "cell_type": "code",
   "execution_count": 2,
   "metadata": {},
   "outputs": [],
   "source": [
    "using Plots\n",
    "\n",
    "gr(size=(480,320))\n",
    "default(fmt = :png)"
   ]
  },
  {
   "cell_type": "markdown",
   "metadata": {},
   "source": [
    "# Numerical Integration\n",
    "\n",
    "As a simple illustration, the next cells plot and integrate the $N(0,\\sigma)$ pdf."
   ]
  },
  {
   "cell_type": "markdown",
   "metadata": {},
   "source": [
    "## The Pdf of the N() Distribution \n",
    "\n",
    "Notice: the function takes $\\mu$ and $\\sigma$ (not $\\sigma^2$) as inputs, similar to the Distributions.jl package. "
   ]
  },
  {
   "cell_type": "code",
   "execution_count": 3,
   "metadata": {},
   "outputs": [
    {
     "data": {
      "text/plain": [
       "ϕNS (generic function with 3 methods)"
      ]
     },
     "execution_count": 3,
     "metadata": {},
     "output_type": "execute_result"
    }
   ],
   "source": [
    "function ϕNS(x,μ=0,σ=1)       #pdf of N(μ,σ), defaults to N(0,1)\n",
    "    z   = (x - μ)/σ\n",
    "    pdf = exp(-0.5*z^2)/(sqrt(2*pi)*σ)\n",
    "    return pdf\n",
    "end"
   ]
  },
  {
   "cell_type": "code",
   "execution_count": 4,
   "metadata": {},
   "outputs": [
    {
     "data": {
      "image/png": "[encoded data removed]"
     },
     "metadata": {},
     "output_type": "display_data"
    }
   ],
   "source": [
    "x  = -3:0.1:3\n",
    "xb = x[x.<=1.645]\n",
    "\n",
    "p1 = plot( x,ϕNS.(x),\n",
    "           linecolor = :red,\n",
    "           linewidth = 2,\n",
    "           ylims = (0,0.42),\n",
    "           xlims = (-3,3),\n",
    "           legend = nothing,\n",
    "           title = \"pdf of N(0,1)\",\n",
    "           xlabel = \"x\",\n",
    "           ylabel = \"\",\n",
    "           annotation = (1.75,0.25,text(\"the area covers\\nup to x=1.645\",8)) )\n",
    "plot!(xb,ϕNS.(xb),fillcolor=:red,linewidth=2,legend=nothing,fill=(0,:red))\n",
    "display(p1)"
   ]
  },
  {
   "cell_type": "markdown",
   "metadata": {},
   "source": [
    "## Calculating Prob(x<=1.645)\n",
    "\n",
    "Let $\\phi(x,\\mu,\\sigma)$ be the pdf of an $N(\\mu,\\sigma)$ variable. The next cell calculates\n",
    "\n",
    "$\\int_{-\\infty}^{1.645}\\phi(x,0,\\sigma)dx$,\n",
    "\n",
    "by numeric integration. \n",
    "\n",
    "The input to `quadgk` should be a function with only one argument. We do that by creating an anonymous function `x->fn(x,a)` assuming that `a` has a value already."
   ]
  },
  {
   "cell_type": "code",
   "execution_count": 5,
   "metadata": {},
   "outputs": [
    {
     "name": "stdout",
     "output_type": "stream",
     "text": [
      "\n",
      "Pr(x<=1.64) according to N(0,1):     0.950\n",
      "\n",
      "Pr(x<=1.64) according to N(0,2):     0.795\n"
     ]
    }
   ],
   "source": [
    "cdf1, = quadgk(x->ϕNS(x),-Inf,1.645)       #N(0,1)\n",
    "printlnPs(\"\\nPr(x<=1.64) according to N(0,1):\", cdf1)\n",
    "\n",
    "cdf2, = quadgk(x->ϕNS(x,0,2),-Inf,1.645)   #N(0,σ=2)\n",
    "printlnPs(\"\\nPr(x<=1.64) according to N(0,2):\", cdf2)"
   ]
  },
  {
   "cell_type": "markdown",
   "metadata": {},
   "source": [
    "# Numerical Derivatives\n",
    "\n",
    "Numerical derivatives can be calculated by a crude finite difference (see `NumDer()` below) or by the much more sophisticated routines in the `ForwardDiff` and `FiniteDiff` packages.\n",
    "\n",
    "To do this calculation for many `x` values, we loop/use a comprehension. \n",
    "\n",
    "The dot syntax, `ForwardDiff.derivative.()`, seems to work, but is not documented so it should probably be avoided. In contrast, `FiniteDiff.finite_difference_derivative(,,Val{:central} )` is known to work, but requires `Val{:method}` to be specified."
   ]
  },
  {
   "cell_type": "code",
   "execution_count": 6,
   "metadata": {},
   "outputs": [
    {
     "data": {
      "text/plain": [
       "NumDer (generic function with 1 method)"
      ]
     },
     "execution_count": 6,
     "metadata": {},
     "output_type": "execute_result"
    }
   ],
   "source": [
    "function NumDer(fun,b0,h)     #crude function for a centered numerical derivative\n",
    "    bminus = b0 .- h\n",
    "    bplus  = b0 .+ h\n",
    "    hh     = bplus - bminus\n",
    "    fplus  = fun(bplus)\n",
    "    fminus = fun(bminus)\n",
    "    D      = (fplus-fminus)/hh\n",
    "    return D\n",
    "end"
   ]
  },
  {
   "cell_type": "code",
   "execution_count": 7,
   "metadata": {},
   "outputs": [
    {
     "data": {
      "text/plain": [
       "fn1 (generic function with 1 method)"
      ]
     },
     "execution_count": 7,
     "metadata": {},
     "output_type": "execute_result"
    }
   ],
   "source": [
    "function fn1(x,a)                 #a simple function, to be differentiated\n",
    "   return (x - 1.1)^2 - a\n",
    "end"
   ]
  },
  {
   "cell_type": "code",
   "execution_count": 8,
   "metadata": {},
   "outputs": [
    {
     "name": "stdout",
     "output_type": "stream",
     "text": [
      "The derivative at x=2 is (from three different methods): \n",
      "     1.800     1.800     1.800\n",
      "\n"
     ]
    }
   ],
   "source": [
    "x0 = 2\n",
    "\n",
    "dydx_A = NumDer(x->fn1(x,0.5),x0,0.01)           #differentiate fn1(x,0.5) at x = x0\n",
    "dydx_B = ForwardDiff_δ(x->fn1(x,0.5),x0)\n",
    "dydx_C = FiniteDiff_δ(x->fn1(x,0.5),Float64(x0))   #simpler syntax when Float64(x0)\n",
    "\n",
    "println(\"The derivative at x=$x0 is (from three different methods): \")\n",
    "printmat([dydx_A dydx_B dydx_C])"
   ]
  },
  {
   "cell_type": "code",
   "execution_count": 13,
   "metadata": {},
   "outputs": [
    {
     "name": "stdout",
     "output_type": "stream",
     "text": [
      "now lets plot this\n"
     ]
    }
   ],
   "source": [
    "x = -3:6/99:6          #calculate the derivative at many points\n",
    "\n",
    "dydx_A = [NumDer(x->fn1(x,0.5),x[i],0.01) for i=1:length(x)]  #list comprehension as a quick loop\n",
    "\n",
    "dydx_B = [ForwardDiff_δ(x->fn1(x,0.5),x[i]) for i=1:length(x)]\n",
    "\n",
    "dydx_C = FiniteDiff_δ(x->fn1(x,0.5),Float64.(x),Val{:central})\n",
    "\n",
    "println(\"now lets plot this\")"
   ]
  },
  {
   "cell_type": "code",
   "execution_count": 10,
   "metadata": {},
   "outputs": [
    {
     "data": {
      "image/png": "[encoded data removed]"
     },
     "metadata": {},
     "output_type": "display_data"
    }
   ],
   "source": [
    "p1 = plot( [x x x],[fn1.(x,0.5) dydx_A dydx_B dydx_C],\n",
    "           line = [:solid :dot :dash :dot],\n",
    "           linecolor = [:black :red :blue :magenta],\n",
    "           label = [\"fn1()\" \"crude derivative\" \"ForwardDiff\" \"FiniteDiff\"],\n",
    "           legend = :top,\n",
    "           title = \"fn1() and its derivative\",\n",
    "           xlabel = \"x\",\n",
    "           ylabel = \"\" )\n",
    "display(p1)"
   ]
  },
  {
   "cell_type": "markdown",
   "metadata": {},
   "source": [
    "## Comments on Using the ForwardDiff Package (extra)\n",
    "\n",
    "The `ForwardDiff` package applies an interesting approach to calculate derivatives, using a special number type (\"dual numbers\"). This means that your code must be able to handle such numbers. In most cases, that is not a problem, but you may have to watch out if you create arrays to store (intermediate?) results inside the function. See the examples below. \n",
    "\n",
    "Notice that this remark does not apply to `FiniteDiff`."
   ]
  },
  {
   "cell_type": "code",
   "execution_count": 11,
   "metadata": {},
   "outputs": [
    {
     "data": {
      "text/plain": [
       "fnDoesWork (generic function with 1 method)"
      ]
     },
     "execution_count": 11,
     "metadata": {},
     "output_type": "execute_result"
    }
   ],
   "source": [
    "function fnDoesNotWork(b,a)\n",
    "    z = zeros(length(b))              #will not work with ForwardDiff, since\n",
    "    for i = 1:length(z)               #since z cannot store dual numbers\n",
    "        z[i] = b[i]*i\n",
    "    end\n",
    "    return sum(z) + a\n",
    "end\n",
    "\n",
    "function fnDoesWork(b,a)\n",
    "    z = zeros(eltype(b),length(b))   #will work with ForwardDiff, since\n",
    "    for i = 1:length(z)              #when b is a dual number, so is z \n",
    "        z[i] = b[i]*i                #could also start with z = similar(b)\n",
    "    end\n",
    "    return sum(z) + a\n",
    "end"
   ]
  },
  {
   "cell_type": "code",
   "execution_count": 12,
   "metadata": {},
   "outputs": [
    {
     "data": {
      "text/plain": [
       "2-element Vector{Float64}:\n",
       " 1.0\n",
       " 2.0"
      ]
     },
     "execution_count": 12,
     "metadata": {},
     "output_type": "execute_result"
    }
   ],
   "source": [
    "b0 = [1.5,2]\n",
    "\n",
    "#ForwardDiff.gradient(b->fnDoesNotWork(b,1),b0)      #uncomment to get an error\n",
    "ForwardDiff.gradient(b->fnDoesWork(b,1),b0)"
   ]
  },
  {
   "cell_type": "code",
   "execution_count": null,
   "metadata": {},
   "outputs": [],
   "source": []
  }
 ],
 "metadata": {
  "@webio": {
   "lastCommId": null,
   "lastKernelId": null
  },
  "anaconda-cloud": {},
  "kernelspec": {
   "display_name": "Julia 1.8.5",
   "language": "julia",
   "name": "julia-1.8"
  },
  "language_info": {
   "file_extension": ".jl",
   "mimetype": "application/julia",
   "name": "julia",
   "version": "1.8.5"
  }
 },
 "nbformat": 4,
 "nbformat_minor": 4
}
