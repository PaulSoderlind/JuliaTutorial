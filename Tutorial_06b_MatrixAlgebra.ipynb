{
 "cells": [
  {
   "cell_type": "markdown",
   "metadata": {},
   "source": [
    "# Basic Matrix Algebra\n",
    "\n",
    "This notebook presents some basic linear algebra and some matrix reshuffling/computations often needed in econometrics."
   ]
  },
  {
   "cell_type": "code",
   "execution_count": 1,
   "metadata": {},
   "outputs": [
    {
     "data": {
      "text/plain": [
       "printyellow (generic function with 1 method)"
      ]
     },
     "execution_count": 1,
     "metadata": {},
     "output_type": "execute_result"
    }
   ],
   "source": [
    "using Printf, LinearAlgebra\n",
    "\n",
    "include(\"jlFiles/printmat.jl\")"
   ]
  },
  {
   "cell_type": "markdown",
   "metadata": {},
   "source": [
    "## Adding and Multiplying: A Matrix and a Scalar"
   ]
  },
  {
   "cell_type": "markdown",
   "metadata": {},
   "source": [
    "With a matrix $A$ and a scalar $c$, do\n",
    "\n",
    "1. `A*c` (textbook: $Ac$) to multiply each element of $A$ by $c$\n",
    "\n",
    "2. `A .+ c` (textbook: $A+cJ$, where $J$ is a matrix of ones) to add $c$ to each element of $A$, and similarly `A .- c` ($A-c$). Notice the dot.\n",
    "\n",
    "Watch out when the number comes first: `2.+A` is not allowed since it is ambiguous. However, `2.0.+A` and `2 .+ A` both work."
   ]
  },
  {
   "cell_type": "code",
   "execution_count": 2,
   "metadata": {},
   "outputs": [
    {
     "name": "stdout",
     "output_type": "stream",
     "text": [
      "A:\n",
      "     1         3    \n",
      "     3         4    \n",
      "\n",
      "c:\n",
      "    10    \n",
      "\n",
      "A*c:\n",
      "    10        30    \n",
      "    30        40    \n",
      "\n",
      "A .+ c:\n",
      "    11        13    \n",
      "    13        14    \n",
      "\n"
     ]
    }
   ],
   "source": [
    "A = [1 3;3 4]\n",
    "c = 10\n",
    "\n",
    "println(\"A:\")\n",
    "printmat(A)\n",
    "println(\"c:\")\n",
    "printmat(c)\n",
    "\n",
    "println(\"A*c:\")\n",
    "printmat(A*c)\n",
    "\n",
    "println(\"A .+ c:\")\n",
    "printmat(A .+ c)          #notice the dot in .+"
   ]
  },
  {
   "cell_type": "markdown",
   "metadata": {},
   "source": [
    "## Adding and Multiplying Two Matrices"
   ]
  },
  {
   "cell_type": "markdown",
   "metadata": {},
   "source": [
    "With two matrices of the same dimensions ($A$ and $B$), do\n",
    "\n",
    "`A+B` (textbook: $A+B$) to add them (element by element), and similarly `A-B` (textbook: $A-B$).\n",
    "\n",
    "Multiplying matrices ($A$ and $B$) of conformable dimensions\n",
    "\n",
    "`A*B` (textbook: $AB$)"
   ]
  },
  {
   "cell_type": "code",
   "execution_count": 3,
   "metadata": {},
   "outputs": [
    {
     "name": "stdout",
     "output_type": "stream",
     "text": [
      "A:\n",
      "     1         3    \n",
      "     3         4    \n",
      "\n",
      "B:\n",
      "     1         2    \n",
      "     3        -2    \n",
      "\n",
      "A+B:\n",
      "     2         5    \n",
      "     6         2    \n",
      "\n",
      "A*B:\n",
      "    10        -4    \n",
      "    15        -2    \n",
      "\n"
     ]
    }
   ],
   "source": [
    "A = [1 3;3 4]               #A and B are 2x2 matrices\n",
    "B = [1 2;3 -2]\n",
    "println(\"A:\")\n",
    "printmat(A)\n",
    "println(\"B:\")\n",
    "printmat(B)\n",
    "\n",
    "println(\"A+B:\")\n",
    "printmat(A+B)\n",
    "\n",
    "println(\"A*B:\")\n",
    "printmat(A*B)"
   ]
  },
  {
   "cell_type": "markdown",
   "metadata": {},
   "source": [
    "## Transpose\n",
    "\n",
    "You can transpose a numerical matrix `A` by `A'`. \n",
    "\n",
    "Notice that (in Julia) `A` and `B=A'` share the same elements (changing one changes the other). If you want an independent copy, use `B=copy(A')`.\n",
    "\n",
    "For an array of other elements (for instance, strings), use `permutedims(A)` to swap the dimensions."
   ]
  },
  {
   "cell_type": "code",
   "execution_count": 4,
   "metadata": {},
   "outputs": [
    {
     "name": "stdout",
     "output_type": "stream",
     "text": [
      "A: \n",
      "     1         2         3    \n",
      "     4         5         6    \n",
      "\n",
      "A': \n",
      "     1         4    \n",
      "     2         5    \n",
      "     3         6    \n",
      "\n"
     ]
    }
   ],
   "source": [
    "A = [1 2 3;4 5 6]\n",
    "println(\"A: \")\n",
    "printmat(A)\n",
    "println(\"A': \")\n",
    "printmat(A')"
   ]
  },
  {
   "cell_type": "markdown",
   "metadata": {},
   "source": [
    "## Matrix Inverse"
   ]
  },
  {
   "cell_type": "markdown",
   "metadata": {},
   "source": [
    "A matrix inverse of an $nxn$ matrix $A$:\n",
    "\n",
    "`inv(A)` or `A^(-1)` (textbook: $A^{-1}$)\n",
    "\n",
    "The inverse is such that $AA^{-1}=I$ and $A^{-1}A=I$"
   ]
  },
  {
   "cell_type": "code",
   "execution_count": 5,
   "metadata": {},
   "outputs": [
    {
     "name": "stdout",
     "output_type": "stream",
     "text": [
      "A:\n",
      "     1         3    \n",
      "     3         4    \n",
      "\n",
      "inv(A):\n",
      "    -0.800     0.600\n",
      "     0.600    -0.200\n",
      "\n",
      "inv(A)*A:\n",
      "     1.000    -0.000\n",
      "     0.000     1.000\n",
      "\n"
     ]
    }
   ],
   "source": [
    "A = [1 3;3 4]\n",
    "println(\"A:\")\n",
    "printmat(A)\n",
    "\n",
    "println(\"inv(A):\")\n",
    "printmat(inv(A))\n",
    "\n",
    "println(\"inv(A)*A:\")\n",
    "printmat(inv(A)*A)"
   ]
  },
  {
   "cell_type": "markdown",
   "metadata": {},
   "source": [
    "# Solving Systems of Linear Equations\n",
    "\n",
    "If you have the system $A b = y$, where $A$ is a matrix and $b$ and $y$ are vectors, then we can solve as `b=inv(A)*y` or `b=A\\y`. The latter is typically more robust."
   ]
  },
  {
   "cell_type": "code",
   "execution_count": 6,
   "metadata": {},
   "outputs": [
    {
     "name": "stdout",
     "output_type": "stream",
     "text": [
      "     sol 1     sol 2\n",
      "    -1.400    -1.400\n",
      "     3.800     3.800\n",
      "\n"
     ]
    }
   ],
   "source": [
    "y = [10,11]\n",
    "\n",
    "b1 = inv(A)*y\n",
    "b2 = A\\y\n",
    "\n",
    "printmat(b1,b2,colNames=[\"sol 1\",\"sol 2\"])"
   ]
  },
  {
   "cell_type": "markdown",
   "metadata": {},
   "source": [
    "## The Identity Matrix\n",
    "\n",
    "The identity matrix $I_n$ can often be represented by `I` and then Julia will compare with the surrounding code to create the right dimension. For instance, if `A` is a square matrix, then `I+A` works.\n",
    "\n",
    "If you still need to specify the dimension, then use `1I(3)` or `1I[1:3,1:3]`.\n",
    "\n",
    "You can create a basis vector as `1I[1:3,2]`. This vector is filled with zeros, except that element 2 is 1."
   ]
  },
  {
   "cell_type": "code",
   "execution_count": 7,
   "metadata": {},
   "outputs": [
    {
     "name": "stdout",
     "output_type": "stream",
     "text": [
      "I + A\n",
      "     2         3    \n",
      "     3         5    \n",
      "\n",
      "1I[1:3,1:3]\n",
      "     1         0         0    \n",
      "     0         1         0    \n",
      "     0         0         1    \n",
      "\n",
      "1I[1:3,2]\n",
      "     0    \n",
      "     1    \n",
      "     0    \n",
      "\n"
     ]
    }
   ],
   "source": [
    "println(\"I + A\")\n",
    "printmat(I + A)\n",
    "\n",
    "println(\"1I[1:3,1:3]\")\n",
    "printmat(1I[1:3,1:3])\n",
    "\n",
    "println(\"1I[1:3,2]\")\n",
    "printmat(1I[1:3,2])"
   ]
  },
  {
   "cell_type": "markdown",
   "metadata": {},
   "source": [
    "## Vectors: Inner and Outer Products\n",
    "\n",
    "There are several different ways to think about a vector in mathematics: as a $K \\times 1$ matrix (a column vector), a $1 \\times K$ matrix (a row vector) or just a flat $K-$vector. Julia uses flat vectors but they are mostly interchangable with column vectors. \n",
    "\n",
    "The inner product of two (column) vectors with $K$ elements is calculated as `x'z` or `dot(x,y)` (textbook: $x'z$ or $x \\cdot z$) to get a scalar. (In Jzulia, you can also use `x⋅y` where the dot is obtained by `\\cdot + TAB`, but this is sometimes hard to distinguish from  or `x.y`).\n",
    "\n",
    "In contrast, the outer product of two (column) vectors with $K$ elements is calculated as `x*z'` (textbook: $xz'$) to get a $K\\times K$ matrix."
   ]
  },
  {
   "cell_type": "code",
   "execution_count": 8,
   "metadata": {},
   "outputs": [
    {
     "name": "stdout",
     "output_type": "stream",
     "text": [
      "x and z\n",
      "    10         2    \n",
      "    11         5    \n",
      "\n",
      "x'z: \n",
      "    75    \n",
      "x*z':\n",
      "    20        50    \n",
      "    22        55    \n",
      "\n"
     ]
    }
   ],
   "source": [
    "x = [10,11]                  #[10;11] gives the same\n",
    "z = [2,5]\n",
    "println(\"x and z\")\n",
    "printmat([x z])\n",
    "\n",
    "println(\"x'z: \")\n",
    "printlnPs(x'z)               #dot(x,z) gives the same\n",
    "\n",
    "println(\"x*z':\")\n",
    "printmat(x*z')"
   ]
  },
  {
   "cell_type": "markdown",
   "metadata": {},
   "source": [
    "## Vectors: Quadratic Forms\n",
    "\n",
    "A quadratic form ($A$ is an $n \\times n$ matrix and $x$ is an $n$ vector): `x'A*x` (textbook: $x'Ax$) to get a scalar. There is also the form `dot(x,A,x)`."
   ]
  },
  {
   "cell_type": "code",
   "execution_count": 9,
   "metadata": {},
   "outputs": [
    {
     "name": "stdout",
     "output_type": "stream",
     "text": [
      "x:\n",
      "    10    \n",
      "    11    \n",
      "\n",
      "A:\n",
      "     1         3    \n",
      "     3         4    \n",
      "\n",
      "x'A*x: \n",
      "  1244    \n"
     ]
    }
   ],
   "source": [
    "A = [1 3;3 4]\n",
    "x = [10,11]\n",
    "\n",
    "println(\"x:\")\n",
    "printmat(x)\n",
    "println(\"A:\")\n",
    "printmat(A)\n",
    "\n",
    "println(\"x'A*x: \")\n",
    "printlnPs(x'A*x)         #or dot(x,A,x)"
   ]
  },
  {
   "cell_type": "markdown",
   "metadata": {},
   "source": [
    "## Vectors: Extracting Vectors from Matrices\n",
    "\n",
    "Notice that `A[1,:]` and `A[:,1]` both give flat vectors. In case you want a row vector use `A[1:1,:]`."
   ]
  },
  {
   "cell_type": "code",
   "execution_count": 10,
   "metadata": {},
   "outputs": [
    {
     "data": {
      "text/plain": [
       "2-element Vector{Int64}:\n",
       " 1\n",
       " 3"
      ]
     },
     "execution_count": 10,
     "metadata": {},
     "output_type": "execute_result"
    }
   ],
   "source": [
    "A[1,:]"
   ]
  },
  {
   "cell_type": "markdown",
   "metadata": {},
   "source": [
    "## X'X (for OLS)\n",
    "\n",
    "$X'X$ or $\\sum\\nolimits_{t=1}^{T}x_{t}x_{t}^{\\prime}$?\n",
    "\n",
    "Let $x_t$ be a (column) vector with values of $K$ regressors for observation $t$. Then $x_{t}x_{t}^{\\prime}$ is the outer product (a $K\\times K$ matrix) and $\\sum\\nolimits_{t=1}^{T}x_{t}x_{t}^{\\prime}$ is just the sum (of each element) across the $T$ observations.\n",
    "\n",
    "We can calculate the same thing by *(a)* letting $X$ be a $T\\times K$ matrix with $x_{t}^{\\prime}$ in row $t$ and *(b)* then do $X'X$."
   ]
  },
  {
   "cell_type": "code",
   "execution_count": 11,
   "metadata": {},
   "outputs": [
    {
     "name": "stdout",
     "output_type": "stream",
     "text": [
      "X\n",
      "     1.000    -1.000\n",
      "     1.000     0.000\n",
      "     1.000     1.000\n",
      "\n",
      "sum of outer products, three versions\n",
      "     3.000     0.000\n",
      "     0.000     2.000\n",
      "\n",
      "     3.000     0.000\n",
      "     0.000     2.000\n",
      "\n",
      "     3.000     0.000\n",
      "     0.000     2.000\n",
      "\n"
     ]
    }
   ],
   "source": [
    "x₁ = [1,-1]     #a (column) vector\n",
    "x₂ = [1,0]\n",
    "x₃ = [1,1.0]\n",
    "\n",
    "X = [x₁';x₂';x₃']\n",
    "\n",
    "println(\"X\")\n",
    "printmat(X)\n",
    "\n",
    "(T,K) = (size(X,1),size(X,2))\n",
    "\n",
    "Sxx1 = x₁*x₁' + x₂*x₂' + x₃*x₃'      #just to illustrate\n",
    "\n",
    "Sxx2 = zeros(K,K)\n",
    "for t = 1:T\n",
    "    #global Sxx2                   #only needed in script\n",
    "    Sxx2 = Sxx2 + X[t,:]*X[t,:]'   #X[t,:] becomes a flat vector\n",
    "end\n",
    "\n",
    "Sxx3 = X'X                         #quicker and shorter\n",
    "\n",
    "println(\"sum of outer products, three versions\")\n",
    "printmat(Sxx1)\n",
    "printmat(Sxx2)\n",
    "printmat(Sxx3)"
   ]
  },
  {
   "cell_type": "markdown",
   "metadata": {},
   "source": [
    "## Performance Tips (extra)\n",
    "\n",
    "Use the built-in linear algebra functions, rather than creating your own (loops?). This will make it easier to read the code, and is likely to be faster in most cases.\n",
    "\n",
    "As an example, consider the \"OLS Notation\" above. `X'X` is typically much faster than the loop. (A better loop would use `Sxx2 .= Sxx2 .+ X[t,:].*X[t,:]'` to avoid destroying/recreating matrices, but `X'X` is still substantially quicker.)"
   ]
  },
  {
   "cell_type": "markdown",
   "metadata": {},
   "source": [
    "# X'Y (more OLS)\n",
    "\n",
    "Let $y_t$ be a scalar. Then, $X'Y$ is the same as $\\sum\\nolimits_{t=1}^{T}x_{t}y_{t}$."
   ]
  },
  {
   "cell_type": "code",
   "execution_count": 12,
   "metadata": {},
   "outputs": [
    {
     "name": "stdout",
     "output_type": "stream",
     "text": [
      "     6.000\n",
      "     2.000\n",
      "\n"
     ]
    }
   ],
   "source": [
    "Y = [1,2,3]\n",
    "\n",
    "Sxy = X'Y\n",
    "printmat(Sxy)"
   ]
  },
  {
   "cell_type": "markdown",
   "metadata": {},
   "source": [
    "# Kronecker Product \n",
    "for each row of two matrices.\n",
    "\n",
    "Let $u_t'$ be row $t$ of the $T \\times n$ matrix $u$, and $x_t'$ the row $t$ of the $T \\times k$ matrix $X$.\n",
    "\n",
    "Recall that $u_t \\otimes x_t$ is a $kn$-vector of the form\n",
    "\n",
    "$\n",
    "\\begin{bmatrix}\n",
    "x_t u_{1t}\\\\\n",
    "x_t u_{2t}\n",
    "\\end{bmatrix}\n",
    "$\n",
    "and so forth.\n",
    "\n",
    "Typically, we transpose this result and put it in row `t` of the $T \\times kn$ output matrix $Z$.\n",
    "\n",
    "\n",
    "The next cell contains a function for this. We also compare with a crude implementation."
   ]
  },
  {
   "cell_type": "code",
   "execution_count": 13,
   "metadata": {},
   "outputs": [
    {
     "data": {
      "text/plain": [
       "hKron (generic function with 1 method)"
      ]
     },
     "execution_count": 13,
     "metadata": {},
     "output_type": "execute_result"
    }
   ],
   "source": [
    "function hKron(U,X)\n",
    "  T = size(U,1)\n",
    "  Z = reshape( reshape(U,T,1,:).*X,T,: )\n",
    "  return Z\n",
    "end"
   ]
  },
  {
   "cell_type": "code",
   "execution_count": 14,
   "metadata": {},
   "outputs": [
    {
     "name": "stdout",
     "output_type": "stream",
     "text": [
      "\u001b[34m\u001b[1mrow-wise Kronecker product:\u001b[22m\u001b[39m\n",
      "     1.000    -1.000     2.000    -2.000\n",
      "     1.000     0.000     3.000     0.000\n",
      "     1.000     1.000     4.000     4.000\n",
      "\n",
      "\u001b[34m\u001b[1msame, but from loop:\u001b[22m\u001b[39m\n",
      "     1.000    -1.000     2.000    -2.000\n",
      "     1.000     0.000     3.000     0.000\n",
      "     1.000     1.000     4.000     4.000\n",
      "\n"
     ]
    }
   ],
   "source": [
    "u = [1 2;1 3;1 4]\n",
    "\n",
    "Z = hKron(u,X)\n",
    "printblue(\"row-wise Kronecker product:\")\n",
    "printmat(Z)\n",
    "\n",
    "(T,n,k) = (size(u,1),size(u,2),size(X,2))\n",
    "Z2 = fill(NaN,T,n*K)               #crude approach, for comparison\n",
    "for i = 1:n\n",
    "  local vv  \n",
    "  vv = (i-1)*k+1:i*k\n",
    "  Z2[:,vv] = u[:,i].*X\n",
    "end\n",
    "printblue(\"same, but from loop:\")\n",
    "printmat(Z2)"
   ]
  },
  {
   "cell_type": "code",
   "execution_count": null,
   "metadata": {},
   "outputs": [],
   "source": []
  }
 ],
 "metadata": {
  "@webio": {
   "lastCommId": null,
   "lastKernelId": null
  },
  "anaconda-cloud": {},
  "kernelspec": {
   "display_name": "Julia 1.7.3",
   "language": "julia",
   "name": "julia-1.7"
  },
  "language_info": {
   "file_extension": ".jl",
   "mimetype": "application/julia",
   "name": "julia",
   "version": "1.7.3"
  }
 },
 "nbformat": 4,
 "nbformat_minor": 4
}
