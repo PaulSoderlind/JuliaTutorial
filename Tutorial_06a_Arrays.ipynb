{
 "cells": [
  {
   "cell_type": "markdown",
   "metadata": {},
   "source": [
    "# Arrays\n",
    "\n",
    "This notebook illustrates how to create and reshuffle arrays. Other notebooks focus on matrix algebra and functions applied to arrays."
   ]
  },
  {
   "cell_type": "markdown",
   "metadata": {},
   "source": [
    "## Load Packages and Extra Functions"
   ]
  },
  {
   "cell_type": "code",
   "execution_count": 1,
   "metadata": {
    "tags": []
   },
   "outputs": [],
   "source": [
    "using Printf, DelimitedFiles\n",
    "\n",
    "include(\"src/printmat.jl\");"
   ]
  },
  {
   "cell_type": "markdown",
   "metadata": {},
   "source": [
    "# Scalars, Vectors and Multi-dimensional Arrays\n",
    "\n",
    "*are treated as different things* in Julia, even if they happen to \"look\" similar. For instance, a $1 \\times 1$ array is not a scalar and an $n \\times 1$ array is not a vector.\n",
    "\n",
    "However, we first present some common features of all arrays (vectors or multi-dimensional arrays)."
   ]
  },
  {
   "cell_type": "markdown",
   "metadata": {},
   "source": [
    "# Creating Arrays\n",
    "\n",
    "The typical ways of getting an array are \n",
    "\n",
    "* hard coding the contents\n",
    "* reading in data from a file\n",
    "* as a result from computations\n",
    "* allocating the array and then changing the elements\n",
    "* (often not so smart) growing the array by adding rows (or columns,..)\n",
    "* by list comprehension\n",
    "\n",
    "The next few cells give simple examples."
   ]
  },
  {
   "cell_type": "markdown",
   "metadata": {},
   "source": [
    "## 1. Hard Coding the Contents or Reading from a File"
   ]
  },
  {
   "cell_type": "code",
   "execution_count": 2,
   "metadata": {
    "tags": []
   },
   "outputs": [
    {
     "name": "stdout",
     "output_type": "stream",
     "text": [
      "\u001b[34m\u001b[1mA matrix that we typed in:\u001b[22m\u001b[39m\n",
      "    11        12    \n",
      "    21        22    \n",
      "\n",
      "\u001b[34m\u001b[1mFirst four lines of x from csv file:\u001b[22m\u001b[39m\n",
      "197901.000     4.180     0.770    10.960\n",
      "197902.000    -3.410     0.730    -2.090\n",
      "197903.000     5.750     0.810    11.710\n",
      "197904.000     0.050     0.800     3.270\n",
      "\n"
     ]
    }
   ],
   "source": [
    "z = [11 12;                       #typing in your matrix\n",
    "     21 22]\n",
    "printblue(\"A matrix that we typed in:\")\n",
    "printmat(z)\n",
    "\n",
    "x = readdlm(\"Data/MyData.csv\",',',skipstart=1)  #read matrix from file\n",
    "printblue(\"First four lines of x from csv file:\")\n",
    "printmat(x[1:4,:])\n",
    "\n",
    "#to create a vector: [1,2] or [1;2]\n",
    "#to create a 2x3x2 array:  [1 2 3;4 5 6;;;11 12 13;14 15 16]"
   ]
  },
  {
   "cell_type": "markdown",
   "metadata": {},
   "source": [
    "## 2a. Allocating an Array and Then Changing the Elements: Fill\n",
    "\n",
    "An easy way to create an array is to use the `fill()` function.\n",
    "\n",
    "```\n",
    "A = fill(0,10,2)             #10x2, integers (0)\n",
    "B = fill(0.0,10)             #vector with 10 elements, floats (0.0)\n",
    "C = fill(NaN,10,2)           #10x2, floats (NaN)\n",
    "D = fill(\"\",3)               #vector with 3 elements, strings (\"\")\n",
    "E = fill(Date(1),3)          #vector with 3 elements, dates (0001-01-01) \n",
    "```\n",
    "\n",
    "In contrast, do *not* use `fill([1,2],7)`, since all 7 arrays will refer to the same underlying array (changing one changes all). Instead, use a comprehension (see below)."
   ]
  },
  {
   "cell_type": "code",
   "execution_count": 3,
   "metadata": {
    "tags": []
   },
   "outputs": [
    {
     "name": "stdout",
     "output_type": "stream",
     "text": [
      "\u001b[34m\u001b[1mso far, x is filled with 0.0. For instance, x[1,1] is 0.0\u001b[22m\u001b[39m\n",
      "\n",
      "\u001b[34m\u001b[1mx after some computations:\u001b[22m\u001b[39m\n",
      "     1.000     0.500\n",
      "     2.000     1.000\n",
      "     3.000     1.500\n",
      "\n"
     ]
    }
   ],
   "source": [
    "x = fill(0.0,3,2)     #creates a 3x2 matrix filled with 0.0\n",
    "printblue(\"so far, x is filled with 0.0. For instance, x[1,1] is $(x[1,1])\")\n",
    "\n",
    "for i in 1:size(x,1), j in 1:size(x,2)\n",
    "    x[i,j] = i/j\n",
    "end\n",
    "\n",
    "printblue(\"\\nx after some computations:\")\n",
    "printmat(x)"
   ]
  },
  {
   "cell_type": "markdown",
   "metadata": {},
   "source": [
    "## 2b. Allocating an Array and Then Changing the Elements: A More General Approach (extra)\n",
    "\n",
    "You can also create an array by \n",
    "\n",
    "```\n",
    "A = Array{Int}(undef,10,2)       #10x2, integers\n",
    "F = Array{Any}(undef,3)          #vector with 3 elements, can include anything\n",
    "```\n",
    "\n",
    "The ```undef``` signals that the matrix is yet not initialized. This is more cumbersome than `fill()`, but sometimes more flexible."
   ]
  },
  {
   "cell_type": "code",
   "execution_count": 4,
   "metadata": {
    "tags": []
   },
   "outputs": [
    {
     "name": "stdout",
     "output_type": "stream",
     "text": [
      "[1, 2, 3, 4]\n",
      "Sultans of Swing\n",
      "  1978    \n",
      "\n"
     ]
    }
   ],
   "source": [
    "F    = Array{Any}(undef,3)\n",
    "F[1] = [1;2;3;4]             #F[1] contains a vector\n",
    "F[2] = \"Sultans of Swing\"    #F[2] a string\n",
    "F[3] = 1978                  #F[3] an integer\n",
    "\n",
    "printmat(F)"
   ]
  },
  {
   "cell_type": "markdown",
   "metadata": {},
   "source": [
    "## 3a. Growing an Array\n",
    "\n",
    "Growing an array (vector, matrix or higher-dimensional array) is done by `[A;B]` to stack vertically, `[A;;B]` (which is the same as `[A B]`) to stack horizontally, or `[A;;;B]` which is to stack along dimension 3. Alternatively, use the `vcat`, `hcat` and `cat` functions to do the same things. Still, this is not very fast, so avoid it in a tight loop."
   ]
  },
  {
   "cell_type": "code",
   "execution_count": 5,
   "metadata": {
    "tags": []
   },
   "outputs": [
    {
     "name": "stdout",
     "output_type": "stream",
     "text": [
      "\n",
      "\u001b[34m\u001b[1mstacking A and B vertically\u001b[22m\u001b[39m\n",
      "    11        12    \n",
      "    21        22    \n",
      "     1         2    \n",
      "     0        10    \n",
      "\n",
      "\n",
      "\u001b[34m\u001b[1mstacking A and B horizontally\u001b[22m\u001b[39m\n",
      "    11        12         1         2    \n",
      "    21        22         0        10    \n",
      "\n"
     ]
    }
   ],
   "source": [
    "A = [11 12;\n",
    "     21 22]\n",
    "B = [1 2;\n",
    "     0 10]\n",
    "\n",
    "z = [A;B]                #same as vcat(A,B)\n",
    "printblue(\"\\n\",\"stacking A and B vertically\")\n",
    "printmat(z)\n",
    "\n",
    "z2 = [A B]                 #same as hcat(A,B)\n",
    "printblue(\"\\n\",\"stacking A and B horizontally\")\n",
    "printmat(z2) "
   ]
  },
  {
   "cell_type": "markdown",
   "metadata": {},
   "source": [
    "## 3b. Growing a Vector\n",
    "\n",
    "There are special (faster) functions for growing a *vector* (not a matrix):\n",
    "```\n",
    "push!(old vector,new_element_1,new element_2)       #or pushfirst!()\n",
    "```\n",
    "\n",
    "If you instead want to append all elements of a vector, then do\n",
    "```\n",
    "append!(old vector,vector1_to_append,vector2_to_append)     #or prepend!()\n",
    "```"
   ]
  },
  {
   "cell_type": "code",
   "execution_count": 6,
   "metadata": {
    "tags": []
   },
   "outputs": [
    {
     "name": "stdout",
     "output_type": "stream",
     "text": [
      "\u001b[34m\u001b[1ma vector with 3 elements:\u001b[22m\u001b[39m\n",
      "    12.000\n",
      "   102.000\n",
      "  1002.000\n",
      "\n"
     ]
    }
   ],
   "source": [
    "B = Float64[]                 #empty vector, to include floats\n",
    "for i = 1:3\n",
    "    x_i = 2.0 + 10^i\n",
    "    push!(B,x_i)              #adding an element at the end\n",
    "end \n",
    "printblue(\"a vector with 3 elements:\")\n",
    "printmat(B)"
   ]
  },
  {
   "cell_type": "markdown",
   "metadata": {},
   "source": [
    "## 4. List Comprehension and map (extra)\n",
    "\n",
    "List comprehension is a simple way of creating an array from repeated calculations. It is similar to the combination of pre-allocation and a \"for loop.\"\n",
    "\n",
    "(You can achieve the same thing with ```map``` (for instance, by ```map(i->collect(1:i),1:3)```).)"
   ]
  },
  {
   "cell_type": "code",
   "execution_count": 7,
   "metadata": {
    "tags": []
   },
   "outputs": [
    {
     "name": "stdout",
     "output_type": "stream",
     "text": [
      "\u001b[34m\u001b[1mA[1] is vector with 1 element, A[2] a vector with 2 elements,...\u001b[22m\u001b[39m\n",
      "       [1]\n",
      "    [1, 2]\n",
      " [1, 2, 3]\n",
      "\n"
     ]
    }
   ],
   "source": [
    "A = [collect(1:i) for i=1:3]         #this creates a vector of vectors\n",
    "\n",
    "printblue(\"A[1] is vector with 1 element, A[2] a vector with 2 elements,...\")\n",
    "printmat(A)"
   ]
  },
  {
   "cell_type": "markdown",
   "metadata": {},
   "source": [
    "# Using Parts of a Matrix\n",
    "\n",
    "The most common way to use parts of an array is by indexing. For instance, to use the second column of `A`, do `A[:,2]`.\n",
    "\n",
    "Notice that `x = A[1,:]` gives a (column) vector (yes, it does), while `z = A[1:1,:]` gives a $1 \\times k$ matrix.\n",
    "\n",
    "Also notice that `z = A[1,:]` creates an independent copy, so changing (elements of) `z` will *not* change `A`.\n",
    "\n",
    "A shortcut to loop over all rows of `A` is `for i in eachrow(A)`. There is also `eachcol()`."
   ]
  },
  {
   "cell_type": "code",
   "execution_count": 8,
   "metadata": {
    "tags": []
   },
   "outputs": [
    {
     "name": "stdout",
     "output_type": "stream",
     "text": [
      "\u001b[34m\u001b[1mA:\u001b[22m\u001b[39m\n",
      "    11        12    \n",
      "    21        22    \n",
      "\n",
      "\n",
      "\u001b[34m\u001b[1msecond column of A:\u001b[22m\u001b[39m\n",
      "    12    \n",
      "    22    \n",
      "\n",
      "\n",
      "\u001b[34m\u001b[1mfirst row of A (as a vector): \u001b[22m\u001b[39m\n",
      "    11    \n",
      "    12    \n",
      "\n",
      "\n",
      "\u001b[34m\u001b[1mfirst row of A (as a 1x2 matrix): \u001b[22m\u001b[39m\n",
      "    11        12    \n",
      "\n",
      "\u001b[34m\u001b[1manother row: \u001b[22m\u001b[39m\n",
      "    11    \n",
      "    12    \n",
      "\n",
      "\u001b[34m\u001b[1manother row: \u001b[22m\u001b[39m\n",
      "    21    \n",
      "    22    \n",
      "\n"
     ]
    }
   ],
   "source": [
    "A = [11 12;\n",
    "     21 22]\n",
    "printblue(\"A:\")\n",
    "printmat(A)\n",
    "\n",
    "printblue(\"\\nsecond column of A:\")\n",
    "printmat(A[:,2])\n",
    "\n",
    "printblue(\"\\n\",\"first row of A (as a vector): \")\n",
    "printmat(A[1,:])                          #notice 1 makes it a vector\n",
    "\n",
    "printblue(\"\\n\",\"first row of A (as a 1x2 matrix): \")\n",
    "printmat(A[1:1,:])                        #use 1:1 to keep it as a 1x2 matrix\n",
    "\n",
    "for i in eachrow(A)          #looping over all rows\n",
    "    printblue(\"another row: \")\n",
    "    printmat(i)\n",
    "end"
   ]
  },
  {
   "cell_type": "markdown",
   "metadata": {},
   "source": [
    "## Performance Tips (extra)\n",
    "\n",
    "In case you do not need an independent copy, then `y = view(A,1,:)` creates a *view* of the first row of `A`. This saves memory and is sometimes faster. Notice, however, that changing `y` by `y .= [1,2]` will now change also the first row of `A`. Notice that the dot `.` is needed for this. (In contrast, `y = [1,2]` would create a new `y` and not affect `A.`)\n",
    "\n",
    "To make a *copy or a view?* If you need to save memory: a view. Instead, if you need speed: try both. (Copies are often quicker when you need to do lots of computations on the matrix, for instance, in a linear regression.)"
   ]
  },
  {
   "cell_type": "code",
   "execution_count": 9,
   "metadata": {
    "tags": []
   },
   "outputs": [
    {
     "name": "stdout",
     "output_type": "stream",
     "text": [
      "\n",
      "\u001b[34m\u001b[1mview of first row of A (although it prints like a column vector): \u001b[22m\u001b[39m\n",
      "    11    \n",
      "    12    \n",
      "\n",
      "\u001b[34m\u001b[1mA after changing y by y .= [1,2]\u001b[22m\u001b[39m\n",
      "     1         2    \n",
      "    21        22    \n",
      "\n"
     ]
    }
   ],
   "source": [
    "printblue(\"\\n\",\"view of first row of A (although it prints like a column vector): \")\n",
    "y = view(A,1,:)\n",
    "printmat(y)\n",
    "\n",
    "y .= [1,2]                    #changing y and thus the first row of A, notice the dot (.)\n",
    "printblue(\"A after changing y by y .= [1,2]\")\n",
    "printmat(A)"
   ]
  },
  {
   "cell_type": "markdown",
   "metadata": {},
   "source": [
    "## Performance Tips (extra)\n",
    "\n",
    "Avoid creating and destroying lots of arrays in loops: it takes time. If possible re-use the existing arrays instead. The next cell provides an illustration."
   ]
  },
  {
   "cell_type": "code",
   "execution_count": 10,
   "metadata": {
    "tags": []
   },
   "outputs": [
    {
     "name": "stdout",
     "output_type": "stream",
     "text": [
      "  8.944 ms (900 allocations: 206.02 MiB)\n",
      "  2.667 ms (3 allocations: 703.21 KiB)\n"
     ]
    }
   ],
   "source": [
    "function fn1(N)\n",
    "  for i = 1:N\n",
    "    tmp = zeros(N,N)         #create a new tmp in each loop\n",
    "    tmp[i,i] = i             #do something with tmp\n",
    "  end\n",
    "  return nothing\n",
    "end\n",
    "\n",
    "function fn2(N)\n",
    "  tmp = zeros(N,N)\n",
    "  for i = 1:N\n",
    "    tmp .= 0.0             #re-use the existing tmp, reset to zeros\n",
    "    tmp[i,i] = i           #do something with tmp\n",
    "  end\n",
    "  return nothing\n",
    "end\n",
    "\n",
    "\n",
    "using BenchmarkTools       #a package for benchmarking computations \n",
    "\n",
    "@btime fn1(300)            #timing\n",
    "@btime fn2(300)"
   ]
  },
  {
   "cell_type": "markdown",
   "metadata": {},
   "source": [
    "# Splitting up an Array (extra)\n",
    "\n",
    "Sometimes you want to create new variables from the columns (or rows) of a matrix. The next cell shows an example."
   ]
  },
  {
   "cell_type": "code",
   "execution_count": 11,
   "metadata": {
    "tags": []
   },
   "outputs": [
    {
     "name": "stdout",
     "output_type": "stream",
     "text": [
      "\u001b[34m\u001b[1mA simple way...which works well when you want to create a few variables\u001b[22m\u001b[39m\n",
      "     2    \n",
      "    22    \n",
      "\n",
      "\u001b[34m\u001b[1mAnother way\u001b[22m\u001b[39m\n",
      "     2    \n",
      "    22    \n",
      "\n"
     ]
    }
   ],
   "source": [
    "printblue(\"A simple way...which works well when you want to create a few variables\")\n",
    "x1 = A[:,1]\n",
    "x2 = A[:,2]      #or (x1,x2) = (A[:,1],A[:,2])\n",
    "printmat(x2)\n",
    "\n",
    "printblue(\"Another way\")\n",
    "(z1,z2) = [A[:,i] for i in 1:2]\n",
    "printmat(z2)"
   ]
  },
  {
   "cell_type": "markdown",
   "metadata": {},
   "source": [
    "# An Array of Arrays (extra)\n",
    "\n",
    "If `x1` and `x2` are two arrays, then `y=[x1,x2]` is a vector (of arrays) where `y[1] = x1` and `y[2] = x2`.\n",
    "\n",
    "In this case `y[1]` is actually a view of `x1` so changing elements of one changes the other.\n",
    "\n",
    "If you instead want to stack `x1` and `x2` into a single matrix, use `[x1 x2]`, `[x1;x2]` or one of the `cat` functions discussed above."
   ]
  },
  {
   "cell_type": "code",
   "execution_count": 12,
   "metadata": {
    "tags": []
   },
   "outputs": [
    {
     "name": "stdout",
     "output_type": "stream",
     "text": [
      "\u001b[34m\u001b[1my[1]:\u001b[22m\u001b[39m\n",
      "     1.000     1.000\n",
      "     1.000     1.000\n",
      "     1.000     1.000\n",
      "\n",
      "\u001b[34m\u001b[1my[2]:\u001b[22m\u001b[39m\n",
      "     1    \n",
      "     2    \n",
      "     3    \n",
      "\n"
     ]
    }
   ],
   "source": [
    "x1 = ones(3,2)\n",
    "x2 = [1,2,3]\n",
    "y = [x1,x2]               #a vector of arrays\n",
    "\n",
    "for i in 1:length(y)\n",
    "    printblue(\"y[$i]:\")\n",
    "    printmat(y[i])\n",
    "end"
   ]
  },
  {
   "cell_type": "markdown",
   "metadata": {},
   "source": [
    "# Arrays are Different...\n",
    "\n",
    "Vectors and matrices (arrays) can take lots of memory space, so **Julia is designed to avoid unnecessary copies of arrays**. In short, notice the following. Let `A` be an array and you do one of the following computations:\n",
    "\n",
    "* `B = A`, `B = reshape(A,n,m)`, `B = vec(A)`, or `B = A'`, and then followed by `B[1] = -999`\n",
    "  \n",
    "* `B = f1!(A)` where `f1!` is a function like\n",
    "```\n",
    "function f1!(B)\n",
    "    B[1] = -999     #change some elements of B inside the function\n",
    "  return B\n",
    "end\n",
    "```\n",
    "\n",
    "* `B = [A,A]` (an array of arrays) followed by `B[1][1] = -999`\n",
    "\n",
    "then also `A` will change. \n",
    "\n",
    "Notice that in all cases you are changing some *elements* of `B`, not redefining the entire `B` (like in `B = [1,2,3]`). Other ways to change some *elements* are `B[:] = [1,2]` or `B .= [1,2]` so the same behaviour applies to those cases.\n",
    "\n",
    "If you do not like this behaviour, then use `copy(A)` to create an independent copy of the array."
   ]
  },
  {
   "cell_type": "code",
   "execution_count": 13,
   "metadata": {
    "tags": []
   },
   "outputs": [
    {
     "name": "stdout",
     "output_type": "stream",
     "text": [
      "\u001b[34m\u001b[1moriginal A:\u001b[22m\u001b[39m\n",
      "     1.000\n",
      "     2.000\n",
      "\n",
      "\u001b[34m\u001b[1mA after calling f1!(A): \u001b[22m\u001b[39m\n",
      "  -999.000\n",
      "     2.000\n",
      "\n"
     ]
    }
   ],
   "source": [
    "function f1!(B)            #! is a convention for indicating that the function changes the input\n",
    "    B[1] = -999            #changing ELEMENTS of B, affects outside value\n",
    "    #B = B/2               #this would NOT affect the outside value\n",
    "  return B\n",
    "end\n",
    "\n",
    "A  = [1.0,2.0]\n",
    "printblue(\"original A:\")\n",
    "printmat(A)\n",
    "\n",
    "B = f1!(A)\n",
    "printblue(\"A after calling f1!(A): \")\n",
    "printmat(A)"
   ]
  },
  {
   "cell_type": "code",
   "execution_count": null,
   "metadata": {},
   "outputs": [],
   "source": []
  }
 ],
 "metadata": {
  "@webio": {
   "lastCommId": null,
   "lastKernelId": null
  },
  "anaconda-cloud": {},
  "kernelspec": {
   "display_name": "Julia 1.11.6",
   "language": "julia",
   "name": "julia-1.11"
  },
  "language_info": {
   "file_extension": ".jl",
   "mimetype": "application/julia",
   "name": "julia",
   "version": "1.11.6"
  }
 },
 "nbformat": 4,
 "nbformat_minor": 4
}
