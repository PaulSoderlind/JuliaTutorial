{
 "cells": [
  {
   "cell_type": "markdown",
   "id": "dda7c0a5",
   "metadata": {},
   "source": [
    " # A Local Package (Project + Module)\n",
    "\n",
    "A local package is a *project* with a subfolder `src` containing a module file with the same name as the project. The package can later be used from anywhere. It can be thought of as a library.\n",
    "\n",
    "## Step 1: Create the Package in the Project Folder\n",
    "\n",
    "To create a package in an empty subfolder `LittlePackage`, do `Pkg.generate(\"LittlePackage\")`. This creates the subfolder, with `.toml` files (they define the packages you have added to the project---so far none) and a `src` subfolder with a skeleton module file."
   ]
  },
  {
   "cell_type": "code",
   "execution_count": null,
   "id": "02e1d625",
   "metadata": {},
   "outputs": [],
   "source": [
    "dir  = \"LittlePackage\"\n",
    "rm(dir, recursive=true,force=true)    #delete any existing folder\n",
    "\n",
    "import Pkg\n",
    "Pkg.generate(dir)                     #uncomment to run this once\n",
    "\n",
    "printstyled(\"The folder $dir has been created, it has a Project.toml file and a subfilder src\";color=:blue)"
   ]
  },
  {
   "cell_type": "markdown",
   "id": "93e86ee4",
   "metadata": {},
   "source": [
    "## Step 2: Create/Transfer Files to the Package\n",
    "\n",
    "Copy or create files to/in `LittlePackage/src`. Yes, overwrite the existing file there."
   ]
  },
  {
   "cell_type": "code",
   "execution_count": null,
   "id": "9af632e4",
   "metadata": {},
   "outputs": [],
   "source": [
    "files = [\"LittlePackage.jl\",\"printmat.jl\",\"printTeXTable.jl\"]\n",
    "for file in files\n",
    "  cp(joinpath(\"src\",file),joinpath(dir,\"src\",file);force=true)\n",
    "end\n",
    "\n",
    "println(\"contents of $dir: \",readdir(dir))"
   ]
  },
  {
   "cell_type": "markdown",
   "id": "3f52b22a",
   "metadata": {},
   "source": [
    "## Step 3: Set up Dependencies of the Package\n",
    "\n",
    "1. Move to the `LittlePackage` folder.\n",
    "\n",
    "1. Do `Pkg.activate(\".\")` to activate the project.\n",
    "\n",
    "2. Add dependencies according to the `src/LittlePackage.jl` file. In this case, just `Printf`.\n",
    "\n",
    "3. Go back to the default environment, or restart Julia\n"
   ]
  },
  {
   "cell_type": "code",
   "execution_count": null,
   "id": "7087a5a6",
   "metadata": {},
   "outputs": [],
   "source": [
    "cd(dir)\n",
    "\n",
    "import Pkg\n",
    "Pkg.activate(\".\")     #make LittlePackage the environment\n",
    "Pkg.add(\"Printf\")\n",
    "\n",
    "println()\n",
    "Pkg.activate()        #back to the default environment, or restart Julia"
   ]
  },
  {
   "cell_type": "markdown",
   "id": "a20aa2bc",
   "metadata": {},
   "source": [
    "# Use the Package\n",
    "\n",
    "...from another place\n",
    "\n",
    "1. Make sure Julia knows how to find the package, by either adding the location to `LOAD_PATH` or by `develop(path=PathToMyFolder)`. In the former case, it has to be done every time you want to use it, while in the latter case, the package will be permanently added to your environment (can later be removed by `Pkg.remove()`.)\n",
    "\n",
    "2. Use it."
   ]
  },
  {
   "cell_type": "code",
   "execution_count": null,
   "id": "dbefa303",
   "metadata": {},
   "outputs": [],
   "source": [
    "cd(\"..\")            #move to another folder, change as needed\n",
    "PathToMyFolder = joinpath(pwd(),\"LittlePackage\")  #change as needed\n",
    "\n",
    "#do one of A or B\n",
    "push!(LOAD_PATH,PathToMyFolder)                 #A\n",
    "#import Pkg; Pkg.develop(path=PathToMyFolder)   #B\n",
    "\n",
    "using LittlePackage\n",
    "printmat([1,2])                                 #check that it works"
   ]
  },
  {
   "cell_type": "markdown",
   "id": "86185b2b",
   "metadata": {},
   "source": []
  }
 ],
 "metadata": {
  "kernelspec": {
   "display_name": "Julia 1.11.6",
   "language": "julia",
   "name": "julia-1.11"
  },
  "language_info": {
   "file_extension": ".jl",
   "mimetype": "application/julia",
   "name": "julia",
   "version": "1.11.6"
  }
 },
 "nbformat": 4,
 "nbformat_minor": 5
}
