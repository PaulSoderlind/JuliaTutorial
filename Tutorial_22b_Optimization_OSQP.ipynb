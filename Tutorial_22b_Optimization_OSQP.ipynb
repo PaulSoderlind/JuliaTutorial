{
 "cells": [
  {
   "cell_type": "markdown",
   "metadata": {},
   "source": [
    "# Optimization\n",
    "\n",
    "of linear-quadratic problems, using the [OSQP.jl](https://github.com/osqp/OSQP.jl) package.\n",
    "\n",
    "The example is (for pedagogical reasons) the same as in the other notebooks on optimization. Otherwise, the methods illustrated here are well suited for cases when the objective involves the portfolio variance ($ w'\\Sigma w $) or when the estimation problem is based on minimizing the sum of squared residuals ($u'u$)."
   ]
  },
  {
   "cell_type": "markdown",
   "metadata": {},
   "source": [
    "## Load Packages and Utility Functions"
   ]
  },
  {
   "cell_type": "code",
   "execution_count": 1,
   "metadata": {},
   "outputs": [
    {
     "data": {
      "text/plain": [
       "printyellow (generic function with 1 method)"
      ]
     },
     "execution_count": 1,
     "metadata": {},
     "output_type": "execute_result"
    }
   ],
   "source": [
    "using Printf, LinearAlgebra, SparseArrays, OSQP\n",
    "\n",
    "include(\"jlFiles/printmat.jl\")"
   ]
  },
  {
   "cell_type": "markdown",
   "metadata": {},
   "source": [
    "# The OSQP.jl Optimization Package\n",
    "\n",
    "The [OSQP.jl](https://github.com/osqp/OSQP.jl) package is tailor made for solving linear-quadratic problems (and more). It solves problems of the type\n",
    "\n",
    "$\\min 0.5\\theta' P \\theta + q' \\theta$ subject to $l \\leq A \\theta \\leq u$.\n",
    "\n",
    "The next cell defines a convenience function to facilitate calling on the optimization algorithm. It converts $(P,A)$ to `Sparse` and $(q,l,u)$ to `Float64` (as required by the package)."
   ]
  },
  {
   "cell_type": "code",
   "execution_count": 2,
   "metadata": {},
   "outputs": [
    {
     "data": {
      "text/plain": [
       "DoOSQP"
      ]
     },
     "execution_count": 2,
     "metadata": {},
     "output_type": "execute_result"
    }
   ],
   "source": [
    "\"\"\"\n",
    "  DoOSQP(P,q,A,l,u,settings)\n",
    "\n",
    "Utility function to help setting up the minimisation problem according\n",
    "to the OSQP API. Basically, it transforms to Float64 and sparse (for P and A)\n",
    "and extracts the solution.\n",
    "\n",
    "It solves `min 0.5θ'P*θ + q'θ` subject to `l <= A*θ <= u`.\n",
    "\n",
    "\n",
    "# Input\n",
    "- `P::Matrix`:      nxn\n",
    "- `q::Vector`:      n-vector\n",
    "- `A::Matrix`:      Kxn\n",
    "- `l::Vector`:      K-vector\n",
    "- `u::Vector`:      K-vector\n",
    "- `settings::Dict`: eg. Dict(:verbose => true)\n",
    "\n",
    "\"\"\"\n",
    "function DoOSQP(P,q,A,l,u,settings)\n",
    "\n",
    "  P2 = sparse(P)              #convert to P,A to sparse\n",
    "  q2 = Float64.(q)            #convert to q,l,u to Float64\n",
    "  A2 = sparse(A)\n",
    "  l2 = Float64.(l)\n",
    "  u2 = Float64.(u)\n",
    "\n",
    "  model = OSQP.Model()\n",
    "  OSQP.setup!(model; P=P2, q=q2, A=A2, l=l2, u=u2, settings...)\n",
    "  result = OSQP.solve!(model)\n",
    "\n",
    "  x = result.info.status == :Solved ? result.x : NaN\n",
    "\n",
    "  return x, result\n",
    "\n",
    "end"
   ]
  },
  {
   "cell_type": "markdown",
   "metadata": {},
   "source": [
    "# A Linear-Quadratic Minimization Problem\n",
    "\n",
    "without constraints.\n",
    "\n",
    "We specify a matrix $P$ and a vector $q$ and write the loss function as $0.5 \\theta' P \\theta + q' \\theta$ where $\\theta$ are the choice variables.\n",
    "\n",
    "We consider several cases below: no restrictions on $\\theta$, bounds on $\\theta$, a linear equality restriction and a non-linear inequality restriction."
   ]
  },
  {
   "cell_type": "code",
   "execution_count": 3,
   "metadata": {},
   "outputs": [
    {
     "data": {
      "text/plain": [
       "2-element Vector{Int64}:\n",
       " -4\n",
       " 24"
      ]
     },
     "execution_count": 3,
     "metadata": {},
     "output_type": "execute_result"
    }
   ],
   "source": [
    "P = 2*[1  0;           #we want to minimize θ'[]*θ + q'θ, hence the 2*[]\n",
    "       0  16]          #this is the same as minimizing (x-2)^2 + (4y+3)^2\n",
    "q =   [-4, 24]"
   ]
  },
  {
   "cell_type": "markdown",
   "metadata": {},
   "source": [
    "## Unconstrained Minimization"
   ]
  },
  {
   "cell_type": "code",
   "execution_count": 4,
   "metadata": {},
   "outputs": [
    {
     "name": "stdout",
     "output_type": "stream",
     "text": [
      "Unconstrained minimization: the solution should be (2,-3/4)\n",
      "     2.000\n",
      "    -0.750\n",
      "\n",
      "-----------------------------------------------------------------\n",
      "           OSQP v0.6.2  -  Operator Splitting QP Solver\n",
      "              (c) Bartolomeo Stellato,  Goran Banjac\n",
      "        University of Oxford  -  Stanford University 2021\n",
      "-----------------------------------------------------------------\n",
      "problem:  variables n = 2, constraints m = 1\n",
      "          nnz(P) + nnz(A) = 2\n",
      "settings: linear system solver = qdldl,\n",
      "          eps_abs = 1.0e-003, eps_rel = 1.0e-003,\n",
      "          eps_prim_inf = 1.0e-004, eps_dual_inf = 1.0e-004,\n",
      "          rho = 1.00e-001 (adaptive),\n",
      "          sigma = 1.00e-006, alpha = 1.60, max_iter = 4000\n",
      "          check_termination: on (interval 25),\n",
      "          scaling: on, scaled_termination: off\n",
      "          warm start: on, polish: off, time_limit: off\n",
      "\n",
      "iter  objective    pri res    dua res    rho        time\n",
      "   1 -8.3200e+000  0.00e+000  1.44e+001  1.00e-001  3.26e-005s\n",
      "  25 -1.3000e+001  0.00e+000  6.82e-005  1.00e-001  4.44e-005s\n",
      "\n",
      "status:               solved\n",
      "number of iterations: 25\n",
      "optimal objective:    -13.0000\n",
      "run time:             5.18e-005s\n",
      "optimal rho estimate: 1.00e-006\n",
      "\n"
     ]
    }
   ],
   "source": [
    "n = length(q)\n",
    "A = zeros(1,n)                  #effectively no restriction\n",
    "l = [0]                         #vectors\n",
    "u = [0]\n",
    "\n",
    "settings = Dict(:verbose => true)\n",
    "(b_sol,result) = DoOSQP(P,q,A,l,u,settings)   #notice 2*Q\n",
    "\n",
    "println(\"Unconstrained minimization: the solution should be (2,-3/4)\")\n",
    "printmat(b_sol)"
   ]
  },
  {
   "cell_type": "markdown",
   "metadata": {},
   "source": [
    "## Constrained Minimization"
   ]
  },
  {
   "cell_type": "code",
   "execution_count": 5,
   "metadata": {},
   "outputs": [
    {
     "name": "stdout",
     "output_type": "stream",
     "text": [
      "with bounds on the solution: the solution should be (2.75,-0.75)\n",
      "     2.750\n",
      "    -0.750\n",
      "\n"
     ]
    }
   ],
   "source": [
    "A = [1 0;\n",
    "      0 1]\n",
    "l = [2.75,-Inf]    #2.75 <= θ₁ <= Inf, -Inf <= θ₂ <= -0.3\n",
    "u = [Inf,-0.3]\n",
    "\n",
    "settings = Dict(:verbose => false)\n",
    "(b_sol,result) = DoOSQP(P,q,A,l,u,settings)\n",
    "println(\"with bounds on the solution: the solution should be (2.75,-0.75)\")\n",
    "printmat(b_sol)"
   ]
  },
  {
   "cell_type": "code",
   "execution_count": 6,
   "metadata": {},
   "outputs": [
    {
     "name": "stdout",
     "output_type": "stream",
     "text": [
      "equality constraint: the solution should be (4,-1/2)\n",
      "     4.000\n",
      "    -0.500\n",
      "\n"
     ]
    }
   ],
   "source": [
    "A = [1 2]                    #equality constraint\n",
    "l = [3]\n",
    "u = [3]\n",
    "\n",
    "(b_sol,result) = DoOSQP(P,q,A,l,u,settings)\n",
    "println(\"equality constraint: the solution should be (4,-1/2)\")\n",
    "printmat(b_sol)"
   ]
  },
  {
   "cell_type": "markdown",
   "metadata": {},
   "source": [
    "# Updating the Problem (extra)\n",
    "\n",
    "When you just want to change some of the inputs to the optimization problem, then it may pay off to do `update!()`. This is especially useful when you resolve the problem many times (in a loop, say)."
   ]
  },
  {
   "cell_type": "code",
   "execution_count": 7,
   "metadata": {},
   "outputs": [
    {
     "name": "stdout",
     "output_type": "stream",
     "text": [
      "[4.0000000038916035, -0.4999999995053219]\n",
      "[3.5999987176527286, -0.299999449652652]\n"
     ]
    }
   ],
   "source": [
    "model = OSQP.Model()\n",
    "OSQP.setup!(model; P=sparse(P), q=Float64.(q), A=sparse(A), l=Float64.(l), u=Float64.(u), settings...)\n",
    "result = OSQP.solve!(model)\n",
    "println(result.x)\n",
    "\n",
    "q_new = [-2.0,20.0]                          #resolve the problem with different q values\n",
    "OSQP.update!(model;q=q_new)\n",
    "result = OSQP.solve!(model)\n",
    "println(result.x)"
   ]
  },
  {
   "cell_type": "markdown",
   "metadata": {},
   "source": [
    "# An Alternative Package\n",
    "\n",
    "The [Clarabel](https://github.com/oxfordcontrol/Clarabel.jl) package is an interesting alternative. Is has a slightly different syntax, but the the `DoClarabel()` function in `jlFiles/DoClarabel.jl` provides a way to call it using the same syntax as for OSQP.jl."
   ]
  },
  {
   "cell_type": "code",
   "execution_count": null,
   "metadata": {},
   "outputs": [],
   "source": []
  }
 ],
 "metadata": {
  "@webio": {
   "lastCommId": null,
   "lastKernelId": null
  },
  "anaconda-cloud": {},
  "kernelspec": {
   "display_name": "Julia 1.8.2",
   "language": "julia",
   "name": "julia-1.8"
  },
  "language_info": {
   "file_extension": ".jl",
   "mimetype": "application/julia",
   "name": "julia",
   "version": "1.8.2"
  }
 },
 "nbformat": 4,
 "nbformat_minor": 4
}
