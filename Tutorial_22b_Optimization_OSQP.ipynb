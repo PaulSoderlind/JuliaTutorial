{
 "cells": [
  {
   "cell_type": "markdown",
   "metadata": {},
   "source": [
    "# Optimization\n",
    "\n",
    "of linear-quadratic problems, using the [OSQP.jl](https://github.com/osqp/OSQP.jl) package.\n",
    "\n",
    "The example is (for pedagogical reasons) the same as in the other notebooks on optimization. Otherwise, the methods illustrated here are well suited for cases when the objective involves the portfolio variance ($ w'\\Sigma w $) or when the estimation problem is based on minimizing the sum of squared residuals ($u'u$), and the restrictions are linear expressions."
   ]
  },
  {
   "cell_type": "markdown",
   "metadata": {},
   "source": [
    "## Load Packages and Utility Functions"
   ]
  },
  {
   "cell_type": "code",
   "execution_count": 1,
   "metadata": {},
   "outputs": [],
   "source": [
    "using Printf, LinearAlgebra, SparseArrays, OSQP\n",
    "\n",
    "include(\"jlFiles/printmat.jl\");"
   ]
  },
  {
   "cell_type": "markdown",
   "metadata": {},
   "source": [
    "# The OSQP.jl Optimization Package\n",
    "\n",
    "The [OSQP.jl](https://github.com/osqp/OSQP.jl) package is tailor made for solving linear-quadratic problems (with linear restrictions). It solves problems of the type\n",
    "\n",
    "$\\min 0.5\\theta' P \\theta + q' \\theta$ subject to $l \\leq A \\theta \\leq u$, \n",
    "\n",
    "where $\\theta$ is a vector of choice variables.\n",
    "\n",
    "To get an equality restriction in row `i`, set `l[i]=u[i]`.\n",
    "\n",
    "Notice that $(P,A)$ to should be `Sparse` matrices and $(q,l,u)$ vectors with `Float64` numbers."
   ]
  },
  {
   "cell_type": "markdown",
   "metadata": {},
   "source": [
    "# A Linear-Quadratic Minimization Problem\n",
    "\n",
    "We specify a matrix $P$ and a vector $q$ needed by OSQP (see above).\n",
    "\n",
    "We consider several cases below: no restrictions on $\\theta$, bounds on $\\theta$, and a linear equality restriction."
   ]
  },
  {
   "cell_type": "markdown",
   "metadata": {},
   "source": [
    "## Unconstrained Minimization"
   ]
  },
  {
   "cell_type": "code",
   "execution_count": 2,
   "metadata": {},
   "outputs": [
    {
     "name": "stdout",
     "output_type": "stream",
     "text": [
      "\u001b[34m\u001b[1mUnconstrained minimization: the solution should be (2,-3/4):\u001b[22m\u001b[39m\n",
      "\n",
      "     2.000\n",
      "    -0.750\n",
      "\n",
      "-----------------------------------------------------------------\n",
      "           OSQP v0.6.2  -  Operator Splitting QP Solver\n",
      "              (c) Bartolomeo Stellato,  Goran Banjac\n",
      "        University of Oxford  -  Stanford University 2021\n",
      "-----------------------------------------------------------------\n",
      "problem:  variables n = 2, constraints m = 1\n",
      "          nnz(P) + nnz(A) = 2\n",
      "settings: linear system solver = qdldl,\n",
      "          eps_abs = 1.0e-003, eps_rel = 1.0e-003,\n",
      "          eps_prim_inf = 1.0e-004, eps_dual_inf = 1.0e-004,\n",
      "          rho = 1.00e-001 (adaptive),\n",
      "          sigma = 1.00e-006, alpha = 1.60, max_iter = 4000\n",
      "          check_termination: on (interval 25),\n",
      "          scaling: on, scaled_termination: off\n",
      "          warm start: on, polish: off, time_limit: off\n",
      "\n",
      "iter  objective    pri res    dua res    rho        time\n",
      "   1 -8.3200e+000  0.00e+000  1.44e+001  1.00e-001  2.70e-005s\n",
      "  25 -1.3000e+001  0.00e+000  6.82e-005  1.00e-001  3.32e-005s\n",
      "\n",
      "status:               solved\n",
      "number of iterations: 25\n",
      "optimal objective:    -13.0000\n",
      "run time:             3.65e-005s\n",
      "optimal rho estimate: 1.00e-006\n",
      "\n"
     ]
    }
   ],
   "source": [
    "P = 2*[1  0;           #we want to minimize b'[]*b + q'b, hence the 2*[]\n",
    "       0  16]          #this is the same as minimizing (x-2)^2 + (4y+3)^2\n",
    "q =   [-4.0, 24.0]     #vector, Float64\n",
    "\n",
    "A = zeros(1,2)         #effectively no restriction\n",
    "l = [0.0]              #vectors, Float64\n",
    "u = [0.0]\n",
    "\n",
    "settings = Dict(:verbose => true)\n",
    "model = OSQP.Model()\n",
    "OSQP.setup!(model; P=sparse(P), q=q, A=sparse(A), l=l, u=u, settings...)\n",
    "result = OSQP.solve!(model)\n",
    "\n",
    "printblue(\"Unconstrained minimization: the solution should be (2,-3/4):\\n\")\n",
    "printmat(result.x)"
   ]
  },
  {
   "cell_type": "markdown",
   "metadata": {},
   "source": [
    "## Constrained Minimization\n",
    "\n",
    "Bounds on the solution: $2.75 \\le \\theta_1$ and $\\theta_2 \\le -0.3$."
   ]
  },
  {
   "cell_type": "code",
   "execution_count": 3,
   "metadata": {},
   "outputs": [
    {
     "name": "stdout",
     "output_type": "stream",
     "text": [
      "\u001b[34m\u001b[1mwith bounds on the solution: the solution should be (2.75,-0.75):\u001b[22m\u001b[39m\n",
      "\n",
      "     2.750\n",
      "    -0.750\n",
      "\n"
     ]
    }
   ],
   "source": [
    "A = I[1:2,1:2]     #identity matrix, I₂\n",
    "l = [2.75,-Inf]    #2.75 <= θ₁ <= Inf, -Inf <= θ₂ <= -0.3\n",
    "u = [Inf,-0.3]\n",
    "\n",
    "settings = Dict(:verbose => false)\n",
    "model = OSQP.Model()\n",
    "OSQP.setup!(model; P=sparse(P), q=q, A=sparse(A), l=l, u=u, settings...)\n",
    "result = OSQP.solve!(model)\n",
    "\n",
    "printblue(\"with bounds on the solution: the solution should be (2.75,-0.75):\\n\")\n",
    "printmat(result.x)"
   ]
  },
  {
   "cell_type": "markdown",
   "metadata": {},
   "source": [
    "## Constrained Minimization\n",
    "\n",
    "A linear equality constraint: $\\theta_1 + 2\\theta_2 = 3$."
   ]
  },
  {
   "cell_type": "code",
   "execution_count": 4,
   "metadata": {},
   "outputs": [
    {
     "name": "stdout",
     "output_type": "stream",
     "text": [
      "\u001b[34m\u001b[1mequality constraint: the solution should be (4,-1/2):\u001b[22m\u001b[39m\n",
      "\n",
      "     4.000\n",
      "    -0.500\n",
      "\n"
     ]
    }
   ],
   "source": [
    "A = [1 2]                    #equality constraint\n",
    "l = [3.0]\n",
    "u = [3.0]\n",
    "\n",
    "model = OSQP.Model()\n",
    "OSQP.setup!(model; P=sparse(P), q=q, A=sparse(A), l=l, u=u, settings...)\n",
    "result = OSQP.solve!(model)\n",
    "\n",
    "printblue(\"equality constraint: the solution should be (4,-1/2):\\n\")\n",
    "printmat(result.x)"
   ]
  },
  {
   "cell_type": "markdown",
   "metadata": {},
   "source": [
    "# Updating the Problem (extra)\n",
    "\n",
    "When you just want to change some of the inputs to the optimization problem, then it may pay off to do `update!()`. This is especially useful when you resolve the problem many times (in a loop, say)."
   ]
  },
  {
   "cell_type": "code",
   "execution_count": 5,
   "metadata": {},
   "outputs": [
    {
     "name": "stdout",
     "output_type": "stream",
     "text": [
      "     4.000\n",
      "    -0.500\n",
      "\n",
      "     3.600\n",
      "    -0.300\n",
      "\n"
     ]
    }
   ],
   "source": [
    "model = OSQP.Model()                #setting up the problem for the first time\n",
    "OSQP.setup!(model; P=sparse(P), q=q, A=sparse(A), l=l, u=u, settings...)\n",
    "result = OSQP.solve!(model)\n",
    "printmat(result.x)\n",
    "\n",
    "q_new = [-2.0,20.0]                 #resolve the problem with different q values\n",
    "OSQP.update!(model;q=q_new)         #(partially) update the problem      \n",
    "result = OSQP.solve!(model)\n",
    "printmat(result.x)"
   ]
  },
  {
   "cell_type": "markdown",
   "metadata": {},
   "source": [
    "# An Alternative Package\n",
    "\n",
    "The [Clarabel](https://github.com/oxfordcontrol/Clarabel.jl) package is an interesting alternative. Is has a slightly different syntax, but the the `DoClarabel()` function in `jlFiles/DoClarabel.jl` provides a way to call it using the same syntax as for OSQP.jl."
   ]
  },
  {
   "cell_type": "code",
   "execution_count": null,
   "metadata": {},
   "outputs": [],
   "source": []
  }
 ],
 "metadata": {
  "@webio": {
   "lastCommId": null,
   "lastKernelId": null
  },
  "anaconda-cloud": {},
  "kernelspec": {
   "display_name": "Julia 1.9.1",
   "language": "julia",
   "name": "julia-1.9"
  },
  "language_info": {
   "file_extension": ".jl",
   "mimetype": "application/julia",
   "name": "julia",
   "version": "1.9.1"
  }
 },
 "nbformat": 4,
 "nbformat_minor": 4
}
