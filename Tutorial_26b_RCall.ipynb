{
 "cells": [
  {
   "cell_type": "markdown",
   "metadata": {},
   "source": [
    "# Running R Code from Julia\n",
    "\n",
    "This notebook provides a basic introduction to how to run R code, using the [RCall.jl](https://github.com/JuliaInterop/RCall.jl) package, from Julia. See the the RCall.jl homepage (the installation instructions) for how to use your existing R installation or for letting RCall.jl install R for you."
   ]
  },
  {
   "cell_type": "code",
   "execution_count": 1,
   "metadata": {
    "tags": []
   },
   "outputs": [],
   "source": [
    "using Printf, DelimitedFiles\n",
    "include(\"src/printmat.jl\");"
   ]
  },
  {
   "cell_type": "markdown",
   "metadata": {},
   "source": [
    "# Load Data"
   ]
  },
  {
   "cell_type": "code",
   "execution_count": 2,
   "metadata": {
    "tags": []
   },
   "outputs": [
    {
     "name": "stdout",
     "output_type": "stream",
     "text": [
      "OLS coeffs according to Julia\n",
      "    -0.504\n",
      "     1.341\n",
      "\n"
     ]
    }
   ],
   "source": [
    "x = readdlm(\"Data/MyData.csv\",',',skipstart=1)  #reading the csv file\n",
    "\n",
    "(Rme,Rf,R) = (x[:,2],x[:,3],x[:,4])  #creating variables from columns of x\n",
    "y  = R - Rf                          #do R .- Rf if R has several columns\n",
    "\n",
    "c = ones(length(Rme))\n",
    "x = [c Rme]\n",
    "\n",
    "b = x\\y\n",
    "println(\"OLS coeffs according to Julia\")\n",
    "printmat(b)"
   ]
  },
  {
   "cell_type": "markdown",
   "metadata": {},
   "source": [
    "# R\n",
    "\n",
    "The next few cells load the RCall.jl package, transfers the data from Julia to R (`@rput`) and then run an OLS regression (`reval()`)."
   ]
  },
  {
   "cell_type": "code",
   "execution_count": 3,
   "metadata": {
    "tags": []
   },
   "outputs": [],
   "source": [
    "using RCall"
   ]
  },
  {
   "cell_type": "code",
   "execution_count": 4,
   "metadata": {
    "tags": []
   },
   "outputs": [
    {
     "name": "stdout",
     "output_type": "stream",
     "text": [
      "RObject{VecSxp}\n",
      "\n",
      "Call:\n",
      "lm(formula = y ~ x - 1)\n",
      "\n",
      "Residuals:\n",
      "    Min      1Q  Median      3Q     Max \n",
      "-17.981  -3.131  -0.359   2.281  52.361 \n",
      "\n",
      "Coefficients:\n",
      "   Estimate Std. Error t value Pr(>|t|)    \n",
      "x1 -0.50416    0.30483  -1.654    0.099 .  \n",
      "x2  1.34105    0.06573  20.401   <2e-16 ***\n",
      "---\n",
      "Signif. codes:  0 '***' 0.001 '**' 0.01 '*' 0.05 '.' 0.1 ' ' 1\n",
      "\n",
      "Residual standard error: 5.954 on 386 degrees of freedom\n",
      "Multiple R-squared:  0.5194,\tAdjusted R-squared:  0.5169 \n",
      "F-statistic: 208.6 on 2 and 386 DF,  p-value: < 2.2e-16\n",
      "\n",
      "\n"
     ]
    }
   ],
   "source": [
    "@rput x y                          #send x and y to R\n",
    "\n",
    "resultsR = reval(\"summary(mod <- lm(y ~ x-1))\")  #run R code\n",
    "println(resultsR)                                #and print output"
   ]
  },
  {
   "cell_type": "code",
   "execution_count": 5,
   "metadata": {
    "tags": []
   },
   "outputs": [
    {
     "name": "stdout",
     "output_type": "stream",
     "text": [
      "[:call, :terms, :residuals, :coefficients, :aliased, :sigma, :df, Symbol(\"r.squared\"), Symbol(\"adj.r.squared\"), :fstatistic, Symbol(\"cov.unscaled\")]\n"
     ]
    }
   ],
   "source": [
    "println(names(resultsR))           #print all keys (field names)"
   ]
  },
  {
   "cell_type": "code",
   "execution_count": 6,
   "metadata": {
    "tags": []
   },
   "outputs": [
    {
     "name": "stdout",
     "output_type": "stream",
     "text": [
      "\u001b[34m\u001b[1mComparing the estimates in Julia and R\u001b[22m\u001b[39m\n",
      "     Julia         R\n",
      "    -0.504    -0.504\n",
      "     1.341     1.341\n",
      "\n"
     ]
    }
   ],
   "source": [
    "b_R = rcopy(resultsR[:coefficients])  #the numerical results are now a Julia array\n",
    "\n",
    "printblue(\"Comparing the estimates in Julia and R\")\n",
    "printmat([b b_R[:,1]];colNames=[\"Julia\",\"R\"])"
   ]
  },
  {
   "cell_type": "code",
   "execution_count": 7,
   "metadata": {},
   "outputs": [
    {
     "name": "stdout",
     "output_type": "stream",
     "text": [
      "     Julia         R  R ver, 2\n",
      "    -0.504    -0.504    -0.504\n",
      "     1.341     1.341     1.341\n",
      "\n"
     ]
    }
   ],
   "source": [
    "R\"model <- lm(y ~ x-1)\"                              #an alternative approach\n",
    "resultsR2 = rcall(:summary, R\"model\")\n",
    "b_R2      = rcopy(resultsR2[:coefficients])\n",
    "printmat([b b_R[:,1] b_R2[:,1]];colNames=[\"Julia\",\"R\",\"R ver, 2\"])"
   ]
  },
  {
   "cell_type": "code",
   "execution_count": 8,
   "metadata": {
    "tags": []
   },
   "outputs": [
    {
     "data": {
      "text/plain": [
       "RObject{RealSxp}\n",
       "           [,1]\n",
       "[1,] -0.5041626\n",
       "[2,]  1.3410486\n"
      ]
     },
     "execution_count": 8,
     "metadata": {},
     "output_type": "execute_result"
    }
   ],
   "source": [
    "#we can also run blocks of code like this\n",
    "#do @rput x y or use $x and $y in the code below\n",
    "\n",
    "#solve x'x*b = x'y\n",
    "R\"\"\"\n",
    "xx <- t(x)%*%x\n",
    "xy <- t(x)%*%y\n",
    "b_R <- solve(xx,xy)\n",
    "\"\"\""
   ]
  },
  {
   "cell_type": "markdown",
   "metadata": {},
   "source": [
    "### Interactive Usage of R\n",
    "\n",
    "If you are using the Julia REPL (\"command prompt\"), then you can work more interactively with R. Unfortunaterly, that does not work in a notebook. The following trivial example illustrates the idea (`>julia` means that you are at the julia prompt and `R>` at the R prompt).\n",
    "\n",
    "```\n",
    "julia> x = 1;y=2\n",
    "julia> @rput x y\n",
    "julia> $         #to switch over to R\n",
    "R> z <- x + y\n",
    "R> hit ESC       #to switch over to Julia\n",
    "julia> @rget z\n",
    "```\n",
    "\n",
    "At this point you can work with `z` in Julia."
   ]
  },
  {
   "cell_type": "code",
   "execution_count": null,
   "metadata": {},
   "outputs": [],
   "source": []
  }
 ],
 "metadata": {
  "@webio": {
   "lastCommId": null,
   "lastKernelId": null
  },
  "kernelspec": {
   "display_name": "Julia 1.11.1",
   "language": "julia",
   "name": "julia-1.11"
  },
  "language_info": {
   "file_extension": ".jl",
   "mimetype": "application/julia",
   "name": "julia",
   "version": "1.11.1"
  }
 },
 "nbformat": 4,
 "nbformat_minor": 4
}
