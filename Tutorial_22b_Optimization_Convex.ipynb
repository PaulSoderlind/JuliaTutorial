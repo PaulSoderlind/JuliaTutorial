{
 "cells": [
  {
   "cell_type": "markdown",
   "metadata": {},
   "source": [
    "# Optimization\n",
    "\n",
    "of linear-quadratic problems.\n",
    "\n",
    "Many optimization problems in finance and econometrics involve linear-quadratic objectives/constraints. This notebook illustrates how the package [Convex.jl](https://github.com/jump-dev/Convex.jl) can be used for this. The example is (for pedagogical reasons) the same as in the other notebooks on optimization. Otherwise, the methods illustrated here are well suited for cases when the objective involves the portfolio variance ($ w'\\Sigma w $) or when the estimation problem is based on minimizing the sum of squared residuals ($u'u$). The notebook also uses [SCS.jl](https://github.com/jump-dev/SCS.jl) (for the optimization algorithm).\n",
    "\n",
    "As an extra, the last section of the notebook introduces the [Clarabel.jl](https://github.com/oxfordcontrol/Clarabel.jl) optimization package. It is well suited for linear-quadratic problems."
   ]
  },
  {
   "cell_type": "markdown",
   "metadata": {},
   "source": [
    "## Load Packages and Utility Functions"
   ]
  },
  {
   "cell_type": "code",
   "execution_count": 1,
   "metadata": {},
   "outputs": [
    {
     "data": {
      "text/plain": [
       "printyellow (generic function with 1 method)"
      ]
     },
     "execution_count": 1,
     "metadata": {},
     "output_type": "execute_result"
    }
   ],
   "source": [
    "using Printf, LinearAlgebra, Convex, SCS\n",
    "\n",
    "include(\"jlFiles/printmat.jl\")"
   ]
  },
  {
   "cell_type": "markdown",
   "metadata": {},
   "source": [
    "## A Linear-Quadratic Minimization Problem\n",
    "\n",
    "with/without constraints.\n",
    "\n",
    "We specify a matrix $Q$ and a vector $q$ and write the loss function as $\\theta'Q \\theta + q' \\theta$ where $\\theta$ are the choice variables. \n",
    "\n",
    "We consider several cases below: no restrictions on $\\theta$, bounds on $\\theta$, a linear equality restriction and a non-linear inequality restriction."
   ]
  },
  {
   "cell_type": "code",
   "execution_count": 2,
   "metadata": {},
   "outputs": [
    {
     "data": {
      "text/plain": [
       "2-element Vector{Int64}:\n",
       " -4\n",
       " 24"
      ]
     },
     "execution_count": 2,
     "metadata": {},
     "output_type": "execute_result"
    }
   ],
   "source": [
    "Q = [1  0;           #we want to minimize θ'Q*θ + q'θ,\n",
    "     0  16]          #this is the same as minimizing (x-2)^2 + (4y+3)^2\n",
    "q = [-4, 24]"
   ]
  },
  {
   "cell_type": "markdown",
   "metadata": {},
   "source": [
    "## Unconstrained Minimization"
   ]
  },
  {
   "cell_type": "code",
   "execution_count": 3,
   "metadata": {},
   "outputs": [
    {
     "name": "stdout",
     "output_type": "stream",
     "text": [
      "Unconstrained minimization: the solution should be (2,-3/4)\n",
      "     2.000\n",
      "    -0.750\n",
      "\n"
     ]
    }
   ],
   "source": [
    "n  = length(q)\n",
    "θ  = Variable(n)              #define the choice variables\n",
    "L1 = quadform(θ,Q)            #part 1 of the objective, θ'Q*θ\n",
    "L2 = dot(q,θ)                 #part 2, q'θ\n",
    "\n",
    "problem = minimize(L1+L2)\n",
    "solve!(problem,SCS.Optimizer;silent_solver = true)\n",
    "b_sol = problem.status == Convex.MOI.OPTIMAL ? evaluate(θ) : NaN\n",
    "\n",
    "println(\"Unconstrained minimization: the solution should be (2,-3/4)\")\n",
    "printmat(b_sol)"
   ]
  },
  {
   "cell_type": "markdown",
   "metadata": {},
   "source": [
    "## Constrained Minimization"
   ]
  },
  {
   "cell_type": "code",
   "execution_count": 4,
   "metadata": {},
   "outputs": [
    {
     "name": "stdout",
     "output_type": "stream",
     "text": [
      "with bounds on the solution: the solution should be (2.75,-0.75)\n",
      "     2.750\n",
      "    -0.750\n",
      "\n"
     ]
    }
   ],
   "source": [
    "c1 = [2.75 <= θ[1],θ[2] <= -0.3]     #bounds on the solution\n",
    "\n",
    "problem = minimize(L1+L2,c1)\n",
    "solve!(problem,SCS.Optimizer;silent_solver = true)\n",
    "b_sol = problem.status == Convex.MOI.OPTIMAL ? evaluate(θ) : NaN\n",
    "\n",
    "println(\"with bounds on the solution: the solution should be (2.75,-0.75)\")\n",
    "printmat(b_sol)"
   ]
  },
  {
   "cell_type": "code",
   "execution_count": 5,
   "metadata": {},
   "outputs": [
    {
     "name": "stdout",
     "output_type": "stream",
     "text": [
      "equality constraint: the solution should be (4,-1/2)\n",
      "     4.000\n",
      "    -0.500\n",
      "\n"
     ]
    }
   ],
   "source": [
    "c2 = dot([1,2],θ) == 3     #equality constraint\n",
    "\n",
    "problem = minimize(L1+L2,c2)\n",
    "solve!(problem,SCS.Optimizer;silent_solver = true)\n",
    "b_sol = problem.status == Convex.MOI.OPTIMAL ? evaluate(θ) : NaN\n",
    "\n",
    "println(\"equality constraint: the solution should be (4,-1/2)\")\n",
    "printmat(b_sol)"
   ]
  },
  {
   "cell_type": "code",
   "execution_count": 6,
   "metadata": {},
   "outputs": [
    {
     "name": "stdout",
     "output_type": "stream",
     "text": [
      "non-linear inequality constraint: the solution should be close to (3.1,-0.79)\n",
      "     3.112\n",
      "    -0.789\n",
      "\n"
     ]
    }
   ],
   "source": [
    "c3 = θ[2] + square(θ[1]-4) <= 0      #non-linear inequality constraint\n",
    "\n",
    "problem = minimize(L1+L2,c3)\n",
    "solve!(problem,SCS.Optimizer;silent_solver = true)\n",
    "b_sol = problem.status == Convex.MOI.OPTIMAL ? evaluate(θ) : NaN\n",
    "\n",
    "println(\"non-linear inequality constraint: the solution should be close to (3.1,-0.79)\")\n",
    "printmat(b_sol)"
   ]
  },
  {
   "cell_type": "markdown",
   "metadata": {},
   "source": [
    "# The Clarabel.jl Optimization Package (extra)\n",
    "\n",
    "The [Clarabel.jl](https://github.com/oxfordcontrol/Clarabel.jl) package is tailor made for solving linear-quadratic problems (and more). It solves problems of the type\n",
    "\n",
    "$\\min 0.5\\theta' P \\theta + q' \\theta$ subject to $A \\theta \\leq b$ and/or $=b$.\n",
    "\n",
    "The next cells will load the necessary packages, define a convenience function (to facilitate calling on the optimization algorithm) and then redo some of the previous examples. The convenience function rewrites the problem on the following form:\n",
    "\n",
    "$\\min 0.5\\theta' P \\theta + q' \\theta$ subject to $l \\leq A \\theta \\leq u$.\n",
    "\n",
    "(This form is also used by the OSQP.jl package.)\n",
    "\n",
    "(The package could be used with `Convex.jl` (instead of `SCS.jl`), but we here istead choose to call on the optimization routines directly.)"
   ]
  },
  {
   "cell_type": "code",
   "execution_count": 7,
   "metadata": {},
   "outputs": [],
   "source": [
    "using LinearAlgebra, SparseArrays, Clarabel"
   ]
  },
  {
   "cell_type": "code",
   "execution_count": 8,
   "metadata": {},
   "outputs": [
    {
     "data": {
      "text/plain": [
       "DoClarabel"
      ]
     },
     "execution_count": 8,
     "metadata": {},
     "output_type": "execute_result"
    }
   ],
   "source": [
    "\"\"\"\n",
    "    DoClarabel(P,q,A,l,u,settings=Clarabel.Settings())\n",
    "\n",
    "\n",
    "Utility function to help setting up the Clarabel minimisation problem according\n",
    "to the OSQP API. Basically, it transforms to Float64 and sparse (for P and A)\n",
    "and creates the cones from the information vectors `l` and `u`.\n",
    "\n",
    "It solves `min 0.5θ'P*θ + q'θ` subject to `l <= A*θ <= u`. To get an equality constraint,\n",
    "set `l[i] == u[i]`.\n",
    "\n",
    "\n",
    "# Input\n",
    "- `P::Matrix`:    nxn\n",
    "- `q::Vector`:    n-vector\n",
    "- `A::Matrix`:    Kxn\n",
    "- `l::Vector`:    K-vector, lower bounds\n",
    "- `u::Vector`:    K-vector, upper bounds\n",
    "- `settings::Clarabel.Settings`: eg. `Clarabel.Settings(verbose = true)`\n",
    "\n",
    "\"\"\"\n",
    "function DoClarabel(P,q,A,l,u,settings=Clarabel.Settings())\n",
    "\n",
    "  !(l<=u) && error(\"u <= l is not satisfied\")\n",
    "\n",
    "  P2 = sparse(Float64.(P))              #convert to Float64 (and sparse for P and A)\n",
    "  q2 = Float64.(q)\n",
    "\n",
    "  ve = l .== u                          #indices of equality restrictions\n",
    "  vi = .!ve                             #indices of inequality restrictions\n",
    "\n",
    "  A2    = sparse(Float64.(vcat(A[ve,:],A[vi,:],-A[vi,:])))\n",
    "  b2    = Float64.(vcat(u[ve],u[vi],-l[vi]))\n",
    "  \n",
    "  cones = Clarabel.SupportedCone[]      #build cones\n",
    "  for i = 1:length(b2)\n",
    "    i <= sum(ve) ? push!(cones,Clarabel.ZeroConeT(1)) : push!(cones,Clarabel.NonnegativeConeT(1))\n",
    "  end\n",
    "\n",
    "  v = .!isinf.(b2)                             #cut out all  constraints involving -Inf,Inf\n",
    "  (A2,b2,cones) = (A2[v,:],b2[v],cones[v])\n",
    "\n",
    "  model = Clarabel.Solver()\n",
    "  Clarabel.setup!(model, P2, q2, A2, b2, cones, settings)\n",
    "  result = Clarabel.solve!(model)\n",
    "\n",
    "  x = string(result.status) == \"SOLVED\" ? result.x : NaN\n",
    "\n",
    "  #fnO = (;P=P2,q=q2,A=A2,b=b2,cones)\n",
    "\n",
    "  return x, result\n",
    "\n",
    "end"
   ]
  },
  {
   "cell_type": "code",
   "execution_count": 9,
   "metadata": {},
   "outputs": [
    {
     "name": "stdout",
     "output_type": "stream",
     "text": [
      "Unconstrained minimization: the solution should be (2,-3/4)\n",
      "     2.000\n",
      "    -0.750\n",
      "\n"
     ]
    }
   ],
   "source": [
    "# Unconstrained Minimization\n",
    "\n",
    "n = length(q)\n",
    "A = zeros(1,n)                  #effectively no restriction\n",
    "l = [0]\n",
    "u = [0]\n",
    "\n",
    "settings = Clarabel.Settings(verbose = false)\n",
    "(b_sol,result) = DoClarabel(2*Q,q,A,l,u,settings)   #notice 2*Q\n",
    "\n",
    "println(\"Unconstrained minimization: the solution should be (2,-3/4)\")\n",
    "printmat(b_sol)"
   ]
  },
  {
   "cell_type": "code",
   "execution_count": 10,
   "metadata": {},
   "outputs": [
    {
     "name": "stdout",
     "output_type": "stream",
     "text": [
      "with bounds on the solution: the solution should be (2.75,-0.75)\n",
      "     2.750\n",
      "    -0.750\n",
      "\n"
     ]
    }
   ],
   "source": [
    "# Constrained Minimization\n",
    "\n",
    "A = [1 0;\n",
    "      0 1]\n",
    "l = [2.75,-Inf]\n",
    "u = [Inf,-0.3]\n",
    "\n",
    "(b_sol,result) = DoClarabel(2*Q,q,A,l,u,settings)\n",
    "println(\"with bounds on the solution: the solution should be (2.75,-0.75)\")\n",
    "printmat(b_sol)"
   ]
  },
  {
   "cell_type": "code",
   "execution_count": 11,
   "metadata": {},
   "outputs": [
    {
     "name": "stdout",
     "output_type": "stream",
     "text": [
      "equality constraint: the solution should be (4,-1/2)\n",
      "     4.000\n",
      "    -0.500\n",
      "\n"
     ]
    }
   ],
   "source": [
    "A = [1 2]                    #equality constraint\n",
    "l = [3]\n",
    "u = [3]\n",
    "\n",
    "(b_sol,result) = DoClarabel(2*Q,q,A,l,u,settings)\n",
    "println(\"equality constraint: the solution should be (4,-1/2)\")\n",
    "printmat(b_sol)"
   ]
  },
  {
   "cell_type": "code",
   "execution_count": null,
   "metadata": {},
   "outputs": [],
   "source": []
  }
 ],
 "metadata": {
  "@webio": {
   "lastCommId": null,
   "lastKernelId": null
  },
  "anaconda-cloud": {},
  "kernelspec": {
   "display_name": "Julia 1.7.3",
   "language": "julia",
   "name": "julia-1.7"
  },
  "language_info": {
   "file_extension": ".jl",
   "mimetype": "application/julia",
   "name": "julia",
   "version": "1.7.3"
  }
 },
 "nbformat": 4,
 "nbformat_minor": 4
}
