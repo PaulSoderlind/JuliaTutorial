{
 "cells": [
  {
   "cell_type": "markdown",
   "metadata": {},
   "source": [
    "# The Simplest Kind of Threading\n",
    "\n",
    "in Julia is of this type:\n",
    "\n",
    "```\n",
    "using Base.Threads: @threads\n",
    "\n",
    "Z = zeros(N)\n",
    "@threads for i = 1:N\n",
    "    local y\n",
    "    y = SomeFunction(i,W)\n",
    "    Z[i] = SomeOtherFunction(i,X,y,but not Z)\n",
    "end\n",
    "U = YetAnotherFunction(Z)\n",
    "```\n",
    "\n",
    "In this case, `Z` is just used for storing the results and not used as arguments/inputs inside the loop. Variables that are created in the loop (like `y`) should be declared as `local` to avoid that they are shared across threads.\n",
    "\n",
    "The `@threads` is a simple (but powerful) approach that works well when the iterations are similar (uniform). In contrast, if some iterations are much more costly or you want to used threads in a nested setting, the `@spawn/fetch/@sync` might be better. The focus of this notebook is on `@threads`.\n",
    "\n",
    "Threading typically only pays off when the iterations involve heavy computations. Otherwise, the cost of setting of the threading might dominate."
   ]
  },
  {
   "cell_type": "code",
   "execution_count": 1,
   "metadata": {},
   "outputs": [
    {
     "data": {
      "text/plain": [
       "printyellow (generic function with 1 method)"
      ]
     },
     "execution_count": 1,
     "metadata": {},
     "output_type": "execute_result"
    }
   ],
   "source": [
    "using Printf\n",
    "using Base.Threads: @threads\n",
    "\n",
    "include(\"jlFiles/printmat.jl\")"
   ]
  },
  {
   "cell_type": "markdown",
   "metadata": {},
   "source": [
    "# Comparing w/wo Threads "
   ]
  },
  {
   "cell_type": "markdown",
   "metadata": {},
   "source": [
    "We will calculate \n",
    "\n",
    "$\\mu_{t}=\\lambda \\mu_{t-1} + (1-\\lambda) x_{t-1}$, for $t=2...T$\n",
    "\n",
    "on each column of a large matrix ($t$ refers to rows)."
   ]
  },
  {
   "cell_type": "code",
   "execution_count": 2,
   "metadata": {},
   "outputs": [
    {
     "data": {
      "text/plain": [
       "ExpMA (generic function with 1 method)"
      ]
     },
     "execution_count": 2,
     "metadata": {},
     "output_type": "execute_result"
    }
   ],
   "source": [
    "function ExpMA(x,λ)\n",
    "    T = length(x)\n",
    "    μ  = zeros(T)\n",
    "    for t = 2:T\n",
    "        μ[t]  = λ*μ[t-1]  + (1-λ)*x[t-1]\n",
    "    end\n",
    "    return μ\n",
    "end"
   ]
  },
  {
   "cell_type": "code",
   "execution_count": 3,
   "metadata": {},
   "outputs": [
    {
     "data": {
      "text/plain": [
       "ExpMA_2 (generic function with 1 method)"
      ]
     },
     "execution_count": 3,
     "metadata": {},
     "output_type": "execute_result"
    }
   ],
   "source": [
    "function ExpMA_1(X,λ)          #wrap ExpMA(X,λ) in loop over columns of X\n",
    "    (T,N) = (size(X,1),size(X,2))\n",
    "    result = zeros(T,N)\n",
    "    for i = 1:N\n",
    "        result[:,i] = ExpMA(X[:,i],λ)\n",
    "    end\n",
    "    return result    \n",
    "end\n",
    "\n",
    "function ExpMA_2(X,λ)         #wrap but with threaded loop\n",
    "    (T,N) = (size(X,1),size(X,2))\n",
    "    result = zeros(T,N)\n",
    "    @threads for i = 1:N            #notice Threads.@threads\n",
    "        result[:,i] = ExpMA(X[:,i],λ)\n",
    "    end\n",
    "    return result    \n",
    "end"
   ]
  },
  {
   "cell_type": "code",
   "execution_count": 4,
   "metadata": {},
   "outputs": [
    {
     "name": "stdout",
     "output_type": "stream",
     "text": [
      "\n"
     ]
    }
   ],
   "source": [
    "λ = 0.94\n",
    "T = 100_000\n",
    "\n",
    "x = randn(T)\n",
    "μ = ExpMA(x,λ)              #test the function\n",
    "println()"
   ]
  },
  {
   "cell_type": "code",
   "execution_count": 5,
   "metadata": {},
   "outputs": [
    {
     "name": "stdout",
     "output_type": "stream",
     "text": [
      "Test if the same results: true\n"
     ]
    }
   ],
   "source": [
    "N = 500\n",
    "X = randn(T,N)\n",
    "\n",
    "Y1 = ExpMA_1(X,λ)\n",
    "Y2 = ExpMA_2(X,λ)\n",
    "\n",
    "println(\"Test if the same results: \", isequal(Y1,Y2))"
   ]
  },
  {
   "cell_type": "code",
   "execution_count": 6,
   "metadata": {},
   "outputs": [
    {
     "name": "stdout",
     "output_type": "stream",
     "text": [
      "Number of threads: 2\n"
     ]
    }
   ],
   "source": [
    "println(\"Number of threads: \", Threads.nthreads())"
   ]
  },
  {
   "cell_type": "markdown",
   "metadata": {},
   "source": [
    "## Speed Comparison"
   ]
  },
  {
   "cell_type": "code",
   "execution_count": 7,
   "metadata": {},
   "outputs": [
    {
     "name": "stdout",
     "output_type": "stream",
     "text": [
      "standard loop\n",
      "  775.974 ms (2002 allocations: 1.12 GiB)\n",
      "threaded loop\n",
      "  475.712 ms (2013 allocations: 1.12 GiB)\n",
      "\n"
     ]
    }
   ],
   "source": [
    "using BenchmarkTools           #package for benchmarking\n",
    "\n",
    "println(\"standard loop\")                      \n",
    "@btime ExpMA_1($X,λ)           #use $X to get more accurate timing\n",
    "                               #maybe use @benchmark instead to get more info   \n",
    "\n",
    "println(\"threaded loop\")\n",
    "@btime ExpMA_2($X,λ)\n",
    "println()"
   ]
  },
  {
   "cell_type": "markdown",
   "metadata": {},
   "source": [
    "# Things that Could Go Wrong with Threading\n",
    "\n",
    "are often related to data races (the threads writing to the same memory location)."
   ]
  },
  {
   "cell_type": "markdown",
   "metadata": {},
   "source": [
    "## Case 1: Several Threads Changing the Same Elements of an Array\n",
    "\n",
    "Threads should write to different memory locations, otherwise anything can happen."
   ]
  },
  {
   "cell_type": "code",
   "execution_count": 8,
   "metadata": {},
   "outputs": [
    {
     "name": "stdout",
     "output_type": "stream",
     "text": [
      "This ought to be 10000, but it is 5409\n"
     ]
    }
   ],
   "source": [
    "N = 10_000\n",
    "\n",
    "x = [0]\n",
    "@threads for i = 1:N\n",
    "  x[1] = x[1] + 1\n",
    "end\n",
    "\n",
    "println(\"This ought to be $N, but it is \",x[])"
   ]
  },
  {
   "cell_type": "markdown",
   "metadata": {},
   "source": [
    "## Case 2: Threads Writing to BitArrays\n",
    "\n",
    "Code like this\n",
    "```\n",
    "Z = falses(N)                       #use fill(false,N) instead\n",
    "@threads for i = 1:N\n",
    "    Z[i] = SomeFunction()\n",
    "end\n",
    "```\n",
    "can also create unexpected results since the threads are trying write to the same BitArray \n",
    "(which has a packed format). This is solved by instead using `Z = fill(false,N)` which is an array of Bools."
   ]
  },
  {
   "cell_type": "code",
   "execution_count": 9,
   "metadata": {},
   "outputs": [
    {
     "name": "stdout",
     "output_type": "stream",
     "text": [
      "This should always be `true`. Run a few times to check if that holds.\n",
      "\n",
      "All 10 values in Z should be `true`, but only 8 are.\n"
     ]
    }
   ],
   "source": [
    "N = 10\n",
    "Z = falses(N)\n",
    "#Z = fill(false,N)              #ucomment to solve the problem\n",
    "@threads for i = 1:N\n",
    "    Z[i] = true\n",
    "    sleep(0.5)                   #give the thread something to do\n",
    "end\n",
    "\n",
    "println(\"This should always be `true`. Run a few times to check if that holds.\\n\")\n",
    "println(\"All $N values in Z should be `true`, but only \", sum(Z),\" are.\")"
   ]
  },
  {
   "cell_type": "markdown",
   "metadata": {},
   "source": [
    "## Case 3: @threads and Variable Scope\n",
    "\n",
    "Code like this\n",
    "```\n",
    "v = 1:2\n",
    "@threads for i = 1:N\n",
    "    v = something \n",
    "    x = SomeFunction(v)\n",
    "end\n",
    "```\n",
    "can create unexpected results since the threads are sharing `v`. This is solved by declaring `v` inside the loop to be `local`."
   ]
  },
  {
   "cell_type": "code",
   "execution_count": 10,
   "metadata": {},
   "outputs": [
    {
     "name": "stdout",
     "output_type": "stream",
     "text": [
      "This should always be zero. Run a few times to check if that holds.\n",
      "\n",
      "All 100 values should be 0, but only 62 are.\n"
     ]
    }
   ],
   "source": [
    "using LinearAlgebra\n",
    "\n",
    "function f2(N)\n",
    "  v = falses(N+1)\n",
    "  x = zeros(Int,N,N)\n",
    "  @threads for i = 1:N\n",
    "    #local v                   #uncomment to solve the problem\n",
    "    v    = falses(N)\n",
    "    v[i] = true\n",
    "    x[v,i] .= i\n",
    "  end\n",
    "  return x\n",
    "end\n",
    "\n",
    "println(\"This should always be zero. Run a few times to check if that holds.\\n\")\n",
    "M = 100\n",
    "dev = zeros(M)\n",
    "for i = 1:M\n",
    "  dev[i] = maximum(abs,f2(i) - diagm(1:i))\n",
    "end\n",
    "println(\"All $M values should be 0, but only \", sum(dev.==0), \" are.\")"
   ]
  },
  {
   "cell_type": "code",
   "execution_count": null,
   "metadata": {},
   "outputs": [],
   "source": []
  }
 ],
 "metadata": {
  "@webio": {
   "lastCommId": null,
   "lastKernelId": null
  },
  "anaconda-cloud": {},
  "kernelspec": {
   "display_name": "Julia 1.7.0",
   "language": "julia",
   "name": "julia-1.7"
  },
  "language_info": {
   "file_extension": ".jl",
   "mimetype": "application/julia",
   "name": "julia",
   "version": "1.7.0"
  }
 },
 "nbformat": 4,
 "nbformat_minor": 4
}
