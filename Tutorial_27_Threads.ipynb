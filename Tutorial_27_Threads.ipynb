{
 "cells": [
  {
   "cell_type": "markdown",
   "metadata": {},
   "source": [
    "# Threading\n",
    "\n",
    "means using the multiples cores that modern CPUs have. Some things in Julia are automatically threaded, for instance, many linear algebra computations and the package manager. Also, many packages use are threaded. However, to get your own code threaded, there is some work to do (and some pitfalls to avoid)."
   ]
  },
  {
   "cell_type": "markdown",
   "metadata": {},
   "source": [
    "# The Simplest Kind of Threading\n",
    "\n",
    "in Julia is of this type:\n",
    "\n",
    "```\n",
    "using Base.Threads: @threads\n",
    "\n",
    "Z = zeros(N)\n",
    "@threads for i in 1:N\n",
    "    local y\n",
    "    y = SomeFunction(i,W)\n",
    "    Z[i] = SomeOtherFunction(i,X,y,Z[i],but not Z[j])\n",
    "end\n",
    "U = YetAnotherFunction(Z)\n",
    "```\n",
    "\n",
    "In this case, `Z` is used for storing the results. Variables that are created in the loop (like `y`) should be declared `local` to avoid that they are shared across threads. Notice that is important to *not* let iteration `i` depend on results created by another iteration (`Z[j]`).\n",
    "\n",
    "The `@threads` is a simple approach that works well when the iterations are similar (uniform). In contrast, if some iterations are much more costly or you want to use threads in a nested setting, the `@spawn/fetch/@sync` might be better.\n",
    "\n",
    "Threading typically only pays off when the iterations involve heavy computations. Otherwise, the cost of setting of the threading might dominate. It is also important to avoid too many allocations (for instance, creating and deleting arrays) inside the threaded loop, or otherwise the memory allocation system (\"gc\") will impact the performance. "
   ]
  },
  {
   "cell_type": "markdown",
   "metadata": {},
   "source": [
    "# Activating Threading\n",
    "\n",
    "Julia is (currently, as of version 1.10) started with a single thread. To change that default, set the environment variable `JULIA_NUM_THREADS=4` (it is often recommended to set it to the number of physical CPU cores).\n",
    "\n",
    "In case you cannot change the environment variable, or simply want more fine-grained control, consider the following:\n",
    "\n",
    "1. start julia from a command line as `julia --threads=4`\n",
    "\n",
    "2. Set up jupyter/lab by first doing the following in the REPL\n",
    "```\n",
    "using IJulia\n",
    "installkernel(\"Julia (4 threads)\", env=Dict(\"JULIA_NUM_THREADS\"=>\"4\"))\n",
    "```\n",
    "and then pick the right kernel when running the notebook.\n",
    "\n",
    "3. In VScode, go to the Julia extension settings and search for `threads`. Then, change to `\"julia.NumThreads\": 4`"
   ]
  },
  {
   "cell_type": "code",
   "execution_count": 1,
   "metadata": {},
   "outputs": [],
   "source": [
    "using Printf\n",
    "using Base.Threads: @threads, @spawn         #load the threading functions\n",
    "\n",
    "include(\"src/printmat.jl\");"
   ]
  },
  {
   "cell_type": "code",
   "execution_count": 2,
   "metadata": {},
   "outputs": [
    {
     "name": "stdout",
     "output_type": "stream",
     "text": [
      "Number of threads: 4\n"
     ]
    }
   ],
   "source": [
    "println(\"Number of threads: \", Threads.nthreads())   #check how many threads that are available"
   ]
  },
  {
   "cell_type": "markdown",
   "metadata": {},
   "source": [
    "# Comparing w/wo Threads "
   ]
  },
  {
   "cell_type": "markdown",
   "metadata": {},
   "source": [
    "We will calculate \n",
    "\n",
    "$\\mu_{t}=\\lambda \\mu_{t-1} + (1-\\lambda) x_{t-1}$, for $t=2...T$\n",
    "\n",
    "on each column of a large matrix ($t$ refers to rows). \n",
    "\n",
    "The function `ExpMA(x,λ)` does the calculation for a vector (that is, a column in a bigger matrix). `ExpMA_1()` and `ExpMA_2()` loops over the columns without and with threading, respectively."
   ]
  },
  {
   "cell_type": "code",
   "execution_count": 3,
   "metadata": {},
   "outputs": [
    {
     "data": {
      "text/plain": [
       "ExpMA (generic function with 1 method)"
      ]
     },
     "execution_count": 3,
     "metadata": {},
     "output_type": "execute_result"
    }
   ],
   "source": [
    "function ExpMA(x,λ)             #exponential MA, creates a vector\n",
    "    T = length(x)\n",
    "    μ  = zeros(T)\n",
    "    for t in 2:T\n",
    "        μ[t]  = λ*μ[t-1]  + (1-λ)*x[t-1]\n",
    "    end\n",
    "    return μ\n",
    "end"
   ]
  },
  {
   "cell_type": "code",
   "execution_count": 4,
   "metadata": {},
   "outputs": [
    {
     "data": {
      "text/plain": [
       "ExpMA_2 (generic function with 1 method)"
      ]
     },
     "execution_count": 4,
     "metadata": {},
     "output_type": "execute_result"
    }
   ],
   "source": [
    "function ExpMA_1(X,λ)          #wrap ExpMA(X,λ) in loop over columns of X\n",
    "    (T,N) = (size(X,1),size(X,2))\n",
    "    result = zeros(T,N)\n",
    "    for i in 1:N\n",
    "        result[:,i] = ExpMA(X[:,i],λ)\n",
    "    end\n",
    "    return result    \n",
    "end\n",
    "\n",
    "function ExpMA_2(X,λ)         #wrap but with threaded loop\n",
    "    (T,N) = (size(X,1),size(X,2))\n",
    "    result = zeros(T,N)\n",
    "    @threads for i in 1:N      \n",
    "        result[:,i] = ExpMA(X[:,i],λ)\n",
    "    end\n",
    "    return result    \n",
    "end"
   ]
  },
  {
   "cell_type": "code",
   "execution_count": 5,
   "metadata": {},
   "outputs": [
    {
     "name": "stdout",
     "output_type": "stream",
     "text": [
      "Test if the same results (Y1==Y2): true\n"
     ]
    }
   ],
   "source": [
    "λ = 0.94\n",
    "T = 100_000\n",
    "\n",
    "N = 500\n",
    "X = randn(T,N)\n",
    "\n",
    "Y1 = ExpMA_1(X,λ)\n",
    "Y2 = ExpMA_2(X,λ)\n",
    "\n",
    "println(\"Test if the same results (Y1==Y2): \", Y1==Y2)"
   ]
  },
  {
   "cell_type": "markdown",
   "metadata": {},
   "source": [
    "## Avoiding (Memory) Allocations\n",
    "\n",
    "is often a good idea. But, it becomes perhaps even more important in threaded applications.\n",
    "\n",
    "The next cell defines a new function `ExpMAx!()` which writes the result to an existing matrix (the first function argument, `μ`) instead of creating a new vector every time. Then, the function `ExpMAx_2()` does a threaded loop over the columns in `X`. We verify that we get the same result as before."
   ]
  },
  {
   "cell_type": "code",
   "execution_count": 6,
   "metadata": {},
   "outputs": [
    {
     "name": "stdout",
     "output_type": "stream",
     "text": [
      "Test if the same results (Y1==Y3==Y4): true\n"
     ]
    }
   ],
   "source": [
    "function ExpMAx!(μ,x,λ,i)      #exponential MA, writes to column in an existing matrix μ \n",
    "    T = size(x,1)\n",
    "    for t in 2:T\n",
    "        μ[t,i]  = λ*μ[t-1,i]  + (1-λ)*x[t-1,i]\n",
    "    end\n",
    "    return μ\n",
    "end\n",
    "\n",
    "function ExpMAx_1(X,λ)             #no threading, but create\n",
    "    (T,N) = (size(X,1),size(X,2))  #fewer intermediate vectors\n",
    "    result = zeros(T,N)\n",
    "    for i in 1:N      \n",
    "        ExpMAx!(result,X,λ,i)\n",
    "    end\n",
    "    return result    \n",
    "end\n",
    "\n",
    "\n",
    "function ExpMAx_2(X,λ)             #wrap but with threaded loop and creating\n",
    "    (T,N) = (size(X,1),size(X,2))  #fewer intermediate vectors\n",
    "    result = zeros(T,N)\n",
    "    @threads for i in 1:N      \n",
    "        ExpMAx!(result,X,λ,i)\n",
    "    end\n",
    "    return result    \n",
    "end\n",
    "\n",
    "Y3 = ExpMAx_1(X,λ)\n",
    "Y4 = ExpMAx_2(X,λ)\n",
    "println(\"Test if the same results (Y1==Y3==Y4): \", Y1==Y3==Y4)"
   ]
  },
  {
   "cell_type": "markdown",
   "metadata": {},
   "source": [
    "## Speed Comparison\n",
    "\n",
    "without thread, with threads (but creating intermediater vectors) and with threads but no intermediate vectors."
   ]
  },
  {
   "cell_type": "code",
   "execution_count": 7,
   "metadata": {},
   "outputs": [
    {
     "name": "stdout",
     "output_type": "stream",
     "text": [
      "\u001b[34m\u001b[1mstandard loop:\u001b[22m\u001b[39m\n",
      "  717.284 ms (3003 allocations: 1.12 GiB)\n",
      "\u001b[34m\u001b[1mthreaded loop:\u001b[22m\u001b[39m\n",
      "  191.757 ms (3027 allocations: 1.12 GiB)\n",
      "\u001b[34m\u001b[1mstandard loop, but without intermediate vectors:\u001b[22m\u001b[39m\n",
      "  289.872 ms (3 allocations: 381.47 MiB)\n",
      "\u001b[34m\u001b[1mthreaded loop, but without intermediate vectors:\u001b[22m\u001b[39m\n",
      "  118.300 ms (27 allocations: 381.47 MiB)\n",
      "\n",
      "\u001b[35m\u001b[1m...reducing memory allocations and using threads can both speed up the code\u001b[22m\u001b[39m\n"
     ]
    }
   ],
   "source": [
    "using BenchmarkTools           #package for benchmarking\n",
    "\n",
    "printblue(\"standard loop:\")                      \n",
    "@btime ExpMA_1($X,λ)           #use $X to get more accurate timing\n",
    "\n",
    "printblue(\"threaded loop:\")\n",
    "@btime ExpMA_2($X,λ)\n",
    "\n",
    "printblue(\"standard loop, but without intermediate vectors:\")\n",
    "@btime ExpMAx_1($X,λ)\n",
    "\n",
    "printblue(\"threaded loop, but without intermediate vectors:\")\n",
    "@btime ExpMAx_2($X,λ)\n",
    "\n",
    "printmagenta(\"\\n...reducing memory allocations and using threads can both speed up the code\")"
   ]
  },
  {
   "cell_type": "markdown",
   "metadata": {},
   "source": [
    "# Things that Could Go Wrong with Threading (extra)\n",
    "\n",
    "are often related to data races (different threads writing to the same memory location)."
   ]
  },
  {
   "cell_type": "markdown",
   "metadata": {},
   "source": [
    "## Case 1: Several Threads Changing the Same Elements of an Array\n",
    "\n",
    "When threads write to the same memory locations, anything can happen."
   ]
  },
  {
   "cell_type": "code",
   "execution_count": 8,
   "metadata": {},
   "outputs": [
    {
     "name": "stdout",
     "output_type": "stream",
     "text": [
      "This ought to be 10000, but it is 3851\n"
     ]
    }
   ],
   "source": [
    "N = 10_000\n",
    "\n",
    "x = [0]\n",
    "@threads for i in 1:N\n",
    "  x[1] = x[1] + 1            #all threads writing to x[1]\n",
    "end\n",
    "\n",
    "println(\"This ought to be $N, but it is \",x[])"
   ]
  },
  {
   "cell_type": "markdown",
   "metadata": {},
   "source": [
    "## Case 2: Threads Writing to BitArrays\n",
    "\n",
    "Code like in the next cell can also create unexpected results since the threads are trying write to the same BitArray (which has a packed format). Run a few times to see tha problem.\n",
    "\n",
    "This is solved by instead using `Z = fill(false,N)` which is an array of Bools."
   ]
  },
  {
   "cell_type": "code",
   "execution_count": 9,
   "metadata": {},
   "outputs": [
    {
     "name": "stdout",
     "output_type": "stream",
     "text": [
      "All 10 values in Z should be `true`, but only 9 are. If needed, rerun to see.\n"
     ]
    }
   ],
   "source": [
    "N = 10\n",
    "Z = falses(N)\n",
    "#Z = fill(false,N)              #ucomment to solve the problem\n",
    "@threads for i in 1:N\n",
    "    Z[i] = true\n",
    "    sleep(0.5)                   #give the thread something to do\n",
    "end\n",
    "\n",
    "println(\"All $N values in Z should be `true`, but only \", sum(Z),\" are. If needed, rerun to see.\")"
   ]
  },
  {
   "cell_type": "markdown",
   "metadata": {},
   "source": [
    "## Case 3: @threads and Variable Scope\n",
    "\n",
    "Code like this\n",
    "```\n",
    "v = 1:2\n",
    "@threads for i in 1:N\n",
    "    v = something \n",
    "    x = SomeFunction(v)\n",
    "end\n",
    "```\n",
    "can create unexpected results since the threads are sharing `v`. This is solved by declaring `v` inside the loop to be `local`."
   ]
  },
  {
   "cell_type": "code",
   "execution_count": 10,
   "metadata": {},
   "outputs": [
    {
     "name": "stdout",
     "output_type": "stream",
     "text": [
      "This should always be zero. Run a few times to check if that holds.\n",
      "\n",
      "All 100 values should be 0, but only 8 are.\n"
     ]
    }
   ],
   "source": [
    "using LinearAlgebra\n",
    "\n",
    "function f2(N)\n",
    "  v = falses(N+1)\n",
    "  x = zeros(Int,N,N)\n",
    "  @threads for i = 1:N\n",
    "    #local v                   #uncomment to solve the problem\n",
    "    v    = falses(N)\n",
    "    v[i] = true\n",
    "    x[v,i] .= i\n",
    "  end\n",
    "  return x\n",
    "end\n",
    "\n",
    "println(\"This should always be zero. Run a few times to check if that holds.\\n\")\n",
    "M = 100\n",
    "dev = zeros(M)\n",
    "for i = 1:M\n",
    "  dev[i] = maximum(abs,f2(i) - diagm(1:i))\n",
    "end\n",
    "println(\"All $M values should be 0, but only \", sum(dev.==0), \" are.\")"
   ]
  },
  {
   "cell_type": "code",
   "execution_count": null,
   "metadata": {},
   "outputs": [],
   "source": []
  }
 ],
 "metadata": {
  "@webio": {
   "lastCommId": null,
   "lastKernelId": null
  },
  "anaconda-cloud": {},
  "kernelspec": {
   "display_name": "Julia 1.11.1",
   "language": "julia",
   "name": "julia-1.11"
  },
  "language_info": {
   "file_extension": ".jl",
   "mimetype": "application/julia",
   "name": "julia",
   "version": "1.11.1"
  }
 },
 "nbformat": 4,
 "nbformat_minor": 4
}
