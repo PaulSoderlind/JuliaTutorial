{
 "cells": [
  {
   "cell_type": "markdown",
   "metadata": {},
   "source": [
    "# The Simplest Kind of Threading\n",
    "\n",
    "in Julia is of this type:\n",
    "\n",
    "```\n",
    "using Base.Threads: @threads\n",
    "\n",
    "Z = zeros(N)\n",
    "@threads for i = 1:N\n",
    "    local y\n",
    "    y = SomeFunction(i,W)\n",
    "    Z[i] = SomeOtherFunction(i,X,y,but not Z)\n",
    "end\n",
    "U = YetAnotherFunction(Z)\n",
    "```\n",
    "\n",
    "In this case, `Z` is just used for storing the results and not used as arguments/inputs inside the loop. Variables that are created in the loop (like `y`) should be declared `local` to avoid that they are shared across threads.\n",
    "\n",
    "The `@threads` is a simple (but powerful) approach that works well when the iterations are similar (uniform). In contrast, if some iterations are much more costly or you want to use threads in a nested setting, the `@spawn/fetch/@sync` might be better.\n",
    "\n",
    "Threading typically only pays off when the iterations involve heavy computations. Otherwise, the cost of setting of the threading might dominate. It is also useful to avoid too many allocations (creating and deleting arrays) inside the threaded loop, since the memory handling (`garbage collection`) can pause all threads until it's finished."
   ]
  },
  {
   "cell_type": "markdown",
   "metadata": {},
   "source": [
    "# Activating Threading\n",
    "\n",
    "Julia is (currently, as of version 1.9) started with a single thread. To change that default, set the environment variable `JULIA_NUM_THREADS=4` (it is often recommended to set it to the number of physical CPU cores).\n",
    "\n",
    "In case you cannot change the environment variable, or simply want more fine-grained control, consider the following:\n",
    "\n",
    "1. start julia from a command line as `julia --threads=4`\n",
    "\n",
    "2. Set up jupyter/lab by first doing the following in the REPL\n",
    "```\n",
    "using IJulia\n",
    "installkernel(\"Julia (4 threads)\", env=Dict(\"JULIA_NUM_THREADS\"=>\"4\"))\n",
    "```\n",
    "and then pick the right kernel when running the notebook.\n",
    "\n",
    "3. In VScode, go to the Julia extension settings and search for `threads`. Then. change to `\"julia.NumThreads\": 4`"
   ]
  },
  {
   "cell_type": "code",
   "execution_count": 1,
   "metadata": {},
   "outputs": [
    {
     "data": {
      "text/plain": [
       "printyellow (generic function with 1 method)"
      ]
     },
     "execution_count": 1,
     "metadata": {},
     "output_type": "execute_result"
    }
   ],
   "source": [
    "using Printf\n",
    "using Base.Threads: @threads, @spawn         #load the threading functions\n",
    "\n",
    "include(\"jlFiles/printmat.jl\")"
   ]
  },
  {
   "cell_type": "code",
   "execution_count": 2,
   "metadata": {},
   "outputs": [
    {
     "name": "stdout",
     "output_type": "stream",
     "text": [
      "Number of threads: 4\n"
     ]
    }
   ],
   "source": [
    "println(\"Number of threads: \", Threads.nthreads())   #check how many threads that are available"
   ]
  },
  {
   "cell_type": "markdown",
   "metadata": {},
   "source": [
    "# Comparing w/wo Threads "
   ]
  },
  {
   "cell_type": "markdown",
   "metadata": {},
   "source": [
    "We will calculate \n",
    "\n",
    "$\\mu_{t}=\\lambda \\mu_{t-1} + (1-\\lambda) x_{t-1}$, for $t=2...T$\n",
    "\n",
    "on each column of a large matrix ($t$ refers to rows). \n",
    "\n",
    "The function `ExpMA(x,λ)` does the calculation for a vector (column in a bigger matrix). `ExpMA_1(X,λ)` and `ExpMA_2(X,λ)` the loops over the columns without and with threading, respectively."
   ]
  },
  {
   "cell_type": "code",
   "execution_count": 3,
   "metadata": {},
   "outputs": [
    {
     "data": {
      "text/plain": [
       "ExpMA (generic function with 1 method)"
      ]
     },
     "execution_count": 3,
     "metadata": {},
     "output_type": "execute_result"
    }
   ],
   "source": [
    "function ExpMA(x,λ)\n",
    "    T = length(x)\n",
    "    μ  = zeros(T)\n",
    "    for t = 2:T\n",
    "        μ[t]  = λ*μ[t-1]  + (1-λ)*x[t-1]\n",
    "    end\n",
    "    return μ\n",
    "end"
   ]
  },
  {
   "cell_type": "code",
   "execution_count": 4,
   "metadata": {},
   "outputs": [
    {
     "data": {
      "text/plain": [
       "ExpMA_2 (generic function with 1 method)"
      ]
     },
     "execution_count": 4,
     "metadata": {},
     "output_type": "execute_result"
    }
   ],
   "source": [
    "function ExpMA_1(X,λ)          #wrap ExpMA(X,λ) in loop over columns of X\n",
    "    (T,N) = (size(X,1),size(X,2))\n",
    "    result = zeros(T,N)\n",
    "    for i = 1:N\n",
    "        result[:,i] = ExpMA(X[:,i],λ)\n",
    "    end\n",
    "    return result    \n",
    "end\n",
    "\n",
    "function ExpMA_2(X,λ)         #wrap but with threaded loop\n",
    "    (T,N) = (size(X,1),size(X,2))\n",
    "    result = zeros(T,N)\n",
    "    @threads for i = 1:N      #notice Threads.@threads\n",
    "        result[:,i] = ExpMA(X[:,i],λ)\n",
    "    end\n",
    "    return result    \n",
    "end"
   ]
  },
  {
   "cell_type": "code",
   "execution_count": 5,
   "metadata": {},
   "outputs": [
    {
     "name": "stdout",
     "output_type": "stream",
     "text": [
      "Test if the same results (Y1==Y2): true\n"
     ]
    }
   ],
   "source": [
    "λ = 0.94\n",
    "T = 100_000\n",
    "\n",
    "N = 500\n",
    "X = randn(T,N)\n",
    "\n",
    "Y1 = ExpMA_1(X,λ)\n",
    "Y2 = ExpMA_2(X,λ)\n",
    "\n",
    "println(\"Test if the same results (Y1==Y2): \", Y1==Y2)"
   ]
  },
  {
   "cell_type": "markdown",
   "metadata": {},
   "source": [
    "## Speed Comparison\n",
    "\n",
    "without threads and then with threads"
   ]
  },
  {
   "cell_type": "code",
   "execution_count": 6,
   "metadata": {},
   "outputs": [
    {
     "name": "stdout",
     "output_type": "stream",
     "text": [
      "\u001b[34m\u001b[1mstandard loop\u001b[22m\u001b[39m\n",
      "  442.118 ms (2002 allocations: 1.12 GiB)\n",
      "\u001b[34m\u001b[1mthreaded loop\u001b[22m\u001b[39m\n",
      "  179.209 ms (2029 allocations: 1.12 GiB)\n",
      "\n"
     ]
    }
   ],
   "source": [
    "using BenchmarkTools           #package for benchmarking\n",
    "\n",
    "printblue(\"standard loop\")                      \n",
    "@btime ExpMA_1($X,λ)           #use $X to get more accurate timing\n",
    "                               #maybe use @benchmark instead to get more info   \n",
    "\n",
    "printblue(\"threaded loop\")\n",
    "@btime ExpMA_2($X,λ)\n",
    "println()"
   ]
  },
  {
   "cell_type": "markdown",
   "metadata": {},
   "source": [
    "# Things that Could Go Wrong with Threading (extra)\n",
    "\n",
    "are often related to data races (different threads writing to the same memory location)."
   ]
  },
  {
   "cell_type": "markdown",
   "metadata": {},
   "source": [
    "## Case 1: Several Threads Changing the Same Elements of an Array\n",
    "\n",
    "Threads should write to different memory locations, otherwise anything can happen."
   ]
  },
  {
   "cell_type": "code",
   "execution_count": 7,
   "metadata": {},
   "outputs": [
    {
     "name": "stdout",
     "output_type": "stream",
     "text": [
      "This ought to be 10000, but it is 3198\n"
     ]
    }
   ],
   "source": [
    "N = 10_000\n",
    "\n",
    "x = [0]\n",
    "@threads for i = 1:N\n",
    "  x[1] = x[1] + 1\n",
    "end\n",
    "\n",
    "println(\"This ought to be $N, but it is \",x[])"
   ]
  },
  {
   "cell_type": "markdown",
   "metadata": {},
   "source": [
    "## Case 2: Threads Writing to BitArrays\n",
    "\n",
    "Code like this\n",
    "```\n",
    "Z = falses(N)                       #use fill(false,N) instead\n",
    "@threads for i = 1:N\n",
    "    Z[i] = SomeFunction()\n",
    "end\n",
    "```\n",
    "can also create unexpected results since the threads are trying write to the same BitArray \n",
    "(which has a packed format). This is solved by instead using `Z = fill(false,N)` which is an array of Bools."
   ]
  },
  {
   "cell_type": "code",
   "execution_count": 8,
   "metadata": {},
   "outputs": [
    {
     "name": "stdout",
     "output_type": "stream",
     "text": [
      "All 10 values in Z should be `true`, but only 9 are.\n"
     ]
    }
   ],
   "source": [
    "N = 10\n",
    "Z = falses(N)\n",
    "#Z = fill(false,N)              #ucomment to solve the problem\n",
    "@threads for i = 1:N\n",
    "    Z[i] = true\n",
    "    sleep(0.5)                   #give the thread something to do\n",
    "end\n",
    "\n",
    "println(\"All $N values in Z should be `true`, but only \", sum(Z),\" are.\")"
   ]
  },
  {
   "cell_type": "markdown",
   "metadata": {},
   "source": [
    "## Case 3: @threads and Variable Scope\n",
    "\n",
    "Code like this\n",
    "```\n",
    "v = 1:2\n",
    "@threads for i = 1:N\n",
    "    v = something \n",
    "    x = SomeFunction(v)\n",
    "end\n",
    "```\n",
    "can create unexpected results since the threads are sharing `v`. This is solved by declaring `v` inside the loop to be `local`."
   ]
  },
  {
   "cell_type": "code",
   "execution_count": 9,
   "metadata": {},
   "outputs": [
    {
     "name": "stdout",
     "output_type": "stream",
     "text": [
      "This should always be zero. Run a few times to check if that holds.\n",
      "\n",
      "All 100 values should be 0, but only 7 are.\n"
     ]
    }
   ],
   "source": [
    "using LinearAlgebra\n",
    "\n",
    "function f2(N)\n",
    "  v = falses(N+1)\n",
    "  x = zeros(Int,N,N)\n",
    "  @threads for i = 1:N\n",
    "    #local v                   #uncomment to solve the problem\n",
    "    v    = falses(N)\n",
    "    v[i] = true\n",
    "    x[v,i] .= i\n",
    "  end\n",
    "  return x\n",
    "end\n",
    "\n",
    "println(\"This should always be zero. Run a few times to check if that holds.\\n\")\n",
    "M = 100\n",
    "dev = zeros(M)\n",
    "for i = 1:M\n",
    "  dev[i] = maximum(abs,f2(i) - diagm(1:i))\n",
    "end\n",
    "println(\"All $M values should be 0, but only \", sum(dev.==0), \" are.\")"
   ]
  },
  {
   "cell_type": "markdown",
   "metadata": {},
   "source": [
    "# Using @spawn Instead (extra)"
   ]
  },
  {
   "cell_type": "code",
   "execution_count": 10,
   "metadata": {},
   "outputs": [
    {
     "name": "stdout",
     "output_type": "stream",
     "text": [
      "Test if the same results (Y1==Y3): true\n"
     ]
    }
   ],
   "source": [
    "function ExpMA_3(X,λ)         #wrap but with threaded loop\n",
    "    (T,N) = (size(X,1),size(X,2))\n",
    "    result = zeros(T,N)\n",
    "    @sync for i = 1:N            #wait for all spawns to complete\n",
    "        @spawn begin             #begin/end to allow for several lines of code\n",
    "            result[:,i] = ExpMA(X[:,i],λ)\n",
    "        end\n",
    "    end\n",
    "    return result\n",
    "end\n",
    "\n",
    "Y3 = ExpMA_3(X,λ)\n",
    "println(\"Test if the same results (Y1==Y3): \", Y1==Y3)"
   ]
  },
  {
   "cell_type": "code",
   "execution_count": 11,
   "metadata": {},
   "outputs": [
    {
     "name": "stdout",
     "output_type": "stream",
     "text": [
      "\u001b[34m\u001b[1mspawned loop\u001b[22m\u001b[39m\n",
      "  222.421 ms (4521 allocations: 1.12 GiB)\n",
      "\n"
     ]
    }
   ],
   "source": [
    "printblue(\"spawned loop\")\n",
    "@btime ExpMA_3($X,λ)\n",
    "println()"
   ]
  },
  {
   "cell_type": "code",
   "execution_count": null,
   "metadata": {},
   "outputs": [],
   "source": []
  }
 ],
 "metadata": {
  "@webio": {
   "lastCommId": null,
   "lastKernelId": null
  },
  "anaconda-cloud": {},
  "kernelspec": {
   "display_name": "Julia 1.9.1",
   "language": "julia",
   "name": "julia-1.9"
  },
  "language_info": {
   "file_extension": ".jl",
   "mimetype": "application/julia",
   "name": "julia",
   "version": "1.9.1"
  }
 },
 "nbformat": 4,
 "nbformat_minor": 4
}
