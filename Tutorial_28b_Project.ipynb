{
 "cells": [
  {
   "cell_type": "markdown",
   "id": "21db748b",
   "metadata": {},
   "source": [
    "# A Project\n",
    "\n",
    "A project is folder where you can make specific package installations, without affecting other projects (or Julia, more generally). It provides a workspace where you would typically sore/run your own files."
   ]
  },
  {
   "cell_type": "markdown",
   "id": "4051344d",
   "metadata": {},
   "source": [
    "## Step 1: Create the Project\n",
    "\n",
    "Create the project folder (`LitteProject`)."
   ]
  },
  {
   "cell_type": "code",
   "execution_count": 4,
   "id": "6eecf785",
   "metadata": {},
   "outputs": [
    {
     "data": {
      "text/plain": [
       "\"LittleProject\""
      ]
     },
     "metadata": {},
     "output_type": "display_data"
    }
   ],
   "source": [
    "dir  = \"LittleProject\"\n",
    "rm(dir, recursive=true,force=true)    #delete any existing folder\n",
    "mkdir(dir)      #run once to create the project folder"
   ]
  },
  {
   "cell_type": "markdown",
   "id": "4ef46dc0",
   "metadata": {},
   "source": [
    "## Step 2: Use the Project\n",
    "\n",
    "1. Move to the project folder (by `cd()` or manually)\n",
    "\n",
    "2. Do `Pkg.activate(\".\")` to activate the project. Needs to be done every time you work with that project\n",
    "\n",
    "3. Optionally add packages. Because of point 2, the package installations will now be to the his project, and not to the general Julia environment.\n",
    "\n",
    "4. Write&run code from this folder."
   ]
  },
  {
   "cell_type": "code",
   "execution_count": 5,
   "id": "6be19494",
   "metadata": {},
   "outputs": [
    {
     "name": "stdout",
     "output_type": "stream",
     "text": [
      "\n",
      "\u001b[34mMove to the project folder and continue working from there.\u001b[39m\n",
      "\n",
      "\n",
      "\u001b[34mA Project.toml file has been created in LittleProject\u001b[39m"
     ]
    },
    {
     "name": "stderr",
     "output_type": "stream",
     "text": [
      "\u001b[32m\u001b[1m  Activating\u001b[22m\u001b[39m new project at `c:\\Users\\PSoderlind\\PSDataE\\JL\\JuliaTutorial\\LittleProject\\LittleProject`\n",
      "\u001b[32m\u001b[1m   Resolving\u001b[22m\u001b[39m package versions...\n",
      "\u001b[32m\u001b[1m    Updating\u001b[22m\u001b[39m `C:\\Users\\PSoderlind\\PSDataE\\JL\\JuliaTutorial\\LittleProject\\LittleProject\\Project.toml`\n",
      "  \u001b[90m[e1d29d7a] \u001b[39m\u001b[92m+ Missings v1.2.0\u001b[39m\n",
      "\u001b[32m\u001b[1m    Updating\u001b[22m\u001b[39m `C:\\Users\\PSoderlind\\PSDataE\\JL\\JuliaTutorial\\LittleProject\\LittleProject\\Manifest.toml`\n",
      "  \u001b[90m[9a962f9c] \u001b[39m\u001b[92m+ DataAPI v1.16.0\u001b[39m\n",
      "  \u001b[90m[e1d29d7a] \u001b[39m\u001b[92m+ Missings v1.2.0\u001b[39m\n"
     ]
    }
   ],
   "source": [
    "printstyled(\"\\nMove to the project folder and continue working from there.\\n\\n\";color=:blue)\n",
    "cd(dir)                       #alternatively, do this manually\n",
    "\n",
    "import Pkg                     #run this in the LittleProject folder\n",
    "Pkg.activate(\".\")              #always run this\n",
    "\n",
    "Pkg.add(\"Missings\")            #optionally, install packages (do once)\n",
    "\n",
    "printstyled(\"\\nA Project.toml file has been created in $dir\";color=:blue)"
   ]
  },
  {
   "cell_type": "code",
   "execution_count": 6,
   "id": "dce5fe94",
   "metadata": {},
   "outputs": [
    {
     "data": {
      "text/plain": [
       "\"2-element Vector{Union{Missing, Int64}}\""
      ]
     },
     "metadata": {},
     "output_type": "display_data"
    }
   ],
   "source": [
    "using Missings                   #use the (locally) installed package, run some code\n",
    "\n",
    "x = [1,2]\n",
    "x = allowmissing(x)\n",
    "x[end] = missing\n",
    "summary(x)"
   ]
  }
 ],
 "metadata": {
  "kernelspec": {
   "display_name": "Julia 1.11.6",
   "language": "julia",
   "name": "julia-1.11"
  },
  "language_info": {
   "file_extension": ".jl",
   "mimetype": "application/julia",
   "name": "julia",
   "version": "1.11.6"
  }
 },
 "nbformat": 4,
 "nbformat_minor": 5
}
